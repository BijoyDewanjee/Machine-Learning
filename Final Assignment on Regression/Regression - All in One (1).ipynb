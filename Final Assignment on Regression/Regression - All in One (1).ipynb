{
 "cells": [
  {
   "cell_type": "code",
   "execution_count": 1,
   "id": "2c7eaf31",
   "metadata": {},
   "outputs": [],
   "source": [
    "import matplotlib.pyplot as plt\n",
    "import pandas as pd\n",
    "import seaborn as sns"
   ]
  },
  {
   "cell_type": "code",
   "execution_count": 2,
   "id": "74b63520",
   "metadata": {},
   "outputs": [],
   "source": [
    "import warnings\n",
    "warnings.filterwarnings('ignore')"
   ]
  },
  {
   "cell_type": "code",
   "execution_count": 3,
   "id": "7687a6de",
   "metadata": {},
   "outputs": [],
   "source": [
    "df = pd.read_csv('global_laptop_selling_data.csv')"
   ]
  },
  {
   "cell_type": "code",
   "execution_count": 4,
   "id": "9d8a5023",
   "metadata": {},
   "outputs": [
    {
     "data": {
      "text/html": [
       "<div>\n",
       "<style scoped>\n",
       "    .dataframe tbody tr th:only-of-type {\n",
       "        vertical-align: middle;\n",
       "    }\n",
       "\n",
       "    .dataframe tbody tr th {\n",
       "        vertical-align: top;\n",
       "    }\n",
       "\n",
       "    .dataframe thead th {\n",
       "        text-align: right;\n",
       "    }\n",
       "</style>\n",
       "<table border=\"1\" class=\"dataframe\">\n",
       "  <thead>\n",
       "    <tr style=\"text-align: right;\">\n",
       "      <th></th>\n",
       "      <th>laptop_ID</th>\n",
       "      <th>Company</th>\n",
       "      <th>Product</th>\n",
       "      <th>TypeName</th>\n",
       "      <th>Inches</th>\n",
       "      <th>ScreenResolution</th>\n",
       "      <th>Cpu</th>\n",
       "      <th>Ram</th>\n",
       "      <th>Memory</th>\n",
       "      <th>Gpu</th>\n",
       "      <th>OpSys</th>\n",
       "      <th>Weight</th>\n",
       "      <th>Price_euros</th>\n",
       "    </tr>\n",
       "  </thead>\n",
       "  <tbody>\n",
       "    <tr>\n",
       "      <th>0</th>\n",
       "      <td>1</td>\n",
       "      <td>Apple</td>\n",
       "      <td>MacBook Pro</td>\n",
       "      <td>Ultrabook</td>\n",
       "      <td>13.3</td>\n",
       "      <td>IPS Panel Retina Display 2560x1600</td>\n",
       "      <td>Intel Core i5 2.3GHz</td>\n",
       "      <td>8GB</td>\n",
       "      <td>128GB SSD</td>\n",
       "      <td>Intel Iris Plus Graphics 640</td>\n",
       "      <td>macOS</td>\n",
       "      <td>1.37kg</td>\n",
       "      <td>1339.69</td>\n",
       "    </tr>\n",
       "    <tr>\n",
       "      <th>1</th>\n",
       "      <td>2</td>\n",
       "      <td>Apple</td>\n",
       "      <td>Macbook Air</td>\n",
       "      <td>Ultrabook</td>\n",
       "      <td>13.3</td>\n",
       "      <td>1440x900</td>\n",
       "      <td>Intel Core i5 1.8GHz</td>\n",
       "      <td>8GB</td>\n",
       "      <td>128GB Flash Storage</td>\n",
       "      <td>Intel HD Graphics 6000</td>\n",
       "      <td>macOS</td>\n",
       "      <td>1.34kg</td>\n",
       "      <td>898.94</td>\n",
       "    </tr>\n",
       "    <tr>\n",
       "      <th>2</th>\n",
       "      <td>3</td>\n",
       "      <td>HP</td>\n",
       "      <td>250 G6</td>\n",
       "      <td>Notebook</td>\n",
       "      <td>15.6</td>\n",
       "      <td>Full HD 1920x1080</td>\n",
       "      <td>Intel Core i5 7200U 2.5GHz</td>\n",
       "      <td>8GB</td>\n",
       "      <td>256GB SSD</td>\n",
       "      <td>Intel HD Graphics 620</td>\n",
       "      <td>No OS</td>\n",
       "      <td>1.86kg</td>\n",
       "      <td>575.00</td>\n",
       "    </tr>\n",
       "    <tr>\n",
       "      <th>3</th>\n",
       "      <td>4</td>\n",
       "      <td>Apple</td>\n",
       "      <td>MacBook Pro</td>\n",
       "      <td>Ultrabook</td>\n",
       "      <td>15.4</td>\n",
       "      <td>IPS Panel Retina Display 2880x1800</td>\n",
       "      <td>Intel Core i7 2.7GHz</td>\n",
       "      <td>16GB</td>\n",
       "      <td>512GB SSD</td>\n",
       "      <td>AMD Radeon Pro 455</td>\n",
       "      <td>macOS</td>\n",
       "      <td>1.83kg</td>\n",
       "      <td>2537.45</td>\n",
       "    </tr>\n",
       "    <tr>\n",
       "      <th>4</th>\n",
       "      <td>5</td>\n",
       "      <td>Apple</td>\n",
       "      <td>MacBook Pro</td>\n",
       "      <td>Ultrabook</td>\n",
       "      <td>13.3</td>\n",
       "      <td>IPS Panel Retina Display 2560x1600</td>\n",
       "      <td>Intel Core i5 3.1GHz</td>\n",
       "      <td>8GB</td>\n",
       "      <td>256GB SSD</td>\n",
       "      <td>Intel Iris Plus Graphics 650</td>\n",
       "      <td>macOS</td>\n",
       "      <td>1.37kg</td>\n",
       "      <td>1803.60</td>\n",
       "    </tr>\n",
       "  </tbody>\n",
       "</table>\n",
       "</div>"
      ],
      "text/plain": [
       "   laptop_ID Company      Product   TypeName  Inches  \\\n",
       "0          1   Apple  MacBook Pro  Ultrabook    13.3   \n",
       "1          2   Apple  Macbook Air  Ultrabook    13.3   \n",
       "2          3      HP       250 G6   Notebook    15.6   \n",
       "3          4   Apple  MacBook Pro  Ultrabook    15.4   \n",
       "4          5   Apple  MacBook Pro  Ultrabook    13.3   \n",
       "\n",
       "                     ScreenResolution                         Cpu   Ram  \\\n",
       "0  IPS Panel Retina Display 2560x1600        Intel Core i5 2.3GHz   8GB   \n",
       "1                            1440x900        Intel Core i5 1.8GHz   8GB   \n",
       "2                   Full HD 1920x1080  Intel Core i5 7200U 2.5GHz   8GB   \n",
       "3  IPS Panel Retina Display 2880x1800        Intel Core i7 2.7GHz  16GB   \n",
       "4  IPS Panel Retina Display 2560x1600        Intel Core i5 3.1GHz   8GB   \n",
       "\n",
       "                Memory                           Gpu  OpSys  Weight  \\\n",
       "0            128GB SSD  Intel Iris Plus Graphics 640  macOS  1.37kg   \n",
       "1  128GB Flash Storage        Intel HD Graphics 6000  macOS  1.34kg   \n",
       "2            256GB SSD         Intel HD Graphics 620  No OS  1.86kg   \n",
       "3            512GB SSD            AMD Radeon Pro 455  macOS  1.83kg   \n",
       "4            256GB SSD  Intel Iris Plus Graphics 650  macOS  1.37kg   \n",
       "\n",
       "   Price_euros  \n",
       "0      1339.69  \n",
       "1       898.94  \n",
       "2       575.00  \n",
       "3      2537.45  \n",
       "4      1803.60  "
      ]
     },
     "execution_count": 4,
     "metadata": {},
     "output_type": "execute_result"
    }
   ],
   "source": [
    "df.head()"
   ]
  },
  {
   "cell_type": "code",
   "execution_count": 5,
   "id": "e6737f1c",
   "metadata": {},
   "outputs": [
    {
     "data": {
      "text/plain": [
       "laptop_ID           1303\n",
       "Company               19\n",
       "Product              618\n",
       "TypeName               6\n",
       "Inches                18\n",
       "ScreenResolution      40\n",
       "Cpu                  118\n",
       "Ram                    9\n",
       "Memory                39\n",
       "Gpu                  106\n",
       "OpSys                  9\n",
       "Weight               179\n",
       "Price_euros          791\n",
       "dtype: int64"
      ]
     },
     "execution_count": 5,
     "metadata": {},
     "output_type": "execute_result"
    }
   ],
   "source": [
    "df.nunique()"
   ]
  },
  {
   "cell_type": "code",
   "execution_count": 6,
   "id": "56f898c2",
   "metadata": {},
   "outputs": [],
   "source": [
    "df = df.drop('laptop_ID', axis=1)"
   ]
  },
  {
   "cell_type": "code",
   "execution_count": 7,
   "id": "5913708b",
   "metadata": {},
   "outputs": [
    {
     "data": {
      "text/html": [
       "<div>\n",
       "<style scoped>\n",
       "    .dataframe tbody tr th:only-of-type {\n",
       "        vertical-align: middle;\n",
       "    }\n",
       "\n",
       "    .dataframe tbody tr th {\n",
       "        vertical-align: top;\n",
       "    }\n",
       "\n",
       "    .dataframe thead th {\n",
       "        text-align: right;\n",
       "    }\n",
       "</style>\n",
       "<table border=\"1\" class=\"dataframe\">\n",
       "  <thead>\n",
       "    <tr style=\"text-align: right;\">\n",
       "      <th></th>\n",
       "      <th>Company</th>\n",
       "      <th>Product</th>\n",
       "      <th>TypeName</th>\n",
       "      <th>Inches</th>\n",
       "      <th>ScreenResolution</th>\n",
       "      <th>Cpu</th>\n",
       "      <th>Ram</th>\n",
       "      <th>Memory</th>\n",
       "      <th>Gpu</th>\n",
       "      <th>OpSys</th>\n",
       "      <th>Weight</th>\n",
       "      <th>Price_euros</th>\n",
       "    </tr>\n",
       "  </thead>\n",
       "  <tbody>\n",
       "    <tr>\n",
       "      <th>0</th>\n",
       "      <td>Apple</td>\n",
       "      <td>MacBook Pro</td>\n",
       "      <td>Ultrabook</td>\n",
       "      <td>13.3</td>\n",
       "      <td>IPS Panel Retina Display 2560x1600</td>\n",
       "      <td>Intel Core i5 2.3GHz</td>\n",
       "      <td>8GB</td>\n",
       "      <td>128GB SSD</td>\n",
       "      <td>Intel Iris Plus Graphics 640</td>\n",
       "      <td>macOS</td>\n",
       "      <td>1.37kg</td>\n",
       "      <td>1339.69</td>\n",
       "    </tr>\n",
       "    <tr>\n",
       "      <th>1</th>\n",
       "      <td>Apple</td>\n",
       "      <td>Macbook Air</td>\n",
       "      <td>Ultrabook</td>\n",
       "      <td>13.3</td>\n",
       "      <td>1440x900</td>\n",
       "      <td>Intel Core i5 1.8GHz</td>\n",
       "      <td>8GB</td>\n",
       "      <td>128GB Flash Storage</td>\n",
       "      <td>Intel HD Graphics 6000</td>\n",
       "      <td>macOS</td>\n",
       "      <td>1.34kg</td>\n",
       "      <td>898.94</td>\n",
       "    </tr>\n",
       "    <tr>\n",
       "      <th>2</th>\n",
       "      <td>HP</td>\n",
       "      <td>250 G6</td>\n",
       "      <td>Notebook</td>\n",
       "      <td>15.6</td>\n",
       "      <td>Full HD 1920x1080</td>\n",
       "      <td>Intel Core i5 7200U 2.5GHz</td>\n",
       "      <td>8GB</td>\n",
       "      <td>256GB SSD</td>\n",
       "      <td>Intel HD Graphics 620</td>\n",
       "      <td>No OS</td>\n",
       "      <td>1.86kg</td>\n",
       "      <td>575.00</td>\n",
       "    </tr>\n",
       "    <tr>\n",
       "      <th>3</th>\n",
       "      <td>Apple</td>\n",
       "      <td>MacBook Pro</td>\n",
       "      <td>Ultrabook</td>\n",
       "      <td>15.4</td>\n",
       "      <td>IPS Panel Retina Display 2880x1800</td>\n",
       "      <td>Intel Core i7 2.7GHz</td>\n",
       "      <td>16GB</td>\n",
       "      <td>512GB SSD</td>\n",
       "      <td>AMD Radeon Pro 455</td>\n",
       "      <td>macOS</td>\n",
       "      <td>1.83kg</td>\n",
       "      <td>2537.45</td>\n",
       "    </tr>\n",
       "    <tr>\n",
       "      <th>4</th>\n",
       "      <td>Apple</td>\n",
       "      <td>MacBook Pro</td>\n",
       "      <td>Ultrabook</td>\n",
       "      <td>13.3</td>\n",
       "      <td>IPS Panel Retina Display 2560x1600</td>\n",
       "      <td>Intel Core i5 3.1GHz</td>\n",
       "      <td>8GB</td>\n",
       "      <td>256GB SSD</td>\n",
       "      <td>Intel Iris Plus Graphics 650</td>\n",
       "      <td>macOS</td>\n",
       "      <td>1.37kg</td>\n",
       "      <td>1803.60</td>\n",
       "    </tr>\n",
       "  </tbody>\n",
       "</table>\n",
       "</div>"
      ],
      "text/plain": [
       "  Company      Product   TypeName  Inches                    ScreenResolution  \\\n",
       "0   Apple  MacBook Pro  Ultrabook    13.3  IPS Panel Retina Display 2560x1600   \n",
       "1   Apple  Macbook Air  Ultrabook    13.3                            1440x900   \n",
       "2      HP       250 G6   Notebook    15.6                   Full HD 1920x1080   \n",
       "3   Apple  MacBook Pro  Ultrabook    15.4  IPS Panel Retina Display 2880x1800   \n",
       "4   Apple  MacBook Pro  Ultrabook    13.3  IPS Panel Retina Display 2560x1600   \n",
       "\n",
       "                          Cpu   Ram               Memory  \\\n",
       "0        Intel Core i5 2.3GHz   8GB            128GB SSD   \n",
       "1        Intel Core i5 1.8GHz   8GB  128GB Flash Storage   \n",
       "2  Intel Core i5 7200U 2.5GHz   8GB            256GB SSD   \n",
       "3        Intel Core i7 2.7GHz  16GB            512GB SSD   \n",
       "4        Intel Core i5 3.1GHz   8GB            256GB SSD   \n",
       "\n",
       "                            Gpu  OpSys  Weight  Price_euros  \n",
       "0  Intel Iris Plus Graphics 640  macOS  1.37kg      1339.69  \n",
       "1        Intel HD Graphics 6000  macOS  1.34kg       898.94  \n",
       "2         Intel HD Graphics 620  No OS  1.86kg       575.00  \n",
       "3            AMD Radeon Pro 455  macOS  1.83kg      2537.45  \n",
       "4  Intel Iris Plus Graphics 650  macOS  1.37kg      1803.60  "
      ]
     },
     "execution_count": 7,
     "metadata": {},
     "output_type": "execute_result"
    }
   ],
   "source": [
    "df.head() # y = df[['Price_euros']]"
   ]
  },
  {
   "cell_type": "markdown",
   "id": "b80e358c",
   "metadata": {},
   "source": [
    "# Preprocessing"
   ]
  },
  {
   "cell_type": "code",
   "execution_count": 8,
   "id": "ab97d92b",
   "metadata": {},
   "outputs": [],
   "source": [
    "df[\"Weight\"] = df[\"Weight\"].str.replace(\"kg\",\"\")\n",
    "df[\"Weight\"] = pd.to_numeric(df[\"Weight\"])\n",
    "df[\"Ram\"] = df[\"Ram\"].apply(lambda x : str(x).replace(\"GB\",\"\")).astype(int)"
   ]
  },
  {
   "cell_type": "code",
   "execution_count": 9,
   "id": "c672b4dd",
   "metadata": {},
   "outputs": [
    {
     "data": {
      "text/html": [
       "<div>\n",
       "<style scoped>\n",
       "    .dataframe tbody tr th:only-of-type {\n",
       "        vertical-align: middle;\n",
       "    }\n",
       "\n",
       "    .dataframe tbody tr th {\n",
       "        vertical-align: top;\n",
       "    }\n",
       "\n",
       "    .dataframe thead th {\n",
       "        text-align: right;\n",
       "    }\n",
       "</style>\n",
       "<table border=\"1\" class=\"dataframe\">\n",
       "  <thead>\n",
       "    <tr style=\"text-align: right;\">\n",
       "      <th></th>\n",
       "      <th>Company</th>\n",
       "      <th>Product</th>\n",
       "      <th>TypeName</th>\n",
       "      <th>Inches</th>\n",
       "      <th>ScreenResolution</th>\n",
       "      <th>Cpu</th>\n",
       "      <th>Ram</th>\n",
       "      <th>Memory</th>\n",
       "      <th>Gpu</th>\n",
       "      <th>OpSys</th>\n",
       "      <th>Weight</th>\n",
       "      <th>Price_euros</th>\n",
       "    </tr>\n",
       "  </thead>\n",
       "  <tbody>\n",
       "    <tr>\n",
       "      <th>0</th>\n",
       "      <td>Apple</td>\n",
       "      <td>MacBook Pro</td>\n",
       "      <td>Ultrabook</td>\n",
       "      <td>13.3</td>\n",
       "      <td>IPS Panel Retina Display 2560x1600</td>\n",
       "      <td>Intel Core i5 2.3GHz</td>\n",
       "      <td>8</td>\n",
       "      <td>128GB SSD</td>\n",
       "      <td>Intel Iris Plus Graphics 640</td>\n",
       "      <td>macOS</td>\n",
       "      <td>1.37</td>\n",
       "      <td>1339.69</td>\n",
       "    </tr>\n",
       "    <tr>\n",
       "      <th>1</th>\n",
       "      <td>Apple</td>\n",
       "      <td>Macbook Air</td>\n",
       "      <td>Ultrabook</td>\n",
       "      <td>13.3</td>\n",
       "      <td>1440x900</td>\n",
       "      <td>Intel Core i5 1.8GHz</td>\n",
       "      <td>8</td>\n",
       "      <td>128GB Flash Storage</td>\n",
       "      <td>Intel HD Graphics 6000</td>\n",
       "      <td>macOS</td>\n",
       "      <td>1.34</td>\n",
       "      <td>898.94</td>\n",
       "    </tr>\n",
       "    <tr>\n",
       "      <th>2</th>\n",
       "      <td>HP</td>\n",
       "      <td>250 G6</td>\n",
       "      <td>Notebook</td>\n",
       "      <td>15.6</td>\n",
       "      <td>Full HD 1920x1080</td>\n",
       "      <td>Intel Core i5 7200U 2.5GHz</td>\n",
       "      <td>8</td>\n",
       "      <td>256GB SSD</td>\n",
       "      <td>Intel HD Graphics 620</td>\n",
       "      <td>No OS</td>\n",
       "      <td>1.86</td>\n",
       "      <td>575.00</td>\n",
       "    </tr>\n",
       "    <tr>\n",
       "      <th>3</th>\n",
       "      <td>Apple</td>\n",
       "      <td>MacBook Pro</td>\n",
       "      <td>Ultrabook</td>\n",
       "      <td>15.4</td>\n",
       "      <td>IPS Panel Retina Display 2880x1800</td>\n",
       "      <td>Intel Core i7 2.7GHz</td>\n",
       "      <td>16</td>\n",
       "      <td>512GB SSD</td>\n",
       "      <td>AMD Radeon Pro 455</td>\n",
       "      <td>macOS</td>\n",
       "      <td>1.83</td>\n",
       "      <td>2537.45</td>\n",
       "    </tr>\n",
       "    <tr>\n",
       "      <th>4</th>\n",
       "      <td>Apple</td>\n",
       "      <td>MacBook Pro</td>\n",
       "      <td>Ultrabook</td>\n",
       "      <td>13.3</td>\n",
       "      <td>IPS Panel Retina Display 2560x1600</td>\n",
       "      <td>Intel Core i5 3.1GHz</td>\n",
       "      <td>8</td>\n",
       "      <td>256GB SSD</td>\n",
       "      <td>Intel Iris Plus Graphics 650</td>\n",
       "      <td>macOS</td>\n",
       "      <td>1.37</td>\n",
       "      <td>1803.60</td>\n",
       "    </tr>\n",
       "  </tbody>\n",
       "</table>\n",
       "</div>"
      ],
      "text/plain": [
       "  Company      Product   TypeName  Inches                    ScreenResolution  \\\n",
       "0   Apple  MacBook Pro  Ultrabook    13.3  IPS Panel Retina Display 2560x1600   \n",
       "1   Apple  Macbook Air  Ultrabook    13.3                            1440x900   \n",
       "2      HP       250 G6   Notebook    15.6                   Full HD 1920x1080   \n",
       "3   Apple  MacBook Pro  Ultrabook    15.4  IPS Panel Retina Display 2880x1800   \n",
       "4   Apple  MacBook Pro  Ultrabook    13.3  IPS Panel Retina Display 2560x1600   \n",
       "\n",
       "                          Cpu  Ram               Memory  \\\n",
       "0        Intel Core i5 2.3GHz    8            128GB SSD   \n",
       "1        Intel Core i5 1.8GHz    8  128GB Flash Storage   \n",
       "2  Intel Core i5 7200U 2.5GHz    8            256GB SSD   \n",
       "3        Intel Core i7 2.7GHz   16            512GB SSD   \n",
       "4        Intel Core i5 3.1GHz    8            256GB SSD   \n",
       "\n",
       "                            Gpu  OpSys  Weight  Price_euros  \n",
       "0  Intel Iris Plus Graphics 640  macOS    1.37      1339.69  \n",
       "1        Intel HD Graphics 6000  macOS    1.34       898.94  \n",
       "2         Intel HD Graphics 620  No OS    1.86       575.00  \n",
       "3            AMD Radeon Pro 455  macOS    1.83      2537.45  \n",
       "4  Intel Iris Plus Graphics 650  macOS    1.37      1803.60  "
      ]
     },
     "execution_count": 9,
     "metadata": {},
     "output_type": "execute_result"
    }
   ],
   "source": [
    "df.head()"
   ]
  },
  {
   "cell_type": "code",
   "execution_count": 10,
   "id": "70e08522",
   "metadata": {},
   "outputs": [
    {
     "name": "stdout",
     "output_type": "stream",
     "text": [
      "<class 'pandas.core.frame.DataFrame'>\n",
      "RangeIndex: 1303 entries, 0 to 1302\n",
      "Data columns (total 12 columns):\n",
      " #   Column            Non-Null Count  Dtype  \n",
      "---  ------            --------------  -----  \n",
      " 0   Company           1303 non-null   object \n",
      " 1   Product           1303 non-null   object \n",
      " 2   TypeName          1303 non-null   object \n",
      " 3   Inches            1303 non-null   float64\n",
      " 4   ScreenResolution  1303 non-null   object \n",
      " 5   Cpu               1303 non-null   object \n",
      " 6   Ram               1303 non-null   int32  \n",
      " 7   Memory            1303 non-null   object \n",
      " 8   Gpu               1303 non-null   object \n",
      " 9   OpSys             1303 non-null   object \n",
      " 10  Weight            1303 non-null   float64\n",
      " 11  Price_euros       1303 non-null   float64\n",
      "dtypes: float64(3), int32(1), object(8)\n",
      "memory usage: 117.2+ KB\n"
     ]
    }
   ],
   "source": [
    "df.info()"
   ]
  },
  {
   "cell_type": "code",
   "execution_count": 11,
   "id": "eaa9da5a",
   "metadata": {},
   "outputs": [],
   "source": [
    "df.dropna(inplace=True) "
   ]
  },
  {
   "cell_type": "code",
   "execution_count": 12,
   "id": "8b5a5e65",
   "metadata": {},
   "outputs": [],
   "source": [
    "df_product_price = df.groupby(\"Company\")[\"Price_euros\"].mean()"
   ]
  },
  {
   "cell_type": "code",
   "execution_count": 13,
   "id": "6ea174db",
   "metadata": {},
   "outputs": [
    {
     "data": {
      "text/plain": [
       "Company\n",
       "Acer          626.775825\n",
       "Apple        1564.198571\n",
       "Asus         1104.169367\n",
       "Chuwi         314.296667\n",
       "Dell         1186.068990\n",
       "Fujitsu       729.000000\n",
       "Google       1677.666667\n",
       "HP           1067.774854\n",
       "Huawei       1424.000000\n",
       "LG           2099.000000\n",
       "Lenovo       1086.384444\n",
       "MSI          1728.908148\n",
       "Mediacom      295.000000\n",
       "Microsoft    1612.308333\n",
       "Razer        3346.142857\n",
       "Samsung      1413.444444\n",
       "Toshiba      1267.812500\n",
       "Vero          217.425000\n",
       "Xiaomi       1133.462500\n",
       "Name: Price_euros, dtype: float64"
      ]
     },
     "execution_count": 13,
     "metadata": {},
     "output_type": "execute_result"
    }
   ],
   "source": [
    "df_product_price"
   ]
  },
  {
   "cell_type": "code",
   "execution_count": 14,
   "id": "0e187aba",
   "metadata": {},
   "outputs": [],
   "source": [
    "df_product_price = pd.DataFrame(data = df_product_price)\n",
    "df_product_price.columns = [\"Product Avg Price\"]\n",
    "df_product_price.sort_values(by=\"Product Avg Price\",ascending=False,inplace=True)\n"
   ]
  },
  {
   "cell_type": "code",
   "execution_count": 15,
   "id": "5d895ef8",
   "metadata": {},
   "outputs": [
    {
     "data": {
      "text/plain": [
       "Text(0.5, 1.0, 'Average Price Per Company')"
      ]
     },
     "execution_count": 15,
     "metadata": {},
     "output_type": "execute_result"
    },
    {
     "data": {
      "image/png": "[encoded data removed]",
      "text/plain": [
       "<Figure size 1080x576 with 1 Axes>"
      ]
     },
     "metadata": {
      "needs_background": "light"
     },
     "output_type": "display_data"
    }
   ],
   "source": [
    "plt.figure(figsize = (15,8))\n",
    "splot = sns.barplot(data = df_product_price,x= df_product_price.index, y = 'Product Avg Price', palette = 'autumn')\n",
    "for p in splot.patches:\n",
    "    splot.annotate(format(p.get_height(), '.2f'), \n",
    "                   (p.get_x() + p.get_width() / 2., p.get_height()), \n",
    "                   ha = 'center', va = 'center', \n",
    "                   xytext = (0, 9), \n",
    "                   textcoords = 'offset points')\n",
    "    \n",
    "plt.xlabel(\"Name of the Company\", size=15)\n",
    "plt.ylabel(\"Average Product Price\", size=15)\n",
    "plt.title('Average Price Per Company')"
   ]
  },
  {
   "cell_type": "markdown",
   "id": "ae7450cf",
   "metadata": {},
   "source": [
    "# Keep Continue for Regression Model"
   ]
  },
  {
   "cell_type": "code",
   "execution_count": 16,
   "id": "0bbd8cf5",
   "metadata": {},
   "outputs": [],
   "source": [
    "#linear regression 2 types--> Gradient Descent and Least Square\n",
    "#KNN regression\n",
    "#Logistic regression\n",
    "#MUltivariable linar regression"
   ]
  },
  {
   "cell_type": "markdown",
   "id": "32d94bcd",
   "metadata": {},
   "source": [
    "# Handleing \"ScreenResolution\" column"
   ]
  },
  {
   "cell_type": "code",
   "execution_count": 17,
   "id": "de5ae123",
   "metadata": {},
   "outputs": [
    {
     "data": {
      "text/plain": [
       "0               IPS Panel Retina Display 2560x1600\n",
       "1                                         1440x900\n",
       "2                                Full HD 1920x1080\n",
       "3               IPS Panel Retina Display 2880x1800\n",
       "4               IPS Panel Retina Display 2560x1600\n",
       "                           ...                    \n",
       "1298     IPS Panel Full HD / Touchscreen 1920x1080\n",
       "1299    IPS Panel Quad HD+ / Touchscreen 3200x1800\n",
       "1300                                      1366x768\n",
       "1301                                      1366x768\n",
       "1302                                      1366x768\n",
       "Name: ScreenResolution, Length: 1303, dtype: object"
      ]
     },
     "execution_count": 17,
     "metadata": {},
     "output_type": "execute_result"
    }
   ],
   "source": [
    "df['ScreenResolution']"
   ]
  },
  {
   "cell_type": "code",
   "execution_count": 18,
   "id": "2d867c2d",
   "metadata": {},
   "outputs": [
    {
     "data": {
      "text/html": [
       "<div>\n",
       "<style scoped>\n",
       "    .dataframe tbody tr th:only-of-type {\n",
       "        vertical-align: middle;\n",
       "    }\n",
       "\n",
       "    .dataframe tbody tr th {\n",
       "        vertical-align: top;\n",
       "    }\n",
       "\n",
       "    .dataframe thead th {\n",
       "        text-align: right;\n",
       "    }\n",
       "</style>\n",
       "<table border=\"1\" class=\"dataframe\">\n",
       "  <thead>\n",
       "    <tr style=\"text-align: right;\">\n",
       "      <th></th>\n",
       "      <th>Company</th>\n",
       "      <th>Product</th>\n",
       "      <th>TypeName</th>\n",
       "      <th>Inches</th>\n",
       "      <th>ScreenResolution</th>\n",
       "      <th>Cpu</th>\n",
       "      <th>Ram</th>\n",
       "      <th>Memory</th>\n",
       "      <th>Gpu</th>\n",
       "      <th>OpSys</th>\n",
       "      <th>Weight</th>\n",
       "      <th>Price_euros</th>\n",
       "      <th>Screen</th>\n",
       "      <th>Screen_Resoluton_Height</th>\n",
       "    </tr>\n",
       "  </thead>\n",
       "  <tbody>\n",
       "    <tr>\n",
       "      <th>0</th>\n",
       "      <td>Apple</td>\n",
       "      <td>MacBook Pro</td>\n",
       "      <td>Ultrabook</td>\n",
       "      <td>13.3</td>\n",
       "      <td>IPS Panel Retina Display 2560x1600</td>\n",
       "      <td>Intel Core i5 2.3GHz</td>\n",
       "      <td>8</td>\n",
       "      <td>128GB SSD</td>\n",
       "      <td>Intel Iris Plus Graphics 640</td>\n",
       "      <td>macOS</td>\n",
       "      <td>1.37</td>\n",
       "      <td>1339.69</td>\n",
       "      <td>IPS Panel Retina Display 2560</td>\n",
       "      <td>1600</td>\n",
       "    </tr>\n",
       "    <tr>\n",
       "      <th>1</th>\n",
       "      <td>Apple</td>\n",
       "      <td>Macbook Air</td>\n",
       "      <td>Ultrabook</td>\n",
       "      <td>13.3</td>\n",
       "      <td>1440x900</td>\n",
       "      <td>Intel Core i5 1.8GHz</td>\n",
       "      <td>8</td>\n",
       "      <td>128GB Flash Storage</td>\n",
       "      <td>Intel HD Graphics 6000</td>\n",
       "      <td>macOS</td>\n",
       "      <td>1.34</td>\n",
       "      <td>898.94</td>\n",
       "      <td>1440</td>\n",
       "      <td>900</td>\n",
       "    </tr>\n",
       "    <tr>\n",
       "      <th>2</th>\n",
       "      <td>HP</td>\n",
       "      <td>250 G6</td>\n",
       "      <td>Notebook</td>\n",
       "      <td>15.6</td>\n",
       "      <td>Full HD 1920x1080</td>\n",
       "      <td>Intel Core i5 7200U 2.5GHz</td>\n",
       "      <td>8</td>\n",
       "      <td>256GB SSD</td>\n",
       "      <td>Intel HD Graphics 620</td>\n",
       "      <td>No OS</td>\n",
       "      <td>1.86</td>\n",
       "      <td>575.00</td>\n",
       "      <td>Full HD 1920</td>\n",
       "      <td>1080</td>\n",
       "    </tr>\n",
       "    <tr>\n",
       "      <th>3</th>\n",
       "      <td>Apple</td>\n",
       "      <td>MacBook Pro</td>\n",
       "      <td>Ultrabook</td>\n",
       "      <td>15.4</td>\n",
       "      <td>IPS Panel Retina Display 2880x1800</td>\n",
       "      <td>Intel Core i7 2.7GHz</td>\n",
       "      <td>16</td>\n",
       "      <td>512GB SSD</td>\n",
       "      <td>AMD Radeon Pro 455</td>\n",
       "      <td>macOS</td>\n",
       "      <td>1.83</td>\n",
       "      <td>2537.45</td>\n",
       "      <td>IPS Panel Retina Display 2880</td>\n",
       "      <td>1800</td>\n",
       "    </tr>\n",
       "    <tr>\n",
       "      <th>4</th>\n",
       "      <td>Apple</td>\n",
       "      <td>MacBook Pro</td>\n",
       "      <td>Ultrabook</td>\n",
       "      <td>13.3</td>\n",
       "      <td>IPS Panel Retina Display 2560x1600</td>\n",
       "      <td>Intel Core i5 3.1GHz</td>\n",
       "      <td>8</td>\n",
       "      <td>256GB SSD</td>\n",
       "      <td>Intel Iris Plus Graphics 650</td>\n",
       "      <td>macOS</td>\n",
       "      <td>1.37</td>\n",
       "      <td>1803.60</td>\n",
       "      <td>IPS Panel Retina Display 2560</td>\n",
       "      <td>1600</td>\n",
       "    </tr>\n",
       "  </tbody>\n",
       "</table>\n",
       "</div>"
      ],
      "text/plain": [
       "  Company      Product   TypeName  Inches                    ScreenResolution  \\\n",
       "0   Apple  MacBook Pro  Ultrabook    13.3  IPS Panel Retina Display 2560x1600   \n",
       "1   Apple  Macbook Air  Ultrabook    13.3                            1440x900   \n",
       "2      HP       250 G6   Notebook    15.6                   Full HD 1920x1080   \n",
       "3   Apple  MacBook Pro  Ultrabook    15.4  IPS Panel Retina Display 2880x1800   \n",
       "4   Apple  MacBook Pro  Ultrabook    13.3  IPS Panel Retina Display 2560x1600   \n",
       "\n",
       "                          Cpu  Ram               Memory  \\\n",
       "0        Intel Core i5 2.3GHz    8            128GB SSD   \n",
       "1        Intel Core i5 1.8GHz    8  128GB Flash Storage   \n",
       "2  Intel Core i5 7200U 2.5GHz    8            256GB SSD   \n",
       "3        Intel Core i7 2.7GHz   16            512GB SSD   \n",
       "4        Intel Core i5 3.1GHz    8            256GB SSD   \n",
       "\n",
       "                            Gpu  OpSys  Weight  Price_euros  \\\n",
       "0  Intel Iris Plus Graphics 640  macOS    1.37      1339.69   \n",
       "1        Intel HD Graphics 6000  macOS    1.34       898.94   \n",
       "2         Intel HD Graphics 620  No OS    1.86       575.00   \n",
       "3            AMD Radeon Pro 455  macOS    1.83      2537.45   \n",
       "4  Intel Iris Plus Graphics 650  macOS    1.37      1803.60   \n",
       "\n",
       "                          Screen Screen_Resoluton_Height  \n",
       "0  IPS Panel Retina Display 2560                    1600  \n",
       "1                           1440                     900  \n",
       "2                   Full HD 1920                    1080  \n",
       "3  IPS Panel Retina Display 2880                    1800  \n",
       "4  IPS Panel Retina Display 2560                    1600  "
      ]
     },
     "execution_count": 18,
     "metadata": {},
     "output_type": "execute_result"
    }
   ],
   "source": [
    "df[['Screen','Screen_Resoluton_Height']] = df['ScreenResolution'].str.split('x',expand=True)\n",
    "#screen \n",
    "#resolution -- >width x height format\n",
    "df.head()"
   ]
  },
  {
   "cell_type": "code",
   "execution_count": 19,
   "id": "a7515c34",
   "metadata": {},
   "outputs": [
    {
     "data": {
      "text/plain": [
       "0       1600\n",
       "1        900\n",
       "2       1080\n",
       "3       1800\n",
       "4       1600\n",
       "        ... \n",
       "1298    1080\n",
       "1299    1800\n",
       "1300     768\n",
       "1301     768\n",
       "1302     768\n",
       "Name: Screen_Resoluton_Height, Length: 1303, dtype: object"
      ]
     },
     "execution_count": 19,
     "metadata": {},
     "output_type": "execute_result"
    }
   ],
   "source": [
    "df['Screen_Resoluton_Height']"
   ]
  },
  {
   "cell_type": "code",
   "execution_count": 20,
   "id": "3e91b822",
   "metadata": {},
   "outputs": [
    {
     "name": "stdout",
     "output_type": "stream",
     "text": [
      "<class 'pandas.core.frame.DataFrame'>\n",
      "RangeIndex: 1303 entries, 0 to 1302\n",
      "Data columns (total 14 columns):\n",
      " #   Column                   Non-Null Count  Dtype  \n",
      "---  ------                   --------------  -----  \n",
      " 0   Company                  1303 non-null   object \n",
      " 1   Product                  1303 non-null   object \n",
      " 2   TypeName                 1303 non-null   object \n",
      " 3   Inches                   1303 non-null   float64\n",
      " 4   ScreenResolution         1303 non-null   object \n",
      " 5   Cpu                      1303 non-null   object \n",
      " 6   Ram                      1303 non-null   int32  \n",
      " 7   Memory                   1303 non-null   object \n",
      " 8   Gpu                      1303 non-null   object \n",
      " 9   OpSys                    1303 non-null   object \n",
      " 10  Weight                   1303 non-null   float64\n",
      " 11  Price_euros              1303 non-null   float64\n",
      " 12  Screen                   1303 non-null   object \n",
      " 13  Screen_Resoluton_Height  1303 non-null   int64  \n",
      "dtypes: float64(3), int32(1), int64(1), object(9)\n",
      "memory usage: 137.6+ KB\n"
     ]
    }
   ],
   "source": [
    "df[\"Screen_Resoluton_Height\"] = pd.to_numeric(df[\"Screen_Resoluton_Height\"])\n",
    "\n",
    "df.info()"
   ]
  },
  {
   "cell_type": "code",
   "execution_count": 21,
   "id": "22d5d835",
   "metadata": {},
   "outputs": [
    {
     "data": {
      "text/plain": [
       "0               IPS Panel Retina Display 2560\n",
       "1                                        1440\n",
       "2                                Full HD 1920\n",
       "3               IPS Panel Retina Display 2880\n",
       "4               IPS Panel Retina Display 2560\n",
       "                        ...                  \n",
       "1298     IPS Panel Full HD / Touchscreen 1920\n",
       "1299    IPS Panel Quad HD+ / Touchscreen 3200\n",
       "1300                                     1366\n",
       "1301                                     1366\n",
       "1302                                     1366\n",
       "Name: Screen, Length: 1303, dtype: object"
      ]
     },
     "execution_count": 21,
     "metadata": {},
     "output_type": "execute_result"
    }
   ],
   "source": [
    "df['Screen']"
   ]
  },
  {
   "cell_type": "code",
   "execution_count": 22,
   "id": "027cd505",
   "metadata": {},
   "outputs": [],
   "source": [
    "df[[\"Screen_Display\", \"sep\",\"Screen_Resoluton_Width\"]] = df[\"Screen\"].str.split(\"(\\d\\d)\", n=1, expand=True)\n",
    "df[\"Screen_Resoluton_Width\"] = df[\"sep\"] + df[\"Screen_Resoluton_Width\"]\n",
    "df.drop(\"sep\", inplace=True, axis=1)"
   ]
  },
  {
   "cell_type": "code",
   "execution_count": 23,
   "id": "72ab7e6d",
   "metadata": {},
   "outputs": [
    {
     "data": {
      "text/html": [
       "<div>\n",
       "<style scoped>\n",
       "    .dataframe tbody tr th:only-of-type {\n",
       "        vertical-align: middle;\n",
       "    }\n",
       "\n",
       "    .dataframe tbody tr th {\n",
       "        vertical-align: top;\n",
       "    }\n",
       "\n",
       "    .dataframe thead th {\n",
       "        text-align: right;\n",
       "    }\n",
       "</style>\n",
       "<table border=\"1\" class=\"dataframe\">\n",
       "  <thead>\n",
       "    <tr style=\"text-align: right;\">\n",
       "      <th></th>\n",
       "      <th>Company</th>\n",
       "      <th>Product</th>\n",
       "      <th>TypeName</th>\n",
       "      <th>Inches</th>\n",
       "      <th>ScreenResolution</th>\n",
       "      <th>Cpu</th>\n",
       "      <th>Ram</th>\n",
       "      <th>Memory</th>\n",
       "      <th>Gpu</th>\n",
       "      <th>OpSys</th>\n",
       "      <th>Weight</th>\n",
       "      <th>Price_euros</th>\n",
       "      <th>Screen</th>\n",
       "      <th>Screen_Resoluton_Height</th>\n",
       "      <th>Screen_Display</th>\n",
       "      <th>Screen_Resoluton_Width</th>\n",
       "    </tr>\n",
       "  </thead>\n",
       "  <tbody>\n",
       "    <tr>\n",
       "      <th>0</th>\n",
       "      <td>Apple</td>\n",
       "      <td>MacBook Pro</td>\n",
       "      <td>Ultrabook</td>\n",
       "      <td>13.3</td>\n",
       "      <td>IPS Panel Retina Display 2560x1600</td>\n",
       "      <td>Intel Core i5 2.3GHz</td>\n",
       "      <td>8</td>\n",
       "      <td>128GB SSD</td>\n",
       "      <td>Intel Iris Plus Graphics 640</td>\n",
       "      <td>macOS</td>\n",
       "      <td>1.37</td>\n",
       "      <td>1339.69</td>\n",
       "      <td>IPS Panel Retina Display 2560</td>\n",
       "      <td>1600</td>\n",
       "      <td>IPS Panel Retina Display</td>\n",
       "      <td>2560</td>\n",
       "    </tr>\n",
       "    <tr>\n",
       "      <th>1</th>\n",
       "      <td>Apple</td>\n",
       "      <td>Macbook Air</td>\n",
       "      <td>Ultrabook</td>\n",
       "      <td>13.3</td>\n",
       "      <td>1440x900</td>\n",
       "      <td>Intel Core i5 1.8GHz</td>\n",
       "      <td>8</td>\n",
       "      <td>128GB Flash Storage</td>\n",
       "      <td>Intel HD Graphics 6000</td>\n",
       "      <td>macOS</td>\n",
       "      <td>1.34</td>\n",
       "      <td>898.94</td>\n",
       "      <td>1440</td>\n",
       "      <td>900</td>\n",
       "      <td></td>\n",
       "      <td>1440</td>\n",
       "    </tr>\n",
       "    <tr>\n",
       "      <th>2</th>\n",
       "      <td>HP</td>\n",
       "      <td>250 G6</td>\n",
       "      <td>Notebook</td>\n",
       "      <td>15.6</td>\n",
       "      <td>Full HD 1920x1080</td>\n",
       "      <td>Intel Core i5 7200U 2.5GHz</td>\n",
       "      <td>8</td>\n",
       "      <td>256GB SSD</td>\n",
       "      <td>Intel HD Graphics 620</td>\n",
       "      <td>No OS</td>\n",
       "      <td>1.86</td>\n",
       "      <td>575.00</td>\n",
       "      <td>Full HD 1920</td>\n",
       "      <td>1080</td>\n",
       "      <td>Full HD</td>\n",
       "      <td>1920</td>\n",
       "    </tr>\n",
       "    <tr>\n",
       "      <th>3</th>\n",
       "      <td>Apple</td>\n",
       "      <td>MacBook Pro</td>\n",
       "      <td>Ultrabook</td>\n",
       "      <td>15.4</td>\n",
       "      <td>IPS Panel Retina Display 2880x1800</td>\n",
       "      <td>Intel Core i7 2.7GHz</td>\n",
       "      <td>16</td>\n",
       "      <td>512GB SSD</td>\n",
       "      <td>AMD Radeon Pro 455</td>\n",
       "      <td>macOS</td>\n",
       "      <td>1.83</td>\n",
       "      <td>2537.45</td>\n",
       "      <td>IPS Panel Retina Display 2880</td>\n",
       "      <td>1800</td>\n",
       "      <td>IPS Panel Retina Display</td>\n",
       "      <td>2880</td>\n",
       "    </tr>\n",
       "    <tr>\n",
       "      <th>4</th>\n",
       "      <td>Apple</td>\n",
       "      <td>MacBook Pro</td>\n",
       "      <td>Ultrabook</td>\n",
       "      <td>13.3</td>\n",
       "      <td>IPS Panel Retina Display 2560x1600</td>\n",
       "      <td>Intel Core i5 3.1GHz</td>\n",
       "      <td>8</td>\n",
       "      <td>256GB SSD</td>\n",
       "      <td>Intel Iris Plus Graphics 650</td>\n",
       "      <td>macOS</td>\n",
       "      <td>1.37</td>\n",
       "      <td>1803.60</td>\n",
       "      <td>IPS Panel Retina Display 2560</td>\n",
       "      <td>1600</td>\n",
       "      <td>IPS Panel Retina Display</td>\n",
       "      <td>2560</td>\n",
       "    </tr>\n",
       "  </tbody>\n",
       "</table>\n",
       "</div>"
      ],
      "text/plain": [
       "  Company      Product   TypeName  Inches                    ScreenResolution  \\\n",
       "0   Apple  MacBook Pro  Ultrabook    13.3  IPS Panel Retina Display 2560x1600   \n",
       "1   Apple  Macbook Air  Ultrabook    13.3                            1440x900   \n",
       "2      HP       250 G6   Notebook    15.6                   Full HD 1920x1080   \n",
       "3   Apple  MacBook Pro  Ultrabook    15.4  IPS Panel Retina Display 2880x1800   \n",
       "4   Apple  MacBook Pro  Ultrabook    13.3  IPS Panel Retina Display 2560x1600   \n",
       "\n",
       "                          Cpu  Ram               Memory  \\\n",
       "0        Intel Core i5 2.3GHz    8            128GB SSD   \n",
       "1        Intel Core i5 1.8GHz    8  128GB Flash Storage   \n",
       "2  Intel Core i5 7200U 2.5GHz    8            256GB SSD   \n",
       "3        Intel Core i7 2.7GHz   16            512GB SSD   \n",
       "4        Intel Core i5 3.1GHz    8            256GB SSD   \n",
       "\n",
       "                            Gpu  OpSys  Weight  Price_euros  \\\n",
       "0  Intel Iris Plus Graphics 640  macOS    1.37      1339.69   \n",
       "1        Intel HD Graphics 6000  macOS    1.34       898.94   \n",
       "2         Intel HD Graphics 620  No OS    1.86       575.00   \n",
       "3            AMD Radeon Pro 455  macOS    1.83      2537.45   \n",
       "4  Intel Iris Plus Graphics 650  macOS    1.37      1803.60   \n",
       "\n",
       "                          Screen  Screen_Resoluton_Height  \\\n",
       "0  IPS Panel Retina Display 2560                     1600   \n",
       "1                           1440                      900   \n",
       "2                   Full HD 1920                     1080   \n",
       "3  IPS Panel Retina Display 2880                     1800   \n",
       "4  IPS Panel Retina Display 2560                     1600   \n",
       "\n",
       "              Screen_Display Screen_Resoluton_Width  \n",
       "0  IPS Panel Retina Display                    2560  \n",
       "1                                              1440  \n",
       "2                   Full HD                    1920  \n",
       "3  IPS Panel Retina Display                    2880  \n",
       "4  IPS Panel Retina Display                    2560  "
      ]
     },
     "execution_count": 23,
     "metadata": {},
     "output_type": "execute_result"
    }
   ],
   "source": [
    "df.head()"
   ]
  },
  {
   "cell_type": "code",
   "execution_count": 24,
   "id": "1bfa004e",
   "metadata": {},
   "outputs": [
    {
     "data": {
      "text/plain": [
       "0       2560\n",
       "1       1440\n",
       "2       1920\n",
       "3       2880\n",
       "4       2560\n",
       "        ... \n",
       "1298    1920\n",
       "1299    3200\n",
       "1300    1366\n",
       "1301    1366\n",
       "1302    1366\n",
       "Name: Screen_Resoluton_Width, Length: 1303, dtype: object"
      ]
     },
     "execution_count": 24,
     "metadata": {},
     "output_type": "execute_result"
    }
   ],
   "source": [
    "df['Screen_Resoluton_Width']"
   ]
  },
  {
   "cell_type": "code",
   "execution_count": 25,
   "id": "a8e742db",
   "metadata": {},
   "outputs": [],
   "source": [
    "df[\"Screen_Resoluton_Width\"] = pd.to_numeric(df[\"Screen_Resoluton_Width\"])"
   ]
  },
  {
   "cell_type": "code",
   "execution_count": 26,
   "id": "2a1cc4de",
   "metadata": {},
   "outputs": [
    {
     "name": "stdout",
     "output_type": "stream",
     "text": [
      "<class 'pandas.core.frame.DataFrame'>\n",
      "RangeIndex: 1303 entries, 0 to 1302\n",
      "Data columns (total 16 columns):\n",
      " #   Column                   Non-Null Count  Dtype  \n",
      "---  ------                   --------------  -----  \n",
      " 0   Company                  1303 non-null   object \n",
      " 1   Product                  1303 non-null   object \n",
      " 2   TypeName                 1303 non-null   object \n",
      " 3   Inches                   1303 non-null   float64\n",
      " 4   ScreenResolution         1303 non-null   object \n",
      " 5   Cpu                      1303 non-null   object \n",
      " 6   Ram                      1303 non-null   int32  \n",
      " 7   Memory                   1303 non-null   object \n",
      " 8   Gpu                      1303 non-null   object \n",
      " 9   OpSys                    1303 non-null   object \n",
      " 10  Weight                   1303 non-null   float64\n",
      " 11  Price_euros              1303 non-null   float64\n",
      " 12  Screen                   1303 non-null   object \n",
      " 13  Screen_Resoluton_Height  1303 non-null   int64  \n",
      " 14  Screen_Display           1303 non-null   object \n",
      " 15  Screen_Resoluton_Width   1303 non-null   int64  \n",
      "dtypes: float64(3), int32(1), int64(2), object(10)\n",
      "memory usage: 157.9+ KB\n"
     ]
    }
   ],
   "source": [
    "df.info()"
   ]
  },
  {
   "cell_type": "code",
   "execution_count": 27,
   "id": "e2d9bd5c",
   "metadata": {},
   "outputs": [
    {
     "data": {
      "text/html": [
       "<div>\n",
       "<style scoped>\n",
       "    .dataframe tbody tr th:only-of-type {\n",
       "        vertical-align: middle;\n",
       "    }\n",
       "\n",
       "    .dataframe tbody tr th {\n",
       "        vertical-align: top;\n",
       "    }\n",
       "\n",
       "    .dataframe thead th {\n",
       "        text-align: right;\n",
       "    }\n",
       "</style>\n",
       "<table border=\"1\" class=\"dataframe\">\n",
       "  <thead>\n",
       "    <tr style=\"text-align: right;\">\n",
       "      <th></th>\n",
       "      <th>Company</th>\n",
       "      <th>Product</th>\n",
       "      <th>TypeName</th>\n",
       "      <th>Inches</th>\n",
       "      <th>ScreenResolution</th>\n",
       "      <th>Cpu</th>\n",
       "      <th>Ram</th>\n",
       "      <th>Memory</th>\n",
       "      <th>Gpu</th>\n",
       "      <th>OpSys</th>\n",
       "      <th>Weight</th>\n",
       "      <th>Price_euros</th>\n",
       "      <th>Screen</th>\n",
       "      <th>Screen_Resoluton_Height</th>\n",
       "      <th>Screen_Display</th>\n",
       "      <th>Screen_Resoluton_Width</th>\n",
       "    </tr>\n",
       "  </thead>\n",
       "  <tbody>\n",
       "    <tr>\n",
       "      <th>0</th>\n",
       "      <td>Apple</td>\n",
       "      <td>MacBook Pro</td>\n",
       "      <td>Ultrabook</td>\n",
       "      <td>13.3</td>\n",
       "      <td>IPS Panel Retina Display 2560x1600</td>\n",
       "      <td>Intel Core i5 2.3GHz</td>\n",
       "      <td>8</td>\n",
       "      <td>128GB SSD</td>\n",
       "      <td>Intel Iris Plus Graphics 640</td>\n",
       "      <td>macOS</td>\n",
       "      <td>1.37</td>\n",
       "      <td>1339.69</td>\n",
       "      <td>IPS Panel Retina Display 2560</td>\n",
       "      <td>1600</td>\n",
       "      <td>IPS Panel Retina Display</td>\n",
       "      <td>2560</td>\n",
       "    </tr>\n",
       "    <tr>\n",
       "      <th>1</th>\n",
       "      <td>Apple</td>\n",
       "      <td>Macbook Air</td>\n",
       "      <td>Ultrabook</td>\n",
       "      <td>13.3</td>\n",
       "      <td>1440x900</td>\n",
       "      <td>Intel Core i5 1.8GHz</td>\n",
       "      <td>8</td>\n",
       "      <td>128GB Flash Storage</td>\n",
       "      <td>Intel HD Graphics 6000</td>\n",
       "      <td>macOS</td>\n",
       "      <td>1.34</td>\n",
       "      <td>898.94</td>\n",
       "      <td>1440</td>\n",
       "      <td>900</td>\n",
       "      <td></td>\n",
       "      <td>1440</td>\n",
       "    </tr>\n",
       "    <tr>\n",
       "      <th>2</th>\n",
       "      <td>HP</td>\n",
       "      <td>250 G6</td>\n",
       "      <td>Notebook</td>\n",
       "      <td>15.6</td>\n",
       "      <td>Full HD 1920x1080</td>\n",
       "      <td>Intel Core i5 7200U 2.5GHz</td>\n",
       "      <td>8</td>\n",
       "      <td>256GB SSD</td>\n",
       "      <td>Intel HD Graphics 620</td>\n",
       "      <td>No OS</td>\n",
       "      <td>1.86</td>\n",
       "      <td>575.00</td>\n",
       "      <td>Full HD 1920</td>\n",
       "      <td>1080</td>\n",
       "      <td>Full HD</td>\n",
       "      <td>1920</td>\n",
       "    </tr>\n",
       "    <tr>\n",
       "      <th>3</th>\n",
       "      <td>Apple</td>\n",
       "      <td>MacBook Pro</td>\n",
       "      <td>Ultrabook</td>\n",
       "      <td>15.4</td>\n",
       "      <td>IPS Panel Retina Display 2880x1800</td>\n",
       "      <td>Intel Core i7 2.7GHz</td>\n",
       "      <td>16</td>\n",
       "      <td>512GB SSD</td>\n",
       "      <td>AMD Radeon Pro 455</td>\n",
       "      <td>macOS</td>\n",
       "      <td>1.83</td>\n",
       "      <td>2537.45</td>\n",
       "      <td>IPS Panel Retina Display 2880</td>\n",
       "      <td>1800</td>\n",
       "      <td>IPS Panel Retina Display</td>\n",
       "      <td>2880</td>\n",
       "    </tr>\n",
       "    <tr>\n",
       "      <th>4</th>\n",
       "      <td>Apple</td>\n",
       "      <td>MacBook Pro</td>\n",
       "      <td>Ultrabook</td>\n",
       "      <td>13.3</td>\n",
       "      <td>IPS Panel Retina Display 2560x1600</td>\n",
       "      <td>Intel Core i5 3.1GHz</td>\n",
       "      <td>8</td>\n",
       "      <td>256GB SSD</td>\n",
       "      <td>Intel Iris Plus Graphics 650</td>\n",
       "      <td>macOS</td>\n",
       "      <td>1.37</td>\n",
       "      <td>1803.60</td>\n",
       "      <td>IPS Panel Retina Display 2560</td>\n",
       "      <td>1600</td>\n",
       "      <td>IPS Panel Retina Display</td>\n",
       "      <td>2560</td>\n",
       "    </tr>\n",
       "  </tbody>\n",
       "</table>\n",
       "</div>"
      ],
      "text/plain": [
       "  Company      Product   TypeName  Inches                    ScreenResolution  \\\n",
       "0   Apple  MacBook Pro  Ultrabook    13.3  IPS Panel Retina Display 2560x1600   \n",
       "1   Apple  Macbook Air  Ultrabook    13.3                            1440x900   \n",
       "2      HP       250 G6   Notebook    15.6                   Full HD 1920x1080   \n",
       "3   Apple  MacBook Pro  Ultrabook    15.4  IPS Panel Retina Display 2880x1800   \n",
       "4   Apple  MacBook Pro  Ultrabook    13.3  IPS Panel Retina Display 2560x1600   \n",
       "\n",
       "                          Cpu  Ram               Memory  \\\n",
       "0        Intel Core i5 2.3GHz    8            128GB SSD   \n",
       "1        Intel Core i5 1.8GHz    8  128GB Flash Storage   \n",
       "2  Intel Core i5 7200U 2.5GHz    8            256GB SSD   \n",
       "3        Intel Core i7 2.7GHz   16            512GB SSD   \n",
       "4        Intel Core i5 3.1GHz    8            256GB SSD   \n",
       "\n",
       "                            Gpu  OpSys  Weight  Price_euros  \\\n",
       "0  Intel Iris Plus Graphics 640  macOS    1.37      1339.69   \n",
       "1        Intel HD Graphics 6000  macOS    1.34       898.94   \n",
       "2         Intel HD Graphics 620  No OS    1.86       575.00   \n",
       "3            AMD Radeon Pro 455  macOS    1.83      2537.45   \n",
       "4  Intel Iris Plus Graphics 650  macOS    1.37      1803.60   \n",
       "\n",
       "                          Screen  Screen_Resoluton_Height  \\\n",
       "0  IPS Panel Retina Display 2560                     1600   \n",
       "1                           1440                      900   \n",
       "2                   Full HD 1920                     1080   \n",
       "3  IPS Panel Retina Display 2880                     1800   \n",
       "4  IPS Panel Retina Display 2560                     1600   \n",
       "\n",
       "              Screen_Display  Screen_Resoluton_Width  \n",
       "0  IPS Panel Retina Display                     2560  \n",
       "1                                               1440  \n",
       "2                   Full HD                     1920  \n",
       "3  IPS Panel Retina Display                     2880  \n",
       "4  IPS Panel Retina Display                     2560  "
      ]
     },
     "execution_count": 27,
     "metadata": {},
     "output_type": "execute_result"
    }
   ],
   "source": [
    "df.head()"
   ]
  },
  {
   "cell_type": "code",
   "execution_count": 28,
   "id": "d7dc1093",
   "metadata": {},
   "outputs": [],
   "source": [
    "df.drop('Screen',axis=1,inplace=True)\n",
    "df.drop('ScreenResolution',axis=1,inplace=True)"
   ]
  },
  {
   "cell_type": "code",
   "execution_count": 29,
   "id": "8b6c09d0",
   "metadata": {},
   "outputs": [
    {
     "name": "stdout",
     "output_type": "stream",
     "text": [
      "<class 'pandas.core.frame.DataFrame'>\n",
      "RangeIndex: 1303 entries, 0 to 1302\n",
      "Data columns (total 14 columns):\n",
      " #   Column                   Non-Null Count  Dtype  \n",
      "---  ------                   --------------  -----  \n",
      " 0   Company                  1303 non-null   object \n",
      " 1   Product                  1303 non-null   object \n",
      " 2   TypeName                 1303 non-null   object \n",
      " 3   Inches                   1303 non-null   float64\n",
      " 4   Cpu                      1303 non-null   object \n",
      " 5   Ram                      1303 non-null   int32  \n",
      " 6   Memory                   1303 non-null   object \n",
      " 7   Gpu                      1303 non-null   object \n",
      " 8   OpSys                    1303 non-null   object \n",
      " 9   Weight                   1303 non-null   float64\n",
      " 10  Price_euros              1303 non-null   float64\n",
      " 11  Screen_Resoluton_Height  1303 non-null   int64  \n",
      " 12  Screen_Display           1303 non-null   object \n",
      " 13  Screen_Resoluton_Width   1303 non-null   int64  \n",
      "dtypes: float64(3), int32(1), int64(2), object(8)\n",
      "memory usage: 137.6+ KB\n"
     ]
    }
   ],
   "source": [
    "df.info()"
   ]
  },
  {
   "cell_type": "code",
   "execution_count": null,
   "id": "167215ff",
   "metadata": {},
   "outputs": [],
   "source": []
  },
  {
   "cell_type": "markdown",
   "id": "587855f7",
   "metadata": {},
   "source": [
    "We have split ScreenResolution column into three columns\n",
    "\n",
    "Screen_Resoluton_Height\n",
    "\n",
    "Screen_Display\n",
    "\n",
    "Screen_Resoluton_Width"
   ]
  },
  {
   "cell_type": "markdown",
   "id": "d4a3aef8",
   "metadata": {},
   "source": [
    "# Handling \"Cpu\" Column"
   ]
  },
  {
   "cell_type": "code",
   "execution_count": 30,
   "id": "8f8d9420",
   "metadata": {},
   "outputs": [
    {
     "data": {
      "text/plain": [
       "0            Intel Core i5 2.3GHz\n",
       "1            Intel Core i5 1.8GHz\n",
       "2      Intel Core i5 7200U 2.5GHz\n",
       "3            Intel Core i7 2.7GHz\n",
       "4            Intel Core i5 3.1GHz\n",
       "                 ...             \n",
       "95     Intel Core i5 8250U 1.6GHz\n",
       "96     Intel Core i7 7500U 2.7GHz\n",
       "97       Intel Core i3 6006U 2GHz\n",
       "98     Intel Core i3 7100U 2.4GHz\n",
       "99    Intel Core i7 7700HQ 2.8GHz\n",
       "Name: Cpu, Length: 100, dtype: object"
      ]
     },
     "execution_count": 30,
     "metadata": {},
     "output_type": "execute_result"
    }
   ],
   "source": [
    "df['Cpu'].head(100)"
   ]
  },
  {
   "cell_type": "code",
   "execution_count": 31,
   "id": "89dce404",
   "metadata": {},
   "outputs": [],
   "source": [
    "\n",
    "df[['Cpu_Core','Cpu_Processor_Speed_GHz']] = df['Cpu'].str.rsplit(\" \", n=1, expand=True)"
   ]
  },
  {
   "cell_type": "code",
   "execution_count": 32,
   "id": "14a570c5",
   "metadata": {},
   "outputs": [
    {
     "name": "stdout",
     "output_type": "stream",
     "text": [
      "<class 'pandas.core.frame.DataFrame'>\n",
      "RangeIndex: 1303 entries, 0 to 1302\n",
      "Data columns (total 16 columns):\n",
      " #   Column                   Non-Null Count  Dtype  \n",
      "---  ------                   --------------  -----  \n",
      " 0   Company                  1303 non-null   object \n",
      " 1   Product                  1303 non-null   object \n",
      " 2   TypeName                 1303 non-null   object \n",
      " 3   Inches                   1303 non-null   float64\n",
      " 4   Cpu                      1303 non-null   object \n",
      " 5   Ram                      1303 non-null   int32  \n",
      " 6   Memory                   1303 non-null   object \n",
      " 7   Gpu                      1303 non-null   object \n",
      " 8   OpSys                    1303 non-null   object \n",
      " 9   Weight                   1303 non-null   float64\n",
      " 10  Price_euros              1303 non-null   float64\n",
      " 11  Screen_Resoluton_Height  1303 non-null   int64  \n",
      " 12  Screen_Display           1303 non-null   object \n",
      " 13  Screen_Resoluton_Width   1303 non-null   int64  \n",
      " 14  Cpu_Core                 1303 non-null   object \n",
      " 15  Cpu_Processor_Speed_GHz  1303 non-null   object \n",
      "dtypes: float64(3), int32(1), int64(2), object(10)\n",
      "memory usage: 157.9+ KB\n"
     ]
    }
   ],
   "source": [
    "df.info()"
   ]
  },
  {
   "cell_type": "code",
   "execution_count": 33,
   "id": "c53894d6",
   "metadata": {},
   "outputs": [],
   "source": [
    "df.drop('Cpu',axis=1,inplace=True)\n"
   ]
  },
  {
   "cell_type": "code",
   "execution_count": 34,
   "id": "1d3a4eb1",
   "metadata": {},
   "outputs": [
    {
     "data": {
      "text/html": [
       "<div>\n",
       "<style scoped>\n",
       "    .dataframe tbody tr th:only-of-type {\n",
       "        vertical-align: middle;\n",
       "    }\n",
       "\n",
       "    .dataframe tbody tr th {\n",
       "        vertical-align: top;\n",
       "    }\n",
       "\n",
       "    .dataframe thead th {\n",
       "        text-align: right;\n",
       "    }\n",
       "</style>\n",
       "<table border=\"1\" class=\"dataframe\">\n",
       "  <thead>\n",
       "    <tr style=\"text-align: right;\">\n",
       "      <th></th>\n",
       "      <th>Company</th>\n",
       "      <th>Product</th>\n",
       "      <th>TypeName</th>\n",
       "      <th>Inches</th>\n",
       "      <th>Ram</th>\n",
       "      <th>Memory</th>\n",
       "      <th>Gpu</th>\n",
       "      <th>OpSys</th>\n",
       "      <th>Weight</th>\n",
       "      <th>Price_euros</th>\n",
       "      <th>Screen_Resoluton_Height</th>\n",
       "      <th>Screen_Display</th>\n",
       "      <th>Screen_Resoluton_Width</th>\n",
       "      <th>Cpu_Core</th>\n",
       "      <th>Cpu_Processor_Speed_GHz</th>\n",
       "    </tr>\n",
       "  </thead>\n",
       "  <tbody>\n",
       "    <tr>\n",
       "      <th>0</th>\n",
       "      <td>Apple</td>\n",
       "      <td>MacBook Pro</td>\n",
       "      <td>Ultrabook</td>\n",
       "      <td>13.3</td>\n",
       "      <td>8</td>\n",
       "      <td>128GB SSD</td>\n",
       "      <td>Intel Iris Plus Graphics 640</td>\n",
       "      <td>macOS</td>\n",
       "      <td>1.37</td>\n",
       "      <td>1339.69</td>\n",
       "      <td>1600</td>\n",
       "      <td>IPS Panel Retina Display</td>\n",
       "      <td>2560</td>\n",
       "      <td>Intel Core i5</td>\n",
       "      <td>2.3GHz</td>\n",
       "    </tr>\n",
       "    <tr>\n",
       "      <th>1</th>\n",
       "      <td>Apple</td>\n",
       "      <td>Macbook Air</td>\n",
       "      <td>Ultrabook</td>\n",
       "      <td>13.3</td>\n",
       "      <td>8</td>\n",
       "      <td>128GB Flash Storage</td>\n",
       "      <td>Intel HD Graphics 6000</td>\n",
       "      <td>macOS</td>\n",
       "      <td>1.34</td>\n",
       "      <td>898.94</td>\n",
       "      <td>900</td>\n",
       "      <td></td>\n",
       "      <td>1440</td>\n",
       "      <td>Intel Core i5</td>\n",
       "      <td>1.8GHz</td>\n",
       "    </tr>\n",
       "    <tr>\n",
       "      <th>2</th>\n",
       "      <td>HP</td>\n",
       "      <td>250 G6</td>\n",
       "      <td>Notebook</td>\n",
       "      <td>15.6</td>\n",
       "      <td>8</td>\n",
       "      <td>256GB SSD</td>\n",
       "      <td>Intel HD Graphics 620</td>\n",
       "      <td>No OS</td>\n",
       "      <td>1.86</td>\n",
       "      <td>575.00</td>\n",
       "      <td>1080</td>\n",
       "      <td>Full HD</td>\n",
       "      <td>1920</td>\n",
       "      <td>Intel Core i5 7200U</td>\n",
       "      <td>2.5GHz</td>\n",
       "    </tr>\n",
       "    <tr>\n",
       "      <th>3</th>\n",
       "      <td>Apple</td>\n",
       "      <td>MacBook Pro</td>\n",
       "      <td>Ultrabook</td>\n",
       "      <td>15.4</td>\n",
       "      <td>16</td>\n",
       "      <td>512GB SSD</td>\n",
       "      <td>AMD Radeon Pro 455</td>\n",
       "      <td>macOS</td>\n",
       "      <td>1.83</td>\n",
       "      <td>2537.45</td>\n",
       "      <td>1800</td>\n",
       "      <td>IPS Panel Retina Display</td>\n",
       "      <td>2880</td>\n",
       "      <td>Intel Core i7</td>\n",
       "      <td>2.7GHz</td>\n",
       "    </tr>\n",
       "    <tr>\n",
       "      <th>4</th>\n",
       "      <td>Apple</td>\n",
       "      <td>MacBook Pro</td>\n",
       "      <td>Ultrabook</td>\n",
       "      <td>13.3</td>\n",
       "      <td>8</td>\n",
       "      <td>256GB SSD</td>\n",
       "      <td>Intel Iris Plus Graphics 650</td>\n",
       "      <td>macOS</td>\n",
       "      <td>1.37</td>\n",
       "      <td>1803.60</td>\n",
       "      <td>1600</td>\n",
       "      <td>IPS Panel Retina Display</td>\n",
       "      <td>2560</td>\n",
       "      <td>Intel Core i5</td>\n",
       "      <td>3.1GHz</td>\n",
       "    </tr>\n",
       "  </tbody>\n",
       "</table>\n",
       "</div>"
      ],
      "text/plain": [
       "  Company      Product   TypeName  Inches  Ram               Memory  \\\n",
       "0   Apple  MacBook Pro  Ultrabook    13.3    8            128GB SSD   \n",
       "1   Apple  Macbook Air  Ultrabook    13.3    8  128GB Flash Storage   \n",
       "2      HP       250 G6   Notebook    15.6    8            256GB SSD   \n",
       "3   Apple  MacBook Pro  Ultrabook    15.4   16            512GB SSD   \n",
       "4   Apple  MacBook Pro  Ultrabook    13.3    8            256GB SSD   \n",
       "\n",
       "                            Gpu  OpSys  Weight  Price_euros  \\\n",
       "0  Intel Iris Plus Graphics 640  macOS    1.37      1339.69   \n",
       "1        Intel HD Graphics 6000  macOS    1.34       898.94   \n",
       "2         Intel HD Graphics 620  No OS    1.86       575.00   \n",
       "3            AMD Radeon Pro 455  macOS    1.83      2537.45   \n",
       "4  Intel Iris Plus Graphics 650  macOS    1.37      1803.60   \n",
       "\n",
       "   Screen_Resoluton_Height             Screen_Display  Screen_Resoluton_Width  \\\n",
       "0                     1600  IPS Panel Retina Display                     2560   \n",
       "1                      900                                               1440   \n",
       "2                     1080                   Full HD                     1920   \n",
       "3                     1800  IPS Panel Retina Display                     2880   \n",
       "4                     1600  IPS Panel Retina Display                     2560   \n",
       "\n",
       "              Cpu_Core Cpu_Processor_Speed_GHz  \n",
       "0        Intel Core i5                  2.3GHz  \n",
       "1        Intel Core i5                  1.8GHz  \n",
       "2  Intel Core i5 7200U                  2.5GHz  \n",
       "3        Intel Core i7                  2.7GHz  \n",
       "4        Intel Core i5                  3.1GHz  "
      ]
     },
     "execution_count": 34,
     "metadata": {},
     "output_type": "execute_result"
    }
   ],
   "source": [
    "df.head()"
   ]
  },
  {
   "cell_type": "code",
   "execution_count": 35,
   "id": "aa1a2f74",
   "metadata": {},
   "outputs": [],
   "source": [
    "df[\"Cpu_Processor_Speed_GHz\"] = df[\"Cpu_Processor_Speed_GHz\"].str.replace(\"GHz\",\"\")\n",
    "df[\"Cpu_Processor_Speed_GHz\"] = pd.to_numeric(df[\"Cpu_Processor_Speed_GHz\"])"
   ]
  },
  {
   "cell_type": "code",
   "execution_count": 36,
   "id": "19697bd7",
   "metadata": {},
   "outputs": [
    {
     "name": "stdout",
     "output_type": "stream",
     "text": [
      "<class 'pandas.core.frame.DataFrame'>\n",
      "RangeIndex: 1303 entries, 0 to 1302\n",
      "Data columns (total 15 columns):\n",
      " #   Column                   Non-Null Count  Dtype  \n",
      "---  ------                   --------------  -----  \n",
      " 0   Company                  1303 non-null   object \n",
      " 1   Product                  1303 non-null   object \n",
      " 2   TypeName                 1303 non-null   object \n",
      " 3   Inches                   1303 non-null   float64\n",
      " 4   Ram                      1303 non-null   int32  \n",
      " 5   Memory                   1303 non-null   object \n",
      " 6   Gpu                      1303 non-null   object \n",
      " 7   OpSys                    1303 non-null   object \n",
      " 8   Weight                   1303 non-null   float64\n",
      " 9   Price_euros              1303 non-null   float64\n",
      " 10  Screen_Resoluton_Height  1303 non-null   int64  \n",
      " 11  Screen_Display           1303 non-null   object \n",
      " 12  Screen_Resoluton_Width   1303 non-null   int64  \n",
      " 13  Cpu_Core                 1303 non-null   object \n",
      " 14  Cpu_Processor_Speed_GHz  1303 non-null   float64\n",
      "dtypes: float64(4), int32(1), int64(2), object(8)\n",
      "memory usage: 147.7+ KB\n"
     ]
    }
   ],
   "source": [
    "df.info()"
   ]
  },
  {
   "cell_type": "code",
   "execution_count": 37,
   "id": "64070413",
   "metadata": {},
   "outputs": [
    {
     "data": {
      "text/html": [
       "<div>\n",
       "<style scoped>\n",
       "    .dataframe tbody tr th:only-of-type {\n",
       "        vertical-align: middle;\n",
       "    }\n",
       "\n",
       "    .dataframe tbody tr th {\n",
       "        vertical-align: top;\n",
       "    }\n",
       "\n",
       "    .dataframe thead th {\n",
       "        text-align: right;\n",
       "    }\n",
       "</style>\n",
       "<table border=\"1\" class=\"dataframe\">\n",
       "  <thead>\n",
       "    <tr style=\"text-align: right;\">\n",
       "      <th></th>\n",
       "      <th>Company</th>\n",
       "      <th>Product</th>\n",
       "      <th>TypeName</th>\n",
       "      <th>Inches</th>\n",
       "      <th>Ram</th>\n",
       "      <th>Memory</th>\n",
       "      <th>Gpu</th>\n",
       "      <th>OpSys</th>\n",
       "      <th>Weight</th>\n",
       "      <th>Price_euros</th>\n",
       "      <th>Screen_Resoluton_Height</th>\n",
       "      <th>Screen_Display</th>\n",
       "      <th>Screen_Resoluton_Width</th>\n",
       "      <th>Cpu_Core</th>\n",
       "      <th>Cpu_Processor_Speed_GHz</th>\n",
       "    </tr>\n",
       "  </thead>\n",
       "  <tbody>\n",
       "    <tr>\n",
       "      <th>0</th>\n",
       "      <td>Apple</td>\n",
       "      <td>MacBook Pro</td>\n",
       "      <td>Ultrabook</td>\n",
       "      <td>13.3</td>\n",
       "      <td>8</td>\n",
       "      <td>128GB SSD</td>\n",
       "      <td>Intel Iris Plus Graphics 640</td>\n",
       "      <td>macOS</td>\n",
       "      <td>1.37</td>\n",
       "      <td>1339.69</td>\n",
       "      <td>1600</td>\n",
       "      <td>IPS Panel Retina Display</td>\n",
       "      <td>2560</td>\n",
       "      <td>Intel Core i5</td>\n",
       "      <td>2.3</td>\n",
       "    </tr>\n",
       "    <tr>\n",
       "      <th>1</th>\n",
       "      <td>Apple</td>\n",
       "      <td>Macbook Air</td>\n",
       "      <td>Ultrabook</td>\n",
       "      <td>13.3</td>\n",
       "      <td>8</td>\n",
       "      <td>128GB Flash Storage</td>\n",
       "      <td>Intel HD Graphics 6000</td>\n",
       "      <td>macOS</td>\n",
       "      <td>1.34</td>\n",
       "      <td>898.94</td>\n",
       "      <td>900</td>\n",
       "      <td></td>\n",
       "      <td>1440</td>\n",
       "      <td>Intel Core i5</td>\n",
       "      <td>1.8</td>\n",
       "    </tr>\n",
       "    <tr>\n",
       "      <th>2</th>\n",
       "      <td>HP</td>\n",
       "      <td>250 G6</td>\n",
       "      <td>Notebook</td>\n",
       "      <td>15.6</td>\n",
       "      <td>8</td>\n",
       "      <td>256GB SSD</td>\n",
       "      <td>Intel HD Graphics 620</td>\n",
       "      <td>No OS</td>\n",
       "      <td>1.86</td>\n",
       "      <td>575.00</td>\n",
       "      <td>1080</td>\n",
       "      <td>Full HD</td>\n",
       "      <td>1920</td>\n",
       "      <td>Intel Core i5 7200U</td>\n",
       "      <td>2.5</td>\n",
       "    </tr>\n",
       "    <tr>\n",
       "      <th>3</th>\n",
       "      <td>Apple</td>\n",
       "      <td>MacBook Pro</td>\n",
       "      <td>Ultrabook</td>\n",
       "      <td>15.4</td>\n",
       "      <td>16</td>\n",
       "      <td>512GB SSD</td>\n",
       "      <td>AMD Radeon Pro 455</td>\n",
       "      <td>macOS</td>\n",
       "      <td>1.83</td>\n",
       "      <td>2537.45</td>\n",
       "      <td>1800</td>\n",
       "      <td>IPS Panel Retina Display</td>\n",
       "      <td>2880</td>\n",
       "      <td>Intel Core i7</td>\n",
       "      <td>2.7</td>\n",
       "    </tr>\n",
       "    <tr>\n",
       "      <th>4</th>\n",
       "      <td>Apple</td>\n",
       "      <td>MacBook Pro</td>\n",
       "      <td>Ultrabook</td>\n",
       "      <td>13.3</td>\n",
       "      <td>8</td>\n",
       "      <td>256GB SSD</td>\n",
       "      <td>Intel Iris Plus Graphics 650</td>\n",
       "      <td>macOS</td>\n",
       "      <td>1.37</td>\n",
       "      <td>1803.60</td>\n",
       "      <td>1600</td>\n",
       "      <td>IPS Panel Retina Display</td>\n",
       "      <td>2560</td>\n",
       "      <td>Intel Core i5</td>\n",
       "      <td>3.1</td>\n",
       "    </tr>\n",
       "  </tbody>\n",
       "</table>\n",
       "</div>"
      ],
      "text/plain": [
       "  Company      Product   TypeName  Inches  Ram               Memory  \\\n",
       "0   Apple  MacBook Pro  Ultrabook    13.3    8            128GB SSD   \n",
       "1   Apple  Macbook Air  Ultrabook    13.3    8  128GB Flash Storage   \n",
       "2      HP       250 G6   Notebook    15.6    8            256GB SSD   \n",
       "3   Apple  MacBook Pro  Ultrabook    15.4   16            512GB SSD   \n",
       "4   Apple  MacBook Pro  Ultrabook    13.3    8            256GB SSD   \n",
       "\n",
       "                            Gpu  OpSys  Weight  Price_euros  \\\n",
       "0  Intel Iris Plus Graphics 640  macOS    1.37      1339.69   \n",
       "1        Intel HD Graphics 6000  macOS    1.34       898.94   \n",
       "2         Intel HD Graphics 620  No OS    1.86       575.00   \n",
       "3            AMD Radeon Pro 455  macOS    1.83      2537.45   \n",
       "4  Intel Iris Plus Graphics 650  macOS    1.37      1803.60   \n",
       "\n",
       "   Screen_Resoluton_Height             Screen_Display  Screen_Resoluton_Width  \\\n",
       "0                     1600  IPS Panel Retina Display                     2560   \n",
       "1                      900                                               1440   \n",
       "2                     1080                   Full HD                     1920   \n",
       "3                     1800  IPS Panel Retina Display                     2880   \n",
       "4                     1600  IPS Panel Retina Display                     2560   \n",
       "\n",
       "              Cpu_Core  Cpu_Processor_Speed_GHz  \n",
       "0        Intel Core i5                      2.3  \n",
       "1        Intel Core i5                      1.8  \n",
       "2  Intel Core i5 7200U                      2.5  \n",
       "3        Intel Core i7                      2.7  \n",
       "4        Intel Core i5                      3.1  "
      ]
     },
     "execution_count": 37,
     "metadata": {},
     "output_type": "execute_result"
    }
   ],
   "source": [
    "df.head()"
   ]
  },
  {
   "cell_type": "markdown",
   "id": "89166abc",
   "metadata": {},
   "source": [
    "# Memory column Handeling"
   ]
  },
  {
   "cell_type": "code",
   "execution_count": 38,
   "id": "ced299b6",
   "metadata": {},
   "outputs": [
    {
     "data": {
      "text/plain": [
       "0                 128GB SSD\n",
       "1       128GB Flash Storage\n",
       "2                 256GB SSD\n",
       "3                 512GB SSD\n",
       "4                 256GB SSD\n",
       "               ...         \n",
       "1298              128GB SSD\n",
       "1299              512GB SSD\n",
       "1300     64GB Flash Storage\n",
       "1301                1TB HDD\n",
       "1302              500GB HDD\n",
       "Name: Memory, Length: 1303, dtype: object"
      ]
     },
     "execution_count": 38,
     "metadata": {},
     "output_type": "execute_result"
    }
   ],
   "source": [
    "df['Memory']"
   ]
  },
  {
   "cell_type": "code",
   "execution_count": 39,
   "id": "ec5d5d09",
   "metadata": {},
   "outputs": [],
   "source": [
    "df[['Memory(storage_amount)','Memory(storage_device)']] = df['Memory'].str.split(\" \", n=1, expand=True)"
   ]
  },
  {
   "cell_type": "code",
   "execution_count": 40,
   "id": "de2a00ce",
   "metadata": {},
   "outputs": [
    {
     "name": "stdout",
     "output_type": "stream",
     "text": [
      "<class 'pandas.core.frame.DataFrame'>\n",
      "RangeIndex: 1303 entries, 0 to 1302\n",
      "Data columns (total 17 columns):\n",
      " #   Column                   Non-Null Count  Dtype  \n",
      "---  ------                   --------------  -----  \n",
      " 0   Company                  1303 non-null   object \n",
      " 1   Product                  1303 non-null   object \n",
      " 2   TypeName                 1303 non-null   object \n",
      " 3   Inches                   1303 non-null   float64\n",
      " 4   Ram                      1303 non-null   int32  \n",
      " 5   Memory                   1303 non-null   object \n",
      " 6   Gpu                      1303 non-null   object \n",
      " 7   OpSys                    1303 non-null   object \n",
      " 8   Weight                   1303 non-null   float64\n",
      " 9   Price_euros              1303 non-null   float64\n",
      " 10  Screen_Resoluton_Height  1303 non-null   int64  \n",
      " 11  Screen_Display           1303 non-null   object \n",
      " 12  Screen_Resoluton_Width   1303 non-null   int64  \n",
      " 13  Cpu_Core                 1303 non-null   object \n",
      " 14  Cpu_Processor_Speed_GHz  1303 non-null   float64\n",
      " 15  Memory(storage_amount)   1303 non-null   object \n",
      " 16  Memory(storage_device)   1303 non-null   object \n",
      "dtypes: float64(4), int32(1), int64(2), object(10)\n",
      "memory usage: 168.1+ KB\n"
     ]
    }
   ],
   "source": [
    "df.info()"
   ]
  },
  {
   "cell_type": "code",
   "execution_count": 41,
   "id": "df0ac9c7",
   "metadata": {},
   "outputs": [
    {
     "data": {
      "text/html": [
       "<div>\n",
       "<style scoped>\n",
       "    .dataframe tbody tr th:only-of-type {\n",
       "        vertical-align: middle;\n",
       "    }\n",
       "\n",
       "    .dataframe tbody tr th {\n",
       "        vertical-align: top;\n",
       "    }\n",
       "\n",
       "    .dataframe thead th {\n",
       "        text-align: right;\n",
       "    }\n",
       "</style>\n",
       "<table border=\"1\" class=\"dataframe\">\n",
       "  <thead>\n",
       "    <tr style=\"text-align: right;\">\n",
       "      <th></th>\n",
       "      <th>Company</th>\n",
       "      <th>Product</th>\n",
       "      <th>TypeName</th>\n",
       "      <th>Inches</th>\n",
       "      <th>Ram</th>\n",
       "      <th>Memory</th>\n",
       "      <th>Gpu</th>\n",
       "      <th>OpSys</th>\n",
       "      <th>Weight</th>\n",
       "      <th>Price_euros</th>\n",
       "      <th>Screen_Resoluton_Height</th>\n",
       "      <th>Screen_Display</th>\n",
       "      <th>Screen_Resoluton_Width</th>\n",
       "      <th>Cpu_Core</th>\n",
       "      <th>Cpu_Processor_Speed_GHz</th>\n",
       "      <th>Memory(storage_amount)</th>\n",
       "      <th>Memory(storage_device)</th>\n",
       "    </tr>\n",
       "  </thead>\n",
       "  <tbody>\n",
       "    <tr>\n",
       "      <th>0</th>\n",
       "      <td>Apple</td>\n",
       "      <td>MacBook Pro</td>\n",
       "      <td>Ultrabook</td>\n",
       "      <td>13.3</td>\n",
       "      <td>8</td>\n",
       "      <td>128GB SSD</td>\n",
       "      <td>Intel Iris Plus Graphics 640</td>\n",
       "      <td>macOS</td>\n",
       "      <td>1.37</td>\n",
       "      <td>1339.69</td>\n",
       "      <td>1600</td>\n",
       "      <td>IPS Panel Retina Display</td>\n",
       "      <td>2560</td>\n",
       "      <td>Intel Core i5</td>\n",
       "      <td>2.3</td>\n",
       "      <td>128GB</td>\n",
       "      <td>SSD</td>\n",
       "    </tr>\n",
       "    <tr>\n",
       "      <th>1</th>\n",
       "      <td>Apple</td>\n",
       "      <td>Macbook Air</td>\n",
       "      <td>Ultrabook</td>\n",
       "      <td>13.3</td>\n",
       "      <td>8</td>\n",
       "      <td>128GB Flash Storage</td>\n",
       "      <td>Intel HD Graphics 6000</td>\n",
       "      <td>macOS</td>\n",
       "      <td>1.34</td>\n",
       "      <td>898.94</td>\n",
       "      <td>900</td>\n",
       "      <td></td>\n",
       "      <td>1440</td>\n",
       "      <td>Intel Core i5</td>\n",
       "      <td>1.8</td>\n",
       "      <td>128GB</td>\n",
       "      <td>Flash Storage</td>\n",
       "    </tr>\n",
       "    <tr>\n",
       "      <th>2</th>\n",
       "      <td>HP</td>\n",
       "      <td>250 G6</td>\n",
       "      <td>Notebook</td>\n",
       "      <td>15.6</td>\n",
       "      <td>8</td>\n",
       "      <td>256GB SSD</td>\n",
       "      <td>Intel HD Graphics 620</td>\n",
       "      <td>No OS</td>\n",
       "      <td>1.86</td>\n",
       "      <td>575.00</td>\n",
       "      <td>1080</td>\n",
       "      <td>Full HD</td>\n",
       "      <td>1920</td>\n",
       "      <td>Intel Core i5 7200U</td>\n",
       "      <td>2.5</td>\n",
       "      <td>256GB</td>\n",
       "      <td>SSD</td>\n",
       "    </tr>\n",
       "    <tr>\n",
       "      <th>3</th>\n",
       "      <td>Apple</td>\n",
       "      <td>MacBook Pro</td>\n",
       "      <td>Ultrabook</td>\n",
       "      <td>15.4</td>\n",
       "      <td>16</td>\n",
       "      <td>512GB SSD</td>\n",
       "      <td>AMD Radeon Pro 455</td>\n",
       "      <td>macOS</td>\n",
       "      <td>1.83</td>\n",
       "      <td>2537.45</td>\n",
       "      <td>1800</td>\n",
       "      <td>IPS Panel Retina Display</td>\n",
       "      <td>2880</td>\n",
       "      <td>Intel Core i7</td>\n",
       "      <td>2.7</td>\n",
       "      <td>512GB</td>\n",
       "      <td>SSD</td>\n",
       "    </tr>\n",
       "    <tr>\n",
       "      <th>4</th>\n",
       "      <td>Apple</td>\n",
       "      <td>MacBook Pro</td>\n",
       "      <td>Ultrabook</td>\n",
       "      <td>13.3</td>\n",
       "      <td>8</td>\n",
       "      <td>256GB SSD</td>\n",
       "      <td>Intel Iris Plus Graphics 650</td>\n",
       "      <td>macOS</td>\n",
       "      <td>1.37</td>\n",
       "      <td>1803.60</td>\n",
       "      <td>1600</td>\n",
       "      <td>IPS Panel Retina Display</td>\n",
       "      <td>2560</td>\n",
       "      <td>Intel Core i5</td>\n",
       "      <td>3.1</td>\n",
       "      <td>256GB</td>\n",
       "      <td>SSD</td>\n",
       "    </tr>\n",
       "  </tbody>\n",
       "</table>\n",
       "</div>"
      ],
      "text/plain": [
       "  Company      Product   TypeName  Inches  Ram               Memory  \\\n",
       "0   Apple  MacBook Pro  Ultrabook    13.3    8            128GB SSD   \n",
       "1   Apple  Macbook Air  Ultrabook    13.3    8  128GB Flash Storage   \n",
       "2      HP       250 G6   Notebook    15.6    8            256GB SSD   \n",
       "3   Apple  MacBook Pro  Ultrabook    15.4   16            512GB SSD   \n",
       "4   Apple  MacBook Pro  Ultrabook    13.3    8            256GB SSD   \n",
       "\n",
       "                            Gpu  OpSys  Weight  Price_euros  \\\n",
       "0  Intel Iris Plus Graphics 640  macOS    1.37      1339.69   \n",
       "1        Intel HD Graphics 6000  macOS    1.34       898.94   \n",
       "2         Intel HD Graphics 620  No OS    1.86       575.00   \n",
       "3            AMD Radeon Pro 455  macOS    1.83      2537.45   \n",
       "4  Intel Iris Plus Graphics 650  macOS    1.37      1803.60   \n",
       "\n",
       "   Screen_Resoluton_Height             Screen_Display  Screen_Resoluton_Width  \\\n",
       "0                     1600  IPS Panel Retina Display                     2560   \n",
       "1                      900                                               1440   \n",
       "2                     1080                   Full HD                     1920   \n",
       "3                     1800  IPS Panel Retina Display                     2880   \n",
       "4                     1600  IPS Panel Retina Display                     2560   \n",
       "\n",
       "              Cpu_Core  Cpu_Processor_Speed_GHz Memory(storage_amount)  \\\n",
       "0        Intel Core i5                      2.3                  128GB   \n",
       "1        Intel Core i5                      1.8                  128GB   \n",
       "2  Intel Core i5 7200U                      2.5                  256GB   \n",
       "3        Intel Core i7                      2.7                  512GB   \n",
       "4        Intel Core i5                      3.1                  256GB   \n",
       "\n",
       "  Memory(storage_device)  \n",
       "0                    SSD  \n",
       "1          Flash Storage  \n",
       "2                    SSD  \n",
       "3                    SSD  \n",
       "4                    SSD  "
      ]
     },
     "execution_count": 41,
     "metadata": {},
     "output_type": "execute_result"
    }
   ],
   "source": [
    "df.head()"
   ]
  },
  {
   "cell_type": "code",
   "execution_count": 42,
   "id": "edef53de",
   "metadata": {},
   "outputs": [],
   "source": [
    "df[\"Memory(storage_amount)_GB\"] = df[\"Memory(storage_amount)\"].str.replace(\"GB||TB\",\"\")\n",
    "df[\"Memory(storage_amount)_GB\"] = pd.to_numeric(df[\"Memory(storage_amount)_GB\"])"
   ]
  },
  {
   "cell_type": "code",
   "execution_count": 43,
   "id": "57fc7a46",
   "metadata": {},
   "outputs": [
    {
     "data": {
      "text/html": [
       "<div>\n",
       "<style scoped>\n",
       "    .dataframe tbody tr th:only-of-type {\n",
       "        vertical-align: middle;\n",
       "    }\n",
       "\n",
       "    .dataframe tbody tr th {\n",
       "        vertical-align: top;\n",
       "    }\n",
       "\n",
       "    .dataframe thead th {\n",
       "        text-align: right;\n",
       "    }\n",
       "</style>\n",
       "<table border=\"1\" class=\"dataframe\">\n",
       "  <thead>\n",
       "    <tr style=\"text-align: right;\">\n",
       "      <th></th>\n",
       "      <th>Company</th>\n",
       "      <th>Product</th>\n",
       "      <th>TypeName</th>\n",
       "      <th>Inches</th>\n",
       "      <th>Ram</th>\n",
       "      <th>Memory</th>\n",
       "      <th>Gpu</th>\n",
       "      <th>OpSys</th>\n",
       "      <th>Weight</th>\n",
       "      <th>Price_euros</th>\n",
       "      <th>Screen_Resoluton_Height</th>\n",
       "      <th>Screen_Display</th>\n",
       "      <th>Screen_Resoluton_Width</th>\n",
       "      <th>Cpu_Core</th>\n",
       "      <th>Cpu_Processor_Speed_GHz</th>\n",
       "      <th>Memory(storage_amount)</th>\n",
       "      <th>Memory(storage_device)</th>\n",
       "      <th>Memory(storage_amount)_GB</th>\n",
       "    </tr>\n",
       "  </thead>\n",
       "  <tbody>\n",
       "    <tr>\n",
       "      <th>0</th>\n",
       "      <td>Apple</td>\n",
       "      <td>MacBook Pro</td>\n",
       "      <td>Ultrabook</td>\n",
       "      <td>13.3</td>\n",
       "      <td>8</td>\n",
       "      <td>128GB SSD</td>\n",
       "      <td>Intel Iris Plus Graphics 640</td>\n",
       "      <td>macOS</td>\n",
       "      <td>1.37</td>\n",
       "      <td>1339.69</td>\n",
       "      <td>1600</td>\n",
       "      <td>IPS Panel Retina Display</td>\n",
       "      <td>2560</td>\n",
       "      <td>Intel Core i5</td>\n",
       "      <td>2.3</td>\n",
       "      <td>128GB</td>\n",
       "      <td>SSD</td>\n",
       "      <td>128.0</td>\n",
       "    </tr>\n",
       "    <tr>\n",
       "      <th>1</th>\n",
       "      <td>Apple</td>\n",
       "      <td>Macbook Air</td>\n",
       "      <td>Ultrabook</td>\n",
       "      <td>13.3</td>\n",
       "      <td>8</td>\n",
       "      <td>128GB Flash Storage</td>\n",
       "      <td>Intel HD Graphics 6000</td>\n",
       "      <td>macOS</td>\n",
       "      <td>1.34</td>\n",
       "      <td>898.94</td>\n",
       "      <td>900</td>\n",
       "      <td></td>\n",
       "      <td>1440</td>\n",
       "      <td>Intel Core i5</td>\n",
       "      <td>1.8</td>\n",
       "      <td>128GB</td>\n",
       "      <td>Flash Storage</td>\n",
       "      <td>128.0</td>\n",
       "    </tr>\n",
       "    <tr>\n",
       "      <th>2</th>\n",
       "      <td>HP</td>\n",
       "      <td>250 G6</td>\n",
       "      <td>Notebook</td>\n",
       "      <td>15.6</td>\n",
       "      <td>8</td>\n",
       "      <td>256GB SSD</td>\n",
       "      <td>Intel HD Graphics 620</td>\n",
       "      <td>No OS</td>\n",
       "      <td>1.86</td>\n",
       "      <td>575.00</td>\n",
       "      <td>1080</td>\n",
       "      <td>Full HD</td>\n",
       "      <td>1920</td>\n",
       "      <td>Intel Core i5 7200U</td>\n",
       "      <td>2.5</td>\n",
       "      <td>256GB</td>\n",
       "      <td>SSD</td>\n",
       "      <td>256.0</td>\n",
       "    </tr>\n",
       "    <tr>\n",
       "      <th>3</th>\n",
       "      <td>Apple</td>\n",
       "      <td>MacBook Pro</td>\n",
       "      <td>Ultrabook</td>\n",
       "      <td>15.4</td>\n",
       "      <td>16</td>\n",
       "      <td>512GB SSD</td>\n",
       "      <td>AMD Radeon Pro 455</td>\n",
       "      <td>macOS</td>\n",
       "      <td>1.83</td>\n",
       "      <td>2537.45</td>\n",
       "      <td>1800</td>\n",
       "      <td>IPS Panel Retina Display</td>\n",
       "      <td>2880</td>\n",
       "      <td>Intel Core i7</td>\n",
       "      <td>2.7</td>\n",
       "      <td>512GB</td>\n",
       "      <td>SSD</td>\n",
       "      <td>512.0</td>\n",
       "    </tr>\n",
       "    <tr>\n",
       "      <th>4</th>\n",
       "      <td>Apple</td>\n",
       "      <td>MacBook Pro</td>\n",
       "      <td>Ultrabook</td>\n",
       "      <td>13.3</td>\n",
       "      <td>8</td>\n",
       "      <td>256GB SSD</td>\n",
       "      <td>Intel Iris Plus Graphics 650</td>\n",
       "      <td>macOS</td>\n",
       "      <td>1.37</td>\n",
       "      <td>1803.60</td>\n",
       "      <td>1600</td>\n",
       "      <td>IPS Panel Retina Display</td>\n",
       "      <td>2560</td>\n",
       "      <td>Intel Core i5</td>\n",
       "      <td>3.1</td>\n",
       "      <td>256GB</td>\n",
       "      <td>SSD</td>\n",
       "      <td>256.0</td>\n",
       "    </tr>\n",
       "  </tbody>\n",
       "</table>\n",
       "</div>"
      ],
      "text/plain": [
       "  Company      Product   TypeName  Inches  Ram               Memory  \\\n",
       "0   Apple  MacBook Pro  Ultrabook    13.3    8            128GB SSD   \n",
       "1   Apple  Macbook Air  Ultrabook    13.3    8  128GB Flash Storage   \n",
       "2      HP       250 G6   Notebook    15.6    8            256GB SSD   \n",
       "3   Apple  MacBook Pro  Ultrabook    15.4   16            512GB SSD   \n",
       "4   Apple  MacBook Pro  Ultrabook    13.3    8            256GB SSD   \n",
       "\n",
       "                            Gpu  OpSys  Weight  Price_euros  \\\n",
       "0  Intel Iris Plus Graphics 640  macOS    1.37      1339.69   \n",
       "1        Intel HD Graphics 6000  macOS    1.34       898.94   \n",
       "2         Intel HD Graphics 620  No OS    1.86       575.00   \n",
       "3            AMD Radeon Pro 455  macOS    1.83      2537.45   \n",
       "4  Intel Iris Plus Graphics 650  macOS    1.37      1803.60   \n",
       "\n",
       "   Screen_Resoluton_Height             Screen_Display  Screen_Resoluton_Width  \\\n",
       "0                     1600  IPS Panel Retina Display                     2560   \n",
       "1                      900                                               1440   \n",
       "2                     1080                   Full HD                     1920   \n",
       "3                     1800  IPS Panel Retina Display                     2880   \n",
       "4                     1600  IPS Panel Retina Display                     2560   \n",
       "\n",
       "              Cpu_Core  Cpu_Processor_Speed_GHz Memory(storage_amount)  \\\n",
       "0        Intel Core i5                      2.3                  128GB   \n",
       "1        Intel Core i5                      1.8                  128GB   \n",
       "2  Intel Core i5 7200U                      2.5                  256GB   \n",
       "3        Intel Core i7                      2.7                  512GB   \n",
       "4        Intel Core i5                      3.1                  256GB   \n",
       "\n",
       "  Memory(storage_device)  Memory(storage_amount)_GB  \n",
       "0                    SSD                      128.0  \n",
       "1          Flash Storage                      128.0  \n",
       "2                    SSD                      256.0  \n",
       "3                    SSD                      512.0  \n",
       "4                    SSD                      256.0  "
      ]
     },
     "execution_count": 43,
     "metadata": {},
     "output_type": "execute_result"
    }
   ],
   "source": [
    "df.head()"
   ]
  },
  {
   "cell_type": "code",
   "execution_count": 44,
   "id": "82f75a1b",
   "metadata": {},
   "outputs": [],
   "source": [
    "df.drop('Memory(storage_amount)',axis=1,inplace=True)"
   ]
  },
  {
   "cell_type": "code",
   "execution_count": 45,
   "id": "59b51d4d",
   "metadata": {},
   "outputs": [],
   "source": [
    "df.drop('Memory',axis=1,inplace=True)"
   ]
  },
  {
   "cell_type": "code",
   "execution_count": 46,
   "id": "ebfcd9e2",
   "metadata": {},
   "outputs": [
    {
     "name": "stdout",
     "output_type": "stream",
     "text": [
      "<class 'pandas.core.frame.DataFrame'>\n",
      "RangeIndex: 1303 entries, 0 to 1302\n",
      "Data columns (total 16 columns):\n",
      " #   Column                     Non-Null Count  Dtype  \n",
      "---  ------                     --------------  -----  \n",
      " 0   Company                    1303 non-null   object \n",
      " 1   Product                    1303 non-null   object \n",
      " 2   TypeName                   1303 non-null   object \n",
      " 3   Inches                     1303 non-null   float64\n",
      " 4   Ram                        1303 non-null   int32  \n",
      " 5   Gpu                        1303 non-null   object \n",
      " 6   OpSys                      1303 non-null   object \n",
      " 7   Weight                     1303 non-null   float64\n",
      " 8   Price_euros                1303 non-null   float64\n",
      " 9   Screen_Resoluton_Height    1303 non-null   int64  \n",
      " 10  Screen_Display             1303 non-null   object \n",
      " 11  Screen_Resoluton_Width     1303 non-null   int64  \n",
      " 12  Cpu_Core                   1303 non-null   object \n",
      " 13  Cpu_Processor_Speed_GHz    1303 non-null   float64\n",
      " 14  Memory(storage_device)     1303 non-null   object \n",
      " 15  Memory(storage_amount)_GB  1303 non-null   float64\n",
      "dtypes: float64(5), int32(1), int64(2), object(8)\n",
      "memory usage: 157.9+ KB\n"
     ]
    }
   ],
   "source": [
    "df.info()"
   ]
  },
  {
   "cell_type": "code",
   "execution_count": 47,
   "id": "297a64be",
   "metadata": {},
   "outputs": [],
   "source": [
    "# y akkhan a Price_euros"
   ]
  },
  {
   "cell_type": "markdown",
   "id": "136b8034",
   "metadata": {},
   "source": [
    "# more preprocessing"
   ]
  },
  {
   "cell_type": "code",
   "execution_count": 48,
   "id": "a291477a",
   "metadata": {},
   "outputs": [],
   "source": [
    "#drop duplicates\n",
    "df.drop_duplicates(inplace=True)"
   ]
  },
  {
   "cell_type": "code",
   "execution_count": 49,
   "id": "ed853649",
   "metadata": {},
   "outputs": [
    {
     "data": {
      "text/plain": [
       "(1275, 16)"
      ]
     },
     "execution_count": 49,
     "metadata": {},
     "output_type": "execute_result"
    }
   ],
   "source": [
    "df.shape"
   ]
  },
  {
   "cell_type": "code",
   "execution_count": 50,
   "id": "d50a1b7f",
   "metadata": {},
   "outputs": [
    {
     "name": "stdout",
     "output_type": "stream",
     "text": [
      "<class 'pandas.core.frame.DataFrame'>\n",
      "Int64Index: 1275 entries, 0 to 1274\n",
      "Data columns (total 16 columns):\n",
      " #   Column                     Non-Null Count  Dtype  \n",
      "---  ------                     --------------  -----  \n",
      " 0   Company                    1275 non-null   object \n",
      " 1   Product                    1275 non-null   object \n",
      " 2   TypeName                   1275 non-null   object \n",
      " 3   Inches                     1275 non-null   float64\n",
      " 4   Ram                        1275 non-null   int32  \n",
      " 5   Gpu                        1275 non-null   object \n",
      " 6   OpSys                      1275 non-null   object \n",
      " 7   Weight                     1275 non-null   float64\n",
      " 8   Price_euros                1275 non-null   float64\n",
      " 9   Screen_Resoluton_Height    1275 non-null   int64  \n",
      " 10  Screen_Display             1275 non-null   object \n",
      " 11  Screen_Resoluton_Width     1275 non-null   int64  \n",
      " 12  Cpu_Core                   1275 non-null   object \n",
      " 13  Cpu_Processor_Speed_GHz    1275 non-null   float64\n",
      " 14  Memory(storage_device)     1275 non-null   object \n",
      " 15  Memory(storage_amount)_GB  1275 non-null   float64\n",
      "dtypes: float64(5), int32(1), int64(2), object(8)\n",
      "memory usage: 164.4+ KB\n"
     ]
    }
   ],
   "source": [
    "df.info()"
   ]
  },
  {
   "cell_type": "markdown",
   "id": "5b0380ee",
   "metadata": {},
   "source": [
    "# Scatter Plot"
   ]
  },
  {
   "cell_type": "code",
   "execution_count": 51,
   "id": "9e3d6342",
   "metadata": {},
   "outputs": [
    {
     "name": "stdout",
     "output_type": "stream",
     "text": [
      "correlation  0.7402865271622697\n",
      "\n",
      "\n"
     ]
    },
    {
     "data": {
      "image/png": "[encoded data removed]",
      "text/plain": [
       "<Figure size 432x288 with 1 Axes>"
      ]
     },
     "metadata": {
      "needs_background": "light"
     },
     "output_type": "display_data"
    }
   ],
   "source": [
    "p_correlation = df['Ram'].corr(df['Price_euros'])\n",
    "print('correlation ',p_correlation)\n",
    "print('\\n')\n",
    "plt.scatter(x=df['Ram'],y=df['Price_euros']);\n",
    "plt.xlabel('Ram')\n",
    "plt.ylabel('Price_euros') \n",
    "plt.title('price vs Ram');"
   ]
  },
  {
   "cell_type": "code",
   "execution_count": 52,
   "id": "c8253778",
   "metadata": {},
   "outputs": [
    {
     "name": "stdout",
     "output_type": "stream",
     "text": [
      "correlation  0.2118834449220652\n",
      "\n",
      "\n"
     ]
    },
    {
     "data": {
      "image/png": "[encoded data removed]",
      "text/plain": [
       "<Figure size 432x288 with 1 Axes>"
      ]
     },
     "metadata": {
      "needs_background": "light"
     },
     "output_type": "display_data"
    }
   ],
   "source": [
    "p_correlation = df['Weight'].corr(df['Price_euros'])\n",
    "print('correlation ',p_correlation)\n",
    "print('\\n')\n",
    "plt.scatter(x=df['Weight'],y=df['Price_euros']);\n",
    "plt.xlabel('Weight')\n",
    "plt.ylabel('Price_euros') \n",
    "plt.title('price vs Weight');"
   ]
  },
  {
   "cell_type": "markdown",
   "id": "285f1796",
   "metadata": {},
   "source": [
    "# X,Y separate"
   ]
  },
  {
   "cell_type": "code",
   "execution_count": 53,
   "id": "a6709a51",
   "metadata": {},
   "outputs": [],
   "source": [
    "X = df.drop('Price_euros',axis=1)"
   ]
  },
  {
   "cell_type": "code",
   "execution_count": 54,
   "id": "cd706370",
   "metadata": {},
   "outputs": [],
   "source": [
    "Y = df[['Price_euros']]"
   ]
  },
  {
   "cell_type": "code",
   "execution_count": 55,
   "id": "d5dfef1d",
   "metadata": {},
   "outputs": [
    {
     "data": {
      "text/plain": [
       "((1275, 15), (1275, 1))"
      ]
     },
     "execution_count": 55,
     "metadata": {},
     "output_type": "execute_result"
    }
   ],
   "source": [
    "X.shape,Y.shape"
   ]
  },
  {
   "cell_type": "markdown",
   "id": "bf431afa",
   "metadata": {},
   "source": [
    "# Encoding"
   ]
  },
  {
   "cell_type": "code",
   "execution_count": 56,
   "id": "151f7da9",
   "metadata": {},
   "outputs": [],
   "source": [
    "from sklearn.preprocessing import LabelEncoder"
   ]
  },
  {
   "cell_type": "code",
   "execution_count": 57,
   "id": "89a0bc26",
   "metadata": {},
   "outputs": [],
   "source": [
    "le = LabelEncoder()"
   ]
  },
  {
   "cell_type": "code",
   "execution_count": 58,
   "id": "4bd17dd5",
   "metadata": {},
   "outputs": [],
   "source": [
    "from pandas.core.dtypes.common import is_numeric_dtype"
   ]
  },
  {
   "cell_type": "code",
   "execution_count": 59,
   "id": "28d832a6",
   "metadata": {},
   "outputs": [],
   "source": [
    "for column in X.columns:\n",
    "    if is_numeric_dtype(X[column]):\n",
    "        continue\n",
    "    X[column] = le.fit_transform(X[column])"
   ]
  },
  {
   "cell_type": "code",
   "execution_count": 60,
   "id": "68450985",
   "metadata": {},
   "outputs": [
    {
     "data": {
      "text/html": [
       "<div>\n",
       "<style scoped>\n",
       "    .dataframe tbody tr th:only-of-type {\n",
       "        vertical-align: middle;\n",
       "    }\n",
       "\n",
       "    .dataframe tbody tr th {\n",
       "        vertical-align: top;\n",
       "    }\n",
       "\n",
       "    .dataframe thead th {\n",
       "        text-align: right;\n",
       "    }\n",
       "</style>\n",
       "<table border=\"1\" class=\"dataframe\">\n",
       "  <thead>\n",
       "    <tr style=\"text-align: right;\">\n",
       "      <th></th>\n",
       "      <th>Company</th>\n",
       "      <th>Product</th>\n",
       "      <th>TypeName</th>\n",
       "      <th>Inches</th>\n",
       "      <th>Ram</th>\n",
       "      <th>Gpu</th>\n",
       "      <th>OpSys</th>\n",
       "      <th>Weight</th>\n",
       "      <th>Screen_Resoluton_Height</th>\n",
       "      <th>Screen_Display</th>\n",
       "      <th>Screen_Resoluton_Width</th>\n",
       "      <th>Cpu_Core</th>\n",
       "      <th>Cpu_Processor_Speed_GHz</th>\n",
       "      <th>Memory(storage_device)</th>\n",
       "      <th>Memory(storage_amount)_GB</th>\n",
       "    </tr>\n",
       "  </thead>\n",
       "  <tbody>\n",
       "    <tr>\n",
       "      <th>0</th>\n",
       "      <td>1</td>\n",
       "      <td>300</td>\n",
       "      <td>4</td>\n",
       "      <td>13.3</td>\n",
       "      <td>8</td>\n",
       "      <td>56</td>\n",
       "      <td>8</td>\n",
       "      <td>1.37</td>\n",
       "      <td>1600</td>\n",
       "      <td>12</td>\n",
       "      <td>2560</td>\n",
       "      <td>51</td>\n",
       "      <td>2.3</td>\n",
       "      <td>5</td>\n",
       "      <td>128.0</td>\n",
       "    </tr>\n",
       "    <tr>\n",
       "      <th>1</th>\n",
       "      <td>1</td>\n",
       "      <td>301</td>\n",
       "      <td>4</td>\n",
       "      <td>13.3</td>\n",
       "      <td>8</td>\n",
       "      <td>50</td>\n",
       "      <td>8</td>\n",
       "      <td>1.34</td>\n",
       "      <td>900</td>\n",
       "      <td>0</td>\n",
       "      <td>1440</td>\n",
       "      <td>51</td>\n",
       "      <td>1.8</td>\n",
       "      <td>0</td>\n",
       "      <td>128.0</td>\n",
       "    </tr>\n",
       "    <tr>\n",
       "      <th>2</th>\n",
       "      <td>7</td>\n",
       "      <td>50</td>\n",
       "      <td>3</td>\n",
       "      <td>15.6</td>\n",
       "      <td>8</td>\n",
       "      <td>52</td>\n",
       "      <td>4</td>\n",
       "      <td>1.86</td>\n",
       "      <td>1080</td>\n",
       "      <td>3</td>\n",
       "      <td>1920</td>\n",
       "      <td>57</td>\n",
       "      <td>2.5</td>\n",
       "      <td>5</td>\n",
       "      <td>256.0</td>\n",
       "    </tr>\n",
       "    <tr>\n",
       "      <th>3</th>\n",
       "      <td>1</td>\n",
       "      <td>300</td>\n",
       "      <td>4</td>\n",
       "      <td>15.4</td>\n",
       "      <td>16</td>\n",
       "      <td>8</td>\n",
       "      <td>8</td>\n",
       "      <td>1.83</td>\n",
       "      <td>1800</td>\n",
       "      <td>12</td>\n",
       "      <td>2880</td>\n",
       "      <td>65</td>\n",
       "      <td>2.7</td>\n",
       "      <td>5</td>\n",
       "      <td>512.0</td>\n",
       "    </tr>\n",
       "    <tr>\n",
       "      <th>4</th>\n",
       "      <td>1</td>\n",
       "      <td>300</td>\n",
       "      <td>4</td>\n",
       "      <td>13.3</td>\n",
       "      <td>8</td>\n",
       "      <td>57</td>\n",
       "      <td>8</td>\n",
       "      <td>1.37</td>\n",
       "      <td>1600</td>\n",
       "      <td>12</td>\n",
       "      <td>2560</td>\n",
       "      <td>51</td>\n",
       "      <td>3.1</td>\n",
       "      <td>5</td>\n",
       "      <td>256.0</td>\n",
       "    </tr>\n",
       "  </tbody>\n",
       "</table>\n",
       "</div>"
      ],
      "text/plain": [
       "   Company  Product  TypeName  Inches  Ram  Gpu  OpSys  Weight  \\\n",
       "0        1      300         4    13.3    8   56      8    1.37   \n",
       "1        1      301         4    13.3    8   50      8    1.34   \n",
       "2        7       50         3    15.6    8   52      4    1.86   \n",
       "3        1      300         4    15.4   16    8      8    1.83   \n",
       "4        1      300         4    13.3    8   57      8    1.37   \n",
       "\n",
       "   Screen_Resoluton_Height  Screen_Display  Screen_Resoluton_Width  Cpu_Core  \\\n",
       "0                     1600              12                    2560        51   \n",
       "1                      900               0                    1440        51   \n",
       "2                     1080               3                    1920        57   \n",
       "3                     1800              12                    2880        65   \n",
       "4                     1600              12                    2560        51   \n",
       "\n",
       "   Cpu_Processor_Speed_GHz  Memory(storage_device)  Memory(storage_amount)_GB  \n",
       "0                      2.3                       5                      128.0  \n",
       "1                      1.8                       0                      128.0  \n",
       "2                      2.5                       5                      256.0  \n",
       "3                      2.7                       5                      512.0  \n",
       "4                      3.1                       5                      256.0  "
      ]
     },
     "execution_count": 60,
     "metadata": {},
     "output_type": "execute_result"
    }
   ],
   "source": [
    "X.head()"
   ]
  },
  {
   "cell_type": "code",
   "execution_count": 61,
   "id": "bdbf6d1b",
   "metadata": {},
   "outputs": [
    {
     "data": {
      "image/png": "[encoded data removed]",
      "text/plain": [
       "<Figure size 432x288 with 1 Axes>"
      ]
     },
     "metadata": {
      "needs_background": "light"
     },
     "output_type": "display_data"
    }
   ],
   "source": [
    "ax=sns.histplot(df['Price_euros'],kde=True)\n",
    "ax.set_xlabel(\"Price\")\n",
    "ax.set_ylabel(\"Density of Price\")\n",
    "ax.set_title(\"Check Density of Price\")\n",
    "plt.show()"
   ]
  },
  {
   "cell_type": "code",
   "execution_count": 62,
   "id": "2c5105b6",
   "metadata": {},
   "outputs": [
    {
     "data": {
      "text/plain": [
       "<AxesSubplot:>"
      ]
     },
     "execution_count": 62,
     "metadata": {},
     "output_type": "execute_result"
    },
    {
     "data": {
      "image/png": "[encoded data removed]",
      "text/plain": [
       "<Figure size 1800x720 with 1 Axes>"
      ]
     },
     "metadata": {
      "needs_background": "light"
     },
     "output_type": "display_data"
    }
   ],
   "source": [
    "df.plot.box(figsize=(25,10), rot=90)"
   ]
  },
  {
   "cell_type": "markdown",
   "id": "54da6cad",
   "metadata": {},
   "source": [
    "# Freature Engineering\n",
    "## Normalization"
   ]
  },
  {
   "cell_type": "code",
   "execution_count": 63,
   "id": "dff83a23",
   "metadata": {},
   "outputs": [],
   "source": [
    "from sklearn.preprocessing import MinMaxScaler"
   ]
  },
  {
   "cell_type": "code",
   "execution_count": 64,
   "id": "3ea8a23f",
   "metadata": {},
   "outputs": [],
   "source": [
    "minmax = MinMaxScaler(feature_range=(0,1)) # feature_range=(0, 1)"
   ]
  },
  {
   "cell_type": "code",
   "execution_count": 65,
   "id": "6ea6a9ab",
   "metadata": {},
   "outputs": [
    {
     "data": {
      "text/plain": [
       "(15, 1)"
      ]
     },
     "execution_count": 65,
     "metadata": {},
     "output_type": "execute_result"
    }
   ],
   "source": [
    "len(X.columns), len(Y.columns)"
   ]
  },
  {
   "cell_type": "code",
   "execution_count": 66,
   "id": "ab9c1036",
   "metadata": {},
   "outputs": [],
   "source": [
    "for column in X.columns:\n",
    "    \n",
    "    X[column] = minmax.fit_transform(X[[column]])"
   ]
  },
  {
   "cell_type": "code",
   "execution_count": 67,
   "id": "3033e207",
   "metadata": {},
   "outputs": [
    {
     "data": {
      "text/html": [
       "<div>\n",
       "<style scoped>\n",
       "    .dataframe tbody tr th:only-of-type {\n",
       "        vertical-align: middle;\n",
       "    }\n",
       "\n",
       "    .dataframe tbody tr th {\n",
       "        vertical-align: top;\n",
       "    }\n",
       "\n",
       "    .dataframe thead th {\n",
       "        text-align: right;\n",
       "    }\n",
       "</style>\n",
       "<table border=\"1\" class=\"dataframe\">\n",
       "  <thead>\n",
       "    <tr style=\"text-align: right;\">\n",
       "      <th></th>\n",
       "      <th>Company</th>\n",
       "      <th>Product</th>\n",
       "      <th>TypeName</th>\n",
       "      <th>Inches</th>\n",
       "      <th>Ram</th>\n",
       "      <th>Gpu</th>\n",
       "      <th>OpSys</th>\n",
       "      <th>Weight</th>\n",
       "      <th>Screen_Resoluton_Height</th>\n",
       "      <th>Screen_Display</th>\n",
       "      <th>Screen_Resoluton_Width</th>\n",
       "      <th>Cpu_Core</th>\n",
       "      <th>Cpu_Processor_Speed_GHz</th>\n",
       "      <th>Memory(storage_device)</th>\n",
       "      <th>Memory(storage_amount)_GB</th>\n",
       "    </tr>\n",
       "  </thead>\n",
       "  <tbody>\n",
       "    <tr>\n",
       "      <th>0</th>\n",
       "      <td>0.055556</td>\n",
       "      <td>0.486224</td>\n",
       "      <td>0.8</td>\n",
       "      <td>0.385542</td>\n",
       "      <td>0.096774</td>\n",
       "      <td>0.533333</td>\n",
       "      <td>1.0</td>\n",
       "      <td>0.169576</td>\n",
       "      <td>0.597701</td>\n",
       "      <td>0.60</td>\n",
       "      <td>0.482619</td>\n",
       "      <td>0.554348</td>\n",
       "      <td>0.518519</td>\n",
       "      <td>0.454545</td>\n",
       "      <td>0.248532</td>\n",
       "    </tr>\n",
       "    <tr>\n",
       "      <th>1</th>\n",
       "      <td>0.055556</td>\n",
       "      <td>0.487844</td>\n",
       "      <td>0.8</td>\n",
       "      <td>0.385542</td>\n",
       "      <td>0.096774</td>\n",
       "      <td>0.476190</td>\n",
       "      <td>1.0</td>\n",
       "      <td>0.162095</td>\n",
       "      <td>0.094828</td>\n",
       "      <td>0.00</td>\n",
       "      <td>0.029911</td>\n",
       "      <td>0.554348</td>\n",
       "      <td>0.333333</td>\n",
       "      <td>0.000000</td>\n",
       "      <td>0.248532</td>\n",
       "    </tr>\n",
       "    <tr>\n",
       "      <th>2</th>\n",
       "      <td>0.388889</td>\n",
       "      <td>0.081037</td>\n",
       "      <td>0.6</td>\n",
       "      <td>0.662651</td>\n",
       "      <td>0.096774</td>\n",
       "      <td>0.495238</td>\n",
       "      <td>0.5</td>\n",
       "      <td>0.291771</td>\n",
       "      <td>0.224138</td>\n",
       "      <td>0.15</td>\n",
       "      <td>0.223929</td>\n",
       "      <td>0.619565</td>\n",
       "      <td>0.592593</td>\n",
       "      <td>0.454545</td>\n",
       "      <td>0.499022</td>\n",
       "    </tr>\n",
       "    <tr>\n",
       "      <th>3</th>\n",
       "      <td>0.055556</td>\n",
       "      <td>0.486224</td>\n",
       "      <td>0.8</td>\n",
       "      <td>0.638554</td>\n",
       "      <td>0.225806</td>\n",
       "      <td>0.076190</td>\n",
       "      <td>1.0</td>\n",
       "      <td>0.284289</td>\n",
       "      <td>0.741379</td>\n",
       "      <td>0.60</td>\n",
       "      <td>0.611964</td>\n",
       "      <td>0.706522</td>\n",
       "      <td>0.666667</td>\n",
       "      <td>0.454545</td>\n",
       "      <td>1.000000</td>\n",
       "    </tr>\n",
       "    <tr>\n",
       "      <th>4</th>\n",
       "      <td>0.055556</td>\n",
       "      <td>0.486224</td>\n",
       "      <td>0.8</td>\n",
       "      <td>0.385542</td>\n",
       "      <td>0.096774</td>\n",
       "      <td>0.542857</td>\n",
       "      <td>1.0</td>\n",
       "      <td>0.169576</td>\n",
       "      <td>0.597701</td>\n",
       "      <td>0.60</td>\n",
       "      <td>0.482619</td>\n",
       "      <td>0.554348</td>\n",
       "      <td>0.814815</td>\n",
       "      <td>0.454545</td>\n",
       "      <td>0.499022</td>\n",
       "    </tr>\n",
       "  </tbody>\n",
       "</table>\n",
       "</div>"
      ],
      "text/plain": [
       "    Company   Product  TypeName    Inches       Ram       Gpu  OpSys  \\\n",
       "0  0.055556  0.486224       0.8  0.385542  0.096774  0.533333    1.0   \n",
       "1  0.055556  0.487844       0.8  0.385542  0.096774  0.476190    1.0   \n",
       "2  0.388889  0.081037       0.6  0.662651  0.096774  0.495238    0.5   \n",
       "3  0.055556  0.486224       0.8  0.638554  0.225806  0.076190    1.0   \n",
       "4  0.055556  0.486224       0.8  0.385542  0.096774  0.542857    1.0   \n",
       "\n",
       "     Weight  Screen_Resoluton_Height  Screen_Display  Screen_Resoluton_Width  \\\n",
       "0  0.169576                 0.597701            0.60                0.482619   \n",
       "1  0.162095                 0.094828            0.00                0.029911   \n",
       "2  0.291771                 0.224138            0.15                0.223929   \n",
       "3  0.284289                 0.741379            0.60                0.611964   \n",
       "4  0.169576                 0.597701            0.60                0.482619   \n",
       "\n",
       "   Cpu_Core  Cpu_Processor_Speed_GHz  Memory(storage_device)  \\\n",
       "0  0.554348                 0.518519                0.454545   \n",
       "1  0.554348                 0.333333                0.000000   \n",
       "2  0.619565                 0.592593                0.454545   \n",
       "3  0.706522                 0.666667                0.454545   \n",
       "4  0.554348                 0.814815                0.454545   \n",
       "\n",
       "   Memory(storage_amount)_GB  \n",
       "0                   0.248532  \n",
       "1                   0.248532  \n",
       "2                   0.499022  \n",
       "3                   1.000000  \n",
       "4                   0.499022  "
      ]
     },
     "execution_count": 67,
     "metadata": {},
     "output_type": "execute_result"
    }
   ],
   "source": [
    "X.head()"
   ]
  },
  {
   "cell_type": "code",
   "execution_count": 68,
   "id": "72d608ea",
   "metadata": {},
   "outputs": [
    {
     "data": {
      "text/html": [
       "<div>\n",
       "<style scoped>\n",
       "    .dataframe tbody tr th:only-of-type {\n",
       "        vertical-align: middle;\n",
       "    }\n",
       "\n",
       "    .dataframe tbody tr th {\n",
       "        vertical-align: top;\n",
       "    }\n",
       "\n",
       "    .dataframe thead th {\n",
       "        text-align: right;\n",
       "    }\n",
       "</style>\n",
       "<table border=\"1\" class=\"dataframe\">\n",
       "  <thead>\n",
       "    <tr style=\"text-align: right;\">\n",
       "      <th></th>\n",
       "      <th>Price_euros</th>\n",
       "    </tr>\n",
       "  </thead>\n",
       "  <tbody>\n",
       "    <tr>\n",
       "      <th>0</th>\n",
       "      <td>1339.69</td>\n",
       "    </tr>\n",
       "    <tr>\n",
       "      <th>1</th>\n",
       "      <td>898.94</td>\n",
       "    </tr>\n",
       "    <tr>\n",
       "      <th>2</th>\n",
       "      <td>575.00</td>\n",
       "    </tr>\n",
       "    <tr>\n",
       "      <th>3</th>\n",
       "      <td>2537.45</td>\n",
       "    </tr>\n",
       "    <tr>\n",
       "      <th>4</th>\n",
       "      <td>1803.60</td>\n",
       "    </tr>\n",
       "  </tbody>\n",
       "</table>\n",
       "</div>"
      ],
      "text/plain": [
       "   Price_euros\n",
       "0      1339.69\n",
       "1       898.94\n",
       "2       575.00\n",
       "3      2537.45\n",
       "4      1803.60"
      ]
     },
     "execution_count": 68,
     "metadata": {},
     "output_type": "execute_result"
    }
   ],
   "source": [
    "Y.head()"
   ]
  },
  {
   "cell_type": "code",
   "execution_count": 69,
   "id": "3ca30ce5",
   "metadata": {},
   "outputs": [
    {
     "name": "stdout",
     "output_type": "stream",
     "text": [
      "<class 'pandas.core.frame.DataFrame'>\n",
      "Int64Index: 1275 entries, 0 to 1274\n",
      "Data columns (total 15 columns):\n",
      " #   Column                     Non-Null Count  Dtype  \n",
      "---  ------                     --------------  -----  \n",
      " 0   Company                    1275 non-null   float64\n",
      " 1   Product                    1275 non-null   float64\n",
      " 2   TypeName                   1275 non-null   float64\n",
      " 3   Inches                     1275 non-null   float64\n",
      " 4   Ram                        1275 non-null   float64\n",
      " 5   Gpu                        1275 non-null   float64\n",
      " 6   OpSys                      1275 non-null   float64\n",
      " 7   Weight                     1275 non-null   float64\n",
      " 8   Screen_Resoluton_Height    1275 non-null   float64\n",
      " 9   Screen_Display             1275 non-null   float64\n",
      " 10  Screen_Resoluton_Width     1275 non-null   float64\n",
      " 11  Cpu_Core                   1275 non-null   float64\n",
      " 12  Cpu_Processor_Speed_GHz    1275 non-null   float64\n",
      " 13  Memory(storage_device)     1275 non-null   float64\n",
      " 14  Memory(storage_amount)_GB  1275 non-null   float64\n",
      "dtypes: float64(15)\n",
      "memory usage: 159.4 KB\n"
     ]
    }
   ],
   "source": [
    "X.info()"
   ]
  },
  {
   "cell_type": "code",
   "execution_count": 70,
   "id": "b2749bab",
   "metadata": {},
   "outputs": [
    {
     "name": "stdout",
     "output_type": "stream",
     "text": [
      "<class 'pandas.core.frame.DataFrame'>\n",
      "Int64Index: 1275 entries, 0 to 1274\n",
      "Data columns (total 16 columns):\n",
      " #   Column                     Non-Null Count  Dtype  \n",
      "---  ------                     --------------  -----  \n",
      " 0   Company                    1275 non-null   object \n",
      " 1   Product                    1275 non-null   object \n",
      " 2   TypeName                   1275 non-null   object \n",
      " 3   Inches                     1275 non-null   float64\n",
      " 4   Ram                        1275 non-null   int32  \n",
      " 5   Gpu                        1275 non-null   object \n",
      " 6   OpSys                      1275 non-null   object \n",
      " 7   Weight                     1275 non-null   float64\n",
      " 8   Price_euros                1275 non-null   float64\n",
      " 9   Screen_Resoluton_Height    1275 non-null   int64  \n",
      " 10  Screen_Display             1275 non-null   object \n",
      " 11  Screen_Resoluton_Width     1275 non-null   int64  \n",
      " 12  Cpu_Core                   1275 non-null   object \n",
      " 13  Cpu_Processor_Speed_GHz    1275 non-null   float64\n",
      " 14  Memory(storage_device)     1275 non-null   object \n",
      " 15  Memory(storage_amount)_GB  1275 non-null   float64\n",
      "dtypes: float64(5), int32(1), int64(2), object(8)\n",
      "memory usage: 164.4+ KB\n"
     ]
    }
   ],
   "source": [
    "df.info()"
   ]
  },
  {
   "cell_type": "markdown",
   "id": "45d610bb",
   "metadata": {},
   "source": [
    "# correlation"
   ]
  },
  {
   "cell_type": "code",
   "execution_count": 71,
   "id": "c5864186",
   "metadata": {},
   "outputs": [
    {
     "data": {
      "text/html": [
       "<div>\n",
       "<style scoped>\n",
       "    .dataframe tbody tr th:only-of-type {\n",
       "        vertical-align: middle;\n",
       "    }\n",
       "\n",
       "    .dataframe tbody tr th {\n",
       "        vertical-align: top;\n",
       "    }\n",
       "\n",
       "    .dataframe thead th {\n",
       "        text-align: right;\n",
       "    }\n",
       "</style>\n",
       "<table border=\"1\" class=\"dataframe\">\n",
       "  <thead>\n",
       "    <tr style=\"text-align: right;\">\n",
       "      <th></th>\n",
       "      <th>Company</th>\n",
       "      <th>Product</th>\n",
       "      <th>TypeName</th>\n",
       "      <th>Inches</th>\n",
       "      <th>Ram</th>\n",
       "      <th>Gpu</th>\n",
       "      <th>OpSys</th>\n",
       "      <th>Weight</th>\n",
       "      <th>Screen_Resoluton_Height</th>\n",
       "      <th>Screen_Display</th>\n",
       "      <th>Screen_Resoluton_Width</th>\n",
       "      <th>Cpu_Core</th>\n",
       "      <th>Cpu_Processor_Speed_GHz</th>\n",
       "      <th>Memory(storage_device)</th>\n",
       "      <th>Memory(storage_amount)_GB</th>\n",
       "    </tr>\n",
       "  </thead>\n",
       "  <tbody>\n",
       "    <tr>\n",
       "      <th>Company</th>\n",
       "      <td>1.000000</td>\n",
       "      <td>0.069802</td>\n",
       "      <td>0.001678</td>\n",
       "      <td>-0.082380</td>\n",
       "      <td>0.041771</td>\n",
       "      <td>0.026729</td>\n",
       "      <td>0.127853</td>\n",
       "      <td>-0.128194</td>\n",
       "      <td>0.043498</td>\n",
       "      <td>0.083922</td>\n",
       "      <td>0.046347</td>\n",
       "      <td>0.023631</td>\n",
       "      <td>0.133191</td>\n",
       "      <td>0.101731</td>\n",
       "      <td>0.107550</td>\n",
       "    </tr>\n",
       "    <tr>\n",
       "      <th>Product</th>\n",
       "      <td>0.069802</td>\n",
       "      <td>1.000000</td>\n",
       "      <td>0.076330</td>\n",
       "      <td>-0.213195</td>\n",
       "      <td>0.018830</td>\n",
       "      <td>0.103259</td>\n",
       "      <td>0.114857</td>\n",
       "      <td>-0.244554</td>\n",
       "      <td>0.158163</td>\n",
       "      <td>0.199818</td>\n",
       "      <td>0.157595</td>\n",
       "      <td>0.154984</td>\n",
       "      <td>-0.043060</td>\n",
       "      <td>0.053956</td>\n",
       "      <td>0.116374</td>\n",
       "    </tr>\n",
       "    <tr>\n",
       "      <th>TypeName</th>\n",
       "      <td>0.001678</td>\n",
       "      <td>0.076330</td>\n",
       "      <td>1.000000</td>\n",
       "      <td>-0.086162</td>\n",
       "      <td>-0.242265</td>\n",
       "      <td>-0.200297</td>\n",
       "      <td>0.090069</td>\n",
       "      <td>-0.275440</td>\n",
       "      <td>-0.059244</td>\n",
       "      <td>-0.211522</td>\n",
       "      <td>-0.074363</td>\n",
       "      <td>-0.119149</td>\n",
       "      <td>-0.082810</td>\n",
       "      <td>-0.195650</td>\n",
       "      <td>0.061059</td>\n",
       "    </tr>\n",
       "    <tr>\n",
       "      <th>Inches</th>\n",
       "      <td>-0.082380</td>\n",
       "      <td>-0.213195</td>\n",
       "      <td>-0.086162</td>\n",
       "      <td>1.000000</td>\n",
       "      <td>0.241078</td>\n",
       "      <td>0.199605</td>\n",
       "      <td>0.039672</td>\n",
       "      <td>0.826638</td>\n",
       "      <td>-0.093062</td>\n",
       "      <td>-0.282932</td>\n",
       "      <td>-0.068223</td>\n",
       "      <td>0.142788</td>\n",
       "      <td>0.305037</td>\n",
       "      <td>0.183145</td>\n",
       "      <td>-0.100987</td>\n",
       "    </tr>\n",
       "    <tr>\n",
       "      <th>Ram</th>\n",
       "      <td>0.041771</td>\n",
       "      <td>0.018830</td>\n",
       "      <td>-0.242265</td>\n",
       "      <td>0.241078</td>\n",
       "      <td>1.000000</td>\n",
       "      <td>0.384494</td>\n",
       "      <td>0.140002</td>\n",
       "      <td>0.389370</td>\n",
       "      <td>0.415241</td>\n",
       "      <td>0.219431</td>\n",
       "      <td>0.424089</td>\n",
       "      <td>0.445475</td>\n",
       "      <td>0.366254</td>\n",
       "      <td>0.472031</td>\n",
       "      <td>0.187187</td>\n",
       "    </tr>\n",
       "    <tr>\n",
       "      <th>Gpu</th>\n",
       "      <td>0.026729</td>\n",
       "      <td>0.103259</td>\n",
       "      <td>-0.200297</td>\n",
       "      <td>0.199605</td>\n",
       "      <td>0.384494</td>\n",
       "      <td>1.000000</td>\n",
       "      <td>0.099399</td>\n",
       "      <td>0.319862</td>\n",
       "      <td>0.218842</td>\n",
       "      <td>0.159244</td>\n",
       "      <td>0.229344</td>\n",
       "      <td>0.488379</td>\n",
       "      <td>0.289930</td>\n",
       "      <td>0.280566</td>\n",
       "      <td>0.043228</td>\n",
       "    </tr>\n",
       "    <tr>\n",
       "      <th>OpSys</th>\n",
       "      <td>0.127853</td>\n",
       "      <td>0.114857</td>\n",
       "      <td>0.090069</td>\n",
       "      <td>0.039672</td>\n",
       "      <td>0.140002</td>\n",
       "      <td>0.099399</td>\n",
       "      <td>1.000000</td>\n",
       "      <td>0.011309</td>\n",
       "      <td>0.149078</td>\n",
       "      <td>0.069145</td>\n",
       "      <td>0.148355</td>\n",
       "      <td>0.108014</td>\n",
       "      <td>0.219762</td>\n",
       "      <td>0.259775</td>\n",
       "      <td>0.192880</td>\n",
       "    </tr>\n",
       "    <tr>\n",
       "      <th>Weight</th>\n",
       "      <td>-0.128194</td>\n",
       "      <td>-0.244554</td>\n",
       "      <td>-0.275440</td>\n",
       "      <td>0.826638</td>\n",
       "      <td>0.389370</td>\n",
       "      <td>0.319862</td>\n",
       "      <td>0.011309</td>\n",
       "      <td>1.000000</td>\n",
       "      <td>-0.050106</td>\n",
       "      <td>-0.155452</td>\n",
       "      <td>-0.028605</td>\n",
       "      <td>0.179937</td>\n",
       "      <td>0.318649</td>\n",
       "      <td>0.225176</td>\n",
       "      <td>-0.105474</td>\n",
       "    </tr>\n",
       "    <tr>\n",
       "      <th>Screen_Resoluton_Height</th>\n",
       "      <td>0.043498</td>\n",
       "      <td>0.158163</td>\n",
       "      <td>-0.059244</td>\n",
       "      <td>-0.093062</td>\n",
       "      <td>0.415241</td>\n",
       "      <td>0.218842</td>\n",
       "      <td>0.149078</td>\n",
       "      <td>-0.050106</td>\n",
       "      <td>1.000000</td>\n",
       "      <td>0.478766</td>\n",
       "      <td>0.994069</td>\n",
       "      <td>0.300759</td>\n",
       "      <td>0.164369</td>\n",
       "      <td>0.335553</td>\n",
       "      <td>0.155782</td>\n",
       "    </tr>\n",
       "    <tr>\n",
       "      <th>Screen_Display</th>\n",
       "      <td>0.083922</td>\n",
       "      <td>0.199818</td>\n",
       "      <td>-0.211522</td>\n",
       "      <td>-0.282932</td>\n",
       "      <td>0.219431</td>\n",
       "      <td>0.159244</td>\n",
       "      <td>0.069145</td>\n",
       "      <td>-0.155452</td>\n",
       "      <td>0.478766</td>\n",
       "      <td>1.000000</td>\n",
       "      <td>0.451459</td>\n",
       "      <td>0.205034</td>\n",
       "      <td>0.031605</td>\n",
       "      <td>0.203254</td>\n",
       "      <td>0.074855</td>\n",
       "    </tr>\n",
       "    <tr>\n",
       "      <th>Screen_Resoluton_Width</th>\n",
       "      <td>0.046347</td>\n",
       "      <td>0.157595</td>\n",
       "      <td>-0.074363</td>\n",
       "      <td>-0.068223</td>\n",
       "      <td>0.424089</td>\n",
       "      <td>0.229344</td>\n",
       "      <td>0.148355</td>\n",
       "      <td>-0.028605</td>\n",
       "      <td>0.994069</td>\n",
       "      <td>0.451459</td>\n",
       "      <td>1.000000</td>\n",
       "      <td>0.311779</td>\n",
       "      <td>0.178659</td>\n",
       "      <td>0.351133</td>\n",
       "      <td>0.154442</td>\n",
       "    </tr>\n",
       "    <tr>\n",
       "      <th>Cpu_Core</th>\n",
       "      <td>0.023631</td>\n",
       "      <td>0.154984</td>\n",
       "      <td>-0.119149</td>\n",
       "      <td>0.142788</td>\n",
       "      <td>0.445475</td>\n",
       "      <td>0.488379</td>\n",
       "      <td>0.108014</td>\n",
       "      <td>0.179937</td>\n",
       "      <td>0.300759</td>\n",
       "      <td>0.205034</td>\n",
       "      <td>0.311779</td>\n",
       "      <td>1.000000</td>\n",
       "      <td>0.219944</td>\n",
       "      <td>0.409339</td>\n",
       "      <td>0.148075</td>\n",
       "    </tr>\n",
       "    <tr>\n",
       "      <th>Cpu_Processor_Speed_GHz</th>\n",
       "      <td>0.133191</td>\n",
       "      <td>-0.043060</td>\n",
       "      <td>-0.082810</td>\n",
       "      <td>0.305037</td>\n",
       "      <td>0.366254</td>\n",
       "      <td>0.289930</td>\n",
       "      <td>0.219762</td>\n",
       "      <td>0.318649</td>\n",
       "      <td>0.164369</td>\n",
       "      <td>0.031605</td>\n",
       "      <td>0.178659</td>\n",
       "      <td>0.219944</td>\n",
       "      <td>1.000000</td>\n",
       "      <td>0.370280</td>\n",
       "      <td>0.114515</td>\n",
       "    </tr>\n",
       "    <tr>\n",
       "      <th>Memory(storage_device)</th>\n",
       "      <td>0.101731</td>\n",
       "      <td>0.053956</td>\n",
       "      <td>-0.195650</td>\n",
       "      <td>0.183145</td>\n",
       "      <td>0.472031</td>\n",
       "      <td>0.280566</td>\n",
       "      <td>0.259775</td>\n",
       "      <td>0.225176</td>\n",
       "      <td>0.335553</td>\n",
       "      <td>0.203254</td>\n",
       "      <td>0.351133</td>\n",
       "      <td>0.409339</td>\n",
       "      <td>0.370280</td>\n",
       "      <td>1.000000</td>\n",
       "      <td>0.242247</td>\n",
       "    </tr>\n",
       "    <tr>\n",
       "      <th>Memory(storage_amount)_GB</th>\n",
       "      <td>0.107550</td>\n",
       "      <td>0.116374</td>\n",
       "      <td>0.061059</td>\n",
       "      <td>-0.100987</td>\n",
       "      <td>0.187187</td>\n",
       "      <td>0.043228</td>\n",
       "      <td>0.192880</td>\n",
       "      <td>-0.105474</td>\n",
       "      <td>0.155782</td>\n",
       "      <td>0.074855</td>\n",
       "      <td>0.154442</td>\n",
       "      <td>0.148075</td>\n",
       "      <td>0.114515</td>\n",
       "      <td>0.242247</td>\n",
       "      <td>1.000000</td>\n",
       "    </tr>\n",
       "  </tbody>\n",
       "</table>\n",
       "</div>"
      ],
      "text/plain": [
       "                            Company   Product  TypeName    Inches       Ram  \\\n",
       "Company                    1.000000  0.069802  0.001678 -0.082380  0.041771   \n",
       "Product                    0.069802  1.000000  0.076330 -0.213195  0.018830   \n",
       "TypeName                   0.001678  0.076330  1.000000 -0.086162 -0.242265   \n",
       "Inches                    -0.082380 -0.213195 -0.086162  1.000000  0.241078   \n",
       "Ram                        0.041771  0.018830 -0.242265  0.241078  1.000000   \n",
       "Gpu                        0.026729  0.103259 -0.200297  0.199605  0.384494   \n",
       "OpSys                      0.127853  0.114857  0.090069  0.039672  0.140002   \n",
       "Weight                    -0.128194 -0.244554 -0.275440  0.826638  0.389370   \n",
       "Screen_Resoluton_Height    0.043498  0.158163 -0.059244 -0.093062  0.415241   \n",
       "Screen_Display             0.083922  0.199818 -0.211522 -0.282932  0.219431   \n",
       "Screen_Resoluton_Width     0.046347  0.157595 -0.074363 -0.068223  0.424089   \n",
       "Cpu_Core                   0.023631  0.154984 -0.119149  0.142788  0.445475   \n",
       "Cpu_Processor_Speed_GHz    0.133191 -0.043060 -0.082810  0.305037  0.366254   \n",
       "Memory(storage_device)     0.101731  0.053956 -0.195650  0.183145  0.472031   \n",
       "Memory(storage_amount)_GB  0.107550  0.116374  0.061059 -0.100987  0.187187   \n",
       "\n",
       "                                Gpu     OpSys    Weight  \\\n",
       "Company                    0.026729  0.127853 -0.128194   \n",
       "Product                    0.103259  0.114857 -0.244554   \n",
       "TypeName                  -0.200297  0.090069 -0.275440   \n",
       "Inches                     0.199605  0.039672  0.826638   \n",
       "Ram                        0.384494  0.140002  0.389370   \n",
       "Gpu                        1.000000  0.099399  0.319862   \n",
       "OpSys                      0.099399  1.000000  0.011309   \n",
       "Weight                     0.319862  0.011309  1.000000   \n",
       "Screen_Resoluton_Height    0.218842  0.149078 -0.050106   \n",
       "Screen_Display             0.159244  0.069145 -0.155452   \n",
       "Screen_Resoluton_Width     0.229344  0.148355 -0.028605   \n",
       "Cpu_Core                   0.488379  0.108014  0.179937   \n",
       "Cpu_Processor_Speed_GHz    0.289930  0.219762  0.318649   \n",
       "Memory(storage_device)     0.280566  0.259775  0.225176   \n",
       "Memory(storage_amount)_GB  0.043228  0.192880 -0.105474   \n",
       "\n",
       "                           Screen_Resoluton_Height  Screen_Display  \\\n",
       "Company                                   0.043498        0.083922   \n",
       "Product                                   0.158163        0.199818   \n",
       "TypeName                                 -0.059244       -0.211522   \n",
       "Inches                                   -0.093062       -0.282932   \n",
       "Ram                                       0.415241        0.219431   \n",
       "Gpu                                       0.218842        0.159244   \n",
       "OpSys                                     0.149078        0.069145   \n",
       "Weight                                   -0.050106       -0.155452   \n",
       "Screen_Resoluton_Height                   1.000000        0.478766   \n",
       "Screen_Display                            0.478766        1.000000   \n",
       "Screen_Resoluton_Width                    0.994069        0.451459   \n",
       "Cpu_Core                                  0.300759        0.205034   \n",
       "Cpu_Processor_Speed_GHz                   0.164369        0.031605   \n",
       "Memory(storage_device)                    0.335553        0.203254   \n",
       "Memory(storage_amount)_GB                 0.155782        0.074855   \n",
       "\n",
       "                           Screen_Resoluton_Width  Cpu_Core  \\\n",
       "Company                                  0.046347  0.023631   \n",
       "Product                                  0.157595  0.154984   \n",
       "TypeName                                -0.074363 -0.119149   \n",
       "Inches                                  -0.068223  0.142788   \n",
       "Ram                                      0.424089  0.445475   \n",
       "Gpu                                      0.229344  0.488379   \n",
       "OpSys                                    0.148355  0.108014   \n",
       "Weight                                  -0.028605  0.179937   \n",
       "Screen_Resoluton_Height                  0.994069  0.300759   \n",
       "Screen_Display                           0.451459  0.205034   \n",
       "Screen_Resoluton_Width                   1.000000  0.311779   \n",
       "Cpu_Core                                 0.311779  1.000000   \n",
       "Cpu_Processor_Speed_GHz                  0.178659  0.219944   \n",
       "Memory(storage_device)                   0.351133  0.409339   \n",
       "Memory(storage_amount)_GB                0.154442  0.148075   \n",
       "\n",
       "                           Cpu_Processor_Speed_GHz  Memory(storage_device)  \\\n",
       "Company                                   0.133191                0.101731   \n",
       "Product                                  -0.043060                0.053956   \n",
       "TypeName                                 -0.082810               -0.195650   \n",
       "Inches                                    0.305037                0.183145   \n",
       "Ram                                       0.366254                0.472031   \n",
       "Gpu                                       0.289930                0.280566   \n",
       "OpSys                                     0.219762                0.259775   \n",
       "Weight                                    0.318649                0.225176   \n",
       "Screen_Resoluton_Height                   0.164369                0.335553   \n",
       "Screen_Display                            0.031605                0.203254   \n",
       "Screen_Resoluton_Width                    0.178659                0.351133   \n",
       "Cpu_Core                                  0.219944                0.409339   \n",
       "Cpu_Processor_Speed_GHz                   1.000000                0.370280   \n",
       "Memory(storage_device)                    0.370280                1.000000   \n",
       "Memory(storage_amount)_GB                 0.114515                0.242247   \n",
       "\n",
       "                           Memory(storage_amount)_GB  \n",
       "Company                                     0.107550  \n",
       "Product                                     0.116374  \n",
       "TypeName                                    0.061059  \n",
       "Inches                                     -0.100987  \n",
       "Ram                                         0.187187  \n",
       "Gpu                                         0.043228  \n",
       "OpSys                                       0.192880  \n",
       "Weight                                     -0.105474  \n",
       "Screen_Resoluton_Height                     0.155782  \n",
       "Screen_Display                              0.074855  \n",
       "Screen_Resoluton_Width                      0.154442  \n",
       "Cpu_Core                                    0.148075  \n",
       "Cpu_Processor_Speed_GHz                     0.114515  \n",
       "Memory(storage_device)                      0.242247  \n",
       "Memory(storage_amount)_GB                   1.000000  "
      ]
     },
     "execution_count": 71,
     "metadata": {},
     "output_type": "execute_result"
    }
   ],
   "source": [
    "X.corr()"
   ]
  },
  {
   "cell_type": "code",
   "execution_count": 72,
   "id": "c11a2fac",
   "metadata": {},
   "outputs": [
    {
     "data": {
      "text/plain": [
       "<AxesSubplot:>"
      ]
     },
     "execution_count": 72,
     "metadata": {},
     "output_type": "execute_result"
    },
    {
     "data": {
      "image/png": "[encoded data removed]",
      "text/plain": [
       "<Figure size 1080x720 with 2 Axes>"
      ]
     },
     "metadata": {
      "needs_background": "light"
     },
     "output_type": "display_data"
    }
   ],
   "source": [
    "plt.subplots(figsize=(15,10)) \n",
    "sns.heatmap(X.corr() , annot=True)"
   ]
  },
  {
   "cell_type": "markdown",
   "id": "09fd9cd3",
   "metadata": {},
   "source": [
    "# checking unique values"
   ]
  },
  {
   "cell_type": "code",
   "execution_count": 73,
   "id": "daa8414d",
   "metadata": {},
   "outputs": [
    {
     "data": {
      "text/html": [
       "<div>\n",
       "<style scoped>\n",
       "    .dataframe tbody tr th:only-of-type {\n",
       "        vertical-align: middle;\n",
       "    }\n",
       "\n",
       "    .dataframe tbody tr th {\n",
       "        vertical-align: top;\n",
       "    }\n",
       "\n",
       "    .dataframe thead th {\n",
       "        text-align: right;\n",
       "    }\n",
       "</style>\n",
       "<table border=\"1\" class=\"dataframe\">\n",
       "  <thead>\n",
       "    <tr style=\"text-align: right;\">\n",
       "      <th></th>\n",
       "      <th>Company</th>\n",
       "      <th>Product</th>\n",
       "      <th>TypeName</th>\n",
       "      <th>Inches</th>\n",
       "      <th>Ram</th>\n",
       "      <th>Gpu</th>\n",
       "      <th>OpSys</th>\n",
       "      <th>Weight</th>\n",
       "      <th>Price_euros</th>\n",
       "      <th>Screen_Resoluton_Height</th>\n",
       "      <th>Screen_Display</th>\n",
       "      <th>Screen_Resoluton_Width</th>\n",
       "      <th>Cpu_Core</th>\n",
       "      <th>Cpu_Processor_Speed_GHz</th>\n",
       "      <th>Memory(storage_device)</th>\n",
       "      <th>Memory(storage_amount)_GB</th>\n",
       "    </tr>\n",
       "  </thead>\n",
       "  <tbody>\n",
       "    <tr>\n",
       "      <th>0</th>\n",
       "      <td>Apple</td>\n",
       "      <td>MacBook Pro</td>\n",
       "      <td>Ultrabook</td>\n",
       "      <td>13.3</td>\n",
       "      <td>8</td>\n",
       "      <td>Intel Iris Plus Graphics 640</td>\n",
       "      <td>macOS</td>\n",
       "      <td>1.37</td>\n",
       "      <td>1339.69</td>\n",
       "      <td>1600</td>\n",
       "      <td>IPS Panel Retina Display</td>\n",
       "      <td>2560</td>\n",
       "      <td>Intel Core i5</td>\n",
       "      <td>2.3</td>\n",
       "      <td>SSD</td>\n",
       "      <td>128.0</td>\n",
       "    </tr>\n",
       "    <tr>\n",
       "      <th>1</th>\n",
       "      <td>Apple</td>\n",
       "      <td>Macbook Air</td>\n",
       "      <td>Ultrabook</td>\n",
       "      <td>13.3</td>\n",
       "      <td>8</td>\n",
       "      <td>Intel HD Graphics 6000</td>\n",
       "      <td>macOS</td>\n",
       "      <td>1.34</td>\n",
       "      <td>898.94</td>\n",
       "      <td>900</td>\n",
       "      <td></td>\n",
       "      <td>1440</td>\n",
       "      <td>Intel Core i5</td>\n",
       "      <td>1.8</td>\n",
       "      <td>Flash Storage</td>\n",
       "      <td>128.0</td>\n",
       "    </tr>\n",
       "    <tr>\n",
       "      <th>2</th>\n",
       "      <td>HP</td>\n",
       "      <td>250 G6</td>\n",
       "      <td>Notebook</td>\n",
       "      <td>15.6</td>\n",
       "      <td>8</td>\n",
       "      <td>Intel HD Graphics 620</td>\n",
       "      <td>No OS</td>\n",
       "      <td>1.86</td>\n",
       "      <td>575.00</td>\n",
       "      <td>1080</td>\n",
       "      <td>Full HD</td>\n",
       "      <td>1920</td>\n",
       "      <td>Intel Core i5 7200U</td>\n",
       "      <td>2.5</td>\n",
       "      <td>SSD</td>\n",
       "      <td>256.0</td>\n",
       "    </tr>\n",
       "    <tr>\n",
       "      <th>3</th>\n",
       "      <td>Apple</td>\n",
       "      <td>MacBook Pro</td>\n",
       "      <td>Ultrabook</td>\n",
       "      <td>15.4</td>\n",
       "      <td>16</td>\n",
       "      <td>AMD Radeon Pro 455</td>\n",
       "      <td>macOS</td>\n",
       "      <td>1.83</td>\n",
       "      <td>2537.45</td>\n",
       "      <td>1800</td>\n",
       "      <td>IPS Panel Retina Display</td>\n",
       "      <td>2880</td>\n",
       "      <td>Intel Core i7</td>\n",
       "      <td>2.7</td>\n",
       "      <td>SSD</td>\n",
       "      <td>512.0</td>\n",
       "    </tr>\n",
       "    <tr>\n",
       "      <th>4</th>\n",
       "      <td>Apple</td>\n",
       "      <td>MacBook Pro</td>\n",
       "      <td>Ultrabook</td>\n",
       "      <td>13.3</td>\n",
       "      <td>8</td>\n",
       "      <td>Intel Iris Plus Graphics 650</td>\n",
       "      <td>macOS</td>\n",
       "      <td>1.37</td>\n",
       "      <td>1803.60</td>\n",
       "      <td>1600</td>\n",
       "      <td>IPS Panel Retina Display</td>\n",
       "      <td>2560</td>\n",
       "      <td>Intel Core i5</td>\n",
       "      <td>3.1</td>\n",
       "      <td>SSD</td>\n",
       "      <td>256.0</td>\n",
       "    </tr>\n",
       "  </tbody>\n",
       "</table>\n",
       "</div>"
      ],
      "text/plain": [
       "  Company      Product   TypeName  Inches  Ram                           Gpu  \\\n",
       "0   Apple  MacBook Pro  Ultrabook    13.3    8  Intel Iris Plus Graphics 640   \n",
       "1   Apple  Macbook Air  Ultrabook    13.3    8        Intel HD Graphics 6000   \n",
       "2      HP       250 G6   Notebook    15.6    8         Intel HD Graphics 620   \n",
       "3   Apple  MacBook Pro  Ultrabook    15.4   16            AMD Radeon Pro 455   \n",
       "4   Apple  MacBook Pro  Ultrabook    13.3    8  Intel Iris Plus Graphics 650   \n",
       "\n",
       "   OpSys  Weight  Price_euros  Screen_Resoluton_Height  \\\n",
       "0  macOS    1.37      1339.69                     1600   \n",
       "1  macOS    1.34       898.94                      900   \n",
       "2  No OS    1.86       575.00                     1080   \n",
       "3  macOS    1.83      2537.45                     1800   \n",
       "4  macOS    1.37      1803.60                     1600   \n",
       "\n",
       "              Screen_Display  Screen_Resoluton_Width             Cpu_Core  \\\n",
       "0  IPS Panel Retina Display                     2560        Intel Core i5   \n",
       "1                                               1440        Intel Core i5   \n",
       "2                   Full HD                     1920  Intel Core i5 7200U   \n",
       "3  IPS Panel Retina Display                     2880        Intel Core i7   \n",
       "4  IPS Panel Retina Display                     2560        Intel Core i5   \n",
       "\n",
       "   Cpu_Processor_Speed_GHz Memory(storage_device)  Memory(storage_amount)_GB  \n",
       "0                      2.3                    SSD                      128.0  \n",
       "1                      1.8          Flash Storage                      128.0  \n",
       "2                      2.5                    SSD                      256.0  \n",
       "3                      2.7                    SSD                      512.0  \n",
       "4                      3.1                    SSD                      256.0  "
      ]
     },
     "execution_count": 73,
     "metadata": {},
     "output_type": "execute_result"
    }
   ],
   "source": [
    "df.head()"
   ]
  },
  {
   "cell_type": "code",
   "execution_count": 74,
   "id": "f54dabb1",
   "metadata": {},
   "outputs": [
    {
     "name": "stdout",
     "output_type": "stream",
     "text": [
      "unique values for  Company  is  19\n",
      "unique values for  Product  is  618\n",
      "unique values for  TypeName  is  6\n",
      "unique values for  Inches  is  18\n",
      "unique values for  Ram  is  9\n",
      "unique values for  Gpu  is  106\n",
      "unique values for  OpSys  is  9\n",
      "unique values for  Weight  is  171\n",
      "unique values for  Price_euros  is  791\n",
      "unique values for  Screen_Resoluton_Height  is  10\n",
      "unique values for  Screen_Display  is  21\n",
      "unique values for  Screen_Resoluton_Width  is  13\n",
      "unique values for  Cpu_Core  is  93\n",
      "unique values for  Cpu_Processor_Speed_GHz  is  25\n",
      "unique values for  Memory(storage_device)  is  12\n",
      "unique values for  Memory(storage_amount)_GB  is  13\n"
     ]
    }
   ],
   "source": [
    "for column in df.columns:\n",
    "    n=df[column].nunique()\n",
    "    print('unique values for ', column ,' is ', n)"
   ]
  },
  {
   "cell_type": "markdown",
   "id": "b8885b57",
   "metadata": {},
   "source": [
    "# visualization"
   ]
  },
  {
   "cell_type": "code",
   "execution_count": 75,
   "id": "cc69cd57",
   "metadata": {},
   "outputs": [
    {
     "data": {
      "text/plain": [
       "Text(0.5, 1.0, 'Distribution of Weight')"
      ]
     },
     "execution_count": 75,
     "metadata": {},
     "output_type": "execute_result"
    },
    {
     "data": {
      "image/png": "[encoded data removed]",
      "text/plain": [
       "<Figure size 432x288 with 1 Axes>"
      ]
     },
     "metadata": {
      "needs_background": "light"
     },
     "output_type": "display_data"
    }
   ],
   "source": [
    "#creating a histogram\n",
    "import matplotlib.pyplot as plt\n",
    "plt.hist(df['Weight'])\n",
    "plt.hist(df['Weight']);\n",
    "plt.xlabel(\"Weight\")\n",
    "plt.ylabel(\"Frequency\")\n",
    "plt.title(\"Distribution of Weight\")"
   ]
  },
  {
   "cell_type": "code",
   "execution_count": 76,
   "id": "89b5030d",
   "metadata": {},
   "outputs": [
    {
     "data": {
      "text/plain": [
       "Text(0.5, 1.0, 'Distribution of Company')"
      ]
     },
     "execution_count": 76,
     "metadata": {},
     "output_type": "execute_result"
    },
    {
     "data": {
      "image/png": "[encoded data removed]",
      "text/plain": [
       "<Figure size 432x288 with 1 Axes>"
      ]
     },
     "metadata": {
      "needs_background": "light"
     },
     "output_type": "display_data"
    }
   ],
   "source": [
    "#creating a histogram\n",
    "import matplotlib.pyplot as plt\n",
    "plt.hist(df['Company'])\n",
    "plt.hist(df['Company']);\n",
    "plt.xlabel(\"Company\")\n",
    "plt.ylabel(\"Frequency\")\n",
    "plt.title(\"Distribution of Company\")"
   ]
  },
  {
   "cell_type": "code",
   "execution_count": 77,
   "id": "73f71ecc",
   "metadata": {},
   "outputs": [
    {
     "data": {
      "text/plain": [
       "Text(0.5, 1.0, 'Distribution of Cpu_Core')"
      ]
     },
     "execution_count": 77,
     "metadata": {},
     "output_type": "execute_result"
    },
    {
     "data": {
      "image/png": "[encoded data removed]",
      "text/plain": [
       "<Figure size 432x288 with 1 Axes>"
      ]
     },
     "metadata": {
      "needs_background": "light"
     },
     "output_type": "display_data"
    }
   ],
   "source": [
    "#creating a histogram\n",
    "import matplotlib.pyplot as plt\n",
    "plt.hist(df['Cpu_Core'])\n",
    "plt.hist(df['Cpu_Core']);\n",
    "plt.xlabel(\"Cpu_Core\")\n",
    "plt.ylabel(\"Frequency\")\n",
    "plt.title(\"Distribution of Cpu_Core\")"
   ]
  },
  {
   "cell_type": "code",
   "execution_count": 78,
   "id": "d0e8aca5",
   "metadata": {},
   "outputs": [
    {
     "data": {
      "text/plain": [
       "Text(0.5, 1.0, 'Distribution of Ram')"
      ]
     },
     "execution_count": 78,
     "metadata": {},
     "output_type": "execute_result"
    },
    {
     "data": {
      "image/png": "[encoded data removed]",
      "text/plain": [
       "<Figure size 432x288 with 1 Axes>"
      ]
     },
     "metadata": {
      "needs_background": "light"
     },
     "output_type": "display_data"
    }
   ],
   "source": [
    "#creating a histogram\n",
    "import matplotlib.pyplot as plt\n",
    "plt.hist(df['Ram'])\n",
    "plt.hist(df['Ram']);\n",
    "plt.xlabel(\"Ram\")\n",
    "plt.ylabel(\"Frequency\")\n",
    "plt.title(\"Distribution of Ram\")"
   ]
  },
  {
   "cell_type": "code",
   "execution_count": 79,
   "id": "474daa1f",
   "metadata": {},
   "outputs": [
    {
     "data": {
      "text/plain": [
       "Text(0.5, 1.0, 'Distribution of Memory(storage_amount)_GB')"
      ]
     },
     "execution_count": 79,
     "metadata": {},
     "output_type": "execute_result"
    },
    {
     "data": {
      "image/png": "[encoded data removed]",
      "text/plain": [
       "<Figure size 432x288 with 1 Axes>"
      ]
     },
     "metadata": {
      "needs_background": "light"
     },
     "output_type": "display_data"
    }
   ],
   "source": [
    "#creating a histogram\n",
    "import matplotlib.pyplot as plt\n",
    "plt.hist(df['Memory(storage_amount)_GB'])\n",
    "plt.hist(df['Memory(storage_amount)_GB']);\n",
    "plt.xlabel(\"Memory(storage_amount)_GB\")\n",
    "plt.ylabel(\"Frequency\")\n",
    "plt.title(\"Distribution of Memory(storage_amount)_GB\")"
   ]
  },
  {
   "cell_type": "code",
   "execution_count": 80,
   "id": "780b0da7",
   "metadata": {},
   "outputs": [
    {
     "data": {
      "text/plain": [
       "Text(0.5, 1.0, 'Distribution of Screen_Resoluton_Width')"
      ]
     },
     "execution_count": 80,
     "metadata": {},
     "output_type": "execute_result"
    },
    {
     "data": {
      "image/png": "[encoded data removed]",
      "text/plain": [
       "<Figure size 432x288 with 1 Axes>"
      ]
     },
     "metadata": {
      "needs_background": "light"
     },
     "output_type": "display_data"
    }
   ],
   "source": [
    "#creating a histogram\n",
    "import matplotlib.pyplot as plt\n",
    "plt.hist(df['Screen_Resoluton_Width'])\n",
    "plt.hist(df['Screen_Resoluton_Width']);\n",
    "plt.xlabel(\"Screen_Resoluton_Width\")\n",
    "plt.ylabel(\"Frequency\")\n",
    "plt.title(\"Distribution of Screen_Resoluton_Width\")"
   ]
  },
  {
   "cell_type": "code",
   "execution_count": null,
   "id": "59398086",
   "metadata": {},
   "outputs": [
    {
     "data": {
      "text/plain": [
       "Text(0.5, 1.0, 'Distribution of Screen_Resoluton_Height')"
      ]
     },
     "execution_count": 81,
     "metadata": {},
     "output_type": "execute_result"
    },
    {
     "data": {
      "image/png": "[encoded data removed]",
      "text/plain": [
       "<Figure size 432x288 with 1 Axes>"
      ]
     },
     "metadata": {
      "needs_background": "light"
     },
     "output_type": "display_data"
    }
   ],
   "source": [
    "\n",
    "#creating a histogram\n",
    "import matplotlib.pyplot as plt\n",
    "plt.hist(df['Screen_Resoluton_Height'])\n",
    "plt.hist(df['Screen_Resoluton_Height']);\n",
    "plt.xlabel(\"Screen_Resoluton_Height\")\n",
    "plt.ylabel(\"Frequency\")\n",
    "plt.title(\"Distribution of Screen_Resoluton_Height\")"
   ]
  },
  {
   "cell_type": "code",
   "execution_count": null,
   "id": "176ce24d",
   "metadata": {},
   "outputs": [],
   "source": [
    "#creating a histogram\n",
    "import matplotlib.pyplot as plt\n",
    "plt.hist(df['Gpu'])\n",
    "plt.hist(df['Gpu']);\n",
    "plt.xlabel(\"Gpu\")\n",
    "plt.ylabel(\"Frequency\")\n",
    "plt.title(\"Distribution of Gpu\")"
   ]
  },
  {
   "cell_type": "markdown",
   "id": "6105172e",
   "metadata": {},
   "source": [
    "# Cross Validation (Hold Out)"
   ]
  },
  {
   "cell_type": "code",
   "execution_count": null,
   "id": "21633fb9",
   "metadata": {},
   "outputs": [],
   "source": [
    "from sklearn.model_selection import train_test_split as tts"
   ]
  },
  {
   "cell_type": "code",
   "execution_count": null,
   "id": "e7c2a022",
   "metadata": {},
   "outputs": [],
   "source": [
    "from sklearn.metrics import mean_squared_error,mean_absolute_error,r2_score"
   ]
  },
  {
   "cell_type": "code",
   "execution_count": null,
   "id": "9e3d22c2",
   "metadata": {},
   "outputs": [],
   "source": [
    "xtrain,xtest,ytrain,ytest=tts(X,Y,train_size=.70,random_state=24)"
   ]
  },
  {
   "cell_type": "code",
   "execution_count": null,
   "id": "f5efc341",
   "metadata": {},
   "outputs": [],
   "source": [
    "xtrain.head()"
   ]
  },
  {
   "cell_type": "code",
   "execution_count": null,
   "id": "23dc8f59",
   "metadata": {},
   "outputs": [],
   "source": [
    "ytrain.head()"
   ]
  },
  {
   "cell_type": "markdown",
   "id": "5d402c1c",
   "metadata": {},
   "source": [
    "# Linear Regression (Multiple Variable)"
   ]
  },
  {
   "cell_type": "code",
   "execution_count": null,
   "id": "76730592",
   "metadata": {},
   "outputs": [],
   "source": [
    "from sklearn.linear_model import LinearRegression"
   ]
  },
  {
   "cell_type": "code",
   "execution_count": null,
   "id": "29e931f4",
   "metadata": {},
   "outputs": [],
   "source": [
    "lr= LinearRegression()"
   ]
  },
  {
   "cell_type": "code",
   "execution_count": null,
   "id": "21c419ad",
   "metadata": {},
   "outputs": [],
   "source": [
    "lr.fit(xtrain,ytrain)"
   ]
  },
  {
   "cell_type": "code",
   "execution_count": null,
   "id": "6647bdfc",
   "metadata": {},
   "outputs": [],
   "source": [
    "lr.score(xtest,ytest) #with hold out cross validation"
   ]
  },
  {
   "cell_type": "code",
   "execution_count": null,
   "id": "71a7cd7c",
   "metadata": {},
   "outputs": [],
   "source": [
    "lr.score(xtrain,ytrain) #with hold out cross validation"
   ]
  },
  {
   "cell_type": "code",
   "execution_count": null,
   "id": "37d82bde",
   "metadata": {},
   "outputs": [],
   "source": [
    "score_linear_reg = lr.score(xtest,ytest)"
   ]
  },
  {
   "cell_type": "code",
   "execution_count": null,
   "id": "80ad5572",
   "metadata": {},
   "outputs": [],
   "source": [
    "score_linear_reg "
   ]
  },
  {
   "cell_type": "markdown",
   "id": "468ac4b5",
   "metadata": {},
   "source": [
    "# Decision Tree Regressor"
   ]
  },
  {
   "cell_type": "code",
   "execution_count": null,
   "id": "df628144",
   "metadata": {},
   "outputs": [],
   "source": [
    "from sklearn.tree import DecisionTreeRegressor"
   ]
  },
  {
   "cell_type": "code",
   "execution_count": null,
   "id": "014ce670",
   "metadata": {},
   "outputs": [],
   "source": [
    "d_tree_reg=DecisionTreeRegressor()"
   ]
  },
  {
   "cell_type": "code",
   "execution_count": null,
   "id": "62b4b29e",
   "metadata": {},
   "outputs": [],
   "source": [
    "d_tree_reg.fit(xtrain,ytrain)"
   ]
  },
  {
   "cell_type": "code",
   "execution_count": null,
   "id": "f6ab4bd2",
   "metadata": {},
   "outputs": [],
   "source": [
    "d_tree_reg.score(xtrain,ytrain)"
   ]
  },
  {
   "cell_type": "code",
   "execution_count": null,
   "id": "992b78e0",
   "metadata": {},
   "outputs": [],
   "source": [
    "d_tree_reg.score(xtest,ytest)"
   ]
  },
  {
   "cell_type": "code",
   "execution_count": null,
   "id": "572f5046",
   "metadata": {},
   "outputs": [],
   "source": [
    "score_DecisionTreeRegressor = d_tree_reg.score(xtest,ytest)\n",
    "score_DecisionTreeRegressor"
   ]
  },
  {
   "cell_type": "markdown",
   "id": "b3a1b70b",
   "metadata": {},
   "source": [
    "# Random Forest Regressor"
   ]
  },
  {
   "cell_type": "code",
   "execution_count": null,
   "id": "aee346ef",
   "metadata": {},
   "outputs": [],
   "source": [
    "from sklearn.ensemble import RandomForestRegressor"
   ]
  },
  {
   "cell_type": "code",
   "execution_count": null,
   "id": "2b9f7699",
   "metadata": {},
   "outputs": [],
   "source": [
    "random_fr_reg=RandomForestRegressor()"
   ]
  },
  {
   "cell_type": "code",
   "execution_count": null,
   "id": "17aaecbc",
   "metadata": {},
   "outputs": [],
   "source": [
    "random_fr_reg.fit(xtrain,ytrain)"
   ]
  },
  {
   "cell_type": "code",
   "execution_count": null,
   "id": "1896f29f",
   "metadata": {},
   "outputs": [],
   "source": [
    "random_fr_reg.score(xtest,ytest)"
   ]
  },
  {
   "cell_type": "code",
   "execution_count": null,
   "id": "fb672a3e",
   "metadata": {},
   "outputs": [],
   "source": [
    "random_fr_reg.score(xtrain,ytrain)"
   ]
  },
  {
   "cell_type": "markdown",
   "id": "eee3fa47",
   "metadata": {},
   "source": [
    "# KNN Regressor"
   ]
  },
  {
   "cell_type": "code",
   "execution_count": null,
   "id": "02df2e9e",
   "metadata": {},
   "outputs": [],
   "source": [
    "from sklearn.neighbors import KNeighborsRegressor"
   ]
  },
  {
   "cell_type": "code",
   "execution_count": null,
   "id": "e2144245",
   "metadata": {},
   "outputs": [],
   "source": [
    "KNN=KNeighborsRegressor()"
   ]
  },
  {
   "cell_type": "code",
   "execution_count": null,
   "id": "a9098156",
   "metadata": {},
   "outputs": [],
   "source": [
    "KNN.fit(xtrain,ytrain)"
   ]
  },
  {
   "cell_type": "code",
   "execution_count": null,
   "id": "6b8cfcfe",
   "metadata": {},
   "outputs": [],
   "source": [
    "KNN.score(xtest,ytest)"
   ]
  },
  {
   "cell_type": "code",
   "execution_count": null,
   "id": "1666a7fb",
   "metadata": {},
   "outputs": [],
   "source": [
    "KNN.score(xtrain,ytrain)"
   ]
  },
  {
   "cell_type": "code",
   "execution_count": null,
   "id": "f0615bf6",
   "metadata": {},
   "outputs": [],
   "source": []
  },
  {
   "cell_type": "markdown",
   "id": "c82cb48e",
   "metadata": {},
   "source": [
    "# SVR(Support Vector Regression)"
   ]
  },
  {
   "cell_type": "code",
   "execution_count": null,
   "id": "592c09e5",
   "metadata": {},
   "outputs": [],
   "source": [
    "from sklearn.svm import SVR"
   ]
  },
  {
   "cell_type": "code",
   "execution_count": null,
   "id": "9b6a9eb1",
   "metadata": {},
   "outputs": [],
   "source": [
    "sv=SVR()"
   ]
  },
  {
   "cell_type": "code",
   "execution_count": null,
   "id": "a36e187c",
   "metadata": {},
   "outputs": [],
   "source": [
    "sv.fit(xtrain,ytrain)"
   ]
  },
  {
   "cell_type": "code",
   "execution_count": null,
   "id": "84f7adac",
   "metadata": {},
   "outputs": [],
   "source": [
    "sv.score(xtrain,ytrain)"
   ]
  },
  {
   "cell_type": "code",
   "execution_count": null,
   "id": "39a88a0b",
   "metadata": {},
   "outputs": [],
   "source": [
    "sv.score(xtest,ytest)"
   ]
  },
  {
   "cell_type": "code",
   "execution_count": null,
   "id": "714a7922",
   "metadata": {},
   "outputs": [],
   "source": []
  },
  {
   "cell_type": "markdown",
   "id": "3b77bbb5",
   "metadata": {},
   "source": [
    "# Ada-Boost-Regressor"
   ]
  },
  {
   "cell_type": "code",
   "execution_count": null,
   "id": "34d6065c",
   "metadata": {},
   "outputs": [],
   "source": [
    "from sklearn.ensemble import AdaBoostRegressor"
   ]
  },
  {
   "cell_type": "code",
   "execution_count": null,
   "id": "2dc71839",
   "metadata": {},
   "outputs": [],
   "source": [
    "ada=AdaBoostRegressor()"
   ]
  },
  {
   "cell_type": "code",
   "execution_count": null,
   "id": "15d87fa2",
   "metadata": {},
   "outputs": [],
   "source": [
    "ada.fit(xtrain,ytrain)"
   ]
  },
  {
   "cell_type": "code",
   "execution_count": null,
   "id": "0b7337f0",
   "metadata": {},
   "outputs": [],
   "source": [
    "ada.score(xtrain,ytrain)"
   ]
  },
  {
   "cell_type": "code",
   "execution_count": null,
   "id": "0662f56e",
   "metadata": {},
   "outputs": [],
   "source": [
    "ada.score(xtest,ytest)"
   ]
  },
  {
   "cell_type": "markdown",
   "id": "8a9239c2",
   "metadata": {},
   "source": [
    "# XG BOOST"
   ]
  },
  {
   "cell_type": "code",
   "execution_count": null,
   "id": "37459290",
   "metadata": {},
   "outputs": [],
   "source": [
    "\n",
    "import xgboost as xg"
   ]
  },
  {
   "cell_type": "code",
   "execution_count": null,
   "id": "a6e39160",
   "metadata": {},
   "outputs": [],
   "source": [
    "xgb = xg.XGBRegressor()"
   ]
  },
  {
   "cell_type": "code",
   "execution_count": null,
   "id": "e95dab72",
   "metadata": {},
   "outputs": [],
   "source": [
    "xgb.fit(xtrain,ytrain)"
   ]
  },
  {
   "cell_type": "code",
   "execution_count": null,
   "id": "499cc4bc",
   "metadata": {},
   "outputs": [],
   "source": [
    "xgb.score(xtrain,ytrain)"
   ]
  },
  {
   "cell_type": "code",
   "execution_count": null,
   "id": "1fe0e9fe",
   "metadata": {},
   "outputs": [],
   "source": [
    "xgb.score(xtest,ytest)"
   ]
  },
  {
   "cell_type": "markdown",
   "id": "78cb3f42",
   "metadata": {},
   "source": [
    "# Gradient Boost"
   ]
  },
  {
   "cell_type": "code",
   "execution_count": null,
   "id": "6a723300",
   "metadata": {},
   "outputs": [],
   "source": [
    "from sklearn.ensemble import GradientBoostingRegressor"
   ]
  },
  {
   "cell_type": "code",
   "execution_count": null,
   "id": "f487bd3b",
   "metadata": {},
   "outputs": [],
   "source": [
    "gBoost=GradientBoostingRegressor()"
   ]
  },
  {
   "cell_type": "code",
   "execution_count": null,
   "id": "43f6df30",
   "metadata": {},
   "outputs": [],
   "source": [
    "gBoost.fit(xtrain,ytrain)"
   ]
  },
  {
   "cell_type": "code",
   "execution_count": null,
   "id": "00fa9291",
   "metadata": {},
   "outputs": [],
   "source": [
    "gBoost.score(xtrain,ytrain)"
   ]
  },
  {
   "cell_type": "code",
   "execution_count": null,
   "id": "3f9b0477",
   "metadata": {},
   "outputs": [],
   "source": [
    "gBoost.score(xtest,ytest)"
   ]
  },
  {
   "cell_type": "markdown",
   "id": "ed1f888a",
   "metadata": {},
   "source": [
    "# Feature Selection Pearson Correlation"
   ]
  },
  {
   "cell_type": "code",
   "execution_count": null,
   "id": "368d8e3c",
   "metadata": {},
   "outputs": [],
   "source": [
    "cor = xtrain.corr()\n",
    "cor"
   ]
  },
  {
   "cell_type": "code",
   "execution_count": null,
   "id": "0e6a046f",
   "metadata": {},
   "outputs": [],
   "source": [
    "def correlation(dataset, threshold):\n",
    "    col_corr = set() #set of all the names of correlated columns\n",
    "    corr_matrix = dataset.corr() #correlation matrix\n",
    "\n",
    "    for i in range(len(corr_matrix.columns)): # matrix er each column i c\n",
    "        for j in range (i): #each column er moddhe (row) column\n",
    "            if abs(corr_matrix.iloc[i,j]) > threshold:\n",
    "                colname = corr_matrix.columns[i] #getting the name of the column\n",
    "                col_corr.add(colname)\n",
    "    return col_corr"
   ]
  },
  {
   "cell_type": "code",
   "execution_count": null,
   "id": "9f19af07",
   "metadata": {},
   "outputs": [],
   "source": [
    "corr_features  =  correlation(xtrain,0.70)\n",
    "corr_features"
   ]
  },
  {
   "cell_type": "code",
   "execution_count": null,
   "id": "f616f1b9",
   "metadata": {},
   "outputs": [],
   "source": [
    "\n",
    "xtrain.drop(corr_features, axis=1)"
   ]
  },
  {
   "cell_type": "code",
   "execution_count": null,
   "id": "974896e4",
   "metadata": {},
   "outputs": [],
   "source": [
    "xtest.drop(corr_features, axis=1)"
   ]
  },
  {
   "cell_type": "markdown",
   "id": "0fd24946",
   "metadata": {},
   "source": [
    "# Linear Regression (Multiple Variable)"
   ]
  },
  {
   "cell_type": "code",
   "execution_count": null,
   "id": "5812c2f3",
   "metadata": {},
   "outputs": [],
   "source": [
    "from sklearn.linear_model import LinearRegression"
   ]
  },
  {
   "cell_type": "code",
   "execution_count": null,
   "id": "be8bfd42",
   "metadata": {},
   "outputs": [],
   "source": [
    "lr= LinearRegression()"
   ]
  },
  {
   "cell_type": "code",
   "execution_count": null,
   "id": "de3001fe",
   "metadata": {},
   "outputs": [],
   "source": [
    "lr.fit(xtrain,ytrain)"
   ]
  },
  {
   "cell_type": "code",
   "execution_count": null,
   "id": "130b2fa2",
   "metadata": {},
   "outputs": [],
   "source": [
    "lr.score(xtest,ytest) #with hold out cross validation"
   ]
  },
  {
   "cell_type": "code",
   "execution_count": null,
   "id": "69b675f2",
   "metadata": {},
   "outputs": [],
   "source": [
    "lr.score(xtrain,ytrain) #with hold out cross validation"
   ]
  },
  {
   "cell_type": "code",
   "execution_count": null,
   "id": "1850305a",
   "metadata": {},
   "outputs": [],
   "source": [
    "score_linear_reg = lr.score(xtest,ytest)\n",
    "score_linear_reg"
   ]
  },
  {
   "cell_type": "markdown",
   "id": "dfdaa7b6",
   "metadata": {},
   "source": [
    "# Decision Tree Regressor"
   ]
  },
  {
   "cell_type": "code",
   "execution_count": null,
   "id": "0c0fcf76",
   "metadata": {},
   "outputs": [],
   "source": [
    "from sklearn.tree import DecisionTreeRegressor"
   ]
  },
  {
   "cell_type": "code",
   "execution_count": null,
   "id": "d89b1b52",
   "metadata": {},
   "outputs": [],
   "source": [
    "d_tree_reg=DecisionTreeRegressor()"
   ]
  },
  {
   "cell_type": "code",
   "execution_count": null,
   "id": "b9abd86c",
   "metadata": {},
   "outputs": [],
   "source": [
    "d_tree_reg.fit(xtrain,ytrain)"
   ]
  },
  {
   "cell_type": "code",
   "execution_count": null,
   "id": "5055609d",
   "metadata": {},
   "outputs": [],
   "source": [
    "d_tree_reg.score(xtrain,ytrain)"
   ]
  },
  {
   "cell_type": "code",
   "execution_count": null,
   "id": "e6378a4a",
   "metadata": {},
   "outputs": [],
   "source": [
    "d_tree_reg.score(xtest,ytest)"
   ]
  },
  {
   "cell_type": "code",
   "execution_count": null,
   "id": "b134a336",
   "metadata": {},
   "outputs": [],
   "source": [
    "score_DecisionTreeRegressor = d_tree_reg.score(xtest,ytest)\n",
    "score_DecisionTreeRegressor"
   ]
  },
  {
   "cell_type": "markdown",
   "id": "909a48e7",
   "metadata": {},
   "source": [
    "# Random Forest Regressor"
   ]
  },
  {
   "cell_type": "code",
   "execution_count": null,
   "id": "ffa66dd9",
   "metadata": {},
   "outputs": [],
   "source": [
    "from sklearn.ensemble import RandomForestRegressor"
   ]
  },
  {
   "cell_type": "code",
   "execution_count": null,
   "id": "e918fdd0",
   "metadata": {},
   "outputs": [],
   "source": [
    "random_fr_reg=RandomForestRegressor()"
   ]
  },
  {
   "cell_type": "code",
   "execution_count": null,
   "id": "1baf3434",
   "metadata": {},
   "outputs": [],
   "source": [
    "random_fr_reg.fit(xtrain,ytrain)"
   ]
  },
  {
   "cell_type": "code",
   "execution_count": null,
   "id": "ae132449",
   "metadata": {},
   "outputs": [],
   "source": [
    "random_fr_reg.score(xtest,ytest)"
   ]
  },
  {
   "cell_type": "code",
   "execution_count": null,
   "id": "8e132438",
   "metadata": {},
   "outputs": [],
   "source": [
    "random_fr_reg.score(xtrain,ytrain)"
   ]
  },
  {
   "cell_type": "markdown",
   "id": "80b81f44",
   "metadata": {},
   "source": [
    "# KNN Regressor"
   ]
  },
  {
   "cell_type": "code",
   "execution_count": null,
   "id": "7a2dfc5c",
   "metadata": {},
   "outputs": [],
   "source": [
    "from sklearn.neighbors import KNeighborsRegressor"
   ]
  },
  {
   "cell_type": "code",
   "execution_count": null,
   "id": "4ea9b624",
   "metadata": {},
   "outputs": [],
   "source": [
    "KNN=KNeighborsRegressor()"
   ]
  },
  {
   "cell_type": "code",
   "execution_count": null,
   "id": "dd9f6b17",
   "metadata": {},
   "outputs": [],
   "source": [
    "KNN.fit(xtrain,ytrain)"
   ]
  },
  {
   "cell_type": "code",
   "execution_count": null,
   "id": "87e8431d",
   "metadata": {},
   "outputs": [],
   "source": [
    "KNN.score(xtest,ytest)"
   ]
  },
  {
   "cell_type": "code",
   "execution_count": null,
   "id": "f9bdb38d",
   "metadata": {},
   "outputs": [],
   "source": [
    "KNN.score(xtrain,ytrain)"
   ]
  },
  {
   "cell_type": "code",
   "execution_count": null,
   "id": "e0c63214",
   "metadata": {},
   "outputs": [],
   "source": []
  },
  {
   "cell_type": "markdown",
   "id": "e4604d58",
   "metadata": {},
   "source": [
    "# Another Feature Selection SelectKBest"
   ]
  },
  {
   "cell_type": "code",
   "execution_count": null,
   "id": "342ae685",
   "metadata": {},
   "outputs": [],
   "source": [
    "from sklearn.feature_selection import SelectKBest"
   ]
  },
  {
   "cell_type": "code",
   "execution_count": null,
   "id": "16ea6d30",
   "metadata": {},
   "outputs": [],
   "source": [
    "from sklearn.feature_selection import f_classif"
   ]
  },
  {
   "cell_type": "code",
   "execution_count": null,
   "id": "c7c6d4be",
   "metadata": {},
   "outputs": [],
   "source": [
    "FIT_FEATURES = SelectKBest(score_func = f_classif)"
   ]
  },
  {
   "cell_type": "code",
   "execution_count": null,
   "id": "9c9d5fe2",
   "metadata": {},
   "outputs": [],
   "source": [
    "FIT_FEATURES.fit(X,Y)"
   ]
  },
  {
   "cell_type": "code",
   "execution_count": null,
   "id": "eeabafb4",
   "metadata": {},
   "outputs": [],
   "source": [
    "score = pd.DataFrame(FIT_FEATURES.scores_, columns=['score_value'])"
   ]
  },
  {
   "cell_type": "code",
   "execution_count": null,
   "id": "ea75d3d4",
   "metadata": {},
   "outputs": [],
   "source": [
    "score"
   ]
  },
  {
   "cell_type": "code",
   "execution_count": null,
   "id": "13e13f7a",
   "metadata": {},
   "outputs": [],
   "source": [
    "name_col = pd.DataFrame(X.columns)"
   ]
  },
  {
   "cell_type": "code",
   "execution_count": null,
   "id": "0f556e5d",
   "metadata": {},
   "outputs": [],
   "source": [
    "topr_features = pd.concat([name_col,score], axis=1)\n",
    "topr_features"
   ]
  },
  {
   "cell_type": "code",
   "execution_count": null,
   "id": "3e392fdd",
   "metadata": {},
   "outputs": [],
   "source": [
    "topr_features = topr_features.nlargest(11,'score_value')\n",
    "topr_features"
   ]
  },
  {
   "cell_type": "code",
   "execution_count": null,
   "id": "6ce2bb19",
   "metadata": {},
   "outputs": [],
   "source": [
    "X.drop('Company',axis=1,inplace=True)"
   ]
  },
  {
   "cell_type": "code",
   "execution_count": null,
   "id": "85ccd8d2",
   "metadata": {},
   "outputs": [],
   "source": [
    "X.head()"
   ]
  },
  {
   "cell_type": "code",
   "execution_count": null,
   "id": "be32cf8a",
   "metadata": {},
   "outputs": [],
   "source": [
    "\n",
    "X.drop('Product',axis=1,inplace=True)"
   ]
  },
  {
   "cell_type": "code",
   "execution_count": null,
   "id": "881ac7f3",
   "metadata": {},
   "outputs": [],
   "source": [
    "X.drop('TypeName',axis=1,inplace=True)"
   ]
  },
  {
   "cell_type": "code",
   "execution_count": null,
   "id": "7f21470b",
   "metadata": {},
   "outputs": [],
   "source": [
    "X.drop('Inches',axis=1,inplace=True)"
   ]
  },
  {
   "cell_type": "code",
   "execution_count": null,
   "id": "4de8e158",
   "metadata": {},
   "outputs": [],
   "source": [
    "X.head()"
   ]
  },
  {
   "cell_type": "code",
   "execution_count": null,
   "id": "34fe9b89",
   "metadata": {},
   "outputs": [],
   "source": [
    "from sklearn.model_selection import train_test_split as tts"
   ]
  },
  {
   "cell_type": "code",
   "execution_count": null,
   "id": "aaf5bddc",
   "metadata": {},
   "outputs": [],
   "source": [
    "xtrain,xtest,ytrain,ytest=tts(X,Y,train_size=.70,random_state=24)"
   ]
  },
  {
   "cell_type": "code",
   "execution_count": null,
   "id": "3aa87fa7",
   "metadata": {},
   "outputs": [],
   "source": [
    "xtrain.head()"
   ]
  },
  {
   "cell_type": "markdown",
   "id": "00a80dc9",
   "metadata": {},
   "source": [
    "# Linear Regression (Multiple Variable)"
   ]
  },
  {
   "cell_type": "code",
   "execution_count": null,
   "id": "3a3ef0d2",
   "metadata": {},
   "outputs": [],
   "source": [
    "from sklearn.linear_model import LinearRegression"
   ]
  },
  {
   "cell_type": "code",
   "execution_count": null,
   "id": "f418431e",
   "metadata": {},
   "outputs": [],
   "source": [
    "lr= LinearRegression()"
   ]
  },
  {
   "cell_type": "code",
   "execution_count": null,
   "id": "818152ef",
   "metadata": {},
   "outputs": [],
   "source": [
    "lr.fit(xtrain,ytrain)"
   ]
  },
  {
   "cell_type": "code",
   "execution_count": null,
   "id": "c5fc2a7e",
   "metadata": {},
   "outputs": [],
   "source": [
    "lr.score(xtest,ytest) #with hold out cross validation"
   ]
  },
  {
   "cell_type": "code",
   "execution_count": null,
   "id": "558197c6",
   "metadata": {},
   "outputs": [],
   "source": [
    "lr.score(xtrain,ytrain) #with hold out cross validation"
   ]
  },
  {
   "cell_type": "code",
   "execution_count": null,
   "id": "2c3bf0d7",
   "metadata": {},
   "outputs": [],
   "source": [
    "score_linear_reg = lr.score(xtest,ytest)\n",
    "score_linear_reg "
   ]
  },
  {
   "cell_type": "markdown",
   "id": "916960ff",
   "metadata": {},
   "source": [
    "# Decision Tree Regressor"
   ]
  },
  {
   "cell_type": "code",
   "execution_count": null,
   "id": "f6735220",
   "metadata": {},
   "outputs": [],
   "source": [
    "from sklearn.tree import DecisionTreeRegressor"
   ]
  },
  {
   "cell_type": "code",
   "execution_count": null,
   "id": "6fdd7a07",
   "metadata": {},
   "outputs": [],
   "source": [
    "d_tree_reg=DecisionTreeRegressor()"
   ]
  },
  {
   "cell_type": "code",
   "execution_count": null,
   "id": "a2530994",
   "metadata": {},
   "outputs": [],
   "source": [
    "d_tree_reg.fit(xtrain,ytrain)"
   ]
  },
  {
   "cell_type": "code",
   "execution_count": null,
   "id": "10c0e3ef",
   "metadata": {},
   "outputs": [],
   "source": [
    "d_tree_reg.score(xtrain,ytrain)"
   ]
  },
  {
   "cell_type": "code",
   "execution_count": null,
   "id": "817490a1",
   "metadata": {},
   "outputs": [],
   "source": [
    "d_tree_reg.score(xtest,ytest)"
   ]
  },
  {
   "cell_type": "code",
   "execution_count": null,
   "id": "32fe0bb7",
   "metadata": {},
   "outputs": [],
   "source": [
    "score_DecisionTreeRegressor = d_tree_reg.score(xtest,ytest)\n",
    "score_DecisionTreeRegressor"
   ]
  },
  {
   "cell_type": "markdown",
   "id": "25407945",
   "metadata": {},
   "source": [
    "# Random Forest Regressor"
   ]
  },
  {
   "cell_type": "code",
   "execution_count": null,
   "id": "17433e59",
   "metadata": {},
   "outputs": [],
   "source": [
    "from sklearn.ensemble import RandomForestRegressor"
   ]
  },
  {
   "cell_type": "code",
   "execution_count": null,
   "id": "ad6031b0",
   "metadata": {},
   "outputs": [],
   "source": [
    "random_fr_reg=RandomForestRegressor()"
   ]
  },
  {
   "cell_type": "code",
   "execution_count": null,
   "id": "1d959771",
   "metadata": {},
   "outputs": [],
   "source": [
    "random_fr_reg.fit(xtrain,ytrain)"
   ]
  },
  {
   "cell_type": "code",
   "execution_count": null,
   "id": "07af52e8",
   "metadata": {},
   "outputs": [],
   "source": [
    "random_fr_reg.score(xtest,ytest)"
   ]
  },
  {
   "cell_type": "code",
   "execution_count": null,
   "id": "545da498",
   "metadata": {},
   "outputs": [],
   "source": [
    "random_fr_reg.score(xtrain,ytrain)"
   ]
  },
  {
   "cell_type": "markdown",
   "id": "3f9982aa",
   "metadata": {},
   "source": [
    "# KNN Regressor"
   ]
  },
  {
   "cell_type": "code",
   "execution_count": null,
   "id": "65855f56",
   "metadata": {},
   "outputs": [],
   "source": [
    "from sklearn.neighbors import KNeighborsRegressor"
   ]
  },
  {
   "cell_type": "code",
   "execution_count": null,
   "id": "42b63efe",
   "metadata": {},
   "outputs": [],
   "source": [
    "KNN=KNeighborsRegressor()"
   ]
  },
  {
   "cell_type": "code",
   "execution_count": null,
   "id": "ad5e2d49",
   "metadata": {},
   "outputs": [],
   "source": [
    "KNN.fit(xtrain,ytrain)"
   ]
  },
  {
   "cell_type": "code",
   "execution_count": null,
   "id": "28228b09",
   "metadata": {},
   "outputs": [],
   "source": [
    "KNN.score(xtest,ytest)"
   ]
  },
  {
   "cell_type": "code",
   "execution_count": null,
   "id": "fb633a2a",
   "metadata": {},
   "outputs": [],
   "source": [
    "KNN.score(xtrain,ytrain)"
   ]
  },
  {
   "cell_type": "markdown",
   "id": "9c491c04",
   "metadata": {},
   "source": [
    "# Analaysis"
   ]
  },
  {
   "cell_type": "markdown",
   "id": "a1ed9c26",
   "metadata": {},
   "source": [
    "# Accuracy"
   ]
  },
  {
   "cell_type": "markdown",
   "id": "217ddadd",
   "metadata": {},
   "source": [
    "### Before Feature Selection"
   ]
  },
  {
   "cell_type": "markdown",
   "id": "3bbd10da",
   "metadata": {},
   "source": [
    "Linear Regression 72%\n",
    "\n",
    "Decision Tree Regressor 72%\n",
    "\n",
    "Random Forest Regressor 82%\n",
    "\n",
    "KNN Regressor 75%\n",
    "\n",
    "SVM 3%\n",
    "\n",
    "Ada-Boost-Regressor 69%\n",
    "\n",
    "XG Boost 85%\n",
    "\n",
    "Gradient Boost 84%"
   ]
  },
  {
   "cell_type": "markdown",
   "id": "14dd071f",
   "metadata": {},
   "source": [
    "### After Pearson Correlation Feature Selection"
   ]
  },
  {
   "cell_type": "markdown",
   "id": "4c8d0452",
   "metadata": {},
   "source": [
    "Linear Regression 71%\n",
    "\n",
    "Decision Tree Regressor 69%\n",
    "\n",
    "Random Forest Regressor 79%\n",
    "\n",
    "KNN Regressor 74%"
   ]
  },
  {
   "cell_type": "markdown",
   "id": "9919ba44",
   "metadata": {},
   "source": [
    "### After Select K Best Feature Selection"
   ]
  },
  {
   "cell_type": "markdown",
   "id": "ccb583c0",
   "metadata": {},
   "source": [
    "Linear Regression 71%\n",
    "\n",
    "Decision Tree Regressor 67%\n",
    "\n",
    "Random Forest Regressor 80%\n",
    "\n",
    "KNN Regressor 74%"
   ]
  },
  {
   "cell_type": "code",
   "execution_count": null,
   "id": "10770179",
   "metadata": {},
   "outputs": [],
   "source": []
  },
  {
   "cell_type": "code",
   "execution_count": null,
   "id": "11a22e57",
   "metadata": {},
   "outputs": [],
   "source": []
  }
 ],
 "metadata": {
  "kernelspec": {
   "display_name": "Python 3 (ipykernel)",
   "language": "python",
   "name": "python3"
  },
  "language_info": {
   "codemirror_mode": {
    "name": "ipython",
    "version": 3
   },
   "file_extension": ".py",
   "mimetype": "text/x-python",
   "name": "python",
   "nbconvert_exporter": "python",
   "pygments_lexer": "ipython3",
   "version": "3.9.12"
  }
 },
 "nbformat": 4,
 "nbformat_minor": 5
}

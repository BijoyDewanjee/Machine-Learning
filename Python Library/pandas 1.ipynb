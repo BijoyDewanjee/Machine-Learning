{
 "cells": [
  {
   "cell_type": "code",
   "execution_count": 1,
   "id": "a4984387",
   "metadata": {},
   "outputs": [],
   "source": [
    "import numpy as np\n",
    "import pandas as pd\n"
   ]
  },
  {
   "cell_type": "markdown",
   "id": "3ee60d90",
   "metadata": {},
   "source": [
    "# section a\n",
    "# make an array"
   ]
  },
  {
   "cell_type": "code",
   "execution_count": 2,
   "id": "2f163320",
   "metadata": {},
   "outputs": [
    {
     "data": {
      "text/plain": [
       "array([[ 0,  1,  2,  3,  4,  5,  6,  7,  8,  9],\n",
       "       [10, 11, 12, 13, 14, 15, 16, 17, 18, 19],\n",
       "       [20, 21, 22, 23, 24, 25, 26, 27, 28, 29],\n",
       "       [30, 31, 32, 33, 34, 35, 36, 37, 38, 39],\n",
       "       [40, 41, 42, 43, 44, 45, 46, 47, 48, 49],\n",
       "       [50, 51, 52, 53, 54, 55, 56, 57, 58, 59],\n",
       "       [60, 61, 62, 63, 64, 65, 66, 67, 68, 69],\n",
       "       [70, 71, 72, 73, 74, 75, 76, 77, 78, 79],\n",
       "       [80, 81, 82, 83, 84, 85, 86, 87, 88, 89],\n",
       "       [90, 91, 92, 93, 94, 95, 96, 97, 98, 99]])"
      ]
     },
     "execution_count": 2,
     "metadata": {},
     "output_type": "execute_result"
    }
   ],
   "source": [
    "data=np.arange(0,100).reshape(10,10)\n",
    "data"
   ]
  },
  {
   "cell_type": "code",
   "execution_count": 3,
   "id": "f09e6cae",
   "metadata": {},
   "outputs": [
    {
     "data": {
      "text/plain": [
       "(10, 10)"
      ]
     },
     "execution_count": 3,
     "metadata": {},
     "output_type": "execute_result"
    }
   ],
   "source": [
    "# make an array\n",
    "a1 = np.array(data)\n",
    "a1.shape"
   ]
  },
  {
   "cell_type": "code",
   "execution_count": 4,
   "id": "98e9532d",
   "metadata": {},
   "outputs": [
    {
     "data": {
      "text/plain": [
       "array([[ 4,  5,  6,  7],\n",
       "       [14, 15, 16, 17],\n",
       "       [24, 25, 26, 27],\n",
       "       [34, 35, 36, 37],\n",
       "       [44, 45, 46, 47],\n",
       "       [54, 55, 56, 57],\n",
       "       [64, 65, 66, 67],\n",
       "       [74, 75, 76, 77],\n",
       "       [84, 85, 86, 87],\n",
       "       [94, 95, 96, 97]])"
      ]
     },
     "execution_count": 4,
     "metadata": {},
     "output_type": "execute_result"
    }
   ],
   "source": [
    "# separate two columns for first 50 values\n",
    "a2 = a1[ :50 , 4:8]\n",
    "a2"
   ]
  },
  {
   "cell_type": "code",
   "execution_count": 5,
   "id": "83fd7f18",
   "metadata": {},
   "outputs": [
    {
     "data": {
      "text/plain": [
       "(10, 4)"
      ]
     },
     "execution_count": 5,
     "metadata": {},
     "output_type": "execute_result"
    }
   ],
   "source": [
    "a2.shape"
   ]
  },
  {
   "cell_type": "code",
   "execution_count": 6,
   "id": "bd6f3887",
   "metadata": {},
   "outputs": [
    {
     "name": "stdout",
     "output_type": "stream",
     "text": [
      "[[51  5  6  7]\n",
      " [52 15 16 17]\n",
      " [53 25 26 27]\n",
      " [54 35 36 37]\n",
      " [55 45 46 47]\n",
      " [54 55 56 57]\n",
      " [64 65 66 67]\n",
      " [74 75 76 77]\n",
      " [84 85 86 87]\n",
      " [94 95 96 97]]\n"
     ]
    }
   ],
   "source": [
    "# replace first five values of first column\n",
    "a2[ :5, 0] = np.array([51,52,53,54,55])\n",
    "print(a2)  # we will use this now"
   ]
  },
  {
   "cell_type": "code",
   "execution_count": 7,
   "id": "8744f118",
   "metadata": {},
   "outputs": [
    {
     "name": "stdout",
     "output_type": "stream",
     "text": [
      "[ 57  68  79  90 101]\n"
     ]
    }
   ],
   "source": [
    "# add first five row values for each column\n",
    "a3 = a2[ :5 , 0] + a2[ :5 , 2]\n",
    "print(a3)"
   ]
  },
  {
   "cell_type": "code",
   "execution_count": 8,
   "id": "aec641b6",
   "metadata": {},
   "outputs": [
    {
     "name": "stdout",
     "output_type": "stream",
     "text": [
      "2nd element on 1st row:  5\n"
     ]
    }
   ],
   "source": [
    "# Access the item\n",
    "print('2nd element on 1st row: ', a2[0, 1]) "
   ]
  },
  {
   "cell_type": "code",
   "execution_count": 9,
   "id": "929d2a72",
   "metadata": {},
   "outputs": [
    {
     "name": "stdout",
     "output_type": "stream",
     "text": [
      "(10, 4) 40\n"
     ]
    }
   ],
   "source": [
    "# check shape and size\n",
    "a4 = np.shape(a2)\n",
    "a5 = np.size(a2)\n",
    "print(a4, a5)"
   ]
  },
  {
   "cell_type": "code",
   "execution_count": 10,
   "id": "ebbf26f2",
   "metadata": {},
   "outputs": [
    {
     "name": "stdout",
     "output_type": "stream",
     "text": [
      "[[51  5  6  7]\n",
      " [53 25 26 27]\n",
      " [55 45 46 47]\n",
      " [64 65 66 67]\n",
      " [84 85 86 87]]\n"
     ]
    }
   ],
   "source": [
    "# step/interval\n",
    "print(a2[ : 20 : 2]) # 1 ta 1ta row ke skip korbo "
   ]
  },
  {
   "cell_type": "code",
   "execution_count": 11,
   "id": "010cc795",
   "metadata": {},
   "outputs": [
    {
     "name": "stdout",
     "output_type": "stream",
     "text": [
      "[[51  5  6  7 52]\n",
      " [15 16 17 53 25]\n",
      " [26 27 54 35 36]\n",
      " [37 55 45 46 47]\n",
      " [54 55 56 57 64]\n",
      " [65 66 67 74 75]\n",
      " [76 77 84 85 86]\n",
      " [87 94 95 96 97]]\n"
     ]
    }
   ],
   "source": [
    "# reshape\n",
    "a6 = a2.reshape(8,5)\n",
    "print(a6)"
   ]
  },
  {
   "cell_type": "code",
   "execution_count": 12,
   "id": "978f9576",
   "metadata": {},
   "outputs": [
    {
     "name": "stdout",
     "output_type": "stream",
     "text": [
      "[array([[51,  5,  6,  7],\n",
      "       [52, 15, 16, 17],\n",
      "       [53, 25, 26, 27],\n",
      "       [54, 35, 36, 37]]), array([[55, 45, 46, 47],\n",
      "       [54, 55, 56, 57],\n",
      "       [64, 65, 66, 67]]), array([[74, 75, 76, 77],\n",
      "       [84, 85, 86, 87],\n",
      "       [94, 95, 96, 97]])]\n"
     ]
    }
   ],
   "source": [
    "# array split\n",
    "a7 = np.array_split(a2, 3)\n",
    "print(a7)"
   ]
  },
  {
   "cell_type": "code",
   "execution_count": 13,
   "id": "0e7869ff",
   "metadata": {},
   "outputs": [
    {
     "name": "stdout",
     "output_type": "stream",
     "text": [
      "[[51 15 26 37 54 65 76 87]\n",
      " [ 5 16 27 55 55 66 77 94]\n",
      " [ 6 17 54 45 56 67 84 95]\n",
      " [ 7 53 35 46 57 74 85 96]\n",
      " [52 25 36 47 64 75 86 97]]\n"
     ]
    }
   ],
   "source": [
    "# transpose\n",
    "a8 = np.transpose(a6)\n",
    "print(a8)"
   ]
  },
  {
   "cell_type": "markdown",
   "id": "2c98478b",
   "metadata": {},
   "source": [
    "# section b\n",
    "# join 2 array vertically"
   ]
  },
  {
   "cell_type": "code",
   "execution_count": 14,
   "id": "21d8547c",
   "metadata": {},
   "outputs": [],
   "source": [
    "b1 = a2\n",
    "b2 = a1[:5 , 4:8]"
   ]
  },
  {
   "cell_type": "code",
   "execution_count": 15,
   "id": "43d12d5f",
   "metadata": {},
   "outputs": [
    {
     "data": {
      "text/plain": [
       "array([[51,  5,  6,  7],\n",
       "       [52, 15, 16, 17],\n",
       "       [53, 25, 26, 27],\n",
       "       [54, 35, 36, 37],\n",
       "       [55, 45, 46, 47],\n",
       "       [54, 55, 56, 57],\n",
       "       [64, 65, 66, 67],\n",
       "       [74, 75, 76, 77],\n",
       "       [84, 85, 86, 87],\n",
       "       [94, 95, 96, 97]])"
      ]
     },
     "execution_count": 15,
     "metadata": {},
     "output_type": "execute_result"
    }
   ],
   "source": [
    "b1"
   ]
  },
  {
   "cell_type": "code",
   "execution_count": 16,
   "id": "367fee6f",
   "metadata": {},
   "outputs": [
    {
     "data": {
      "text/plain": [
       "array([[51,  5,  6,  7],\n",
       "       [52, 15, 16, 17],\n",
       "       [53, 25, 26, 27],\n",
       "       [54, 35, 36, 37],\n",
       "       [55, 45, 46, 47]])"
      ]
     },
     "execution_count": 16,
     "metadata": {},
     "output_type": "execute_result"
    }
   ],
   "source": [
    "b2"
   ]
  },
  {
   "cell_type": "markdown",
   "id": "f438f974",
   "metadata": {},
   "source": []
  },
  {
   "cell_type": "code",
   "execution_count": 17,
   "id": "27b7137c",
   "metadata": {},
   "outputs": [
    {
     "name": "stdout",
     "output_type": "stream",
     "text": [
      "[[51  5  6  7]\n",
      " [52 15 16 17]\n",
      " [53 25 26 27]\n",
      " [54 35 36 37]\n",
      " [55 45 46 47]\n",
      " [54 55 56 57]\n",
      " [64 65 66 67]\n",
      " [74 75 76 77]\n",
      " [84 85 86 87]\n",
      " [94 95 96 97]\n",
      " [51  5  6  7]\n",
      " [52 15 16 17]\n",
      " [53 25 26 27]\n",
      " [54 35 36 37]\n",
      " [55 45 46 47]]\n"
     ]
    }
   ],
   "source": [
    "# merge verically\n",
    "b3 = np.concatenate((b1, b2))\n",
    "print(b3) \n"
   ]
  },
  {
   "cell_type": "code",
   "execution_count": 18,
   "id": "9c65bb41",
   "metadata": {},
   "outputs": [
    {
     "name": "stdout",
     "output_type": "stream",
     "text": [
      "[array([[51,  5,  6,  7],\n",
      "       [52, 15, 16, 17],\n",
      "       [53, 25, 26, 27],\n",
      "       [54, 35, 36, 37],\n",
      "       [55, 45, 46, 47]]), array([[54, 55, 56, 57],\n",
      "       [64, 65, 66, 67],\n",
      "       [74, 75, 76, 77],\n",
      "       [84, 85, 86, 87],\n",
      "       [94, 95, 96, 97]]), array([[51,  5,  6,  7],\n",
      "       [52, 15, 16, 17],\n",
      "       [53, 25, 26, 27],\n",
      "       [54, 35, 36, 37],\n",
      "       [55, 45, 46, 47]])]\n"
     ]
    }
   ],
   "source": [
    "# Split the array\n",
    "b4 = np.array_split(b3, 3)\n",
    "print(b4) "
   ]
  },
  {
   "cell_type": "code",
   "execution_count": 19,
   "id": "2cd2a60b",
   "metadata": {},
   "outputs": [
    {
     "name": "stdout",
     "output_type": "stream",
     "text": [
      "[51 51 52 52 53 53 54 54 54 55 55 64 74 84 94]\n"
     ]
    }
   ],
   "source": [
    "# sorting array\n",
    "b4 = np.sort(b3[ : , 0])\n",
    "print(b4) "
   ]
  },
  {
   "cell_type": "code",
   "execution_count": 20,
   "id": "08c6b902",
   "metadata": {},
   "outputs": [
    {
     "name": "stdout",
     "output_type": "stream",
     "text": [
      "[False False False False False False False  True  True  True False False\n",
      " False False False]\n"
     ]
    }
   ],
   "source": [
    "# filter array\n",
    "b5 = b3[ : , 0] > 70\n",
    "print(b5)\n"
   ]
  },
  {
   "cell_type": "code",
   "execution_count": 21,
   "id": "95a16eab",
   "metadata": {},
   "outputs": [
    {
     "name": "stdout",
     "output_type": "stream",
     "text": [
      "900\n",
      "51\n",
      "94\n",
      "[ 51 103 156 210 265 319 383 457 541 635 686 738 791 845 900]\n"
     ]
    }
   ],
   "source": [
    "# sum, min, max, cumulative sum\n",
    "\n",
    "print(sum(b3[:, 0]))\n",
    "print(min(b3[:, 0]))\n",
    "print(max(b3[:, 0]))\n",
    "print(np.cumsum(b3[:, 0]))"
   ]
  },
  {
   "cell_type": "markdown",
   "id": "baeb654f",
   "metadata": {},
   "source": [
    "\n",
    "# Pandas library\n",
    "# Series and DataFrame\n",
    "# Learning simple methods\n"
   ]
  },
  {
   "cell_type": "code",
   "execution_count": 22,
   "id": "5d410465",
   "metadata": {},
   "outputs": [],
   "source": [
    "from pandas import Series, DataFrame"
   ]
  },
  {
   "cell_type": "code",
   "execution_count": 23,
   "id": "51205c1e",
   "metadata": {},
   "outputs": [
    {
     "name": "stdout",
     "output_type": "stream",
     "text": [
      "a    25000\n",
      "b    22000\n",
      "c    28000\n",
      "d    26500\n",
      "e    32000\n",
      "dtype: int64\n"
     ]
    }
   ],
   "source": [
    "salary = Series([25000, 22000, 28000, 26500, 32000], index=['a', 'b', 'c', 'd', 'e'])\n",
    "print(salary)"
   ]
  },
  {
   "cell_type": "code",
   "execution_count": 24,
   "id": "e1135bcf",
   "metadata": {},
   "outputs": [
    {
     "name": "stdout",
     "output_type": "stream",
     "text": [
      "22000 26500\n"
     ]
    }
   ],
   "source": [
    "# section c\n",
    "c = salary\n",
    "# select specific value\n",
    "print(c['b'],c['d'])"
   ]
  },
  {
   "cell_type": "code",
   "execution_count": 25,
   "id": "7ae241e8",
   "metadata": {},
   "outputs": [
    {
     "name": "stdout",
     "output_type": "stream",
     "text": [
      "Index(['a', 'b', 'c', 'd', 'e'], dtype='object')\n",
      "[25000 22000 28000 26500 32000]\n"
     ]
    }
   ],
   "source": [
    "# check index and values\n",
    "print(c.index)\n",
    "print(c.values)"
   ]
  },
  {
   "cell_type": "code",
   "execution_count": 26,
   "id": "6ddc9401",
   "metadata": {},
   "outputs": [
    {
     "name": "stdout",
     "output_type": "stream",
     "text": [
      "a    25000\n",
      "b    22000\n",
      "dtype: int64\n"
     ]
    }
   ],
   "source": [
    "# apply condition\n",
    "print(c[c <= 25000])"
   ]
  },
  {
   "cell_type": "markdown",
   "id": "89515b60",
   "metadata": {},
   "source": [
    "# section d\n",
    "# Creating DatFrame"
   ]
  },
  {
   "cell_type": "code",
   "execution_count": 27,
   "id": "4cfd4466",
   "metadata": {},
   "outputs": [],
   "source": [
    "nan = np.nan\n",
    "d = pd.DataFrame( { 'category' : ( ['electronics', 'men\"s clothing', 'womens clothing' ]), \n",
    "                  'sales-in-units' : np.array([nan, 3,5]), 'date': pd.Timestamp('20221110'),\n",
    "                  '# of customers': np.array([nan, nan, nan])})\n"
   ]
  },
  {
   "cell_type": "code",
   "execution_count": 28,
   "id": "dcd1c706",
   "metadata": {},
   "outputs": [
    {
     "name": "stdout",
     "output_type": "stream",
     "text": [
      "          category  sales-in-units       date  # of customers\n",
      "0      electronics             NaN 2022-11-10             NaN\n",
      "1   men\"s clothing             3.0 2022-11-10             NaN\n",
      "2  womens clothing             5.0 2022-11-10             NaN\n"
     ]
    }
   ],
   "source": [
    "print(d)\n"
   ]
  },
  {
   "cell_type": "code",
   "execution_count": 29,
   "id": "0ea53c4f",
   "metadata": {},
   "outputs": [
    {
     "name": "stdout",
     "output_type": "stream",
     "text": [
      "<class 'pandas.core.frame.DataFrame'>\n",
      "RangeIndex: 3 entries, 0 to 2\n",
      "Data columns (total 4 columns):\n",
      " #   Column          Non-Null Count  Dtype         \n",
      "---  ------          --------------  -----         \n",
      " 0   category        3 non-null      object        \n",
      " 1   sales-in-units  2 non-null      float64       \n",
      " 2   date            3 non-null      datetime64[ns]\n",
      " 3   # of customers  0 non-null      float64       \n",
      "dtypes: datetime64[ns](1), float64(2), object(1)\n",
      "memory usage: 224.0+ bytes\n",
      "None\n"
     ]
    }
   ],
   "source": [
    "print(d.info())"
   ]
  },
  {
   "cell_type": "markdown",
   "id": "9b038a5b",
   "metadata": {},
   "source": [
    "# fixing the missing values"
   ]
  },
  {
   "cell_type": "code",
   "execution_count": 30,
   "id": "018250f6",
   "metadata": {},
   "outputs": [
    {
     "name": "stdout",
     "output_type": "stream",
     "text": [
      "Empty DataFrame\n",
      "Columns: [category, sales-in-units, date, # of customers]\n",
      "Index: []\n",
      "          category  sales-in-units       date\n",
      "0      electronics             NaN 2022-11-10\n",
      "1   men\"s clothing             3.0 2022-11-10\n",
      "2  womens clothing             5.0 2022-11-10\n",
      "          category  sales-in-units       date  # of customers\n",
      "0      electronics             NaN 2022-11-10             NaN\n",
      "1   men\"s clothing             3.0 2022-11-10             NaN\n",
      "2  womens clothing             5.0 2022-11-10             NaN\n",
      "          category  sales-in-units       date  # of customers\n",
      "1   men\"s clothing             3.0 2022-11-10             NaN\n",
      "2  womens clothing             5.0 2022-11-10             NaN\n",
      "Empty DataFrame\n",
      "Columns: [category, sales-in-units, date, # of customers]\n",
      "Index: []\n"
     ]
    }
   ],
   "source": [
    "print(d.dropna(axis=0))  # type 1/get columns. Raw borabor value remove korbe\n",
    "print(d.dropna(axis=1, how='all'))  # remove column with all missing values\n",
    "print(d.dropna(axis=0, how='all'))  # remove row with all missing values\n",
    "print(d.dropna(thresh=3))   # type 2 .3 ta column ar missing value pale bard dibe\n",
    "print(d.dropna(how='any'))  # type 1/any row having missing value"
   ]
  },
  {
   "cell_type": "markdown",
   "id": "e10b253c",
   "metadata": {},
   "source": [
    "# Merging data frame\n",
    "## 1 ti common column thakbe"
   ]
  },
  {
   "cell_type": "code",
   "execution_count": 31,
   "id": "72989177",
   "metadata": {},
   "outputs": [
    {
     "name": "stdout",
     "output_type": "stream",
     "text": [
      "          category  sales-in-units_x  sales-in-units_y\n",
      "0      electronics                 1                 3\n",
      "1   men\"s clothing                 6                 7\n",
      "2  womens clothing                 6                 2\n"
     ]
    }
   ],
   "source": [
    "left_df2 = pd.DataFrame( { 'category' : ( ['electronics', 'men\"s clothing', 'womens clothing' ]), \n",
    "                  'sales-in-units' : np.array([1, 6, 6])})\n",
    "\n",
    "right_df2 = pd.DataFrame( { 'category' : ( ['electronics', 'men\"s clothing', 'womens clothing', ]), \n",
    "                        'sales-in-units' : np.array([3, 7, 2])})\n",
    "\n",
    "d2 = pd.merge(left_df2, right_df2, on='category', how='left') ## category common column\n",
    "\n",
    "print(d2)"
   ]
  },
  {
   "cell_type": "markdown",
   "id": "dd2a5090",
   "metadata": {},
   "source": [
    "### rename columns"
   ]
  },
  {
   "cell_type": "code",
   "execution_count": 32,
   "id": "3537ed22",
   "metadata": {},
   "outputs": [
    {
     "name": "stdout",
     "output_type": "stream",
     "text": [
      "          category  Morning  Eveniing\n",
      "0      electronics        1         3\n",
      "1   men\"s clothing        6         7\n",
      "2  womens clothing        6         2\n"
     ]
    }
   ],
   "source": [
    "d2.rename(columns = {'sales-in-units_x':'Morning', 'sales-in-units_y':'Eveniing'}, inplace = True)\n",
    "print(d2)"
   ]
  },
  {
   "cell_type": "code",
   "execution_count": 33,
   "id": "eab1ba80",
   "metadata": {},
   "outputs": [],
   "source": [
    "d3 = pd.DataFrame( {\"a\":['one','two','thr','four'],\n",
    "                 'b': [4,5,1,2], 'c': [8,7,6,9],\n",
    "                 'd': [6,1,3,4]} )\n",
    "d4 = pd.DataFrame( {\"a\":['two','thr','four','five'],\n",
    "                 'b': [7,0,1,2], 'c': [10,70,60,90],\n",
    "                 'd': [60,10,30,40]} )\n"
   ]
  },
  {
   "cell_type": "code",
   "execution_count": 34,
   "id": "6440bd23",
   "metadata": {},
   "outputs": [
    {
     "name": "stdout",
     "output_type": "stream",
     "text": [
      "      a  b_x  c_x  d_x  b_y  c_y  d_y\n",
      "0   two    5    7    1    7   10   60\n",
      "1   thr    1    6    3    0   70   10\n",
      "2  four    2    9    4    1   60   30\n"
     ]
    }
   ],
   "source": [
    "d5 = pd.merge(d3, d4, on='a')\n",
    "print(d5)"
   ]
  },
  {
   "cell_type": "markdown",
   "id": "67a5e78b",
   "metadata": {},
   "source": [
    "### Replace methods"
   ]
  },
  {
   "cell_type": "code",
   "execution_count": 35,
   "id": "ba5a575d",
   "metadata": {},
   "outputs": [],
   "source": [
    "d6 = pd.DataFrame( { 'one': pd.Series([5,6,7,8,9], index=['a','b','c','d','e']),\n",
    "                  'two': pd.Series([11,12,13,14,15], index = ['m','n','o','p','q'])   })"
   ]
  },
  {
   "cell_type": "code",
   "execution_count": 36,
   "id": "2f17ced1",
   "metadata": {},
   "outputs": [
    {
     "name": "stdout",
     "output_type": "stream",
     "text": [
      "   one   two\n",
      "a  5.0   NaN\n",
      "b  6.0   NaN\n",
      "c  7.0   NaN\n",
      "d  8.0   NaN\n",
      "e  9.0   NaN\n",
      "m  NaN  11.0\n",
      "n  NaN  12.0\n",
      "o  NaN  13.0\n",
      "p  NaN  14.0\n",
      "q  NaN  15.0\n"
     ]
    }
   ],
   "source": [
    "print(d6)"
   ]
  },
  {
   "cell_type": "code",
   "execution_count": 37,
   "id": "5dc72524",
   "metadata": {},
   "outputs": [
    {
     "name": "stdout",
     "output_type": "stream",
     "text": [
      "     one     two\n",
      "a  500.0     NaN\n",
      "b    6.0     NaN\n",
      "c    7.0     NaN\n",
      "d    8.0     NaN\n",
      "e    9.0     NaN\n",
      "m    NaN    11.0\n",
      "n    NaN    12.0\n",
      "o    NaN  1300.0\n",
      "p    NaN    14.0\n",
      "q    NaN    15.0\n"
     ]
    }
   ],
   "source": [
    "print(d6.replace([5, 13], [500, 1300]))"
   ]
  },
  {
   "cell_type": "code",
   "execution_count": 38,
   "id": "123f2d0a",
   "metadata": {},
   "outputs": [
    {
     "name": "stdout",
     "output_type": "stream",
     "text": [
      "          category  sales-in-units\n",
      "0      electronics               1\n",
      "1   men\"s clothing               6\n",
      "2  womens clothing               6\n",
      "          category  sales-in-units  num of customers\n",
      "0      electronics               1                50\n",
      "1   men\"s clothing               6                55\n",
      "2  womens clothing               6                65\n"
     ]
    }
   ],
   "source": [
    "# adding column in dataframe\n",
    "d7 = pd.DataFrame( { 'category' : ( ['electronics', 'men\"s clothing', 'womens clothing' ]), \n",
    "                  'sales-in-units' : np.array([1, 6, 6])})\n",
    "\n",
    "print(d7)\n",
    "new_col = {'electronics': 50, 'men\"s clothing': 55,  'womens clothing' : 65}\n",
    "\n",
    "d7['num of customers'] = d7['category'].map(new_col)\n",
    "\n",
    "print(d7)"
   ]
  },
  {
   "cell_type": "markdown",
   "id": "417e40d2",
   "metadata": {},
   "source": [
    "#  section e"
   ]
  },
  {
   "cell_type": "code",
   "execution_count": 39,
   "id": "b98ae911",
   "metadata": {},
   "outputs": [
    {
     "data": {
      "text/html": [
       "<div>\n",
       "<style scoped>\n",
       "    .dataframe tbody tr th:only-of-type {\n",
       "        vertical-align: middle;\n",
       "    }\n",
       "\n",
       "    .dataframe tbody tr th {\n",
       "        vertical-align: top;\n",
       "    }\n",
       "\n",
       "    .dataframe thead th {\n",
       "        text-align: right;\n",
       "    }\n",
       "</style>\n",
       "<table border=\"1\" class=\"dataframe\">\n",
       "  <thead>\n",
       "    <tr style=\"text-align: right;\">\n",
       "      <th></th>\n",
       "      <th>carat</th>\n",
       "      <th>cut</th>\n",
       "      <th>color</th>\n",
       "      <th>clarity</th>\n",
       "      <th>depth</th>\n",
       "      <th>table</th>\n",
       "      <th>price</th>\n",
       "      <th>x</th>\n",
       "      <th>y</th>\n",
       "      <th>z</th>\n",
       "    </tr>\n",
       "  </thead>\n",
       "  <tbody>\n",
       "    <tr>\n",
       "      <th>0</th>\n",
       "      <td>0.23</td>\n",
       "      <td>Ideal</td>\n",
       "      <td>E</td>\n",
       "      <td>SI2</td>\n",
       "      <td>61.5</td>\n",
       "      <td>55.0</td>\n",
       "      <td>326</td>\n",
       "      <td>3.95</td>\n",
       "      <td>3.98</td>\n",
       "      <td>2.43</td>\n",
       "    </tr>\n",
       "    <tr>\n",
       "      <th>1</th>\n",
       "      <td>0.21</td>\n",
       "      <td>Premium</td>\n",
       "      <td>E</td>\n",
       "      <td>SI1</td>\n",
       "      <td>59.8</td>\n",
       "      <td>61.0</td>\n",
       "      <td>326</td>\n",
       "      <td>3.89</td>\n",
       "      <td>3.84</td>\n",
       "      <td>2.31</td>\n",
       "    </tr>\n",
       "    <tr>\n",
       "      <th>2</th>\n",
       "      <td>0.23</td>\n",
       "      <td>Good</td>\n",
       "      <td>E</td>\n",
       "      <td>VS1</td>\n",
       "      <td>56.9</td>\n",
       "      <td>65.0</td>\n",
       "      <td>327</td>\n",
       "      <td>4.05</td>\n",
       "      <td>4.07</td>\n",
       "      <td>2.31</td>\n",
       "    </tr>\n",
       "    <tr>\n",
       "      <th>3</th>\n",
       "      <td>0.29</td>\n",
       "      <td>Premium</td>\n",
       "      <td>I</td>\n",
       "      <td>VS2</td>\n",
       "      <td>62.4</td>\n",
       "      <td>58.0</td>\n",
       "      <td>334</td>\n",
       "      <td>4.20</td>\n",
       "      <td>4.23</td>\n",
       "      <td>2.63</td>\n",
       "    </tr>\n",
       "    <tr>\n",
       "      <th>4</th>\n",
       "      <td>0.31</td>\n",
       "      <td>Good</td>\n",
       "      <td>J</td>\n",
       "      <td>SI2</td>\n",
       "      <td>63.3</td>\n",
       "      <td>58.0</td>\n",
       "      <td>335</td>\n",
       "      <td>4.34</td>\n",
       "      <td>4.35</td>\n",
       "      <td>2.75</td>\n",
       "    </tr>\n",
       "  </tbody>\n",
       "</table>\n",
       "</div>"
      ],
      "text/plain": [
       "   carat      cut color clarity  depth  table  price     x     y     z\n",
       "0   0.23    Ideal     E     SI2   61.5   55.0    326  3.95  3.98  2.43\n",
       "1   0.21  Premium     E     SI1   59.8   61.0    326  3.89  3.84  2.31\n",
       "2   0.23     Good     E     VS1   56.9   65.0    327  4.05  4.07  2.31\n",
       "3   0.29  Premium     I     VS2   62.4   58.0    334  4.20  4.23  2.63\n",
       "4   0.31     Good     J     SI2   63.3   58.0    335  4.34  4.35  2.75"
      ]
     },
     "execution_count": 39,
     "metadata": {},
     "output_type": "execute_result"
    }
   ],
   "source": [
    "df = pd.read_csv('d.csv')\n",
    "df.head()"
   ]
  },
  {
   "cell_type": "code",
   "execution_count": 40,
   "id": "4612b49f",
   "metadata": {},
   "outputs": [
    {
     "name": "stdout",
     "output_type": "stream",
     "text": [
      "<class 'pandas.core.frame.DataFrame'>\n",
      "RangeIndex: 53940 entries, 0 to 53939\n",
      "Data columns (total 10 columns):\n",
      " #   Column   Non-Null Count  Dtype  \n",
      "---  ------   --------------  -----  \n",
      " 0   carat    53940 non-null  float64\n",
      " 1   cut      53940 non-null  object \n",
      " 2   color    53940 non-null  object \n",
      " 3   clarity  53940 non-null  object \n",
      " 4   depth    53940 non-null  float64\n",
      " 5   table    53940 non-null  float64\n",
      " 6   price    53940 non-null  int64  \n",
      " 7   x        53940 non-null  float64\n",
      " 8   y        53940 non-null  float64\n",
      " 9   z        53940 non-null  float64\n",
      "dtypes: float64(6), int64(1), object(3)\n",
      "memory usage: 4.1+ MB\n",
      "None\n"
     ]
    }
   ],
   "source": [
    "# columns, dtypes, info, values\n",
    "e1 = df.info()\n",
    "print(e1)"
   ]
  },
  {
   "cell_type": "code",
   "execution_count": 41,
   "id": "fc139381",
   "metadata": {},
   "outputs": [
    {
     "name": "stdout",
     "output_type": "stream",
     "text": [
      "Index(['carat', 'cut', 'color', 'clarity', 'depth', 'table', 'price', 'x', 'y',\n",
      "       'z'],\n",
      "      dtype='object')\n"
     ]
    }
   ],
   "source": [
    "# column names\n",
    "e2 = df.columns\n",
    "print(e2)"
   ]
  },
  {
   "cell_type": "code",
   "execution_count": 42,
   "id": "655ee2f2",
   "metadata": {},
   "outputs": [
    {
     "name": "stdout",
     "output_type": "stream",
     "text": [
      "(53940, 10)\n",
      "539400\n"
     ]
    }
   ],
   "source": [
    "# shape and size of dataset\n",
    "e3 = df.shape\n",
    "print(e3)\n",
    "e4 = df.size\n",
    "print(e4)"
   ]
  },
  {
   "cell_type": "code",
   "execution_count": 43,
   "id": "5f33273b",
   "metadata": {},
   "outputs": [
    {
     "name": "stdout",
     "output_type": "stream",
     "text": [
      "0        False\n",
      "1        False\n",
      "2        False\n",
      "3        False\n",
      "4        False\n",
      "         ...  \n",
      "53935    False\n",
      "53936    False\n",
      "53937    False\n",
      "53938    False\n",
      "53939    False\n",
      "Name: cut, Length: 53940, dtype: bool\n"
     ]
    }
   ],
   "source": [
    "# finding missing data (True / false)\n",
    "e5 = pd.isna(df['cut'])\n",
    "print(e5)"
   ]
  },
  {
   "cell_type": "code",
   "execution_count": 44,
   "id": "2edd0f54",
   "metadata": {},
   "outputs": [
    {
     "name": "stdout",
     "output_type": "stream",
     "text": [
      "     carat        cut color clarity  depth  table  price     x     y     z\n",
      "100   0.75  Very Good     D     SI1   63.2   56.0   2760  5.80  5.75  3.65\n",
      "101   0.75    Premium     E     SI1   59.9   54.0   2760  6.00  5.96  3.58\n",
      "102   0.74      Ideal     G     SI1   61.6   55.0   2760  5.80  5.85  3.59\n",
      "103   0.75    Premium     G     VS2   61.7   58.0   2760  5.85  5.79  3.59\n",
      "104   0.80      Ideal     I     VS1   62.9   56.0   2760  5.94  5.87  3.72\n",
      "105   0.75      Ideal     G     SI1   62.2   55.0   2760  5.87  5.80  3.63\n",
      "106   0.80    Premium     G     SI1   63.0   59.0   2760  5.90  5.81  3.69\n",
      "107   0.74      Ideal     I    VVS2   62.3   55.0   2761  5.77  5.81  3.61\n",
      "108   0.81      Ideal     F     SI2   58.8   57.0   2761  6.14  6.11  3.60\n",
      "109   0.59      Ideal     E    VVS2   62.0   55.0   2761  5.38  5.43  3.35\n",
      "110   0.80      Ideal     F     SI2   61.4   57.0   2761  5.96  6.00  3.67\n",
      "111   0.74      Ideal     E     SI2   62.2   56.0   2761  5.80  5.84  3.62\n",
      "112   0.90    Premium     I     VS2   63.0   58.0   2761  6.16  6.12  3.87\n",
      "113   0.74  Very Good     G     SI1   62.2   59.0   2762  5.73  5.82  3.59\n",
      "114   0.73      Ideal     F     VS2   62.6   56.0   2762  5.77  5.74  3.60\n",
      "115   0.73      Ideal     F     VS2   62.7   53.0   2762  5.80  5.75  3.62\n",
      "116   0.80    Premium     F     SI2   61.7   58.0   2762  5.98  5.94  3.68\n",
      "117   0.71      Ideal     G     VS2   62.4   54.0   2762  5.72  5.76  3.58\n",
      "118   0.70      Ideal     E     VS2   60.7   58.0   2762  5.73  5.76  3.49\n",
      "119   0.80      Ideal     F     SI2   59.9   59.0   2762  6.01  6.07  3.62\n"
     ]
    }
   ],
   "source": [
    "# random location from rows\n",
    "e6 = df[ 100: 120]\n",
    "print(e6)"
   ]
  },
  {
   "cell_type": "code",
   "execution_count": 45,
   "id": "2c411685",
   "metadata": {},
   "outputs": [
    {
     "name": "stdout",
     "output_type": "stream",
     "text": [
      "110        Ideal\n",
      "111        Ideal\n",
      "112      Premium\n",
      "113    Very Good\n",
      "114        Ideal\n",
      "115        Ideal\n",
      "116      Premium\n",
      "117        Ideal\n",
      "118        Ideal\n",
      "119        Ideal\n",
      "120        Ideal\n",
      "Name: cut, dtype: object\n"
     ]
    }
   ],
   "source": [
    "# extract sungle column\n",
    "e7 = df[\"cut\"][110:121]\n",
    "print(e7)\n"
   ]
  },
  {
   "cell_type": "code",
   "execution_count": 46,
   "id": "c6aafa65",
   "metadata": {},
   "outputs": [
    {
     "name": "stdout",
     "output_type": "stream",
     "text": [
      "           cut color  depth\n",
      "110      Ideal     F   61.4\n",
      "111      Ideal     E   62.2\n",
      "112    Premium     I   63.0\n",
      "113  Very Good     G   62.2\n",
      "114      Ideal     F   62.6\n",
      "115      Ideal     F   62.7\n",
      "116    Premium     F   61.7\n",
      "117      Ideal     G   62.4\n",
      "118      Ideal     E   60.7\n",
      "119      Ideal     F   59.9\n",
      "120      Ideal     D   62.3\n"
     ]
    }
   ],
   "source": [
    "# extract multiple columns\n",
    "e8 = df[[\"cut\", \"color\", 'depth']][110:121]\n",
    "print(e8)"
   ]
  },
  {
   "cell_type": "code",
   "execution_count": 47,
   "id": "b02738d9",
   "metadata": {},
   "outputs": [
    {
     "name": "stdout",
     "output_type": "stream",
     "text": [
      "Ideal        21551\n",
      "Premium      13791\n",
      "Very Good    12082\n",
      "Good          4906\n",
      "Fair          1610\n",
      "Name: cut, dtype: int64\n"
     ]
    }
   ],
   "source": [
    "# frequency distribution of columns in case of categorical values\n",
    "e9 = df[\"cut\"].value_counts()\n",
    "print(e9)\n",
    "\n"
   ]
  },
  {
   "cell_type": "code",
   "execution_count": 48,
   "id": "28ea5778",
   "metadata": {},
   "outputs": [
    {
     "name": "stdout",
     "output_type": "stream",
     "text": [
      "G    11292\n",
      "E     9797\n",
      "F     9542\n",
      "H     8304\n",
      "D     6775\n",
      "I     5422\n",
      "J     2808\n",
      "Name: color, dtype: int64\n"
     ]
    }
   ],
   "source": [
    "e10 = df[\"color\"].value_counts()\n",
    "print(e10)"
   ]
  },
  {
   "cell_type": "code",
   "execution_count": 49,
   "id": "eb843605",
   "metadata": {},
   "outputs": [
    {
     "name": "stdout",
     "output_type": "stream",
     "text": [
      "AxesSubplot(0.125,0.125;0.775x0.755)\n",
      "AxesSubplot(0.125,0.125;0.775x0.755)\n"
     ]
    },
    {
     "data": {
      "image/png": "[encoded data removed]",
      "text/plain": [
       "<Figure size 432x288 with 1 Axes>"
      ]
     },
     "metadata": {
      "needs_background": "light"
     },
     "output_type": "display_data"
    }
   ],
   "source": [
    "# frequency plotting\n",
    "print(e9.plot(kind=\"bar\"))\n",
    "print(e10.plot(kind=\"bar\"))"
   ]
  },
  {
   "cell_type": "code",
   "execution_count": 50,
   "id": "4d966b7a",
   "metadata": {},
   "outputs": [
    {
     "name": "stdout",
     "output_type": "stream",
     "text": [
      "['Ideal' 'Premium' 'Good' 'Very Good' 'Fair']\n"
     ]
    }
   ],
   "source": [
    "# fatorize and unique\n",
    "e11 = pd.unique(df['cut'])\n",
    "print(e11)"
   ]
  },
  {
   "cell_type": "code",
   "execution_count": 51,
   "id": "23a46a41",
   "metadata": {},
   "outputs": [
    {
     "name": "stdout",
     "output_type": "stream",
     "text": [
      "(array([0, 1, 2, ..., 3, 1, 0], dtype=int64), Index(['Ideal', 'Premium', 'Good', 'Very Good', 'Fair'], dtype='object'))\n"
     ]
    }
   ],
   "source": [
    "e12 = pd.factorize(df['cut'])\n",
    "print(e12)"
   ]
  },
  {
   "cell_type": "code",
   "execution_count": 52,
   "id": "a2c584ab",
   "metadata": {},
   "outputs": [
    {
     "name": "stdout",
     "output_type": "stream",
     "text": [
      "       carat        cut color clarity  depth  table  price     x     y     z\n",
      "11368   1.04      Ideal     I     VS1   62.9   43.0   4997  6.45  6.41  4.04\n",
      "35633   0.29  Very Good     E     VS1   62.8   44.0    474  4.20  4.24  2.65\n",
      "5979    1.00       Fair     I     VS1   64.0   49.0   3951  6.43  6.39  4.10\n",
      "22701   0.30       Fair     E     SI1   64.5   49.0    630  4.28  4.25  2.75\n",
      "25179   2.00       Fair     H     SI1   61.2   50.0  13764  8.17  8.08  4.97\n",
      "...      ...        ...   ...     ...    ...    ...    ...   ...   ...   ...\n",
      "52861   0.50       Fair     E     VS2   79.0   73.0   2579  5.21  5.18  4.09\n",
      "52860   0.50       Fair     E     VS2   79.0   73.0   2579  5.21  5.18  4.09\n",
      "51342   0.79       Fair     G     SI1   65.3   76.0   2362  5.52  5.13  3.35\n",
      "50773   0.81       Fair     F     SI2   68.8   79.0   2301  5.26  5.20  3.58\n",
      "24932   2.01       Fair     F     SI1   58.6   95.0  13387  8.32  8.31  4.87\n",
      "\n",
      "[53940 rows x 10 columns]\n"
     ]
    }
   ],
   "source": [
    "# rearranging data based on single column / data sorting\n",
    "e13 = df.sort_values([\"table\"])\n",
    "print(e13)"
   ]
  },
  {
   "cell_type": "code",
   "execution_count": 53,
   "id": "0e61988d",
   "metadata": {},
   "outputs": [
    {
     "data": {
      "text/plain": [
       "53939    D\n",
       "7817     D\n",
       "7816     D\n",
       "7815     D\n",
       "7809     D\n",
       "Name: color, dtype: object"
      ]
     },
     "execution_count": 53,
     "metadata": {},
     "output_type": "execute_result"
    }
   ],
   "source": [
    "e14 = df.sort_values([\"color\"])\n",
    "e14[\"color\"].head()\n"
   ]
  },
  {
   "cell_type": "code",
   "execution_count": 54,
   "id": "f31a76c7",
   "metadata": {},
   "outputs": [
    {
     "name": "stdout",
     "output_type": "stream",
     "text": [
      "['SI2', 'SI2', 'SI2', 'SI2', 'IF', 'SI1', 'SI1', 'VS2', 'VS2', 'VS1', 'VVS1', 'VVS1', 'VS2', 'SI1', 'VVS1', 'SI1', 'VS2', 'VS2', 'VS2', 'VS2', 'VS2', 'VS2', 'VS2', 'VS1', 'SI2', 'VS2', 'VVS1', 'VVS1', 'VS2', 'SI1', 'VS2', 'VS2', 'VVS2', 'VS2', 'SI2', 'SI2', 'VS1', 'VS1', 'VS2', 'SI1', 'VS2', 'VS1', 'VS2', 'VS2', 'SI2', 'VS2', 'VS2', 'VVS2', 'VVS2', 'IF']\n"
     ]
    }
   ],
   "source": [
    "e15 = e14[\"clarity\"].to_list()\n",
    "print(e15[:50])"
   ]
  },
  {
   "cell_type": "code",
   "execution_count": 55,
   "id": "649b67e0",
   "metadata": {},
   "outputs": [
    {
     "name": "stdout",
     "output_type": "stream",
     "text": [
      "0        0\n",
      "1        0\n",
      "2        0\n",
      "3        0\n",
      "4        0\n",
      "        ..\n",
      "53935    0\n",
      "53936    0\n",
      "53937    0\n",
      "53938    0\n",
      "53939    0\n",
      "Name: carat, Length: 53940, dtype: int32\n"
     ]
    }
   ],
   "source": [
    "# using astype\n",
    "e16 = df['carat']\n",
    "e17 = e16.astype(int)\n",
    "print(e17)"
   ]
  },
  {
   "cell_type": "code",
   "execution_count": 56,
   "id": "54714542",
   "metadata": {},
   "outputs": [
    {
     "name": "stdout",
     "output_type": "stream",
     "text": [
      "0        0.23\n",
      "1        0.21\n",
      "2        0.23\n",
      "3        0.29\n",
      "4        0.31\n",
      "         ... \n",
      "53935    0.72\n",
      "53936    0.72\n",
      "53937    0.70\n",
      "53938    0.86\n",
      "53939    0.75\n",
      "Name: carat, Length: 53940, dtype: float64\n"
     ]
    }
   ],
   "source": [
    "e18 = e16.round(2)\n",
    "print(e18)"
   ]
  },
  {
   "cell_type": "code",
   "execution_count": 57,
   "id": "072293e5",
   "metadata": {},
   "outputs": [
    {
     "name": "stdout",
     "output_type": "stream",
     "text": [
      "   carat      cut color clarity\n",
      "0   0.23    Ideal     E     SI2\n",
      "1   0.21  Premium     E     SI1\n",
      "2   0.23     Good     E     VS1\n",
      "3   0.29  Premium     I     VS2\n",
      "4   0.31     Good     J     SI2\n"
     ]
    }
   ],
   "source": [
    "# creating subdataset\n",
    "e19 = df[['carat', 'cut', 'color', 'clarity']]\n",
    "print(e19.head())\n"
   ]
  },
  {
   "cell_type": "code",
   "execution_count": 58,
   "id": "f027b5da",
   "metadata": {},
   "outputs": [
    {
     "name": "stdout",
     "output_type": "stream",
     "text": [
      "column name:  x\n",
      "mean value:  5.731157211716609\n",
      "column name:  y\n",
      "mean value:  5.734525954764462\n",
      "column name:  z\n",
      "mean value:  3.5387337782723316\n"
     ]
    }
   ],
   "source": [
    "# find some basic results using for loop\n",
    "col=['x', 'y', 'z']\n",
    "for j in col:\n",
    "    m = np.mean(df[j])\n",
    "    print(\"column name: \", j)\n",
    "    print(\"mean value: \", m)"
   ]
  },
  {
   "cell_type": "markdown",
   "id": "e0803343",
   "metadata": {},
   "source": [
    "# section f\n",
    "# some advanced functions \n",
    "# new dataset"
   ]
  },
  {
   "cell_type": "code",
   "execution_count": 59,
   "id": "c644d9e2",
   "metadata": {},
   "outputs": [
    {
     "name": "stdout",
     "output_type": "stream",
     "text": [
      "Index(['index', 'dteday', 'season', 'yr', 'mnth', 'holiday', 'weekday',\n",
      "       'workingday', 'weathersit', 'temp', 'atemp', 'hum', 'windspeed',\n",
      "       'casual', 'registered', 'cnt'],\n",
      "      dtype='object')\n"
     ]
    }
   ],
   "source": [
    "dt = pd.read_csv('day.csv')\n",
    "print(dt.columns)"
   ]
  },
  {
   "cell_type": "code",
   "execution_count": 60,
   "id": "720070c0",
   "metadata": {},
   "outputs": [
    {
     "name": "stdout",
     "output_type": "stream",
     "text": [
      "   weathersit      temp     atemp       hum  windspeed\n",
      "0           2  0.344167  0.363625  0.805833   0.160446\n",
      "1           2  0.363478  0.353739  0.696087   0.248539\n",
      "2           1  0.196364  0.189405  0.437273   0.248309\n",
      "3           1  0.200000  0.212122  0.590435   0.160296\n",
      "4           1  0.226957  0.229270  0.436957   0.186900\n"
     ]
    }
   ],
   "source": [
    "#creating subset\n",
    "f1 = dt[['weathersit', 'temp', 'atemp', 'hum', 'windspeed']]\n",
    "print(f1.head())\n"
   ]
  },
  {
   "cell_type": "code",
   "execution_count": 61,
   "id": "0e01c25f",
   "metadata": {},
   "outputs": [
    {
     "name": "stdout",
     "output_type": "stream",
     "text": [
      "<class 'pandas.core.frame.DataFrame'>\n",
      "RangeIndex: 731 entries, 0 to 730\n",
      "Data columns (total 5 columns):\n",
      " #   Column      Non-Null Count  Dtype  \n",
      "---  ------      --------------  -----  \n",
      " 0   weathersit  731 non-null    int64  \n",
      " 1   temp        731 non-null    float64\n",
      " 2   atemp       731 non-null    float64\n",
      " 3   hum         731 non-null    float64\n",
      " 4   windspeed   731 non-null    float64\n",
      "dtypes: float64(4), int64(1)\n",
      "memory usage: 28.7 KB\n",
      "None\n"
     ]
    }
   ],
   "source": [
    "print(f1.info())"
   ]
  },
  {
   "cell_type": "code",
   "execution_count": 62,
   "id": "8732ee5a",
   "metadata": {},
   "outputs": [
    {
     "name": "stdout",
     "output_type": "stream",
     "text": [
      "<class 'pandas.core.frame.DataFrame'>\n",
      "RangeIndex: 731 entries, 0 to 730\n",
      "Data columns (total 6 columns):\n",
      " #   Column   Non-Null Count  Dtype \n",
      "---  ------   --------------  ----- \n",
      " 0   index    731 non-null    int64 \n",
      " 1   dteday   731 non-null    object\n",
      " 2   season   731 non-null    int64 \n",
      " 3   yr       731 non-null    int64 \n",
      " 4   mnth     731 non-null    int64 \n",
      " 5   holiday  731 non-null    int64 \n",
      "dtypes: int64(5), object(1)\n",
      "memory usage: 34.4+ KB\n",
      "None\n"
     ]
    }
   ],
   "source": [
    "# drop column\n",
    "f2 = dt.drop(columns = ['weekday','workingday', 'weathersit', 'temp', 'atemp', 'hum', 'windspeed', 'casual', 'registered', 'cnt'])\n",
    "print(f2.info())"
   ]
  },
  {
   "cell_type": "code",
   "execution_count": 76,
   "id": "1e02beef",
   "metadata": {},
   "outputs": [
    {
     "name": "stdout",
     "output_type": "stream",
     "text": [
      "(577, 16)\n"
     ]
    }
   ],
   "source": [
    "# query\n",
    "f3 = dt.query(\"temp > atemp\")\n",
    "print(f3.shape)"
   ]
  },
  {
   "cell_type": "code",
   "execution_count": 77,
   "id": "03ba4d10",
   "metadata": {},
   "outputs": [
    {
     "name": "stdout",
     "output_type": "stream",
     "text": [
      "(731, 5)\n"
     ]
    }
   ],
   "source": [
    "# selecting specific data types, exclude\n",
    "f4 = dt.select_dtypes(exclude='int64')\n",
    "print(f4.shape)\n"
   ]
  },
  {
   "cell_type": "code",
   "execution_count": 78,
   "id": "9acc6bb7",
   "metadata": {},
   "outputs": [
    {
     "name": "stdout",
     "output_type": "stream",
     "text": [
      "(731, 11)\n"
     ]
    }
   ],
   "source": [
    "# selecting specific data types, include\n",
    "f41 = dt.select_dtypes(include='int64')\n",
    "print(f41.shape)"
   ]
  },
  {
   "cell_type": "code",
   "execution_count": 66,
   "id": "e36c6b57",
   "metadata": {},
   "outputs": [
    {
     "name": "stdout",
     "output_type": "stream",
     "text": [
      "     index      dteday  season  new col  yr  mnth  holiday\n",
      "0        1    1/1/2011       1      985   0     1        0\n",
      "1        2    1/2/2011       1      801   0     1        0\n",
      "2        3    1/3/2011       1     1349   0     1        0\n",
      "3        4    1/4/2011       1     1562   0     1        0\n",
      "4        5    1/5/2011       1     1600   0     1        0\n",
      "..     ...         ...     ...      ...  ..   ...      ...\n",
      "726    727  12/27/2012       1     2114   1    12        0\n",
      "727    728  12/28/2012       1     3095   1    12        0\n",
      "728    729  12/29/2012       1     1341   1    12        0\n",
      "729    730  12/30/2012       1     1796   1    12        0\n",
      "730    731  12/31/2012       1     2729   1    12        0\n",
      "\n",
      "[731 rows x 7 columns]\n"
     ]
    }
   ],
   "source": [
    "# how to insert a column in a dataframe ? \n",
    "f5 = dt['cnt']\n",
    "f2.insert(3, \"new col\", f5)\n",
    "print(f2)"
   ]
  },
  {
   "cell_type": "code",
   "execution_count": 80,
   "id": "73c17cc5",
   "metadata": {},
   "outputs": [
    {
     "name": "stdout",
     "output_type": "stream",
     "text": [
      "0         NaN\n",
      "1         NaN\n",
      "2         NaN\n",
      "3         NaN\n",
      "4         NaN\n",
      "        ...  \n",
      "726       NaN\n",
      "727    3095.0\n",
      "728       NaN\n",
      "729       NaN\n",
      "730       NaN\n",
      "Name: new col, Length: 731, dtype: float64\n"
     ]
    }
   ],
   "source": [
    "# put a boolean condition...where function\n",
    "f6 = f2['new col'].where(f2['new col'] > 3000)\n",
    "\n",
    "print(f6)"
   ]
  },
  {
   "cell_type": "code",
   "execution_count": 81,
   "id": "0f2ffaa3",
   "metadata": {},
   "outputs": [
    {
     "data": {
      "text/html": [
       "<div>\n",
       "<style scoped>\n",
       "    .dataframe tbody tr th:only-of-type {\n",
       "        vertical-align: middle;\n",
       "    }\n",
       "\n",
       "    .dataframe tbody tr th {\n",
       "        vertical-align: top;\n",
       "    }\n",
       "\n",
       "    .dataframe thead th {\n",
       "        text-align: right;\n",
       "    }\n",
       "</style>\n",
       "<table border=\"1\" class=\"dataframe\">\n",
       "  <thead>\n",
       "    <tr style=\"text-align: right;\">\n",
       "      <th></th>\n",
       "      <th>index</th>\n",
       "      <th>dteday</th>\n",
       "      <th>season</th>\n",
       "      <th>yr</th>\n",
       "      <th>mnth</th>\n",
       "      <th>holiday</th>\n",
       "      <th>weekday</th>\n",
       "      <th>workingday</th>\n",
       "      <th>weathersit</th>\n",
       "      <th>temp</th>\n",
       "      <th>atemp</th>\n",
       "      <th>hum</th>\n",
       "      <th>windspeed</th>\n",
       "      <th>casual</th>\n",
       "      <th>registered</th>\n",
       "      <th>cnt</th>\n",
       "    </tr>\n",
       "  </thead>\n",
       "  <tbody>\n",
       "    <tr>\n",
       "      <th>3</th>\n",
       "      <td>4</td>\n",
       "      <td>1/4/2011</td>\n",
       "      <td>1</td>\n",
       "      <td>0</td>\n",
       "      <td>1</td>\n",
       "      <td>0</td>\n",
       "      <td>2</td>\n",
       "      <td>1</td>\n",
       "      <td>1</td>\n",
       "      <td>0.200000</td>\n",
       "      <td>0.212122</td>\n",
       "      <td>0.590435</td>\n",
       "      <td>0.160296</td>\n",
       "      <td>108</td>\n",
       "      <td>1454</td>\n",
       "      <td>1562</td>\n",
       "    </tr>\n",
       "    <tr>\n",
       "      <th>4</th>\n",
       "      <td>5</td>\n",
       "      <td>1/5/2011</td>\n",
       "      <td>1</td>\n",
       "      <td>0</td>\n",
       "      <td>1</td>\n",
       "      <td>0</td>\n",
       "      <td>3</td>\n",
       "      <td>1</td>\n",
       "      <td>1</td>\n",
       "      <td>0.226957</td>\n",
       "      <td>0.229270</td>\n",
       "      <td>0.436957</td>\n",
       "      <td>0.186900</td>\n",
       "      <td>82</td>\n",
       "      <td>1518</td>\n",
       "      <td>1600</td>\n",
       "    </tr>\n",
       "    <tr>\n",
       "      <th>5</th>\n",
       "      <td>6</td>\n",
       "      <td>1/6/2011</td>\n",
       "      <td>1</td>\n",
       "      <td>0</td>\n",
       "      <td>1</td>\n",
       "      <td>0</td>\n",
       "      <td>4</td>\n",
       "      <td>1</td>\n",
       "      <td>1</td>\n",
       "      <td>0.204348</td>\n",
       "      <td>0.233209</td>\n",
       "      <td>0.518261</td>\n",
       "      <td>0.089565</td>\n",
       "      <td>88</td>\n",
       "      <td>1518</td>\n",
       "      <td>1606</td>\n",
       "    </tr>\n",
       "    <tr>\n",
       "      <th>10</th>\n",
       "      <td>11</td>\n",
       "      <td>1/11/2011</td>\n",
       "      <td>1</td>\n",
       "      <td>0</td>\n",
       "      <td>1</td>\n",
       "      <td>0</td>\n",
       "      <td>2</td>\n",
       "      <td>1</td>\n",
       "      <td>2</td>\n",
       "      <td>0.169091</td>\n",
       "      <td>0.191464</td>\n",
       "      <td>0.686364</td>\n",
       "      <td>0.122132</td>\n",
       "      <td>43</td>\n",
       "      <td>1220</td>\n",
       "      <td>1263</td>\n",
       "    </tr>\n",
       "    <tr>\n",
       "      <th>11</th>\n",
       "      <td>12</td>\n",
       "      <td>1/12/2011</td>\n",
       "      <td>1</td>\n",
       "      <td>0</td>\n",
       "      <td>1</td>\n",
       "      <td>0</td>\n",
       "      <td>3</td>\n",
       "      <td>1</td>\n",
       "      <td>1</td>\n",
       "      <td>0.172727</td>\n",
       "      <td>0.160473</td>\n",
       "      <td>0.599545</td>\n",
       "      <td>0.304627</td>\n",
       "      <td>25</td>\n",
       "      <td>1137</td>\n",
       "      <td>1162</td>\n",
       "    </tr>\n",
       "  </tbody>\n",
       "</table>\n",
       "</div>"
      ],
      "text/plain": [
       "    index     dteday  season  yr  mnth  holiday  weekday  workingday  \\\n",
       "3       4   1/4/2011       1   0     1        0        2           1   \n",
       "4       5   1/5/2011       1   0     1        0        3           1   \n",
       "5       6   1/6/2011       1   0     1        0        4           1   \n",
       "10     11  1/11/2011       1   0     1        0        2           1   \n",
       "11     12  1/12/2011       1   0     1        0        3           1   \n",
       "\n",
       "    weathersit      temp     atemp       hum  windspeed  casual  registered  \\\n",
       "3            1  0.200000  0.212122  0.590435   0.160296     108        1454   \n",
       "4            1  0.226957  0.229270  0.436957   0.186900      82        1518   \n",
       "5            1  0.204348  0.233209  0.518261   0.089565      88        1518   \n",
       "10           2  0.169091  0.191464  0.686364   0.122132      43        1220   \n",
       "11           1  0.172727  0.160473  0.599545   0.304627      25        1137   \n",
       "\n",
       "     cnt  \n",
       "3   1562  \n",
       "4   1600  \n",
       "5   1606  \n",
       "10  1263  \n",
       "11  1162  "
      ]
     },
     "execution_count": 81,
     "metadata": {},
     "output_type": "execute_result"
    }
   ],
   "source": [
    "# filtering data by is-in function\n",
    "a1 = [2,3,4]\n",
    "f7 = dt[dt.weekday.isin(a1)]\n",
    "f7.head()"
   ]
  },
  {
   "cell_type": "code",
   "execution_count": 69,
   "id": "46dcb4bc",
   "metadata": {},
   "outputs": [
    {
     "name": "stdout",
     "output_type": "stream",
     "text": [
      "0    100\n",
      "1    100\n",
      "2    100\n",
      "3    100\n",
      "4    100\n",
      "Name: season, dtype: int64\n"
     ]
    }
   ],
   "source": [
    "# replace method\n",
    "f8 = f2['season'].replace(1, 100)\n",
    "print(f8.head())\n"
   ]
  },
  {
   "cell_type": "code",
   "execution_count": 70,
   "id": "0403767e",
   "metadata": {},
   "outputs": [
    {
     "name": "stdout",
     "output_type": "stream",
     "text": [
      "0    nan\n",
      "1    nan\n",
      "2    nan\n",
      "3    nan\n",
      "4    nan\n",
      "Name: season, dtype: object\n"
     ]
    }
   ],
   "source": [
    "f9 = f2['season'].replace(1, 'nan')\n",
    "print(f9.head())\n"
   ]
  },
  {
   "cell_type": "code",
   "execution_count": 71,
   "id": "2dc4a854",
   "metadata": {},
   "outputs": [
    {
     "name": "stdout",
     "output_type": "stream",
     "text": [
      "season\n",
      "1     471348\n",
      "2     918589\n",
      "3    1061129\n",
      "4     841613\n",
      "Name: new col, dtype: int64\n"
     ]
    }
   ],
   "source": [
    "# groupby\n",
    "f10 = f2.groupby(\"season\")['new col'].sum()\n",
    "print(f10)"
   ]
  },
  {
   "cell_type": "code",
   "execution_count": 72,
   "id": "b42f8199",
   "metadata": {},
   "outputs": [
    {
     "name": "stdout",
     "output_type": "stream",
     "text": [
      "weathersit    1   2   3\n",
      "season                 \n",
      "1           111  66   4\n",
      "2           113  68   3\n",
      "3           136  48   4\n",
      "4           103  65  10\n"
     ]
    }
   ],
   "source": [
    "# crosstab/ count data crosstab\n",
    "f11 = pd.crosstab(dt['season'], dt['weathersit'])\n",
    "print(f11)"
   ]
  },
  {
   "cell_type": "code",
   "execution_count": 73,
   "id": "ad6bf889",
   "metadata": {},
   "outputs": [
    {
     "name": "stdout",
     "output_type": "stream",
     "text": [
      "(0.22, 0.38]      194\n",
      "(0.541, 0.701]    194\n",
      "(0.38, 0.541]     173\n",
      "(0.701, 0.862]    127\n",
      "(0.0583, 0.22]     43\n",
      "Name: temp, dtype: int64\n"
     ]
    }
   ],
   "source": [
    "# separate data by value count\n",
    "f12 = pd.cut(dt['temp'], bins = 5).value_counts() # koita vag a vag korbo\n",
    "print(f12)"
   ]
  },
  {
   "cell_type": "code",
   "execution_count": 74,
   "id": "08a0ad4d",
   "metadata": {},
   "outputs": [
    {
     "name": "stdout",
     "output_type": "stream",
     "text": [
      "count    731.000000\n",
      "mean       0.495385\n",
      "std        0.183051\n",
      "min        0.059130\n",
      "25%        0.337083\n",
      "50%        0.498333\n",
      "75%        0.655417\n",
      "max        0.861667\n",
      "Name: temp, dtype: float64\n"
     ]
    }
   ],
   "source": [
    "# describe the data\n",
    "f13 = dt['temp'].describe()\n",
    "print(f13)"
   ]
  },
  {
   "cell_type": "code",
   "execution_count": 84,
   "id": "38dfac3f",
   "metadata": {},
   "outputs": [
    {
     "name": "stdout",
     "output_type": "stream",
     "text": [
      "     index     dteday  season  yr  mnth  holiday  weekday  workingday  \\\n",
      "553    554   7/7/2012       3   1     7        0        6           0   \n",
      "203    204  7/23/2011       3   0     7        0        6           0   \n",
      "202    203  7/22/2011       3   0     7        0        5           1   \n",
      "209    210  7/29/2011       3   0     7        0        5           1   \n",
      "545    546  6/29/2012       3   1     6        0        5           1   \n",
      "\n",
      "     weathersit      temp     atemp       hum  windspeed  casual  registered  \\\n",
      "553           1  0.861667  0.804913  0.492083   0.163554    1448        3392   \n",
      "203           1  0.849167  0.804287  0.500000   0.131221     987        2298   \n",
      "202           1  0.848333  0.840896  0.580417   0.133100     562        2825   \n",
      "209           1  0.838333  0.785967  0.542500   0.174138     670        3176   \n",
      "545           1  0.834167  0.786613  0.488750   0.165417     829        4634   \n",
      "\n",
      "      cnt  \n",
      "553  4840  \n",
      "203  3285  \n",
      "202  3387  \n",
      "209  3846  \n",
      "545  5463  \n"
     ]
    }
   ],
   "source": [
    "# nlargest and nsmallest\n",
    "f14 = dt.nlargest(5, \"temp\")\n",
    "print(f14)"
   ]
  },
  {
   "cell_type": "code",
   "execution_count": 82,
   "id": "f200326f",
   "metadata": {},
   "outputs": [
    {
     "name": "stdout",
     "output_type": "stream",
     "text": [
      "     index     dteday  season  yr  mnth  holiday  weekday  workingday  \\\n",
      "21      22  1/22/2011       1   0     1        0        6           0   \n",
      "22      23  1/23/2011       1   0     1        0        0           0   \n",
      "23      24  1/24/2011       1   0     1        0        1           1   \n",
      "368    369   1/4/2012       1   1     1        0        3           1   \n",
      "407    408  2/12/2012       1   1     2        0        0           0   \n",
      "\n",
      "     weathersit      temp     atemp       hum  windspeed  casual  registered  \\\n",
      "21            1  0.059130  0.079070  0.400000   0.171970      93         888   \n",
      "22            1  0.096522  0.098839  0.436522   0.246600     150         836   \n",
      "23            1  0.097391  0.117930  0.491739   0.158330      86        1330   \n",
      "368           2  0.107500  0.119337  0.414583   0.184700      95        2273   \n",
      "407           1  0.127500  0.101658  0.464583   0.409212      73        1456   \n",
      "\n",
      "      cnt  \n",
      "21    981  \n",
      "22    986  \n",
      "23   1416  \n",
      "368  2368  \n",
      "407  1529  \n"
     ]
    }
   ],
   "source": [
    "f15 = dt.nsmallest(5, \"temp\")\n",
    "print(f15)"
   ]
  },
  {
   "cell_type": "markdown",
   "id": "4bb9ac80",
   "metadata": {},
   "source": [
    "# section g\n",
    "# melt"
   ]
  },
  {
   "cell_type": "code",
   "execution_count": 85,
   "id": "78c6cddb",
   "metadata": {},
   "outputs": [
    {
     "name": "stdout",
     "output_type": "stream",
     "text": [
      "     Name  ID    Role\n",
      "0  Pankaj   1     CEO\n",
      "1   Samad   2  Editor\n",
      "2   Masud   3  Author\n"
     ]
    }
   ],
   "source": [
    "g1 = {\"Name\": [\"Pankaj\", \"Samad\", \"Masud\"], \"ID\": [1, 2, 3], \"Role\": [\"CEO\", \"Editor\", \"Author\"]}\n",
    "g2 = pd.DataFrame(g1)\n",
    "print(g2)\n"
   ]
  },
  {
   "cell_type": "code",
   "execution_count": 86,
   "id": "e4fb991d",
   "metadata": {},
   "outputs": [
    {
     "name": "stdout",
     "output_type": "stream",
     "text": [
      "   ID variable   value\n",
      "0   1     Name  Pankaj\n",
      "1   2     Name   Samad\n",
      "2   3     Name   Masud\n",
      "3   1     Role     CEO\n",
      "4   2     Role  Editor\n",
      "5   3     Role  Author\n"
     ]
    }
   ],
   "source": [
    "g3 = pd.melt(g2, id_vars=[\"ID\"], value_vars=[\"Name\", \"Role\"])\n",
    "print(g3)"
   ]
  },
  {
   "cell_type": "code",
   "execution_count": 87,
   "id": "df796473",
   "metadata": {},
   "outputs": [
    {
     "name": "stdout",
     "output_type": "stream",
     "text": [
      "   ID    Name variable   value\n",
      "0   1  Pankaj     Role     CEO\n",
      "1   2   Samad     Role  Editor\n",
      "2   3   Masud     Role  Author\n"
     ]
    }
   ],
   "source": [
    "# Multiple Columns as id_vars\n",
    "g4 = pd.melt(g2, id_vars=[\"ID\", \"Name\"], value_vars=[\"Role\"])\n",
    "print(g4)\n"
   ]
  },
  {
   "cell_type": "code",
   "execution_count": 89,
   "id": "0d6c15c1",
   "metadata": {},
   "outputs": [
    {
     "name": "stdout",
     "output_type": "stream",
     "text": [
      "          category  sales-in-units\n",
      "0      electronics               1\n",
      "1   men\"s clothing               6\n",
      "2  womens clothing               6\n"
     ]
    }
   ],
   "source": [
    "# another example\n",
    "d7 = pd.DataFrame( { 'category' : ( ['electronics', 'men\"s clothing', 'womens clothing' ]), \n",
    "                  'sales-in-units' : np.array([1, 6, 6])})\n",
    "print(d7)"
   ]
  },
  {
   "cell_type": "code",
   "execution_count": 90,
   "id": "af7d2140",
   "metadata": {},
   "outputs": [
    {
     "name": "stdout",
     "output_type": "stream",
     "text": [
      "          category  sales-in-units  num of customers\n",
      "0      electronics               1                50\n",
      "1   men\"s clothing               6                55\n",
      "2  womens clothing               6                65\n"
     ]
    }
   ],
   "source": [
    "new_col = {'electronics': 50, 'men\"s clothing': 55,  'womens clothing' : 65}\n",
    "\n",
    "d7['num of customers'] = d7['category'].map(new_col)\n",
    "print(d7)"
   ]
  },
  {
   "cell_type": "code",
   "execution_count": 91,
   "id": "f17f0150",
   "metadata": {},
   "outputs": [
    {
     "name": "stdout",
     "output_type": "stream",
     "text": [
      "   num of customers        variable            value\n",
      "0                50        category      electronics\n",
      "1                55        category   men\"s clothing\n",
      "2                65        category  womens clothing\n",
      "3                50  sales-in-units                1\n",
      "4                55  sales-in-units                6\n",
      "5                65  sales-in-units                6\n"
     ]
    }
   ],
   "source": [
    "g5 = d7\n",
    "g6 = pd.melt(g5, id_vars=['num of customers'], value_vars=['category','sales-in-units'])\n",
    "print(g6)"
   ]
  },
  {
   "cell_type": "code",
   "execution_count": 92,
   "id": "6459d2e5",
   "metadata": {},
   "outputs": [
    {
     "name": "stdout",
     "output_type": "stream",
     "text": [
      "            Name   value\n",
      "variable    Role    Role\n",
      "ID                      \n",
      "1         Pankaj     CEO\n",
      "2          Samad  Editor\n",
      "3          Masud  Author\n"
     ]
    }
   ],
   "source": [
    "# unmelt/pivot\n",
    "# unmelting using pivot()\n",
    "\n",
    "g5 = g4.pivot(index='ID', columns='variable')\n",
    "print(g5)"
   ]
  },
  {
   "cell_type": "code",
   "execution_count": 93,
   "id": "0c3ff87c",
   "metadata": {},
   "outputs": [
    {
     "name": "stdout",
     "output_type": "stream",
     "text": [
      "     Name  ID    Role\n",
      "0  Pankaj   1     CEO\n",
      "1   Samad   2  Editor\n",
      "2   Masud   3  Author\n"
     ]
    }
   ],
   "source": [
    "# merge dataframe\n",
    "g1 = {\"Name\": [\"Pankaj\", \"Samad\", \"Masud\"], \"ID\": [1, 2, 3], \"Role\": [\"CEO\", \"Editor\", \"Author\"]}\n",
    "g2 = pd.DataFrame(g1)\n",
    "print(g2)"
   ]
  },
  {
   "cell_type": "code",
   "execution_count": 94,
   "id": "db300698",
   "metadata": {},
   "outputs": [
    {
     "name": "stdout",
     "output_type": "stream",
     "text": [
      "     Name  ID       Role\n",
      "0  Pankaj  20    Manager\n",
      "1   Samad  21  Executive\n",
      "2   Masud  22     Junior\n"
     ]
    }
   ],
   "source": [
    "g6 = {\"Name\": [\"Pankaj\", \"Samad\", \"Masud\"], \"ID\": [20,21,22], \"Role\": [\"Manager\", \"Executive\", \"Junior\"]}\n",
    "g7 = pd.DataFrame(g6)\n",
    "print(g7)"
   ]
  },
  {
   "cell_type": "code",
   "execution_count": 95,
   "id": "d67db8b7",
   "metadata": {},
   "outputs": [
    {
     "name": "stdout",
     "output_type": "stream",
     "text": [
      "     Name  ID_x  Role_x  ID_y     Role_y\n",
      "0  Pankaj     1     CEO    20    Manager\n",
      "1   Samad     2  Editor    21  Executive\n",
      "2   Masud     3  Author    22     Junior\n"
     ]
    }
   ],
   "source": [
    "g8 = pd.merge(g2, g7, on='Name')\n",
    "print(g8)"
   ]
  },
  {
   "cell_type": "code",
   "execution_count": null,
   "id": "30cd29c4",
   "metadata": {},
   "outputs": [],
   "source": []
  }
 ],
 "metadata": {
  "kernelspec": {
   "display_name": "Python 3 (ipykernel)",
   "language": "python",
   "name": "python3"
  },
  "language_info": {
   "codemirror_mode": {
    "name": "ipython",
    "version": 3
   },
   "file_extension": ".py",
   "mimetype": "text/x-python",
   "name": "python",
   "nbconvert_exporter": "python",
   "pygments_lexer": "ipython3",
   "version": "3.9.12"
  }
 },
 "nbformat": 4,
 "nbformat_minor": 5
}

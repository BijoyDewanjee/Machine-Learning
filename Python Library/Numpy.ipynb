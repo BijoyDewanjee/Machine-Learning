{
  "nbformat": 4,
  "nbformat_minor": 0,
  "metadata": {
    "colab": {
      "provenance": []
    },
    "kernelspec": {
      "name": "python3",
      "display_name": "Python 3"
    },
    "language_info": {
      "name": "python"
    }
  },
  "cells": [
    {
      "cell_type": "markdown",
      "source": [
        "# **Array**"
      ],
      "metadata": {
        "id": "4tIufMZVaxsU"
      }
    },
    {
      "cell_type": "code",
      "execution_count": null,
      "metadata": {
        "id": "5MzkDqROatNb"
      },
      "outputs": [],
      "source": [
        "import array as arr\n",
        "import numpy as np"
      ]
    },
    {
      "cell_type": "code",
      "source": [
        "numbers = arr.array('i',[10,20,30])\n",
        "print(numbers)\n",
        "print(numbers[:1])\n",
        "numbers[0] = 40\n",
        "print(numbers)\n"
      ],
      "metadata": {
        "colab": {
          "base_uri": "https://localhost:8080/"
        },
        "id": "rtoN65qcbHnl",
        "outputId": "de6f0075-ca51-4e31-ca07-9c36b77f40bd"
      },
      "execution_count": null,
      "outputs": [
        {
          "output_type": "stream",
          "name": "stdout",
          "text": [
            "array('i', [10, 20, 30])\n",
            "array('i', [10])\n",
            "array('i', [40, 20, 30])\n"
          ]
        }
      ]
    },
    {
      "cell_type": "code",
      "source": [
        "# We can use Tuple instead of list as well.\n",
        "my_tuple = (-1,0,1)\n",
        "my_array = np.array(my_tuple)\n",
        "my_array, type(my_array)"
      ],
      "metadata": {
        "colab": {
          "base_uri": "https://localhost:8080/"
        },
        "id": "0HQuTyx-Degp",
        "outputId": "f662f6e5-266e-4431-9753-8125b9b48aad"
      },
      "execution_count": null,
      "outputs": [
        {
          "output_type": "execute_result",
          "data": {
            "text/plain": [
              "(array([-1,  0,  1]), numpy.ndarray)"
            ]
          },
          "metadata": {},
          "execution_count": 4
        }
      ]
    },
    {
      "cell_type": "markdown",
      "source": [
        "#add the integer  to the end of numbers"
      ],
      "metadata": {
        "id": "GP5Ma9y-b8Kk"
      }
    },
    {
      "cell_type": "code",
      "source": [
        "numbers.append(100)\n",
        "print(numbers)\n",
        "# also we can do this\n",
        "numbers.extend([40,50,60])\n",
        "print(numbers)"
      ],
      "metadata": {
        "colab": {
          "base_uri": "https://localhost:8080/"
        },
        "id": "S9N4bTwzbNNM",
        "outputId": "60c2f598-4d9d-423e-b8c0-2399ff072645"
      },
      "execution_count": null,
      "outputs": [
        {
          "output_type": "stream",
          "name": "stdout",
          "text": [
            "array('i', [40, 20, 30, 100])\n",
            "array('i', [40, 20, 30, 100, 40, 50, 60])\n"
          ]
        }
      ]
    },
    {
      "cell_type": "markdown",
      "source": [
        "# addition"
      ],
      "metadata": {
        "id": "mVntsTdHeJjM"
      }
    },
    {
      "cell_type": "code",
      "source": [
        "print(numbers[2] + numbers[3])"
      ],
      "metadata": {
        "colab": {
          "base_uri": "https://localhost:8080/"
        },
        "id": "77lf7iYZcN2r",
        "outputId": "cb08b037-f124-430b-d475-8543e6d04b43"
      },
      "execution_count": null,
      "outputs": [
        {
          "output_type": "stream",
          "name": "stdout",
          "text": [
            "130\n"
          ]
        }
      ]
    },
    {
      "cell_type": "markdown",
      "source": [
        "## Arithmetic operations\n",
        "\n",
        "We can perform arithmetic operations with NumPy arrays. <br>"
      ],
      "metadata": {
        "id": "a2Yk8g9xSXEF"
      }
    },
    {
      "cell_type": "code",
      "source": [
        "arr = np.arange(0,5)\n",
        "arr"
      ],
      "metadata": {
        "colab": {
          "base_uri": "https://localhost:8080/"
        },
        "id": "09qJs9zmSdV1",
        "outputId": "9893b7df-1731-4b7b-9b2f-da402673f19e"
      },
      "execution_count": null,
      "outputs": [
        {
          "output_type": "execute_result",
          "data": {
            "text/plain": [
              "array([0, 1, 2, 3, 4])"
            ]
          },
          "metadata": {},
          "execution_count": 82
        }
      ]
    },
    {
      "cell_type": "code",
      "source": [
        "# Adding two arrays\n",
        "arr + arr  #[0, 1, 2, 3, 4] + [0, 1, 2, 3, 4]"
      ],
      "metadata": {
        "colab": {
          "base_uri": "https://localhost:8080/"
        },
        "id": "hS7_OpaISdZF",
        "outputId": "1fb21e29-72a4-4b4c-fc39-555cc7f5f5b7"
      },
      "execution_count": null,
      "outputs": [
        {
          "output_type": "execute_result",
          "data": {
            "text/plain": [
              "array([0, 2, 4, 6, 8])"
            ]
          },
          "metadata": {},
          "execution_count": 83
        }
      ]
    },
    {
      "cell_type": "code",
      "source": [
        "# Subtracting two arrays\n",
        "arr - arr"
      ],
      "metadata": {
        "colab": {
          "base_uri": "https://localhost:8080/"
        },
        "id": "dbOs0VfbSdcA",
        "outputId": "eccc00c7-4279-4c7d-ed90-67b2a04bac88"
      },
      "execution_count": null,
      "outputs": [
        {
          "output_type": "execute_result",
          "data": {
            "text/plain": [
              "array([0, 0, 0, 0, 0])"
            ]
          },
          "metadata": {},
          "execution_count": 84
        }
      ]
    },
    {
      "cell_type": "code",
      "source": [
        "# Multiplication\n",
        "arr * arr"
      ],
      "metadata": {
        "colab": {
          "base_uri": "https://localhost:8080/"
        },
        "id": "6A-YsENUSdet",
        "outputId": "b6300905-12fb-40a4-f6cd-52d9592df99d"
      },
      "execution_count": null,
      "outputs": [
        {
          "output_type": "execute_result",
          "data": {
            "text/plain": [
              "array([ 0,  1,  4,  9, 16])"
            ]
          },
          "metadata": {},
          "execution_count": 85
        }
      ]
    },
    {
      "cell_type": "code",
      "source": [
        "# Division\n",
        "arr / arr\n",
        "# warning and 0/0 is replaced with nan"
      ],
      "metadata": {
        "colab": {
          "base_uri": "https://localhost:8080/"
        },
        "id": "VDkmB1KBSdhb",
        "outputId": "d0683366-71b1-42bc-9066-5d557f7b36b0"
      },
      "execution_count": null,
      "outputs": [
        {
          "output_type": "stream",
          "name": "stderr",
          "text": [
            "<ipython-input-86-8ce08d18f8cd>:2: RuntimeWarning: invalid value encountered in divide\n",
            "  arr / arr\n"
          ]
        },
        {
          "output_type": "execute_result",
          "data": {
            "text/plain": [
              "array([nan,  1.,  1.,  1.,  1.])"
            ]
          },
          "metadata": {},
          "execution_count": 86
        }
      ]
    },
    {
      "cell_type": "code",
      "source": [
        "# Power of all the elements in an array\n",
        "arr ** 2"
      ],
      "metadata": {
        "colab": {
          "base_uri": "https://localhost:8080/"
        },
        "id": "YnzJvPE-Sdkc",
        "outputId": "a6b97e13-a67b-40d6-80b0-6fb586996527"
      },
      "execution_count": null,
      "outputs": [
        {
          "output_type": "execute_result",
          "data": {
            "text/plain": [
              "array([ 0,  1,  4,  9, 16])"
            ]
          },
          "metadata": {},
          "execution_count": 87
        }
      ]
    },
    {
      "cell_type": "code",
      "source": [
        "# Multiplication with scalar\n",
        "2 * arr #[0, 1, 2, 3, 4]"
      ],
      "metadata": {
        "colab": {
          "base_uri": "https://localhost:8080/"
        },
        "id": "-qhONJH0Sdnc",
        "outputId": "3a438756-627d-49e1-e5bc-0bbfde4edd8e"
      },
      "execution_count": null,
      "outputs": [
        {
          "output_type": "execute_result",
          "data": {
            "text/plain": [
              "array([0, 2, 4, 6, 8])"
            ]
          },
          "metadata": {},
          "execution_count": 88
        }
      ]
    },
    {
      "cell_type": "markdown",
      "source": [
        "## Universal functions\n",
        "\n",
        "NumPy have a range of built-in [universal functions](http://docs.scipy.org/doc/numpy/reference/ufuncs.html) (ufunc). These are essentially just mathematical operations and we can use them to perform specific task, associate with the function, across the NumPy array.<br>"
      ],
      "metadata": {
        "id": "-6JwJZykUak7"
      }
    },
    {
      "cell_type": "code",
      "source": [
        "arr = [4, 16, 25, 36]"
      ],
      "metadata": {
        "id": "d7MjoYtsSdqj"
      },
      "execution_count": null,
      "outputs": []
    },
    {
      "cell_type": "code",
      "source": [
        "# Square root\n",
        "np.sqrt(arr)"
      ],
      "metadata": {
        "colab": {
          "base_uri": "https://localhost:8080/"
        },
        "id": "YU-8RVjyUgzz",
        "outputId": "b7a34a95-e9df-450b-a934-82ab1da3cc26"
      },
      "execution_count": null,
      "outputs": [
        {
          "output_type": "execute_result",
          "data": {
            "text/plain": [
              "array([0.        , 1.        , 1.41421356, 1.73205081, 2.        ])"
            ]
          },
          "metadata": {},
          "execution_count": 89
        }
      ]
    },
    {
      "cell_type": "code",
      "source": [
        "arr"
      ],
      "metadata": {
        "colab": {
          "base_uri": "https://localhost:8080/"
        },
        "id": "XwxvhDdkUg2s",
        "outputId": "ae50049a-6220-49b5-aeb5-633adc355dd8"
      },
      "execution_count": null,
      "outputs": [
        {
          "output_type": "execute_result",
          "data": {
            "text/plain": [
              "array([0, 1, 2, 3, 4])"
            ]
          },
          "metadata": {},
          "execution_count": 90
        }
      ]
    },
    {
      "cell_type": "code",
      "source": [
        "# max and min values\n",
        "np.max(arr), np.min(arr)"
      ],
      "metadata": {
        "colab": {
          "base_uri": "https://localhost:8080/"
        },
        "id": "LbNqYmssUg6D",
        "outputId": "c99db809-f841-4659-838b-4223dca2f418"
      },
      "execution_count": null,
      "outputs": [
        {
          "output_type": "execute_result",
          "data": {
            "text/plain": [
              "(4, 0)"
            ]
          },
          "metadata": {},
          "execution_count": 91
        }
      ]
    },
    {
      "cell_type": "code",
      "source": [
        "# Trigonometric functions, e.g. sin, cos, tan, arcsin, ......\n",
        "np.sin(arr)"
      ],
      "metadata": {
        "colab": {
          "base_uri": "https://localhost:8080/"
        },
        "id": "YxNXnuJpUg87",
        "outputId": "a8cda58a-0847-41ca-d1e4-869da33bfe9b"
      },
      "execution_count": null,
      "outputs": [
        {
          "output_type": "execute_result",
          "data": {
            "text/plain": [
              "array([ 0.        ,  0.84147098,  0.90929743,  0.14112001, -0.7568025 ])"
            ]
          },
          "metadata": {},
          "execution_count": 92
        }
      ]
    },
    {
      "cell_type": "code",
      "source": [],
      "metadata": {
        "id": "yjGhcw6RUg_z"
      },
      "execution_count": null,
      "outputs": []
    },
    {
      "cell_type": "code",
      "source": [],
      "metadata": {
        "id": "RsvN5iDHUhC7"
      },
      "execution_count": null,
      "outputs": []
    },
    {
      "cell_type": "markdown",
      "source": [
        "# new sample list"
      ],
      "metadata": {
        "id": "REOqcU40ni-g"
      }
    },
    {
      "cell_type": "code",
      "source": [
        "a = [ 21,34,16,19,100, 26,29,41,38,59]\n",
        "ard = np.array(a)\n",
        "print(ard)"
      ],
      "metadata": {
        "id": "0x7HOEHzcpmj",
        "colab": {
          "base_uri": "https://localhost:8080/"
        },
        "outputId": "2282f75e-941e-4f6a-d9fb-b7b8df32956f"
      },
      "execution_count": null,
      "outputs": [
        {
          "output_type": "stream",
          "name": "stdout",
          "text": [
            "[ 21  34  16  19 100  26  29  41  38  59]\n"
          ]
        }
      ]
    },
    {
      "cell_type": "code",
      "source": [
        "# the number of axes (dimensions) of the array\n",
        "a = np.ndim(ard)\n",
        "print(a)\n",
        "# the dimensions of the array\n",
        "b = np.shape(ard)\n",
        "print(b)\n",
        "# the total number of elements of the array\n",
        "c = np.size(ard)\n",
        "print(c)\n",
        "# step/interval\n",
        "print(ard[1:7:2]) # 1 means 1 index theke suru hobe ,7 means 0-6 index porjonto cholbe,2 means 1 ghor bad diye diye jabe 1 theke 6 porjonto"
      ],
      "metadata": {
        "colab": {
          "base_uri": "https://localhost:8080/"
        },
        "id": "TMogxLGxny6f",
        "outputId": "a946beab-634d-4bcb-d8a6-49279efbfa97"
      },
      "execution_count": null,
      "outputs": [
        {
          "output_type": "stream",
          "name": "stdout",
          "text": [
            "1\n",
            "(10,)\n",
            "10\n",
            "[34 19 26]\n"
          ]
        }
      ]
    },
    {
      "cell_type": "markdown",
      "source": [
        "# arange()\n",
        "* arange() is very much similar to Python function range() <br>\n",
        "* Syntax: arange([start,] stop[, step,], dtype=None) <br>\n",
        "* Return evenly spaced values within a given interval"
      ],
      "metadata": {
        "id": "eO8OCrOYD51S"
      }
    },
    {
      "cell_type": "code",
      "source": [
        "np.arange(0,10) # similar to range() in Python, not including 10"
      ],
      "metadata": {
        "colab": {
          "base_uri": "https://localhost:8080/"
        },
        "id": "79--oPi1ESya",
        "outputId": "8421390b-2447-4e34-a63b-facf43eebcc5"
      },
      "execution_count": null,
      "outputs": [
        {
          "output_type": "execute_result",
          "data": {
            "text/plain": [
              "array([0, 1, 2, 3, 4, 5, 6, 7, 8, 9])"
            ]
          },
          "metadata": {},
          "execution_count": 9
        }
      ]
    },
    {
      "cell_type": "code",
      "source": [
        "# We can give the step\n",
        "np.arange(0,11,2)\n",
        "# We can give the step and dtype\n",
        "np.arange(0,10,2, dtype=float)"
      ],
      "metadata": {
        "colab": {
          "base_uri": "https://localhost:8080/"
        },
        "id": "wZN9kaIdEY27",
        "outputId": "413644df-215b-4ae1-80ee-44d2b70a9cdf"
      },
      "execution_count": null,
      "outputs": [
        {
          "output_type": "execute_result",
          "data": {
            "text/plain": [
              "array([0., 2., 4., 6., 8.])"
            ]
          },
          "metadata": {},
          "execution_count": 10
        }
      ]
    },
    {
      "cell_type": "markdown",
      "source": [
        "## Categorigal daa jonno"
      ],
      "metadata": {
        "id": "vHcnpxCn_ovw"
      }
    },
    {
      "cell_type": "code",
      "source": [
        "a2 = np.array(['apple', 'banana', 'cherry'])\n",
        "print(a2)"
      ],
      "metadata": {
        "id": "qIRmpyXaoLEm",
        "colab": {
          "base_uri": "https://localhost:8080/"
        },
        "outputId": "f8a9864f-34c0-4e2e-e859-43eeae63d485"
      },
      "execution_count": null,
      "outputs": [
        {
          "output_type": "stream",
          "name": "stdout",
          "text": [
            "['apple' 'banana' 'cherry']\n"
          ]
        }
      ]
    },
    {
      "cell_type": "code",
      "source": [
        "# The astype() function creates a copy of the array, and allows you to specify the data type as a parameter.\n",
        "a4 = np.array([1.1, 2.1, 3.1])\n",
        "print(a4)\n",
        "newarr = a4.astype('i')# integer a convert korar jonno\n",
        "print(newarr)\n",
        "print(newarr.dtype)"
      ],
      "metadata": {
        "id": "MuoLnwca_-dY",
        "colab": {
          "base_uri": "https://localhost:8080/"
        },
        "outputId": "5afda92f-c450-41db-8795-e05252ac2e31"
      },
      "execution_count": null,
      "outputs": [
        {
          "output_type": "stream",
          "name": "stdout",
          "text": [
            "[1.1 2.1 3.1]\n",
            "[1 2 3]\n",
            "int32\n"
          ]
        }
      ]
    },
    {
      "cell_type": "markdown",
      "source": [
        "# `linspace()`\n",
        "Return evenly spaced numbers over a specified interval.<br>\n"
      ],
      "metadata": {
        "id": "8edvwuCPFSU6"
      }
    },
    {
      "cell_type": "code",
      "source": [
        "# start from 1 & end at 15 with 15 evenly spaced points b/w 1 to 15.\n",
        "np.linspace(1, 15, 9) # 9 ta number dibe. 9 ta number ar difference same i thakbe"
      ],
      "metadata": {
        "colab": {
          "base_uri": "https://localhost:8080/"
        },
        "id": "rJlCn0BeFNcT",
        "outputId": "2fb6ec7a-3940-4047-a53c-e38da7b348d4"
      },
      "execution_count": null,
      "outputs": [
        {
          "output_type": "execute_result",
          "data": {
            "text/plain": [
              "array([ 1.  ,  2.75,  4.5 ,  6.25,  8.  ,  9.75, 11.5 , 13.25, 15.  ])"
            ]
          },
          "metadata": {},
          "execution_count": 13
        }
      ]
    },
    {
      "cell_type": "code",
      "source": [
        "# Lets find the step size with \"retstep\" which returns the array and the step size\n",
        "my_linspace = np.linspace(9, 15, 20, retstep=True)  # redstep true diye ader difference ta niche ber kore dey 0.3157894736842105\n",
        "my_linspace\n",
        "# my_linspace[1] to get the stepsize only"
      ],
      "metadata": {
        "colab": {
          "base_uri": "https://localhost:8080/"
        },
        "id": "QETcEA1tdZES",
        "outputId": "91d9949a-9bb3-46d0-ea90-611986c85a8e"
      },
      "execution_count": null,
      "outputs": [
        {
          "output_type": "execute_result",
          "data": {
            "text/plain": [
              "(array([ 9.        ,  9.31578947,  9.63157895,  9.94736842, 10.26315789,\n",
              "        10.57894737, 10.89473684, 11.21052632, 11.52631579, 11.84210526,\n",
              "        12.15789474, 12.47368421, 12.78947368, 13.10526316, 13.42105263,\n",
              "        13.73684211, 14.05263158, 14.36842105, 14.68421053, 15.        ]),\n",
              " 0.3157894736842105)"
            ]
          },
          "metadata": {},
          "execution_count": 14
        }
      ]
    },
    {
      "cell_type": "code",
      "source": [
        "np.linspace(0,15,30)"
      ],
      "metadata": {
        "colab": {
          "base_uri": "https://localhost:8080/"
        },
        "id": "j1JsBPsYd15x",
        "outputId": "9d6d312a-c66c-4a8d-c691-9dc546eeb40a"
      },
      "execution_count": null,
      "outputs": [
        {
          "output_type": "execute_result",
          "data": {
            "text/plain": [
              "array([ 0.        ,  0.51724138,  1.03448276,  1.55172414,  2.06896552,\n",
              "        2.5862069 ,  3.10344828,  3.62068966,  4.13793103,  4.65517241,\n",
              "        5.17241379,  5.68965517,  6.20689655,  6.72413793,  7.24137931,\n",
              "        7.75862069,  8.27586207,  8.79310345,  9.31034483,  9.82758621,\n",
              "       10.34482759, 10.86206897, 11.37931034, 11.89655172, 12.4137931 ,\n",
              "       12.93103448, 13.44827586, 13.96551724, 14.48275862, 15.        ])"
            ]
          },
          "metadata": {},
          "execution_count": 15
        }
      ]
    },
    {
      "cell_type": "markdown",
      "source": [
        "# lower, upper"
      ],
      "metadata": {
        "id": "utf5eNZBNL9m"
      }
    },
    {
      "cell_type": "code",
      "source": [
        "# (lower, upper, interval)\n",
        "d = np.arange(10,30,3) # 10 theke suru hobe 30 ghor porjonto cholbe 3 ghor bard diye diye\n",
        "print(d)\n",
        " #linear space (lower, upper, no of position)\n",
        "e =np.linspace(10, 30, 11) # 10 lower 30 upper 11 means total 11 ta number dibe\n",
        "print(e)\n",
        "# # 10 numbers from 0 to 2 , log space\n",
        "e1 = np.logspace(0,2,10)\n",
        "print(e1)\n",
        "# returns exponential value\n",
        "h = np.exp(4)\n",
        "print(h)"
      ],
      "metadata": {
        "id": "RLZYgbhgIomG",
        "colab": {
          "base_uri": "https://localhost:8080/"
        },
        "outputId": "1abb32a9-4b3f-40ce-e428-2219d809b290"
      },
      "execution_count": null,
      "outputs": [
        {
          "output_type": "stream",
          "name": "stdout",
          "text": [
            "[10 13 16 19 22 25 28]\n",
            "[10. 12. 14. 16. 18. 20. 22. 24. 26. 28. 30.]\n",
            "[  1.           1.66810054   2.7825594    4.64158883   7.74263683\n",
            "  12.91549665  21.5443469   35.93813664  59.94842503 100.        ]\n",
            "54.598150033144236\n"
          ]
        }
      ]
    },
    {
      "cell_type": "markdown",
      "source": [
        "## Don't Confuse!\n",
        "  * <b>arange() takes 3rd argument as step size.<b><br>\n",
        "  * <b>linspace() take 3rd argument as no of point we want.<b>"
      ],
      "metadata": {
        "id": "4G5vLl9CegcS"
      }
    },
    {
      "cell_type": "markdown",
      "source": [
        "#`zeros()`\n",
        "\n",
        "* We want to create an array with **all zeros**<br>"
      ],
      "metadata": {
        "id": "EdKZ1SU8fAOh"
      }
    },
    {
      "cell_type": "code",
      "source": [
        "print(np.zeros(9))\n",
        "\n",
        "np.zeros((4,6)) #(no_row, no_col) passing a tuple"
      ],
      "metadata": {
        "colab": {
          "base_uri": "https://localhost:8080/"
        },
        "id": "iwC9nGDcfIvw",
        "outputId": "a9d82580-9cbb-4152-a67b-55da60a34653"
      },
      "execution_count": null,
      "outputs": [
        {
          "output_type": "stream",
          "name": "stdout",
          "text": [
            "[0. 0. 0. 0. 0. 0. 0. 0. 0.]\n"
          ]
        },
        {
          "output_type": "execute_result",
          "data": {
            "text/plain": [
              "array([[0., 0., 0., 0., 0., 0.],\n",
              "       [0., 0., 0., 0., 0., 0.],\n",
              "       [0., 0., 0., 0., 0., 0.],\n",
              "       [0., 0., 0., 0., 0., 0.]])"
            ]
          },
          "metadata": {},
          "execution_count": 17
        }
      ]
    },
    {
      "cell_type": "markdown",
      "source": [
        " # `ones()`\n",
        "* We want to create an array with **all ones**<br>"
      ],
      "metadata": {
        "id": "w9gq2yK9gZqj"
      }
    },
    {
      "cell_type": "code",
      "source": [
        "print(np.ones(3))\n",
        "np.ones((4,6)) #(no_row, no_col) passing a tuple|"
      ],
      "metadata": {
        "colab": {
          "base_uri": "https://localhost:8080/"
        },
        "id": "i1-Nl4mIgf5p",
        "outputId": "7b5dd280-0e48-467d-ec0d-3a216d6a017e"
      },
      "execution_count": null,
      "outputs": [
        {
          "output_type": "stream",
          "name": "stdout",
          "text": [
            "[1. 1. 1.]\n"
          ]
        },
        {
          "output_type": "execute_result",
          "data": {
            "text/plain": [
              "array([[1., 1., 1., 1., 1., 1.],\n",
              "       [1., 1., 1., 1., 1., 1.],\n",
              "       [1., 1., 1., 1., 1., 1.],\n",
              "       [1., 1., 1., 1., 1., 1.]])"
            ]
          },
          "metadata": {},
          "execution_count": 18
        }
      ]
    },
    {
      "cell_type": "markdown",
      "source": [
        "## `eye()`# Identity matrix\n",
        "Creates an identity matrix must be a square matrix, which is useful in several linear algebra problems.\n",
        "* Return a 2-D array with **ones on the diagonal and zeros elsewhere.**"
      ],
      "metadata": {
        "id": "yQsZGdmFkBHx"
      }
    },
    {
      "cell_type": "code",
      "source": [
        "np.eye(5)"
      ],
      "metadata": {
        "colab": {
          "base_uri": "https://localhost:8080/"
        },
        "id": "B435gqyVkEt_",
        "outputId": "ad6d0d3c-dd6c-4daa-91e6-9a9dd5a22dab"
      },
      "execution_count": null,
      "outputs": [
        {
          "output_type": "execute_result",
          "data": {
            "text/plain": [
              "array([[1., 0., 0., 0., 0.],\n",
              "       [0., 1., 0., 0., 0.],\n",
              "       [0., 0., 1., 0., 0.],\n",
              "       [0., 0., 0., 1., 0.],\n",
              "       [0., 0., 0., 0., 1.]])"
            ]
          },
          "metadata": {},
          "execution_count": 19
        }
      ]
    },
    {
      "cell_type": "markdown",
      "source": [
        "# * reshape(), max(), min(), argmax(), argmin()"
      ],
      "metadata": {
        "id": "Op6FLPOvuNiP"
      }
    },
    {
      "cell_type": "markdown",
      "source": [
        "## `Reshape()`\n",
        "Returns an array containing the same data with a new shape."
      ],
      "metadata": {
        "id": "z-yOHfXYufIM"
      }
    },
    {
      "cell_type": "code",
      "source": [
        "array_arange = np.arange(16)\n",
        "print(array_arange)\n",
        "array_ranint = np.random.randint(0,100,10)\n",
        "array_ranint"
      ],
      "metadata": {
        "colab": {
          "base_uri": "https://localhost:8080/"
        },
        "id": "k04FYfTpu0FV",
        "outputId": "311f8e7b-b5d4-4518-d5b7-7333569e1017"
      },
      "execution_count": null,
      "outputs": [
        {
          "output_type": "stream",
          "name": "stdout",
          "text": [
            "[ 0  1  2  3  4  5  6  7  8  9 10 11 12 13 14 15]\n"
          ]
        },
        {
          "output_type": "execute_result",
          "data": {
            "text/plain": [
              "array([57, 35, 65, 35, 86, 67, 27, 29, 86, 71])"
            ]
          },
          "metadata": {},
          "execution_count": 20
        }
      ]
    },
    {
      "cell_type": "code",
      "source": [
        "reshape_test=array_arange.reshape(4,4) # any other num will give error\n",
        "reshape_test"
      ],
      "metadata": {
        "colab": {
          "base_uri": "https://localhost:8080/"
        },
        "id": "Qlq2bP4buW6E",
        "outputId": "7fd43b4f-8c24-49d7-c450-b69fcfa229e7"
      },
      "execution_count": null,
      "outputs": [
        {
          "output_type": "execute_result",
          "data": {
            "text/plain": [
              "array([[ 0,  1,  2,  3],\n",
              "       [ 4,  5,  6,  7],\n",
              "       [ 8,  9, 10, 11],\n",
              "       [12, 13, 14, 15]])"
            ]
          },
          "metadata": {},
          "execution_count": 21
        }
      ]
    },
    {
      "cell_type": "markdown",
      "source": [
        "#### `argmax()` & `argmin()`\n",
        "To find the index locations of max and min values in array"
      ],
      "metadata": {
        "id": "NQEzI9GfxwYt"
      }
    },
    {
      "cell_type": "code",
      "source": [
        "a = [ 21,34,16,19,100, 26,29,41,38,59]\n",
        "ard = np.array(a)\n",
        "print(ard)"
      ],
      "metadata": {
        "colab": {
          "base_uri": "https://localhost:8080/"
        },
        "id": "ZU6lUNURxyAN",
        "outputId": "85dabc7a-ffa3-45a6-89d4-6455699c7867"
      },
      "execution_count": null,
      "outputs": [
        {
          "output_type": "stream",
          "name": "stdout",
          "text": [
            "[ 21  34  16  19 100  26  29  41  38  59]\n"
          ]
        }
      ]
    },
    {
      "cell_type": "code",
      "source": [
        "print(ard.argmax()) # index print korbe\n",
        "print(ard.argmin())\n",
        "print(ard.max())\n",
        "print(ard.min())"
      ],
      "metadata": {
        "colab": {
          "base_uri": "https://localhost:8080/"
        },
        "id": "85CjC3CrzOxc",
        "outputId": "ae23b8ec-5047-4b65-d33a-38efbe4584cc"
      },
      "execution_count": null,
      "outputs": [
        {
          "output_type": "stream",
          "name": "stdout",
          "text": [
            "4\n",
            "2\n",
            "100\n",
            "16\n"
          ]
        }
      ]
    },
    {
      "cell_type": "markdown",
      "source": [
        "### Indexing & slicing of 1-D arrays (vectors)"
      ],
      "metadata": {
        "id": "4ByzkkVI0gZK"
      }
    },
    {
      "cell_type": "code",
      "source": [
        "array_1d = np.array([-10, -2, 0, 2, 17, 106,200])\n",
        "array_1d"
      ],
      "metadata": {
        "colab": {
          "base_uri": "https://localhost:8080/"
        },
        "id": "PaXN8lwJ0fjz",
        "outputId": "4028152d-cad2-4025-fe2e-9869b11bc783"
      },
      "execution_count": null,
      "outputs": [
        {
          "output_type": "execute_result",
          "data": {
            "text/plain": [
              "array([-10,  -2,   0,   2,  17, 106, 200])"
            ]
          },
          "metadata": {},
          "execution_count": 24
        }
      ]
    },
    {
      "cell_type": "code",
      "source": [
        "array_1d[0:3]"
      ],
      "metadata": {
        "colab": {
          "base_uri": "https://localhost:8080/"
        },
        "id": "GiFfhoyO0fm3",
        "outputId": "33eae768-3060-43bd-ee22-6a80cc926987"
      },
      "execution_count": null,
      "outputs": [
        {
          "output_type": "execute_result",
          "data": {
            "text/plain": [
              "array([-10,  -2,   0])"
            ]
          },
          "metadata": {},
          "execution_count": 25
        }
      ]
    },
    {
      "cell_type": "code",
      "source": [
        "array_1d[-2]"
      ],
      "metadata": {
        "colab": {
          "base_uri": "https://localhost:8080/"
        },
        "id": "QiK9GAqq0fqB",
        "outputId": "0520c57b-4c46-4095-dae1-3ecebc6a7d7c"
      },
      "execution_count": null,
      "outputs": [
        {
          "output_type": "execute_result",
          "data": {
            "text/plain": [
              "106"
            ]
          },
          "metadata": {},
          "execution_count": 26
        }
      ]
    },
    {
      "cell_type": "code",
      "source": [
        "array_1d[1:-2], array_1d"
      ],
      "metadata": {
        "colab": {
          "base_uri": "https://localhost:8080/"
        },
        "id": "jFffwVj40fsv",
        "outputId": "2f3c5ae6-ffd5-4dc2-8d07-4ae33c9d8d00"
      },
      "execution_count": null,
      "outputs": [
        {
          "output_type": "execute_result",
          "data": {
            "text/plain": [
              "(array([-2,  0,  2, 17]), array([-10,  -2,   0,   2,  17, 106, 200]))"
            ]
          },
          "metadata": {},
          "execution_count": 27
        }
      ]
    },
    {
      "cell_type": "code",
      "source": [
        "array_1d"
      ],
      "metadata": {
        "colab": {
          "base_uri": "https://localhost:8080/"
        },
        "id": "1owZefBu0fwB",
        "outputId": "4fa9009c-564b-4f4a-a5e8-43bf659ba4cc"
      },
      "execution_count": null,
      "outputs": [
        {
          "output_type": "execute_result",
          "data": {
            "text/plain": [
              "array([-10,  -2,   0,   2,  17, 106, 200])"
            ]
          },
          "metadata": {},
          "execution_count": 28
        }
      ]
    },
    {
      "cell_type": "markdown",
      "source": [
        "###  Indexing & slicing 2-D arrays (matrices)\n",
        "\n",
        "Lets create an array with 24 elements using arange() and convert it to 2D matrix using \"shape\".<br>\n",
        "*note, 6 x 4 = 24*"
      ],
      "metadata": {
        "id": "vV6SzUV92X0G"
      }
    },
    {
      "cell_type": "code",
      "source": [
        "array_2d= np.arange(24)\n",
        "array_2d.shape = (6,4)\n",
        "array_2d"
      ],
      "metadata": {
        "colab": {
          "base_uri": "https://localhost:8080/"
        },
        "id": "j9bBpEAb0fyK",
        "outputId": "e4cb4531-307a-426c-a14f-884fea47bb38"
      },
      "execution_count": null,
      "outputs": [
        {
          "output_type": "execute_result",
          "data": {
            "text/plain": [
              "array([[ 0,  1,  2,  3],\n",
              "       [ 4,  5,  6,  7],\n",
              "       [ 8,  9, 10, 11],\n",
              "       [12, 13, 14, 15],\n",
              "       [16, 17, 18, 19],\n",
              "       [20, 21, 22, 23]])"
            ]
          },
          "metadata": {},
          "execution_count": 29
        }
      ]
    },
    {
      "cell_type": "code",
      "source": [
        "# To get a complete row\n",
        "array_2d[2]"
      ],
      "metadata": {
        "colab": {
          "base_uri": "https://localhost:8080/"
        },
        "id": "SbyiNPF22jcc",
        "outputId": "f4906e76-a2ab-4c18-f2eb-4a31e3b5ad87"
      },
      "execution_count": null,
      "outputs": [
        {
          "output_type": "execute_result",
          "data": {
            "text/plain": [
              "array([ 8,  9, 10, 11])"
            ]
          },
          "metadata": {},
          "execution_count": 30
        }
      ]
    },
    {
      "cell_type": "code",
      "source": [
        "array_2d[-4] # -0 and 0 is same inedex"
      ],
      "metadata": {
        "colab": {
          "base_uri": "https://localhost:8080/"
        },
        "id": "7iB-DEbM2jkz",
        "outputId": "e69535de-e9d5-44b7-8e00-a78fe8390a43"
      },
      "execution_count": null,
      "outputs": [
        {
          "output_type": "execute_result",
          "data": {
            "text/plain": [
              "array([ 8,  9, 10, 11])"
            ]
          },
          "metadata": {},
          "execution_count": 31
        }
      ]
    },
    {
      "cell_type": "code",
      "source": [
        "# To get an individual element value at row = 5 and column = 2\n",
        "array_2d[5,2]"
      ],
      "metadata": {
        "colab": {
          "base_uri": "https://localhost:8080/"
        },
        "id": "XZa9MIF82jnx",
        "outputId": "b64657b0-28a1-481c-f54b-c4d8e42973ca"
      },
      "execution_count": null,
      "outputs": [
        {
          "output_type": "execute_result",
          "data": {
            "text/plain": [
              "22"
            ]
          },
          "metadata": {},
          "execution_count": 32
        }
      ]
    },
    {
      "cell_type": "code",
      "source": [
        "# another way\n",
        "row = 5\n",
        "column = 2\n",
        "array_2d[row, column]"
      ],
      "metadata": {
        "colab": {
          "base_uri": "https://localhost:8080/"
        },
        "id": "HI-3cvO-2jqj",
        "outputId": "951c7d30-c5bb-4f9d-e80e-259eaa84b282"
      },
      "execution_count": null,
      "outputs": [
        {
          "output_type": "execute_result",
          "data": {
            "text/plain": [
              "22"
            ]
          },
          "metadata": {},
          "execution_count": 33
        }
      ]
    },
    {
      "cell_type": "code",
      "source": [
        "# Just to make sure, using [row][col] :)\n",
        "array_2d[5][2]"
      ],
      "metadata": {
        "colab": {
          "base_uri": "https://localhost:8080/"
        },
        "id": "oMLDrqXR2jtY",
        "outputId": "d8504904-3b7d-424a-92ab-c6a27a45742d"
      },
      "execution_count": null,
      "outputs": [
        {
          "output_type": "execute_result",
          "data": {
            "text/plain": [
              "22"
            ]
          },
          "metadata": {},
          "execution_count": 34
        }
      ]
    },
    {
      "cell_type": "code",
      "source": [
        "array_2d"
      ],
      "metadata": {
        "colab": {
          "base_uri": "https://localhost:8080/"
        },
        "id": "oHKOw4bx20A7",
        "outputId": "c4a96949-e231-4bef-f185-1ac0715b33d2"
      },
      "execution_count": null,
      "outputs": [
        {
          "output_type": "execute_result",
          "data": {
            "text/plain": [
              "array([[ 0,  1,  2,  3],\n",
              "       [ 4,  5,  6,  7],\n",
              "       [ 8,  9, 10, 11],\n",
              "       [12, 13, 14, 15],\n",
              "       [16, 17, 18, 19],\n",
              "       [20, 21, 22, 23]])"
            ]
          },
          "metadata": {},
          "execution_count": 35
        }
      ]
    },
    {
      "cell_type": "code",
      "source": [
        "# 2D array slicing\n",
        "array_2d[:2,:2] # array_2d[:2,:2].shape gives (2,2), 4 elements for top left corner\n",
        "#[row:row, column:column] [From 0 row to 1 row, From 0 column to 1 column]\n",
        "# array_2d[0:2,0:2] is same as array_2d[:2,:2]"
      ],
      "metadata": {
        "colab": {
          "base_uri": "https://localhost:8080/"
        },
        "id": "xc1K1C4y20D_",
        "outputId": "f736b7bb-2daa-4b76-fa8e-096a6d6c5613"
      },
      "execution_count": null,
      "outputs": [
        {
          "output_type": "execute_result",
          "data": {
            "text/plain": [
              "array([[0, 1],\n",
              "       [4, 5]])"
            ]
          },
          "metadata": {},
          "execution_count": 36
        }
      ]
    },
    {
      "cell_type": "code",
      "source": [
        "array_2d[2:4,2:4] # inner slice [From 2 row to 3 row, From 2 column to 3 column]"
      ],
      "metadata": {
        "colab": {
          "base_uri": "https://localhost:8080/"
        },
        "id": "WXzFQ2x220HH",
        "outputId": "66a3933e-dcb4-4d91-eb3d-725ee9447293"
      },
      "execution_count": null,
      "outputs": [
        {
          "output_type": "execute_result",
          "data": {
            "text/plain": [
              "array([[10, 11],\n",
              "       [14, 15]])"
            ]
          },
          "metadata": {},
          "execution_count": 37
        }
      ]
    },
    {
      "cell_type": "code",
      "source": [
        "array_2d= np.arange(30).reshape(6,5)\n",
        "array_2d"
      ],
      "metadata": {
        "id": "JyHuLtVR2_Pb",
        "colab": {
          "base_uri": "https://localhost:8080/"
        },
        "outputId": "87b3081b-7353-4233-b77c-dd0a05d3030a"
      },
      "execution_count": null,
      "outputs": [
        {
          "output_type": "execute_result",
          "data": {
            "text/plain": [
              "array([[ 0,  1,  2,  3,  4],\n",
              "       [ 5,  6,  7,  8,  9],\n",
              "       [10, 11, 12, 13, 14],\n",
              "       [15, 16, 17, 18, 19],\n",
              "       [20, 21, 22, 23, 24],\n",
              "       [25, 26, 27, 28, 29]])"
            ]
          },
          "metadata": {},
          "execution_count": 93
        }
      ]
    },
    {
      "cell_type": "code",
      "source": [
        "array_2d[3:, 2:]"
      ],
      "metadata": {
        "id": "X_OiVt6C2_X1",
        "colab": {
          "base_uri": "https://localhost:8080/"
        },
        "outputId": "fd628da2-bd4f-4b7d-ec69-719bbbdaaa3e"
      },
      "execution_count": null,
      "outputs": [
        {
          "output_type": "execute_result",
          "data": {
            "text/plain": [
              "array([[17, 18, 19],\n",
              "       [22, 23, 24],\n",
              "       [27, 28, 29]])"
            ]
          },
          "metadata": {},
          "execution_count": 94
        }
      ]
    },
    {
      "cell_type": "code",
      "source": [
        "array_2d[5,4]"
      ],
      "metadata": {
        "colab": {
          "base_uri": "https://localhost:8080/"
        },
        "id": "DtA6hUrdZApi",
        "outputId": "baa2bb8b-a0bc-4c5f-e9bb-1e5cf804d64a"
      },
      "execution_count": null,
      "outputs": [
        {
          "output_type": "execute_result",
          "data": {
            "text/plain": [
              "29"
            ]
          },
          "metadata": {},
          "execution_count": 95
        }
      ]
    },
    {
      "cell_type": "code",
      "source": [
        "array_2d[:3,1:2] # array_2d[:3,1:3] for col 1 and 2"
      ],
      "metadata": {
        "colab": {
          "base_uri": "https://localhost:8080/"
        },
        "id": "vaPXDj5GZAsb",
        "outputId": "0572a092-3ce4-4fb1-f498-52f45929748e"
      },
      "execution_count": null,
      "outputs": [
        {
          "output_type": "execute_result",
          "data": {
            "text/plain": [
              "array([[ 1],\n",
              "       [ 6],\n",
              "       [11]])"
            ]
          },
          "metadata": {},
          "execution_count": 96
        }
      ]
    },
    {
      "cell_type": "code",
      "source": [
        "array_2d[2,:] # array_2d[2:3,:] will give the same output"
      ],
      "metadata": {
        "colab": {
          "base_uri": "https://localhost:8080/"
        },
        "id": "fPp4DzrFZAvM",
        "outputId": "e9c14c2c-55d8-45f3-dc40-74ff739d43fe"
      },
      "execution_count": null,
      "outputs": [
        {
          "output_type": "execute_result",
          "data": {
            "text/plain": [
              "array([10, 11, 12, 13, 14])"
            ]
          },
          "metadata": {},
          "execution_count": 97
        }
      ]
    },
    {
      "cell_type": "code",
      "source": [
        "array_2d[2:4,:]"
      ],
      "metadata": {
        "colab": {
          "base_uri": "https://localhost:8080/"
        },
        "id": "SAd9dge3ZAyL",
        "outputId": "1b4ff528-ccf1-4475-970e-cd00492783f2"
      },
      "execution_count": null,
      "outputs": [
        {
          "output_type": "execute_result",
          "data": {
            "text/plain": [
              "array([[10, 11, 12, 13, 14],\n",
              "       [15, 16, 17, 18, 19]])"
            ]
          },
          "metadata": {},
          "execution_count": 98
        }
      ]
    },
    {
      "cell_type": "markdown",
      "source": [
        "# **Calculate the sum of all the numbers in array_2d?**"
      ],
      "metadata": {
        "id": "KFWcH6XoZbax"
      }
    },
    {
      "cell_type": "code",
      "source": [
        "array_2d"
      ],
      "metadata": {
        "colab": {
          "base_uri": "https://localhost:8080/"
        },
        "id": "NwWkpGoeZA1A",
        "outputId": "16ca5899-502e-4148-e071-e01eac1f8a1b"
      },
      "execution_count": null,
      "outputs": [
        {
          "output_type": "execute_result",
          "data": {
            "text/plain": [
              "array([[ 0,  1,  2,  3,  4],\n",
              "       [ 5,  6,  7,  8,  9],\n",
              "       [10, 11, 12, 13, 14],\n",
              "       [15, 16, 17, 18, 19],\n",
              "       [20, 21, 22, 23, 24],\n",
              "       [25, 26, 27, 28, 29]])"
            ]
          },
          "metadata": {},
          "execution_count": 99
        }
      ]
    },
    {
      "cell_type": "code",
      "source": [
        "array_2d.sum()"
      ],
      "metadata": {
        "colab": {
          "base_uri": "https://localhost:8080/"
        },
        "id": "y4hfuS2XZA3f",
        "outputId": "8edcf4e3-ee78-486d-dc34-0668cb30cbc9"
      },
      "execution_count": null,
      "outputs": [
        {
          "output_type": "execute_result",
          "data": {
            "text/plain": [
              "435"
            ]
          },
          "metadata": {},
          "execution_count": 100
        }
      ]
    },
    {
      "cell_type": "code",
      "source": [
        "array_2d.sum(axis=1)# axis =1 row wise sum korbe."
      ],
      "metadata": {
        "colab": {
          "base_uri": "https://localhost:8080/"
        },
        "id": "lK1oAEXkZi20",
        "outputId": "9c43c521-6771-40c3-d7d9-c511f63ea4f4"
      },
      "execution_count": null,
      "outputs": [
        {
          "output_type": "execute_result",
          "data": {
            "text/plain": [
              "array([ 10,  35,  60,  85, 110, 135])"
            ]
          },
          "metadata": {},
          "execution_count": 101
        }
      ]
    },
    {
      "cell_type": "code",
      "source": [
        "array_2d.sum(axis=0) ## axis=0 column wise sum korbe."
      ],
      "metadata": {
        "colab": {
          "base_uri": "https://localhost:8080/"
        },
        "id": "fHkfOnJ8Zi54",
        "outputId": "3fc834ca-3691-4a00-e9a2-921255b12379"
      },
      "execution_count": null,
      "outputs": [
        {
          "output_type": "execute_result",
          "data": {
            "text/plain": [
              "array([75, 81, 87, 93, 99])"
            ]
          },
          "metadata": {},
          "execution_count": 103
        }
      ]
    },
    {
      "cell_type": "code",
      "source": [],
      "metadata": {
        "id": "60Prt-vOZi9y"
      },
      "execution_count": null,
      "outputs": []
    },
    {
      "cell_type": "markdown",
      "source": [
        "## **2D array**"
      ],
      "metadata": {
        "id": "8qO-pZ2APXYm"
      }
    },
    {
      "cell_type": "code",
      "source": [
        "my_matrix = [[1,2,3],[4,5,6],[7,8,9], [4, 5, 9]]\n",
        "matrix_one = np.array(my_matrix)\n",
        "matrix_one"
      ],
      "metadata": {
        "colab": {
          "base_uri": "https://localhost:8080/"
        },
        "id": "NrDjIBRY-cp0",
        "outputId": "36e05271-1859-4fa0-a92b-1ead75b1223c"
      },
      "execution_count": null,
      "outputs": [
        {
          "output_type": "execute_result",
          "data": {
            "text/plain": [
              "array([[1, 2, 3],\n",
              "       [4, 5, 6],\n",
              "       [7, 8, 9],\n",
              "       [4, 5, 9]])"
            ]
          },
          "metadata": {},
          "execution_count": 38
        }
      ]
    },
    {
      "cell_type": "code",
      "source": [
        "f = np.arange(12).reshape(3, 4)  # reshape (row, column)\n",
        "print(f)"
      ],
      "metadata": {
        "colab": {
          "base_uri": "https://localhost:8080/"
        },
        "id": "q23JKwTvM10d",
        "outputId": "697bcceb-3c07-435d-c0d0-143f6d09b937"
      },
      "execution_count": null,
      "outputs": [
        {
          "output_type": "stream",
          "name": "stdout",
          "text": [
            "[[ 0  1  2  3]\n",
            " [ 4  5  6  7]\n",
            " [ 8  9 10 11]]\n"
          ]
        }
      ]
    },
    {
      "cell_type": "code",
      "source": [
        "a = [ 21,34,16,19,100, 26,29,41,38,59]\n",
        "ard = np.array(a)\n",
        "f2 = ard.reshape (2,5)\n",
        "print(f2)"
      ],
      "metadata": {
        "colab": {
          "base_uri": "https://localhost:8080/"
        },
        "id": "zmWS9SOhQJsk",
        "outputId": "ff3e3922-1256-4e4b-b04a-799d8c28a019"
      },
      "execution_count": null,
      "outputs": [
        {
          "output_type": "stream",
          "name": "stdout",
          "text": [
            "[[ 21  34  16  19 100]\n",
            " [ 26  29  41  38  59]]\n"
          ]
        }
      ]
    },
    {
      "cell_type": "code",
      "source": [
        "   # copy array\n",
        "i = np.copy(f2)\n",
        "print(i)"
      ],
      "metadata": {
        "colab": {
          "base_uri": "https://localhost:8080/"
        },
        "id": "2Is94Ng5Qx87",
        "outputId": "5209819a-1132-475f-a708-63d8f41cbaf7"
      },
      "execution_count": null,
      "outputs": [
        {
          "output_type": "stream",
          "name": "stdout",
          "text": [
            "[[ 21  34  16  19 100]\n",
            " [ 26  29  41  38  59]]\n"
          ]
        }
      ]
    },
    {
      "cell_type": "code",
      "source": [
        "# convert data into matrix, and split matrix into array\n",
        "k2 = [[1,2,3],[3,4,5],[7,8,9]]\n",
        "\n",
        "print(np.mat(k2))\n",
        "l = np.array_split(k2, 3) # matrix ke abar array ye niye jabe\n",
        "print(l)"
      ],
      "metadata": {
        "colab": {
          "base_uri": "https://localhost:8080/"
        },
        "id": "tqs3-GFAiEjq",
        "outputId": "d83d852d-2460-4df0-de6c-c2fb5a840f0c"
      },
      "execution_count": null,
      "outputs": [
        {
          "output_type": "stream",
          "name": "stdout",
          "text": [
            "[[1 2 3]\n",
            " [3 4 5]\n",
            " [7 8 9]]\n",
            "[array([[1, 2, 3]]), array([[3, 4, 5]]), array([[7, 8, 9]])]\n"
          ]
        }
      ]
    },
    {
      "cell_type": "markdown",
      "source": [
        "# add column in matrix"
      ],
      "metadata": {
        "id": "jq3CDtbNiHpL"
      }
    },
    {
      "cell_type": "code",
      "source": [
        "k3 = [[10,20,30],[30,40,50],[70,80,90]]\n",
        "np.mat(k3)\n",
        "m = np.column_stack((k2, k3))\n",
        "print(m)"
      ],
      "metadata": {
        "colab": {
          "base_uri": "https://localhost:8080/"
        },
        "id": "q48y4DURiWMh",
        "outputId": "8a4571f6-dd27-4cff-db48-45fb7eccab7c"
      },
      "execution_count": null,
      "outputs": [
        {
          "output_type": "stream",
          "name": "stdout",
          "text": [
            "[[ 1  2  3 10 20 30]\n",
            " [ 3  4  5 30 40 50]\n",
            " [ 7  8  9 70 80 90]]\n"
          ]
        }
      ]
    },
    {
      "cell_type": "code",
      "source": [
        "# diagomal data of matrix\n",
        "n = np.diagonal(m)\n",
        "print(n)"
      ],
      "metadata": {
        "colab": {
          "base_uri": "https://localhost:8080/"
        },
        "id": "AX-q9aX9kqfR",
        "outputId": "4fc784a6-d3ba-43de-caea-284248dcd5a2"
      },
      "execution_count": null,
      "outputs": [
        {
          "output_type": "stream",
          "name": "stdout",
          "text": [
            "[1 4 9]\n"
          ]
        }
      ]
    },
    {
      "cell_type": "code",
      "source": [
        "# split matrix\n",
        "o = np.arange(0,12).reshape(2, 2,3) # 2=2ta raw, 3 =3 ta column. Mazkhan ar 2= matrix ta ke 2 vag a vag korsi\n",
        "print(o)\n",
        "\n"
      ],
      "metadata": {
        "colab": {
          "base_uri": "https://localhost:8080/"
        },
        "id": "9jMepGhbk-fJ",
        "outputId": "a32c524c-a66b-441d-c080-0808cc688bf7"
      },
      "execution_count": null,
      "outputs": [
        {
          "output_type": "stream",
          "name": "stdout",
          "text": [
            "[[[ 0  1  2]\n",
            "  [ 3  4  5]]\n",
            "\n",
            " [[ 6  7  8]\n",
            "  [ 9 10 11]]]\n"
          ]
        }
      ]
    },
    {
      "cell_type": "code",
      "source": [
        "# dsplit\n",
        "p = np.dsplit(o, 3)\n",
        "print(p)\n"
      ],
      "metadata": {
        "id": "WIh3KaqXlK0g",
        "colab": {
          "base_uri": "https://localhost:8080/"
        },
        "outputId": "ab11d506-5a00-4b7f-d744-17529c439586"
      },
      "execution_count": null,
      "outputs": [
        {
          "output_type": "stream",
          "name": "stdout",
          "text": [
            "[array([[[0],\n",
            "        [3]],\n",
            "\n",
            "       [[6],\n",
            "        [9]]]), array([[[ 1],\n",
            "        [ 4]],\n",
            "\n",
            "       [[ 7],\n",
            "        [10]]]), array([[[ 2],\n",
            "        [ 5]],\n",
            "\n",
            "       [[ 8],\n",
            "        [11]]])]\n"
          ]
        }
      ]
    },
    {
      "cell_type": "code",
      "source": [
        "# transpose matrix\n",
        "q = np.array([[1, 2], [3, 4], [5, 6]])\n",
        "print(q)\n",
        "print(np.transpose(q))\n"
      ],
      "metadata": {
        "colab": {
          "base_uri": "https://localhost:8080/"
        },
        "id": "-dGXfPUXeZFL",
        "outputId": "21612afb-08d6-4113-9b7e-22d121d35ca7"
      },
      "execution_count": null,
      "outputs": [
        {
          "output_type": "stream",
          "name": "stdout",
          "text": [
            "[[1 2]\n",
            " [3 4]\n",
            " [5 6]]\n",
            "[[1 3 5]\n",
            " [2 4 6]]\n"
          ]
        }
      ]
    },
    {
      "cell_type": "markdown",
      "source": [
        "\n",
        "# NumPy Joining Array"
      ],
      "metadata": {
        "id": "bPSe4onHgCcl"
      }
    },
    {
      "cell_type": "code",
      "source": [
        "p1 = np.array([1, 2, 3])\n",
        "p2 = np.array([4, 5, 6])\n",
        "\n",
        "p3 = np.concatenate((p1, p2))\n",
        "print(p3)"
      ],
      "metadata": {
        "colab": {
          "base_uri": "https://localhost:8080/"
        },
        "id": "rBOcmcAffG2S",
        "outputId": "077d8f05-4193-438c-8724-babe52773d99"
      },
      "execution_count": null,
      "outputs": [
        {
          "output_type": "stream",
          "name": "stdout",
          "text": [
            "[1 2 3 4 5 6]\n"
          ]
        }
      ]
    },
    {
      "cell_type": "code",
      "source": [
        "# Join two 2-D arrays along rows (axis=1)\n",
        "q1 = np.array([[1, 2], [3, 4]])\n",
        "q2 = np.array([[5, 6], [7, 8]])\n",
        "\n",
        "q3 = np.concatenate((q1, q2), axis=1) #axis =0 hole verticaly  value gulo sajabe. #axis =1 hole horizontaly value gulo sajabe\n",
        "print(q3)\n",
        "q3 = np.concatenate((q1, q2), axis=0)\n",
        "print(q3)"
      ],
      "metadata": {
        "colab": {
          "base_uri": "https://localhost:8080/"
        },
        "id": "Icmqz-92gPRS",
        "outputId": "e3ac5d89-4c19-4944-b7aa-b4d495355436"
      },
      "execution_count": null,
      "outputs": [
        {
          "output_type": "stream",
          "name": "stdout",
          "text": [
            "[[1 2 5 6]\n",
            " [3 4 7 8]]\n",
            "[[1 2]\n",
            " [3 4]\n",
            " [5 6]\n",
            " [7 8]]\n"
          ]
        }
      ]
    },
    {
      "cell_type": "markdown",
      "source": [
        " Joining Arrays Using Stack Functions"
      ],
      "metadata": {
        "id": "MYxGVD-uj_hc"
      }
    },
    {
      "cell_type": "code",
      "source": [
        "# Joining Arrays Using Stack Functions\n",
        "r1 = np.array([1, 2, 3])\n",
        "r2 = np.array([4, 5, 6])\n",
        "\n",
        "r3 = np.stack((r1, r2), axis=1)\n",
        "print(r3)\n"
      ],
      "metadata": {
        "colab": {
          "base_uri": "https://localhost:8080/"
        },
        "id": "kq619erUgZKC",
        "outputId": "ba5569ff-1511-413a-f5f3-63932885fbcb"
      },
      "execution_count": null,
      "outputs": [
        {
          "output_type": "stream",
          "name": "stdout",
          "text": [
            "[[1 4]\n",
            " [2 5]\n",
            " [3 6]]\n"
          ]
        }
      ]
    },
    {
      "cell_type": "code",
      "source": [
        "# Stacking Along Rows/ similar to concatanate\n",
        "s1 = np.array([1, 2, 3])\n",
        "s2 = np.array([4, 5, 6])\n",
        "\n",
        "s3 = np.hstack((s1, s2))\n",
        "print(s3)\n",
        "\n",
        "# Stacking Along Columns\n",
        "t1 = np.array([1, 2, 3])\n",
        "t2 = np.array([4, 5, 6])\n",
        "\n",
        "t3 = np.vstack((t1, t2))\n",
        "print(t3)"
      ],
      "metadata": {
        "colab": {
          "base_uri": "https://localhost:8080/"
        },
        "id": "LVJWlrjuj0mR",
        "outputId": "d42074f6-f3db-4325-b55a-2a66f4057a20"
      },
      "execution_count": null,
      "outputs": [
        {
          "output_type": "stream",
          "name": "stdout",
          "text": [
            "[1 2 3 4 5 6]\n",
            "[[1 2 3]\n",
            " [4 5 6]]\n"
          ]
        }
      ]
    },
    {
      "cell_type": "code",
      "source": [
        "# Stacking Along Height (depth)\n",
        "u1 = np.array([1, 2, 3])\n",
        "u2 = np.array([4, 5, 6])\n",
        "\n",
        "u3 = np.dstack((u1, u2))\n",
        "print(u3)"
      ],
      "metadata": {
        "colab": {
          "base_uri": "https://localhost:8080/"
        },
        "id": "yIqQd3Ksj8Oq",
        "outputId": "134a85ce-dd5a-44e6-aedf-1c6a558f43ea"
      },
      "execution_count": null,
      "outputs": [
        {
          "output_type": "stream",
          "name": "stdout",
          "text": [
            "[[[1 4]\n",
            "  [2 5]\n",
            "  [3 6]]]\n"
          ]
        }
      ]
    },
    {
      "cell_type": "markdown",
      "source": [
        "## **Random Number Generation**"
      ],
      "metadata": {
        "id": "OnEzgtk2l_qz"
      }
    },
    {
      "cell_type": "markdown",
      "source": [
        "## Random\n",
        "\n",
        "We can also create arrays with random numbers using Numpy's built-in functions in Random module.<br>\n",
        "*np.random. and then press tab for the options with random*"
      ],
      "metadata": {
        "id": "g8OguF-3lMUY"
      }
    },
    {
      "cell_type": "markdown",
      "source": [
        "### `rand()`\n",
        "Create an array of the given shape and populate it with\n",
        "random samples from a uniform distribution\n",
        "over ``[0, 1)``."
      ],
      "metadata": {
        "id": "t1jUsukElTh3"
      }
    },
    {
      "cell_type": "code",
      "source": [
        "import random"
      ],
      "metadata": {
        "id": "MLaHF3zNlL4x"
      },
      "execution_count": null,
      "outputs": []
    },
    {
      "cell_type": "code",
      "source": [
        "np.random.rand(10) # 0 theke 1 ar morthe thakbe. 1 ar besi hobe na"
      ],
      "metadata": {
        "colab": {
          "base_uri": "https://localhost:8080/"
        },
        "id": "nJZVwQ_LoeeX",
        "outputId": "843b4391-48a8-4b79-853c-1551ab807872"
      },
      "execution_count": null,
      "outputs": [
        {
          "output_type": "execute_result",
          "data": {
            "text/plain": [
              "array([0.20721186, 0.76740179, 0.82076564, 0.55153953, 0.98649104,\n",
              "       0.71562451, 0.62398346, 0.95053407, 0.31127718, 0.71095872])"
            ]
          },
          "metadata": {},
          "execution_count": 54
        }
      ]
    },
    {
      "cell_type": "code",
      "source": [
        "np.random.rand(3,2)"
      ],
      "metadata": {
        "colab": {
          "base_uri": "https://localhost:8080/"
        },
        "id": "-ru7AZ-norqF",
        "outputId": "0e635ad7-14f5-44cf-ea11-72a71453a1cd"
      },
      "execution_count": null,
      "outputs": [
        {
          "output_type": "execute_result",
          "data": {
            "text/plain": [
              "array([[0.64348197, 0.77908086],\n",
              "       [0.9796806 , 0.58607112],\n",
              "       [0.99441553, 0.32748616]])"
            ]
          },
          "metadata": {},
          "execution_count": 55
        }
      ]
    },
    {
      "cell_type": "markdown",
      "source": [
        "### `randn()`\n",
        "\n",
        "Return a sample (or samples) from the \"standard normal\" or a \"Gaussian\" distribution. Unlike rand which is uniform.<br>\n",
        "*Press shift+tab for the documentation.*"
      ],
      "metadata": {
        "id": "LzZIY4k_pVw4"
      }
    },
    {
      "cell_type": "code",
      "source": [
        "print(np.random.randn(5)) # randn() ar range -3 theke +3\n",
        "np.random.randn(10,3) # no tuple, each dimension as a separate argument"
      ],
      "metadata": {
        "colab": {
          "base_uri": "https://localhost:8080/"
        },
        "id": "uLfXTPuopitu",
        "outputId": "ab5dc397-9889-4c73-9d46-73efafd87cfd"
      },
      "execution_count": null,
      "outputs": [
        {
          "output_type": "stream",
          "name": "stdout",
          "text": [
            "[-0.94812392  0.00602771 -0.16452545 -0.77953009 -0.82073448]\n"
          ]
        },
        {
          "output_type": "execute_result",
          "data": {
            "text/plain": [
              "array([[-0.92673226, -1.15667181, -0.14648942],\n",
              "       [-0.14080641, -0.34363023, -0.1198921 ],\n",
              "       [-0.19082019, -1.9428628 ,  0.15004138],\n",
              "       [ 0.8898258 , -0.29707755,  0.23624569],\n",
              "       [-0.93300679,  1.3496395 ,  1.08022653],\n",
              "       [ 1.84431197,  1.31563938, -0.34760763],\n",
              "       [ 1.4541803 ,  0.61263819, -1.83190151],\n",
              "       [-0.93401168,  0.40418209, -1.00052146],\n",
              "       [ 0.88076671, -0.32486291,  1.19302547],\n",
              "       [ 0.3769564 ,  0.04125813,  0.5368592 ]])"
            ]
          },
          "metadata": {},
          "execution_count": 56
        }
      ]
    },
    {
      "cell_type": "markdown",
      "source": [
        "### `randint()`\n",
        "Return random integers from `low` (inclusive) to `high` (exclusive)."
      ],
      "metadata": {
        "id": "dpm9lBPNqPzl"
      }
    },
    {
      "cell_type": "code",
      "source": [
        "np.random.randint(1,100) #returns one random int, 1 inclusive, 100 exclusive"
      ],
      "metadata": {
        "colab": {
          "base_uri": "https://localhost:8080/"
        },
        "id": "7oDf8SgAqO_H",
        "outputId": "128ddb15-dc01-4c45-d0c9-2c9e65b72f75"
      },
      "execution_count": null,
      "outputs": [
        {
          "output_type": "execute_result",
          "data": {
            "text/plain": [
              "17"
            ]
          },
          "metadata": {},
          "execution_count": 57
        }
      ]
    },
    {
      "cell_type": "code",
      "source": [
        "g = random.randrange(0,10)\n",
        "print(g)"
      ],
      "metadata": {
        "colab": {
          "base_uri": "https://localhost:8080/"
        },
        "id": "GlqvP94dpK6Y",
        "outputId": "6508da87-d812-4176-a573-c764e024a7f6"
      },
      "execution_count": null,
      "outputs": [
        {
          "output_type": "stream",
          "name": "stdout",
          "text": [
            "8\n"
          ]
        }
      ]
    },
    {
      "cell_type": "code",
      "source": [
        "g1 = []\n",
        "for i in range(0,10):\n",
        "    n = random.randint(1,30)\n",
        "    g1.append(n)\n",
        "\n",
        "print(g1)\n",
        "print(g)\n"
      ],
      "metadata": {
        "colab": {
          "base_uri": "https://localhost:8080/"
        },
        "id": "qNsL2jAepNrn",
        "outputId": "e4fc289f-55eb-4b5b-c794-18c929a55c10"
      },
      "execution_count": null,
      "outputs": [
        {
          "output_type": "stream",
          "name": "stdout",
          "text": [
            "[20, 11, 21, 1, 8, 19, 5, 24, 7, 26]\n",
            "8\n"
          ]
        }
      ]
    },
    {
      "cell_type": "code",
      "source": [
        "# Split the 2D array\n",
        "arr = np.array([[1, 2], [3, 4], [5, 6], [7, 8], [9, 10], [11, 12]])\n",
        "\n",
        "newarr = np.array_split(arr, 3)\n",
        "print(newarr)"
      ],
      "metadata": {
        "colab": {
          "base_uri": "https://localhost:8080/"
        },
        "id": "37CXYwmIpV1w",
        "outputId": "9b2caee4-3f3d-4640-cc68-f24eab498b49"
      },
      "execution_count": null,
      "outputs": [
        {
          "output_type": "stream",
          "name": "stdout",
          "text": [
            "[array([[1, 2],\n",
            "       [3, 4]]), array([[5, 6],\n",
            "       [7, 8]]), array([[ 9, 10],\n",
            "       [11, 12]])]\n"
          ]
        }
      ]
    },
    {
      "cell_type": "markdown",
      "source": [
        "# Broadcasting (Array morthe onnek gulo cell ke aksathe replace korar porthodi ke broadcasting bole)\n",
        "\n",
        "Numpy arrays are different from normal Python lists because of their ability to broadcast. We will only cover the basics, for further details on broadcasting rules, click [here](https://docs.scipy.org/doc/numpy/user/basics.broadcasting.html) <br>\n",
        "Another good read on [broadcasting](https://jakevdp.github.io/PythonDataScienceHandbook/02.05-computation-on-arrays-broadcasting.html)!<br>\n"
      ],
      "metadata": {
        "id": "q5OzeRf83qm4"
      }
    },
    {
      "cell_type": "code",
      "source": [
        "# Lets create an array using arange()\n",
        "array_1d = np.arange(0,10)\n",
        "array_1d"
      ],
      "metadata": {
        "id": "aelxeUORyZU1",
        "colab": {
          "base_uri": "https://localhost:8080/"
        },
        "outputId": "aa407176-cc49-418a-d84f-4d94bc65f29c"
      },
      "execution_count": null,
      "outputs": [
        {
          "output_type": "execute_result",
          "data": {
            "text/plain": [
              "array([0, 1, 2, 3, 4, 5, 6, 7, 8, 9])"
            ]
          },
          "metadata": {},
          "execution_count": 61
        }
      ]
    },
    {
      "cell_type": "code",
      "source": [
        "#Take a slice of the array and set it equal to some number, say 500.<br>\n",
        "\n",
        "array_1d[0:5] = 500\n",
        "array_1d\n",
        "#this will **broadcast the value of 500 to the first 5 elements** of the array_1d"
      ],
      "metadata": {
        "id": "dPdjGryIyjps",
        "colab": {
          "base_uri": "https://localhost:8080/"
        },
        "outputId": "7404d25b-f1c2-4571-8d0b-97e2f5063810"
      },
      "execution_count": null,
      "outputs": [
        {
          "output_type": "execute_result",
          "data": {
            "text/plain": [
              "array([500, 500, 500, 500, 500,   5,   6,   7,   8,   9])"
            ]
          },
          "metadata": {},
          "execution_count": 65
        }
      ]
    },
    {
      "cell_type": "code",
      "source": [
        "# Lets create a 2D martix with ones\n",
        "array_2d = np.ones((4,4))\n",
        "array_2d"
      ],
      "metadata": {
        "colab": {
          "base_uri": "https://localhost:8080/"
        },
        "id": "I8tNKA4L4nDf",
        "outputId": "92f45d44-b01c-4106-f65b-75e92ca86b54"
      },
      "execution_count": null,
      "outputs": [
        {
          "output_type": "execute_result",
          "data": {
            "text/plain": [
              "array([[1., 1., 1., 1.],\n",
              "       [1., 1., 1., 1.],\n",
              "       [1., 1., 1., 1.],\n",
              "       [1., 1., 1., 1.]])"
            ]
          },
          "metadata": {},
          "execution_count": 66
        }
      ]
    },
    {
      "cell_type": "code",
      "source": [
        "# Lets broadcast 300 to the first row of array_2d\n",
        "array_2d[0] = 300\n",
        "array_2d"
      ],
      "metadata": {
        "colab": {
          "base_uri": "https://localhost:8080/"
        },
        "id": "uPRAhobW5C0u",
        "outputId": "058181ac-3639-43a6-a7db-5db81ce2417d"
      },
      "execution_count": null,
      "outputs": [
        {
          "output_type": "execute_result",
          "data": {
            "text/plain": [
              "array([[300., 300., 300., 300.],\n",
              "       [  1.,   1.,   1.,   1.],\n",
              "       [  1.,   1.,   1.,   1.],\n",
              "       [  1.,   1.,   1.,   1.]])"
            ]
          },
          "metadata": {},
          "execution_count": 67
        }
      ]
    },
    {
      "cell_type": "code",
      "source": [
        "# Lets create a simple 1-D array and broadcast to array_2d\n",
        "array_2d + np.arange(0,4)  #[0,1,2,3]\n",
        "# try array_2d + np.arange(0,3), did this work? if not why? # Yes this work"
      ],
      "metadata": {
        "colab": {
          "base_uri": "https://localhost:8080/"
        },
        "id": "wR3KLoLJ5HR9",
        "outputId": "620d92b8-aba4-4af3-df91-a98bf68cff93"
      },
      "execution_count": null,
      "outputs": [
        {
          "output_type": "execute_result",
          "data": {
            "text/plain": [
              "array([[300., 301., 302., 303.],\n",
              "       [  1.,   2.,   3.,   4.],\n",
              "       [  1.,   2.,   3.,   4.],\n",
              "       [  1.,   2.,   3.,   4.]])"
            ]
          },
          "metadata": {},
          "execution_count": 68
        }
      ]
    },
    {
      "cell_type": "code",
      "source": [
        "array_2d + 300\n",
        "# array_2d + [300,2], did it work? if not why? # Yes this work"
      ],
      "metadata": {
        "colab": {
          "base_uri": "https://localhost:8080/"
        },
        "id": "IRTR4L_j5S0d",
        "outputId": "cd0f99ad-24dd-4d21-ffbb-f2cbd8fab17e"
      },
      "execution_count": null,
      "outputs": [
        {
          "output_type": "execute_result",
          "data": {
            "text/plain": [
              "array([[600., 600., 600., 600.],\n",
              "       [301., 301., 301., 301.],\n",
              "       [301., 301., 301., 301.],\n",
              "       [301., 301., 301., 301.]])"
            ]
          },
          "metadata": {},
          "execution_count": 69
        }
      ]
    },
    {
      "cell_type": "code",
      "source": [
        "array_2d"
      ],
      "metadata": {
        "colab": {
          "base_uri": "https://localhost:8080/"
        },
        "id": "g9hjSd6q5ZlO",
        "outputId": "d29b4a70-b3bf-44d5-f77e-f90e255294ac"
      },
      "execution_count": null,
      "outputs": [
        {
          "output_type": "execute_result",
          "data": {
            "text/plain": [
              "array([[300., 300., 300., 300.],\n",
              "       [  1.,   1.,   1.,   1.],\n",
              "       [  1.,   1.,   1.,   1.],\n",
              "       [  1.,   1.,   1.,   1.]])"
            ]
          },
          "metadata": {},
          "execution_count": 70
        }
      ]
    },
    {
      "cell_type": "code",
      "source": [
        "array_2d[[0,2]] # 0 ar 2 number raw ke dekhabe"
      ],
      "metadata": {
        "colab": {
          "base_uri": "https://localhost:8080/"
        },
        "id": "RNgiTbuK5h3u",
        "outputId": "c16936a3-4a70-4fb4-9242-0edf55faa5bb"
      },
      "execution_count": null,
      "outputs": [
        {
          "output_type": "execute_result",
          "data": {
            "text/plain": [
              "array([[300., 300., 300., 300.],\n",
              "       [  1.,   1.,   1.,   1.]])"
            ]
          },
          "metadata": {},
          "execution_count": 71
        }
      ]
    },
    {
      "cell_type": "code",
      "source": [
        "array_2d[[3,0,1]]"
      ],
      "metadata": {
        "colab": {
          "base_uri": "https://localhost:8080/"
        },
        "id": "lPbKWzjB7oa1",
        "outputId": "4436da97-7e34-4a2c-f8b2-afb09d4847f3"
      },
      "execution_count": null,
      "outputs": [
        {
          "output_type": "execute_result",
          "data": {
            "text/plain": [
              "array([[  1.,   1.,   1.,   1.],\n",
              "       [300., 300., 300., 300.],\n",
              "       [  1.,   1.,   1.,   1.]])"
            ]
          },
          "metadata": {},
          "execution_count": 72
        }
      ]
    },
    {
      "cell_type": "code",
      "source": [
        "# lets try another matrix\n",
        "array_2d = np.arange(24)\n",
        "array_2d.shape = (6,4)\n",
        "array_2d"
      ],
      "metadata": {
        "colab": {
          "base_uri": "https://localhost:8080/"
        },
        "id": "jSNerUW58KU1",
        "outputId": "b6ae3307-1447-4125-de12-c7f93d30e8a0"
      },
      "execution_count": null,
      "outputs": [
        {
          "output_type": "execute_result",
          "data": {
            "text/plain": [
              "array([[ 0,  1,  2,  3],\n",
              "       [ 4,  5,  6,  7],\n",
              "       [ 8,  9, 10, 11],\n",
              "       [12, 13, 14, 15],\n",
              "       [16, 17, 18, 19],\n",
              "       [20, 21, 22, 23]])"
            ]
          },
          "metadata": {},
          "execution_count": 73
        }
      ]
    },
    {
      "cell_type": "code",
      "source": [
        "# grabbing rows\n",
        "array_2d[[2,4]]"
      ],
      "metadata": {
        "colab": {
          "base_uri": "https://localhost:8080/"
        },
        "id": "EqDWqpKQ8OZl",
        "outputId": "3ed7deaa-b676-46ce-ebb6-dd56e7442243"
      },
      "execution_count": null,
      "outputs": [
        {
          "output_type": "execute_result",
          "data": {
            "text/plain": [
              "array([[ 8,  9, 10, 11],\n",
              "       [16, 17, 18, 19]])"
            ]
          },
          "metadata": {},
          "execution_count": 74
        }
      ]
    },
    {
      "cell_type": "code",
      "source": [
        "# grabbing columns\n",
        "#array_2d[:,1:3]  # ata lowest theke highest column porjonto nibe. Tai obbssoi left ta right theke choto hote hobe\n",
        "array_2d[:,[3,2]] #ata sudhu position column nibe"
      ],
      "metadata": {
        "colab": {
          "base_uri": "https://localhost:8080/"
        },
        "id": "nhVJbV6NMUoD",
        "outputId": "6ac34685-9d7f-4905-9f9f-fe203dbc43da"
      },
      "execution_count": null,
      "outputs": [
        {
          "output_type": "execute_result",
          "data": {
            "text/plain": [
              "array([[ 3,  2],\n",
              "       [ 7,  6],\n",
              "       [11, 10],\n",
              "       [15, 14],\n",
              "       [19, 18],\n",
              "       [23, 22]])"
            ]
          },
          "metadata": {},
          "execution_count": 76
        }
      ]
    },
    {
      "cell_type": "code",
      "source": [
        "array_2d[:,0:2]"
      ],
      "metadata": {
        "colab": {
          "base_uri": "https://localhost:8080/"
        },
        "id": "Dc46U7EzMeAK",
        "outputId": "4484e99d-8463-423c-8dce-c5220d795a10"
      },
      "execution_count": null,
      "outputs": [
        {
          "output_type": "execute_result",
          "data": {
            "text/plain": [
              "array([[ 0,  1],\n",
              "       [ 4,  5],\n",
              "       [ 8,  9],\n",
              "       [12, 13],\n",
              "       [16, 17],\n",
              "       [20, 21]])"
            ]
          },
          "metadata": {},
          "execution_count": 78
        }
      ]
    },
    {
      "cell_type": "code",
      "source": [
        "array_1d = np.arange(1,11)\n",
        "array_1d"
      ],
      "metadata": {
        "colab": {
          "base_uri": "https://localhost:8080/"
        },
        "id": "gu--sqLfPSy6",
        "outputId": "22450a89-0b00-4c1d-b4c1-0770e59249af"
      },
      "execution_count": null,
      "outputs": [
        {
          "output_type": "execute_result",
          "data": {
            "text/plain": [
              "array([ 1,  2,  3,  4,  5,  6,  7,  8,  9, 10])"
            ]
          },
          "metadata": {},
          "execution_count": 79
        }
      ]
    },
    {
      "cell_type": "code",
      "source": [
        "bool_array = array_1d > 3\n",
        "bool_array"
      ],
      "metadata": {
        "colab": {
          "base_uri": "https://localhost:8080/"
        },
        "id": "vJx9v452QBTS",
        "outputId": "3b88e0ca-0a65-4508-826c-b9ae38e4464a"
      },
      "execution_count": null,
      "outputs": [
        {
          "output_type": "execute_result",
          "data": {
            "text/plain": [
              "array([False, False, False,  True,  True,  True,  True,  True,  True,\n",
              "        True])"
            ]
          },
          "metadata": {},
          "execution_count": 80
        }
      ]
    },
    {
      "cell_type": "code",
      "source": [
        "# A number is even if, number % 2 is \"0\"\n",
        "mod_2_mask_1d = 0 == array_1d % 2\n",
        "mod_2_mask_1d"
      ],
      "metadata": {
        "colab": {
          "base_uri": "https://localhost:8080/"
        },
        "id": "J8h7pXi4QHnT",
        "outputId": "1ce0589c-5c2f-4862-ec58-4cd30f87045e"
      },
      "execution_count": null,
      "outputs": [
        {
          "output_type": "execute_result",
          "data": {
            "text/plain": [
              "array([False,  True, False,  True, False,  True, False,  True, False,\n",
              "        True])"
            ]
          },
          "metadata": {},
          "execution_count": 81
        }
      ]
    },
    {
      "cell_type": "code",
      "source": [],
      "metadata": {
        "id": "-gPLKx94Qghq"
      },
      "execution_count": null,
      "outputs": []
    }
  ]
}
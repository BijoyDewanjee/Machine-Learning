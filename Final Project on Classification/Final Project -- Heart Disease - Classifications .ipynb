{
 "cells": [
  {
   "cell_type": "markdown",
   "id": "a181736a",
   "metadata": {},
   "source": [
    "# Importing Important Librais "
   ]
  },
  {
   "cell_type": "code",
   "execution_count": 1,
   "id": "ebf420fc",
   "metadata": {},
   "outputs": [],
   "source": [
    "import pandas as pd\n",
    "import numpy as np\n",
    "import seaborn as sns\n",
    "import matplotlib.pyplot as plt\n",
    "\n",
    "from sklearn.preprocessing import OrdinalEncoder\n",
    "from sklearn.preprocessing import LabelEncoder"
   ]
  },
  {
   "cell_type": "code",
   "execution_count": 2,
   "id": "e9e33bb9",
   "metadata": {},
   "outputs": [],
   "source": [
    "import warnings\n",
    "warnings.filterwarnings('ignore')"
   ]
  },
  {
   "cell_type": "markdown",
   "id": "31dddab1",
   "metadata": {},
   "source": [
    "# Importing Data Set "
   ]
  },
  {
   "cell_type": "code",
   "execution_count": 3,
   "id": "8bee209a",
   "metadata": {},
   "outputs": [],
   "source": [
    "data = pd.read_csv(\"Heart Disease.csv\")"
   ]
  },
  {
   "cell_type": "markdown",
   "id": "441f51c2",
   "metadata": {},
   "source": [
    "# Data Set  Exploration\n"
   ]
  },
  {
   "cell_type": "code",
   "execution_count": 4,
   "id": "b11f7bc4",
   "metadata": {},
   "outputs": [
    {
     "data": {
      "text/plain": [
       "(319795, 18)"
      ]
     },
     "execution_count": 4,
     "metadata": {},
     "output_type": "execute_result"
    }
   ],
   "source": [
    "data.shape"
   ]
  },
  {
   "cell_type": "code",
   "execution_count": 5,
   "id": "155c2555",
   "metadata": {},
   "outputs": [
    {
     "data": {
      "text/html": [
       "<div>\n",
       "<style scoped>\n",
       "    .dataframe tbody tr th:only-of-type {\n",
       "        vertical-align: middle;\n",
       "    }\n",
       "\n",
       "    .dataframe tbody tr th {\n",
       "        vertical-align: top;\n",
       "    }\n",
       "\n",
       "    .dataframe thead th {\n",
       "        text-align: right;\n",
       "    }\n",
       "</style>\n",
       "<table border=\"1\" class=\"dataframe\">\n",
       "  <thead>\n",
       "    <tr style=\"text-align: right;\">\n",
       "      <th></th>\n",
       "      <th>HeartDisease</th>\n",
       "      <th>BMI</th>\n",
       "      <th>Smoking</th>\n",
       "      <th>AlcoholDrinking</th>\n",
       "      <th>Stroke</th>\n",
       "      <th>PhysicalHealth</th>\n",
       "      <th>MentalHealth</th>\n",
       "      <th>DiffWalking</th>\n",
       "      <th>Sex</th>\n",
       "      <th>AgeCategory</th>\n",
       "      <th>Race</th>\n",
       "      <th>Diabetic</th>\n",
       "      <th>PhysicalActivity</th>\n",
       "      <th>GenHealth</th>\n",
       "      <th>SleepTime</th>\n",
       "      <th>Asthma</th>\n",
       "      <th>KidneyDisease</th>\n",
       "      <th>SkinCancer</th>\n",
       "    </tr>\n",
       "  </thead>\n",
       "  <tbody>\n",
       "    <tr>\n",
       "      <th>0</th>\n",
       "      <td>No</td>\n",
       "      <td>16.60</td>\n",
       "      <td>Yes</td>\n",
       "      <td>No</td>\n",
       "      <td>No</td>\n",
       "      <td>3</td>\n",
       "      <td>30</td>\n",
       "      <td>No</td>\n",
       "      <td>Female</td>\n",
       "      <td>55-59</td>\n",
       "      <td>White</td>\n",
       "      <td>Yes</td>\n",
       "      <td>Yes</td>\n",
       "      <td>Very good</td>\n",
       "      <td>5</td>\n",
       "      <td>Yes</td>\n",
       "      <td>No</td>\n",
       "      <td>Yes</td>\n",
       "    </tr>\n",
       "    <tr>\n",
       "      <th>1</th>\n",
       "      <td>No</td>\n",
       "      <td>20.34</td>\n",
       "      <td>No</td>\n",
       "      <td>No</td>\n",
       "      <td>Yes</td>\n",
       "      <td>0</td>\n",
       "      <td>0</td>\n",
       "      <td>No</td>\n",
       "      <td>Female</td>\n",
       "      <td>80 or older</td>\n",
       "      <td>White</td>\n",
       "      <td>No</td>\n",
       "      <td>Yes</td>\n",
       "      <td>Very good</td>\n",
       "      <td>7</td>\n",
       "      <td>No</td>\n",
       "      <td>No</td>\n",
       "      <td>No</td>\n",
       "    </tr>\n",
       "    <tr>\n",
       "      <th>2</th>\n",
       "      <td>No</td>\n",
       "      <td>26.58</td>\n",
       "      <td>Yes</td>\n",
       "      <td>No</td>\n",
       "      <td>No</td>\n",
       "      <td>20</td>\n",
       "      <td>30</td>\n",
       "      <td>No</td>\n",
       "      <td>Male</td>\n",
       "      <td>65-69</td>\n",
       "      <td>White</td>\n",
       "      <td>Yes</td>\n",
       "      <td>Yes</td>\n",
       "      <td>Fair</td>\n",
       "      <td>8</td>\n",
       "      <td>Yes</td>\n",
       "      <td>No</td>\n",
       "      <td>No</td>\n",
       "    </tr>\n",
       "    <tr>\n",
       "      <th>3</th>\n",
       "      <td>No</td>\n",
       "      <td>24.21</td>\n",
       "      <td>No</td>\n",
       "      <td>No</td>\n",
       "      <td>No</td>\n",
       "      <td>0</td>\n",
       "      <td>0</td>\n",
       "      <td>No</td>\n",
       "      <td>Female</td>\n",
       "      <td>75-79</td>\n",
       "      <td>White</td>\n",
       "      <td>No</td>\n",
       "      <td>No</td>\n",
       "      <td>Good</td>\n",
       "      <td>6</td>\n",
       "      <td>No</td>\n",
       "      <td>No</td>\n",
       "      <td>Yes</td>\n",
       "    </tr>\n",
       "    <tr>\n",
       "      <th>4</th>\n",
       "      <td>No</td>\n",
       "      <td>23.71</td>\n",
       "      <td>No</td>\n",
       "      <td>No</td>\n",
       "      <td>No</td>\n",
       "      <td>28</td>\n",
       "      <td>0</td>\n",
       "      <td>Yes</td>\n",
       "      <td>Female</td>\n",
       "      <td>40-44</td>\n",
       "      <td>White</td>\n",
       "      <td>No</td>\n",
       "      <td>Yes</td>\n",
       "      <td>Very good</td>\n",
       "      <td>8</td>\n",
       "      <td>No</td>\n",
       "      <td>No</td>\n",
       "      <td>No</td>\n",
       "    </tr>\n",
       "    <tr>\n",
       "      <th>...</th>\n",
       "      <td>...</td>\n",
       "      <td>...</td>\n",
       "      <td>...</td>\n",
       "      <td>...</td>\n",
       "      <td>...</td>\n",
       "      <td>...</td>\n",
       "      <td>...</td>\n",
       "      <td>...</td>\n",
       "      <td>...</td>\n",
       "      <td>...</td>\n",
       "      <td>...</td>\n",
       "      <td>...</td>\n",
       "      <td>...</td>\n",
       "      <td>...</td>\n",
       "      <td>...</td>\n",
       "      <td>...</td>\n",
       "      <td>...</td>\n",
       "      <td>...</td>\n",
       "    </tr>\n",
       "    <tr>\n",
       "      <th>319790</th>\n",
       "      <td>Yes</td>\n",
       "      <td>27.41</td>\n",
       "      <td>Yes</td>\n",
       "      <td>No</td>\n",
       "      <td>No</td>\n",
       "      <td>7</td>\n",
       "      <td>0</td>\n",
       "      <td>Yes</td>\n",
       "      <td>Male</td>\n",
       "      <td>60-64</td>\n",
       "      <td>Hispanic</td>\n",
       "      <td>Yes</td>\n",
       "      <td>No</td>\n",
       "      <td>Fair</td>\n",
       "      <td>6</td>\n",
       "      <td>Yes</td>\n",
       "      <td>No</td>\n",
       "      <td>No</td>\n",
       "    </tr>\n",
       "    <tr>\n",
       "      <th>319791</th>\n",
       "      <td>No</td>\n",
       "      <td>29.84</td>\n",
       "      <td>Yes</td>\n",
       "      <td>No</td>\n",
       "      <td>No</td>\n",
       "      <td>0</td>\n",
       "      <td>0</td>\n",
       "      <td>No</td>\n",
       "      <td>Male</td>\n",
       "      <td>35-39</td>\n",
       "      <td>Hispanic</td>\n",
       "      <td>No</td>\n",
       "      <td>Yes</td>\n",
       "      <td>Very good</td>\n",
       "      <td>5</td>\n",
       "      <td>Yes</td>\n",
       "      <td>No</td>\n",
       "      <td>No</td>\n",
       "    </tr>\n",
       "    <tr>\n",
       "      <th>319792</th>\n",
       "      <td>No</td>\n",
       "      <td>24.24</td>\n",
       "      <td>No</td>\n",
       "      <td>No</td>\n",
       "      <td>No</td>\n",
       "      <td>0</td>\n",
       "      <td>0</td>\n",
       "      <td>No</td>\n",
       "      <td>Female</td>\n",
       "      <td>45-49</td>\n",
       "      <td>Hispanic</td>\n",
       "      <td>No</td>\n",
       "      <td>Yes</td>\n",
       "      <td>Good</td>\n",
       "      <td>6</td>\n",
       "      <td>No</td>\n",
       "      <td>No</td>\n",
       "      <td>No</td>\n",
       "    </tr>\n",
       "    <tr>\n",
       "      <th>319793</th>\n",
       "      <td>No</td>\n",
       "      <td>32.81</td>\n",
       "      <td>No</td>\n",
       "      <td>No</td>\n",
       "      <td>No</td>\n",
       "      <td>0</td>\n",
       "      <td>0</td>\n",
       "      <td>No</td>\n",
       "      <td>Female</td>\n",
       "      <td>25-29</td>\n",
       "      <td>Hispanic</td>\n",
       "      <td>No</td>\n",
       "      <td>No</td>\n",
       "      <td>Good</td>\n",
       "      <td>12</td>\n",
       "      <td>No</td>\n",
       "      <td>No</td>\n",
       "      <td>No</td>\n",
       "    </tr>\n",
       "    <tr>\n",
       "      <th>319794</th>\n",
       "      <td>No</td>\n",
       "      <td>46.56</td>\n",
       "      <td>No</td>\n",
       "      <td>No</td>\n",
       "      <td>No</td>\n",
       "      <td>0</td>\n",
       "      <td>0</td>\n",
       "      <td>No</td>\n",
       "      <td>Female</td>\n",
       "      <td>80 or older</td>\n",
       "      <td>Hispanic</td>\n",
       "      <td>No</td>\n",
       "      <td>Yes</td>\n",
       "      <td>Good</td>\n",
       "      <td>8</td>\n",
       "      <td>No</td>\n",
       "      <td>No</td>\n",
       "      <td>No</td>\n",
       "    </tr>\n",
       "  </tbody>\n",
       "</table>\n",
       "<p>301717 rows × 18 columns</p>\n",
       "</div>"
      ],
      "text/plain": [
       "       HeartDisease    BMI Smoking AlcoholDrinking Stroke  PhysicalHealth  \\\n",
       "0                No  16.60     Yes              No     No               3   \n",
       "1                No  20.34      No              No    Yes               0   \n",
       "2                No  26.58     Yes              No     No              20   \n",
       "3                No  24.21      No              No     No               0   \n",
       "4                No  23.71      No              No     No              28   \n",
       "...             ...    ...     ...             ...    ...             ...   \n",
       "319790          Yes  27.41     Yes              No     No               7   \n",
       "319791           No  29.84     Yes              No     No               0   \n",
       "319792           No  24.24      No              No     No               0   \n",
       "319793           No  32.81      No              No     No               0   \n",
       "319794           No  46.56      No              No     No               0   \n",
       "\n",
       "        MentalHealth DiffWalking     Sex  AgeCategory      Race Diabetic  \\\n",
       "0                 30          No  Female        55-59     White      Yes   \n",
       "1                  0          No  Female  80 or older     White       No   \n",
       "2                 30          No    Male        65-69     White      Yes   \n",
       "3                  0          No  Female        75-79     White       No   \n",
       "4                  0         Yes  Female        40-44     White       No   \n",
       "...              ...         ...     ...          ...       ...      ...   \n",
       "319790             0         Yes    Male        60-64  Hispanic      Yes   \n",
       "319791             0          No    Male        35-39  Hispanic       No   \n",
       "319792             0          No  Female        45-49  Hispanic       No   \n",
       "319793             0          No  Female        25-29  Hispanic       No   \n",
       "319794             0          No  Female  80 or older  Hispanic       No   \n",
       "\n",
       "       PhysicalActivity  GenHealth  SleepTime Asthma KidneyDisease SkinCancer  \n",
       "0                   Yes  Very good          5    Yes            No        Yes  \n",
       "1                   Yes  Very good          7     No            No         No  \n",
       "2                   Yes       Fair          8    Yes            No         No  \n",
       "3                    No       Good          6     No            No        Yes  \n",
       "4                   Yes  Very good          8     No            No         No  \n",
       "...                 ...        ...        ...    ...           ...        ...  \n",
       "319790               No       Fair          6    Yes            No         No  \n",
       "319791              Yes  Very good          5    Yes            No         No  \n",
       "319792              Yes       Good          6     No            No         No  \n",
       "319793               No       Good         12     No            No         No  \n",
       "319794              Yes       Good          8     No            No         No  \n",
       "\n",
       "[301717 rows x 18 columns]"
      ]
     },
     "execution_count": 5,
     "metadata": {},
     "output_type": "execute_result"
    }
   ],
   "source": [
    "data.drop_duplicates()"
   ]
  },
  {
   "cell_type": "code",
   "execution_count": 6,
   "id": "b09c1fcc",
   "metadata": {},
   "outputs": [
    {
     "data": {
      "text/plain": [
       "(319795, 18)"
      ]
     },
     "execution_count": 6,
     "metadata": {},
     "output_type": "execute_result"
    }
   ],
   "source": [
    "data.shape"
   ]
  },
  {
   "cell_type": "code",
   "execution_count": 7,
   "id": "60622e7f",
   "metadata": {},
   "outputs": [
    {
     "data": {
      "text/html": [
       "<div>\n",
       "<style scoped>\n",
       "    .dataframe tbody tr th:only-of-type {\n",
       "        vertical-align: middle;\n",
       "    }\n",
       "\n",
       "    .dataframe tbody tr th {\n",
       "        vertical-align: top;\n",
       "    }\n",
       "\n",
       "    .dataframe thead th {\n",
       "        text-align: right;\n",
       "    }\n",
       "</style>\n",
       "<table border=\"1\" class=\"dataframe\">\n",
       "  <thead>\n",
       "    <tr style=\"text-align: right;\">\n",
       "      <th></th>\n",
       "      <th>HeartDisease</th>\n",
       "      <th>BMI</th>\n",
       "      <th>Smoking</th>\n",
       "      <th>AlcoholDrinking</th>\n",
       "      <th>Stroke</th>\n",
       "      <th>PhysicalHealth</th>\n",
       "      <th>MentalHealth</th>\n",
       "      <th>DiffWalking</th>\n",
       "      <th>Sex</th>\n",
       "      <th>AgeCategory</th>\n",
       "      <th>Race</th>\n",
       "      <th>Diabetic</th>\n",
       "      <th>PhysicalActivity</th>\n",
       "      <th>GenHealth</th>\n",
       "      <th>SleepTime</th>\n",
       "      <th>Asthma</th>\n",
       "      <th>KidneyDisease</th>\n",
       "      <th>SkinCancer</th>\n",
       "    </tr>\n",
       "  </thead>\n",
       "  <tbody>\n",
       "    <tr>\n",
       "      <th>234666</th>\n",
       "      <td>No</td>\n",
       "      <td>34.01</td>\n",
       "      <td>No</td>\n",
       "      <td>No</td>\n",
       "      <td>No</td>\n",
       "      <td>0</td>\n",
       "      <td>0</td>\n",
       "      <td>No</td>\n",
       "      <td>Female</td>\n",
       "      <td>70-74</td>\n",
       "      <td>White</td>\n",
       "      <td>Yes</td>\n",
       "      <td>Yes</td>\n",
       "      <td>Good</td>\n",
       "      <td>8</td>\n",
       "      <td>No</td>\n",
       "      <td>No</td>\n",
       "      <td>No</td>\n",
       "    </tr>\n",
       "    <tr>\n",
       "      <th>206039</th>\n",
       "      <td>No</td>\n",
       "      <td>32.28</td>\n",
       "      <td>No</td>\n",
       "      <td>No</td>\n",
       "      <td>No</td>\n",
       "      <td>0</td>\n",
       "      <td>0</td>\n",
       "      <td>No</td>\n",
       "      <td>Male</td>\n",
       "      <td>30-34</td>\n",
       "      <td>White</td>\n",
       "      <td>No</td>\n",
       "      <td>Yes</td>\n",
       "      <td>Very good</td>\n",
       "      <td>7</td>\n",
       "      <td>No</td>\n",
       "      <td>No</td>\n",
       "      <td>No</td>\n",
       "    </tr>\n",
       "    <tr>\n",
       "      <th>291017</th>\n",
       "      <td>No</td>\n",
       "      <td>35.44</td>\n",
       "      <td>Yes</td>\n",
       "      <td>No</td>\n",
       "      <td>No</td>\n",
       "      <td>2</td>\n",
       "      <td>0</td>\n",
       "      <td>Yes</td>\n",
       "      <td>Male</td>\n",
       "      <td>70-74</td>\n",
       "      <td>White</td>\n",
       "      <td>No</td>\n",
       "      <td>Yes</td>\n",
       "      <td>Good</td>\n",
       "      <td>6</td>\n",
       "      <td>No</td>\n",
       "      <td>No</td>\n",
       "      <td>Yes</td>\n",
       "    </tr>\n",
       "    <tr>\n",
       "      <th>286057</th>\n",
       "      <td>No</td>\n",
       "      <td>31.17</td>\n",
       "      <td>No</td>\n",
       "      <td>No</td>\n",
       "      <td>No</td>\n",
       "      <td>0</td>\n",
       "      <td>0</td>\n",
       "      <td>No</td>\n",
       "      <td>Male</td>\n",
       "      <td>60-64</td>\n",
       "      <td>Black</td>\n",
       "      <td>No, borderline diabetes</td>\n",
       "      <td>No</td>\n",
       "      <td>Good</td>\n",
       "      <td>7</td>\n",
       "      <td>No</td>\n",
       "      <td>No</td>\n",
       "      <td>No</td>\n",
       "    </tr>\n",
       "    <tr>\n",
       "      <th>55600</th>\n",
       "      <td>No</td>\n",
       "      <td>23.49</td>\n",
       "      <td>No</td>\n",
       "      <td>No</td>\n",
       "      <td>No</td>\n",
       "      <td>0</td>\n",
       "      <td>0</td>\n",
       "      <td>No</td>\n",
       "      <td>Female</td>\n",
       "      <td>55-59</td>\n",
       "      <td>Black</td>\n",
       "      <td>No</td>\n",
       "      <td>Yes</td>\n",
       "      <td>Excellent</td>\n",
       "      <td>8</td>\n",
       "      <td>No</td>\n",
       "      <td>No</td>\n",
       "      <td>No</td>\n",
       "    </tr>\n",
       "    <tr>\n",
       "      <th>270939</th>\n",
       "      <td>No</td>\n",
       "      <td>21.62</td>\n",
       "      <td>No</td>\n",
       "      <td>No</td>\n",
       "      <td>No</td>\n",
       "      <td>0</td>\n",
       "      <td>0</td>\n",
       "      <td>No</td>\n",
       "      <td>Male</td>\n",
       "      <td>30-34</td>\n",
       "      <td>White</td>\n",
       "      <td>No</td>\n",
       "      <td>Yes</td>\n",
       "      <td>Excellent</td>\n",
       "      <td>8</td>\n",
       "      <td>Yes</td>\n",
       "      <td>No</td>\n",
       "      <td>No</td>\n",
       "    </tr>\n",
       "    <tr>\n",
       "      <th>256112</th>\n",
       "      <td>No</td>\n",
       "      <td>26.61</td>\n",
       "      <td>No</td>\n",
       "      <td>No</td>\n",
       "      <td>No</td>\n",
       "      <td>0</td>\n",
       "      <td>0</td>\n",
       "      <td>No</td>\n",
       "      <td>Female</td>\n",
       "      <td>18-24</td>\n",
       "      <td>White</td>\n",
       "      <td>No</td>\n",
       "      <td>Yes</td>\n",
       "      <td>Very good</td>\n",
       "      <td>8</td>\n",
       "      <td>No</td>\n",
       "      <td>No</td>\n",
       "      <td>No</td>\n",
       "    </tr>\n",
       "    <tr>\n",
       "      <th>245205</th>\n",
       "      <td>No</td>\n",
       "      <td>36.32</td>\n",
       "      <td>No</td>\n",
       "      <td>No</td>\n",
       "      <td>No</td>\n",
       "      <td>0</td>\n",
       "      <td>5</td>\n",
       "      <td>No</td>\n",
       "      <td>Female</td>\n",
       "      <td>50-54</td>\n",
       "      <td>White</td>\n",
       "      <td>No</td>\n",
       "      <td>Yes</td>\n",
       "      <td>Excellent</td>\n",
       "      <td>6</td>\n",
       "      <td>Yes</td>\n",
       "      <td>No</td>\n",
       "      <td>No</td>\n",
       "    </tr>\n",
       "    <tr>\n",
       "      <th>110443</th>\n",
       "      <td>No</td>\n",
       "      <td>35.85</td>\n",
       "      <td>No</td>\n",
       "      <td>No</td>\n",
       "      <td>No</td>\n",
       "      <td>1</td>\n",
       "      <td>0</td>\n",
       "      <td>No</td>\n",
       "      <td>Female</td>\n",
       "      <td>18-24</td>\n",
       "      <td>White</td>\n",
       "      <td>No</td>\n",
       "      <td>No</td>\n",
       "      <td>Very good</td>\n",
       "      <td>9</td>\n",
       "      <td>No</td>\n",
       "      <td>No</td>\n",
       "      <td>No</td>\n",
       "    </tr>\n",
       "    <tr>\n",
       "      <th>10645</th>\n",
       "      <td>No</td>\n",
       "      <td>21.29</td>\n",
       "      <td>Yes</td>\n",
       "      <td>Yes</td>\n",
       "      <td>No</td>\n",
       "      <td>0</td>\n",
       "      <td>0</td>\n",
       "      <td>No</td>\n",
       "      <td>Female</td>\n",
       "      <td>60-64</td>\n",
       "      <td>White</td>\n",
       "      <td>No</td>\n",
       "      <td>Yes</td>\n",
       "      <td>Good</td>\n",
       "      <td>7</td>\n",
       "      <td>No</td>\n",
       "      <td>No</td>\n",
       "      <td>No</td>\n",
       "    </tr>\n",
       "  </tbody>\n",
       "</table>\n",
       "</div>"
      ],
      "text/plain": [
       "       HeartDisease    BMI Smoking AlcoholDrinking Stroke  PhysicalHealth  \\\n",
       "234666           No  34.01      No              No     No               0   \n",
       "206039           No  32.28      No              No     No               0   \n",
       "291017           No  35.44     Yes              No     No               2   \n",
       "286057           No  31.17      No              No     No               0   \n",
       "55600            No  23.49      No              No     No               0   \n",
       "270939           No  21.62      No              No     No               0   \n",
       "256112           No  26.61      No              No     No               0   \n",
       "245205           No  36.32      No              No     No               0   \n",
       "110443           No  35.85      No              No     No               1   \n",
       "10645            No  21.29     Yes             Yes     No               0   \n",
       "\n",
       "        MentalHealth DiffWalking     Sex AgeCategory   Race  \\\n",
       "234666             0          No  Female       70-74  White   \n",
       "206039             0          No    Male       30-34  White   \n",
       "291017             0         Yes    Male       70-74  White   \n",
       "286057             0          No    Male       60-64  Black   \n",
       "55600              0          No  Female       55-59  Black   \n",
       "270939             0          No    Male       30-34  White   \n",
       "256112             0          No  Female       18-24  White   \n",
       "245205             5          No  Female       50-54  White   \n",
       "110443             0          No  Female       18-24  White   \n",
       "10645              0          No  Female       60-64  White   \n",
       "\n",
       "                       Diabetic PhysicalActivity  GenHealth  SleepTime Asthma  \\\n",
       "234666                      Yes              Yes       Good          8     No   \n",
       "206039                       No              Yes  Very good          7     No   \n",
       "291017                       No              Yes       Good          6     No   \n",
       "286057  No, borderline diabetes               No       Good          7     No   \n",
       "55600                        No              Yes  Excellent          8     No   \n",
       "270939                       No              Yes  Excellent          8    Yes   \n",
       "256112                       No              Yes  Very good          8     No   \n",
       "245205                       No              Yes  Excellent          6    Yes   \n",
       "110443                       No               No  Very good          9     No   \n",
       "10645                        No              Yes       Good          7     No   \n",
       "\n",
       "       KidneyDisease SkinCancer  \n",
       "234666            No         No  \n",
       "206039            No         No  \n",
       "291017            No        Yes  \n",
       "286057            No         No  \n",
       "55600             No         No  \n",
       "270939            No         No  \n",
       "256112            No         No  \n",
       "245205            No         No  \n",
       "110443            No         No  \n",
       "10645             No         No  "
      ]
     },
     "execution_count": 7,
     "metadata": {},
     "output_type": "execute_result"
    }
   ],
   "source": [
    "data.sample(10)"
   ]
  },
  {
   "cell_type": "code",
   "execution_count": 8,
   "id": "c94e38a7",
   "metadata": {},
   "outputs": [
    {
     "name": "stdout",
     "output_type": "stream",
     "text": [
      "<class 'pandas.core.frame.DataFrame'>\n",
      "RangeIndex: 319795 entries, 0 to 319794\n",
      "Data columns (total 18 columns):\n",
      " #   Column            Non-Null Count   Dtype  \n",
      "---  ------            --------------   -----  \n",
      " 0   HeartDisease      319795 non-null  object \n",
      " 1   BMI               319795 non-null  float64\n",
      " 2   Smoking           319795 non-null  object \n",
      " 3   AlcoholDrinking   319795 non-null  object \n",
      " 4   Stroke            319795 non-null  object \n",
      " 5   PhysicalHealth    319795 non-null  int64  \n",
      " 6   MentalHealth      319795 non-null  int64  \n",
      " 7   DiffWalking       319795 non-null  object \n",
      " 8   Sex               319795 non-null  object \n",
      " 9   AgeCategory       319795 non-null  object \n",
      " 10  Race              319795 non-null  object \n",
      " 11  Diabetic          319795 non-null  object \n",
      " 12  PhysicalActivity  319795 non-null  object \n",
      " 13  GenHealth         319795 non-null  object \n",
      " 14  SleepTime         319795 non-null  int64  \n",
      " 15  Asthma            319795 non-null  object \n",
      " 16  KidneyDisease     319795 non-null  object \n",
      " 17  SkinCancer        319795 non-null  object \n",
      "dtypes: float64(1), int64(3), object(14)\n",
      "memory usage: 43.9+ MB\n"
     ]
    }
   ],
   "source": [
    "data.info()"
   ]
  },
  {
   "cell_type": "code",
   "execution_count": 9,
   "id": "70b287eb",
   "metadata": {},
   "outputs": [
    {
     "data": {
      "text/html": [
       "<div>\n",
       "<style scoped>\n",
       "    .dataframe tbody tr th:only-of-type {\n",
       "        vertical-align: middle;\n",
       "    }\n",
       "\n",
       "    .dataframe tbody tr th {\n",
       "        vertical-align: top;\n",
       "    }\n",
       "\n",
       "    .dataframe thead th {\n",
       "        text-align: right;\n",
       "    }\n",
       "</style>\n",
       "<table border=\"1\" class=\"dataframe\">\n",
       "  <thead>\n",
       "    <tr style=\"text-align: right;\">\n",
       "      <th></th>\n",
       "      <th>BMI</th>\n",
       "      <th>PhysicalHealth</th>\n",
       "      <th>MentalHealth</th>\n",
       "      <th>SleepTime</th>\n",
       "    </tr>\n",
       "  </thead>\n",
       "  <tbody>\n",
       "    <tr>\n",
       "      <th>count</th>\n",
       "      <td>319795.000000</td>\n",
       "      <td>319795.00000</td>\n",
       "      <td>319795.000000</td>\n",
       "      <td>319795.000000</td>\n",
       "    </tr>\n",
       "    <tr>\n",
       "      <th>mean</th>\n",
       "      <td>28.325399</td>\n",
       "      <td>3.37171</td>\n",
       "      <td>3.898366</td>\n",
       "      <td>7.097075</td>\n",
       "    </tr>\n",
       "    <tr>\n",
       "      <th>std</th>\n",
       "      <td>6.356100</td>\n",
       "      <td>7.95085</td>\n",
       "      <td>7.955235</td>\n",
       "      <td>1.436007</td>\n",
       "    </tr>\n",
       "    <tr>\n",
       "      <th>min</th>\n",
       "      <td>12.020000</td>\n",
       "      <td>0.00000</td>\n",
       "      <td>0.000000</td>\n",
       "      <td>1.000000</td>\n",
       "    </tr>\n",
       "    <tr>\n",
       "      <th>25%</th>\n",
       "      <td>24.030000</td>\n",
       "      <td>0.00000</td>\n",
       "      <td>0.000000</td>\n",
       "      <td>6.000000</td>\n",
       "    </tr>\n",
       "    <tr>\n",
       "      <th>50%</th>\n",
       "      <td>27.340000</td>\n",
       "      <td>0.00000</td>\n",
       "      <td>0.000000</td>\n",
       "      <td>7.000000</td>\n",
       "    </tr>\n",
       "    <tr>\n",
       "      <th>75%</th>\n",
       "      <td>31.420000</td>\n",
       "      <td>2.00000</td>\n",
       "      <td>3.000000</td>\n",
       "      <td>8.000000</td>\n",
       "    </tr>\n",
       "    <tr>\n",
       "      <th>max</th>\n",
       "      <td>94.850000</td>\n",
       "      <td>30.00000</td>\n",
       "      <td>30.000000</td>\n",
       "      <td>24.000000</td>\n",
       "    </tr>\n",
       "  </tbody>\n",
       "</table>\n",
       "</div>"
      ],
      "text/plain": [
       "                 BMI  PhysicalHealth   MentalHealth      SleepTime\n",
       "count  319795.000000    319795.00000  319795.000000  319795.000000\n",
       "mean       28.325399         3.37171       3.898366       7.097075\n",
       "std         6.356100         7.95085       7.955235       1.436007\n",
       "min        12.020000         0.00000       0.000000       1.000000\n",
       "25%        24.030000         0.00000       0.000000       6.000000\n",
       "50%        27.340000         0.00000       0.000000       7.000000\n",
       "75%        31.420000         2.00000       3.000000       8.000000\n",
       "max        94.850000        30.00000      30.000000      24.000000"
      ]
     },
     "execution_count": 9,
     "metadata": {},
     "output_type": "execute_result"
    }
   ],
   "source": [
    "data.describe()"
   ]
  },
  {
   "cell_type": "code",
   "execution_count": 10,
   "id": "cb3e15db",
   "metadata": {},
   "outputs": [
    {
     "data": {
      "text/plain": [
       "False"
      ]
     },
     "execution_count": 10,
     "metadata": {},
     "output_type": "execute_result"
    }
   ],
   "source": [
    "data.isnull().values.any()"
   ]
  },
  {
   "cell_type": "code",
   "execution_count": 11,
   "id": "93bd7218",
   "metadata": {},
   "outputs": [
    {
     "data": {
      "text/plain": [
       "HeartDisease        0\n",
       "BMI                 0\n",
       "Smoking             0\n",
       "AlcoholDrinking     0\n",
       "Stroke              0\n",
       "PhysicalHealth      0\n",
       "MentalHealth        0\n",
       "DiffWalking         0\n",
       "Sex                 0\n",
       "AgeCategory         0\n",
       "Race                0\n",
       "Diabetic            0\n",
       "PhysicalActivity    0\n",
       "GenHealth           0\n",
       "SleepTime           0\n",
       "Asthma              0\n",
       "KidneyDisease       0\n",
       "SkinCancer          0\n",
       "dtype: int64"
      ]
     },
     "execution_count": 11,
     "metadata": {},
     "output_type": "execute_result"
    }
   ],
   "source": [
    "data.isnull().sum()"
   ]
  },
  {
   "cell_type": "code",
   "execution_count": 12,
   "id": "c03fa45c",
   "metadata": {},
   "outputs": [
    {
     "data": {
      "text/plain": [
       "No     292422\n",
       "Yes     27373\n",
       "Name: HeartDisease, dtype: int64"
      ]
     },
     "execution_count": 12,
     "metadata": {},
     "output_type": "execute_result"
    }
   ],
   "source": [
    "data.HeartDisease.value_counts()"
   ]
  },
  {
   "cell_type": "code",
   "execution_count": 13,
   "id": "453b2d00",
   "metadata": {},
   "outputs": [],
   "source": [
    "Have_HeartDisease_Count = len(data[data.HeartDisease == \"Yes\" ])\n",
    "No_HeartDisease_Count = len(data[data.HeartDisease == \"No\" ])\n"
   ]
  },
  {
   "cell_type": "code",
   "execution_count": 14,
   "id": "b3a6ac84",
   "metadata": {},
   "outputs": [
    {
     "name": "stdout",
     "output_type": "stream",
     "text": [
      "Percentage of Patients Haven Heart Disease: 8.559545959130068 %\n",
      "Percentage of Patients Haven't Heart Disease: 91.44045404086994 %\n"
     ]
    }
   ],
   "source": [
    "print(f\"Percentage of Patients Haven Heart Disease: {Have_HeartDisease_Count / (len(data.HeartDisease))*100} %\")\n",
    "print(f\"Percentage of Patients Haven't Heart Disease: {No_HeartDisease_Count / (len(data.HeartDisease))*100} %\")\n"
   ]
  },
  {
   "cell_type": "markdown",
   "id": "3f66c365",
   "metadata": {},
   "source": [
    "# Data Set Visualization"
   ]
  },
  {
   "cell_type": "code",
   "execution_count": 15,
   "id": "456311a0",
   "metadata": {},
   "outputs": [],
   "source": [
    "from pandas.core.dtypes.common import is_numeric_dtype\n",
    "for column in data.columns:\n",
    "    if is_numeric_dtype(data[column]):\n",
    "        continue \n",
    "    else:\n",
    "        data[column] = LabelEncoder().fit_transform(data[column])"
   ]
  },
  {
   "cell_type": "code",
   "execution_count": 16,
   "id": "dccb8a09",
   "metadata": {},
   "outputs": [
    {
     "data": {
      "text/html": [
       "<div>\n",
       "<style scoped>\n",
       "    .dataframe tbody tr th:only-of-type {\n",
       "        vertical-align: middle;\n",
       "    }\n",
       "\n",
       "    .dataframe tbody tr th {\n",
       "        vertical-align: top;\n",
       "    }\n",
       "\n",
       "    .dataframe thead th {\n",
       "        text-align: right;\n",
       "    }\n",
       "</style>\n",
       "<table border=\"1\" class=\"dataframe\">\n",
       "  <thead>\n",
       "    <tr style=\"text-align: right;\">\n",
       "      <th></th>\n",
       "      <th>HeartDisease</th>\n",
       "      <th>BMI</th>\n",
       "      <th>Smoking</th>\n",
       "      <th>AlcoholDrinking</th>\n",
       "      <th>Stroke</th>\n",
       "      <th>PhysicalHealth</th>\n",
       "      <th>MentalHealth</th>\n",
       "      <th>DiffWalking</th>\n",
       "      <th>Sex</th>\n",
       "      <th>AgeCategory</th>\n",
       "      <th>Race</th>\n",
       "      <th>Diabetic</th>\n",
       "      <th>PhysicalActivity</th>\n",
       "      <th>GenHealth</th>\n",
       "      <th>SleepTime</th>\n",
       "      <th>Asthma</th>\n",
       "      <th>KidneyDisease</th>\n",
       "      <th>SkinCancer</th>\n",
       "    </tr>\n",
       "  </thead>\n",
       "  <tbody>\n",
       "    <tr>\n",
       "      <th>46922</th>\n",
       "      <td>0</td>\n",
       "      <td>33.89</td>\n",
       "      <td>1</td>\n",
       "      <td>0</td>\n",
       "      <td>0</td>\n",
       "      <td>10</td>\n",
       "      <td>20</td>\n",
       "      <td>0</td>\n",
       "      <td>1</td>\n",
       "      <td>3</td>\n",
       "      <td>5</td>\n",
       "      <td>0</td>\n",
       "      <td>0</td>\n",
       "      <td>2</td>\n",
       "      <td>3</td>\n",
       "      <td>0</td>\n",
       "      <td>0</td>\n",
       "      <td>0</td>\n",
       "    </tr>\n",
       "    <tr>\n",
       "      <th>179171</th>\n",
       "      <td>0</td>\n",
       "      <td>25.69</td>\n",
       "      <td>0</td>\n",
       "      <td>0</td>\n",
       "      <td>0</td>\n",
       "      <td>14</td>\n",
       "      <td>0</td>\n",
       "      <td>0</td>\n",
       "      <td>0</td>\n",
       "      <td>6</td>\n",
       "      <td>3</td>\n",
       "      <td>0</td>\n",
       "      <td>0</td>\n",
       "      <td>2</td>\n",
       "      <td>7</td>\n",
       "      <td>0</td>\n",
       "      <td>0</td>\n",
       "      <td>0</td>\n",
       "    </tr>\n",
       "  </tbody>\n",
       "</table>\n",
       "</div>"
      ],
      "text/plain": [
       "        HeartDisease    BMI  Smoking  AlcoholDrinking  Stroke  PhysicalHealth  \\\n",
       "46922              0  33.89        1                0       0              10   \n",
       "179171             0  25.69        0                0       0              14   \n",
       "\n",
       "        MentalHealth  DiffWalking  Sex  AgeCategory  Race  Diabetic  \\\n",
       "46922             20            0    1            3     5         0   \n",
       "179171             0            0    0            6     3         0   \n",
       "\n",
       "        PhysicalActivity  GenHealth  SleepTime  Asthma  KidneyDisease  \\\n",
       "46922                  0          2          3       0              0   \n",
       "179171                 0          2          7       0              0   \n",
       "\n",
       "        SkinCancer  \n",
       "46922            0  \n",
       "179171           0  "
      ]
     },
     "execution_count": 16,
     "metadata": {},
     "output_type": "execute_result"
    }
   ],
   "source": [
    "data.sample(2)"
   ]
  },
  {
   "cell_type": "code",
   "execution_count": 17,
   "id": "7640b9cb",
   "metadata": {},
   "outputs": [
    {
     "name": "stdout",
     "output_type": "stream",
     "text": [
      "<class 'pandas.core.frame.DataFrame'>\n",
      "RangeIndex: 319795 entries, 0 to 319794\n",
      "Data columns (total 18 columns):\n",
      " #   Column            Non-Null Count   Dtype  \n",
      "---  ------            --------------   -----  \n",
      " 0   HeartDisease      319795 non-null  int32  \n",
      " 1   BMI               319795 non-null  float64\n",
      " 2   Smoking           319795 non-null  int32  \n",
      " 3   AlcoholDrinking   319795 non-null  int32  \n",
      " 4   Stroke            319795 non-null  int32  \n",
      " 5   PhysicalHealth    319795 non-null  int64  \n",
      " 6   MentalHealth      319795 non-null  int64  \n",
      " 7   DiffWalking       319795 non-null  int32  \n",
      " 8   Sex               319795 non-null  int32  \n",
      " 9   AgeCategory       319795 non-null  int32  \n",
      " 10  Race              319795 non-null  int32  \n",
      " 11  Diabetic          319795 non-null  int32  \n",
      " 12  PhysicalActivity  319795 non-null  int32  \n",
      " 13  GenHealth         319795 non-null  int32  \n",
      " 14  SleepTime         319795 non-null  int64  \n",
      " 15  Asthma            319795 non-null  int32  \n",
      " 16  KidneyDisease     319795 non-null  int32  \n",
      " 17  SkinCancer        319795 non-null  int32  \n",
      "dtypes: float64(1), int32(14), int64(3)\n",
      "memory usage: 26.8 MB\n"
     ]
    }
   ],
   "source": [
    "data.info()"
   ]
  },
  {
   "cell_type": "code",
   "execution_count": 18,
   "id": "964aa05c",
   "metadata": {},
   "outputs": [
    {
     "data": {
      "text/html": [
       "<div>\n",
       "<style scoped>\n",
       "    .dataframe tbody tr th:only-of-type {\n",
       "        vertical-align: middle;\n",
       "    }\n",
       "\n",
       "    .dataframe tbody tr th {\n",
       "        vertical-align: top;\n",
       "    }\n",
       "\n",
       "    .dataframe thead th {\n",
       "        text-align: right;\n",
       "    }\n",
       "</style>\n",
       "<table border=\"1\" class=\"dataframe\">\n",
       "  <thead>\n",
       "    <tr style=\"text-align: right;\">\n",
       "      <th></th>\n",
       "      <th>HeartDisease</th>\n",
       "      <th>BMI</th>\n",
       "      <th>Smoking</th>\n",
       "      <th>AlcoholDrinking</th>\n",
       "      <th>Stroke</th>\n",
       "      <th>PhysicalHealth</th>\n",
       "      <th>MentalHealth</th>\n",
       "      <th>DiffWalking</th>\n",
       "      <th>Sex</th>\n",
       "      <th>AgeCategory</th>\n",
       "      <th>Race</th>\n",
       "      <th>Diabetic</th>\n",
       "      <th>PhysicalActivity</th>\n",
       "      <th>GenHealth</th>\n",
       "      <th>SleepTime</th>\n",
       "      <th>Asthma</th>\n",
       "      <th>KidneyDisease</th>\n",
       "      <th>SkinCancer</th>\n",
       "    </tr>\n",
       "  </thead>\n",
       "  <tbody>\n",
       "    <tr>\n",
       "      <th>HeartDisease</th>\n",
       "      <td>1.000000</td>\n",
       "      <td>0.051803</td>\n",
       "      <td>0.107764</td>\n",
       "      <td>-0.032080</td>\n",
       "      <td>0.196835</td>\n",
       "      <td>0.170721</td>\n",
       "      <td>0.028591</td>\n",
       "      <td>0.201258</td>\n",
       "      <td>0.070040</td>\n",
       "      <td>0.233432</td>\n",
       "      <td>0.034854</td>\n",
       "      <td>0.168553</td>\n",
       "      <td>-0.100030</td>\n",
       "      <td>-0.011062</td>\n",
       "      <td>0.008327</td>\n",
       "      <td>0.041444</td>\n",
       "      <td>0.145197</td>\n",
       "      <td>0.093317</td>\n",
       "    </tr>\n",
       "    <tr>\n",
       "      <th>BMI</th>\n",
       "      <td>0.051803</td>\n",
       "      <td>1.000000</td>\n",
       "      <td>0.023118</td>\n",
       "      <td>-0.038816</td>\n",
       "      <td>0.019733</td>\n",
       "      <td>0.109788</td>\n",
       "      <td>0.064131</td>\n",
       "      <td>0.181678</td>\n",
       "      <td>0.026940</td>\n",
       "      <td>-0.004744</td>\n",
       "      <td>-0.037424</td>\n",
       "      <td>0.202472</td>\n",
       "      <td>-0.150616</td>\n",
       "      <td>0.035932</td>\n",
       "      <td>-0.051822</td>\n",
       "      <td>0.092345</td>\n",
       "      <td>0.050768</td>\n",
       "      <td>-0.033644</td>\n",
       "    </tr>\n",
       "    <tr>\n",
       "      <th>Smoking</th>\n",
       "      <td>0.107764</td>\n",
       "      <td>0.023118</td>\n",
       "      <td>1.000000</td>\n",
       "      <td>0.111768</td>\n",
       "      <td>0.061226</td>\n",
       "      <td>0.115352</td>\n",
       "      <td>0.085157</td>\n",
       "      <td>0.120074</td>\n",
       "      <td>0.085052</td>\n",
       "      <td>0.128331</td>\n",
       "      <td>0.065499</td>\n",
       "      <td>0.053847</td>\n",
       "      <td>-0.097174</td>\n",
       "      <td>0.020625</td>\n",
       "      <td>-0.030336</td>\n",
       "      <td>0.024149</td>\n",
       "      <td>0.034920</td>\n",
       "      <td>0.033977</td>\n",
       "    </tr>\n",
       "    <tr>\n",
       "      <th>AlcoholDrinking</th>\n",
       "      <td>-0.032080</td>\n",
       "      <td>-0.038816</td>\n",
       "      <td>0.111768</td>\n",
       "      <td>1.000000</td>\n",
       "      <td>-0.019858</td>\n",
       "      <td>-0.017254</td>\n",
       "      <td>0.051282</td>\n",
       "      <td>-0.035328</td>\n",
       "      <td>0.004200</td>\n",
       "      <td>-0.059528</td>\n",
       "      <td>0.036702</td>\n",
       "      <td>-0.057372</td>\n",
       "      <td>0.017487</td>\n",
       "      <td>0.001629</td>\n",
       "      <td>-0.005065</td>\n",
       "      <td>-0.002202</td>\n",
       "      <td>-0.028280</td>\n",
       "      <td>-0.005702</td>\n",
       "    </tr>\n",
       "    <tr>\n",
       "      <th>Stroke</th>\n",
       "      <td>0.196835</td>\n",
       "      <td>0.019733</td>\n",
       "      <td>0.061226</td>\n",
       "      <td>-0.019858</td>\n",
       "      <td>1.000000</td>\n",
       "      <td>0.137014</td>\n",
       "      <td>0.046467</td>\n",
       "      <td>0.174143</td>\n",
       "      <td>-0.003091</td>\n",
       "      <td>0.137822</td>\n",
       "      <td>-0.003956</td>\n",
       "      <td>0.101518</td>\n",
       "      <td>-0.079455</td>\n",
       "      <td>-0.009335</td>\n",
       "      <td>0.011900</td>\n",
       "      <td>0.038866</td>\n",
       "      <td>0.091167</td>\n",
       "      <td>0.048116</td>\n",
       "    </tr>\n",
       "    <tr>\n",
       "      <th>PhysicalHealth</th>\n",
       "      <td>0.170721</td>\n",
       "      <td>0.109788</td>\n",
       "      <td>0.115352</td>\n",
       "      <td>-0.017254</td>\n",
       "      <td>0.137014</td>\n",
       "      <td>1.000000</td>\n",
       "      <td>0.287987</td>\n",
       "      <td>0.428373</td>\n",
       "      <td>-0.040904</td>\n",
       "      <td>0.110763</td>\n",
       "      <td>-0.000847</td>\n",
       "      <td>0.151361</td>\n",
       "      <td>-0.232283</td>\n",
       "      <td>-0.035703</td>\n",
       "      <td>-0.061387</td>\n",
       "      <td>0.117907</td>\n",
       "      <td>0.142197</td>\n",
       "      <td>0.041700</td>\n",
       "    </tr>\n",
       "    <tr>\n",
       "      <th>MentalHealth</th>\n",
       "      <td>0.028591</td>\n",
       "      <td>0.064131</td>\n",
       "      <td>0.085157</td>\n",
       "      <td>0.051282</td>\n",
       "      <td>0.046467</td>\n",
       "      <td>0.287987</td>\n",
       "      <td>1.000000</td>\n",
       "      <td>0.152235</td>\n",
       "      <td>-0.100058</td>\n",
       "      <td>-0.155506</td>\n",
       "      <td>-0.014491</td>\n",
       "      <td>0.032945</td>\n",
       "      <td>-0.095808</td>\n",
       "      <td>-0.004412</td>\n",
       "      <td>-0.119717</td>\n",
       "      <td>0.114008</td>\n",
       "      <td>0.037281</td>\n",
       "      <td>-0.033412</td>\n",
       "    </tr>\n",
       "    <tr>\n",
       "      <th>DiffWalking</th>\n",
       "      <td>0.201258</td>\n",
       "      <td>0.181678</td>\n",
       "      <td>0.120074</td>\n",
       "      <td>-0.035328</td>\n",
       "      <td>0.174143</td>\n",
       "      <td>0.428373</td>\n",
       "      <td>0.152235</td>\n",
       "      <td>1.000000</td>\n",
       "      <td>-0.068860</td>\n",
       "      <td>0.243263</td>\n",
       "      <td>-0.015831</td>\n",
       "      <td>0.205502</td>\n",
       "      <td>-0.278524</td>\n",
       "      <td>-0.043552</td>\n",
       "      <td>-0.022216</td>\n",
       "      <td>0.103222</td>\n",
       "      <td>0.153064</td>\n",
       "      <td>0.064840</td>\n",
       "    </tr>\n",
       "    <tr>\n",
       "      <th>Sex</th>\n",
       "      <td>0.070040</td>\n",
       "      <td>0.026940</td>\n",
       "      <td>0.085052</td>\n",
       "      <td>0.004200</td>\n",
       "      <td>-0.003091</td>\n",
       "      <td>-0.040904</td>\n",
       "      <td>-0.100058</td>\n",
       "      <td>-0.068860</td>\n",
       "      <td>1.000000</td>\n",
       "      <td>-0.067478</td>\n",
       "      <td>0.018855</td>\n",
       "      <td>-0.013456</td>\n",
       "      <td>0.048247</td>\n",
       "      <td>-0.010283</td>\n",
       "      <td>-0.015704</td>\n",
       "      <td>-0.069191</td>\n",
       "      <td>-0.009084</td>\n",
       "      <td>0.013434</td>\n",
       "    </tr>\n",
       "    <tr>\n",
       "      <th>AgeCategory</th>\n",
       "      <td>0.233432</td>\n",
       "      <td>-0.004744</td>\n",
       "      <td>0.128331</td>\n",
       "      <td>-0.059528</td>\n",
       "      <td>0.137822</td>\n",
       "      <td>0.110763</td>\n",
       "      <td>-0.155506</td>\n",
       "      <td>0.243263</td>\n",
       "      <td>-0.067478</td>\n",
       "      <td>1.000000</td>\n",
       "      <td>0.163090</td>\n",
       "      <td>0.193745</td>\n",
       "      <td>-0.121687</td>\n",
       "      <td>0.044427</td>\n",
       "      <td>0.104953</td>\n",
       "      <td>-0.058108</td>\n",
       "      <td>0.123190</td>\n",
       "      <td>0.263537</td>\n",
       "    </tr>\n",
       "    <tr>\n",
       "      <th>Race</th>\n",
       "      <td>0.034854</td>\n",
       "      <td>-0.037424</td>\n",
       "      <td>0.065499</td>\n",
       "      <td>0.036702</td>\n",
       "      <td>-0.003956</td>\n",
       "      <td>-0.000847</td>\n",
       "      <td>-0.014491</td>\n",
       "      <td>-0.015831</td>\n",
       "      <td>0.018855</td>\n",
       "      <td>0.163090</td>\n",
       "      <td>1.000000</td>\n",
       "      <td>-0.052216</td>\n",
       "      <td>0.056767</td>\n",
       "      <td>0.050344</td>\n",
       "      <td>0.035889</td>\n",
       "      <td>-0.017975</td>\n",
       "      <td>0.003709</td>\n",
       "      <td>0.134780</td>\n",
       "    </tr>\n",
       "    <tr>\n",
       "      <th>Diabetic</th>\n",
       "      <td>0.168553</td>\n",
       "      <td>0.202472</td>\n",
       "      <td>0.053847</td>\n",
       "      <td>-0.057372</td>\n",
       "      <td>0.101518</td>\n",
       "      <td>0.151361</td>\n",
       "      <td>0.032945</td>\n",
       "      <td>0.205502</td>\n",
       "      <td>-0.013456</td>\n",
       "      <td>0.193745</td>\n",
       "      <td>-0.052216</td>\n",
       "      <td>1.000000</td>\n",
       "      <td>-0.133824</td>\n",
       "      <td>-0.010854</td>\n",
       "      <td>0.000449</td>\n",
       "      <td>0.049827</td>\n",
       "      <td>0.142917</td>\n",
       "      <td>0.032523</td>\n",
       "    </tr>\n",
       "    <tr>\n",
       "      <th>PhysicalActivity</th>\n",
       "      <td>-0.100030</td>\n",
       "      <td>-0.150616</td>\n",
       "      <td>-0.097174</td>\n",
       "      <td>0.017487</td>\n",
       "      <td>-0.079455</td>\n",
       "      <td>-0.232283</td>\n",
       "      <td>-0.095808</td>\n",
       "      <td>-0.278524</td>\n",
       "      <td>0.048247</td>\n",
       "      <td>-0.121687</td>\n",
       "      <td>0.056767</td>\n",
       "      <td>-0.133824</td>\n",
       "      <td>1.000000</td>\n",
       "      <td>0.024418</td>\n",
       "      <td>0.003849</td>\n",
       "      <td>-0.041526</td>\n",
       "      <td>-0.081827</td>\n",
       "      <td>-0.001328</td>\n",
       "    </tr>\n",
       "    <tr>\n",
       "      <th>GenHealth</th>\n",
       "      <td>-0.011062</td>\n",
       "      <td>0.035932</td>\n",
       "      <td>0.020625</td>\n",
       "      <td>0.001629</td>\n",
       "      <td>-0.009335</td>\n",
       "      <td>-0.035703</td>\n",
       "      <td>-0.004412</td>\n",
       "      <td>-0.043552</td>\n",
       "      <td>-0.010283</td>\n",
       "      <td>0.044427</td>\n",
       "      <td>0.050344</td>\n",
       "      <td>-0.010854</td>\n",
       "      <td>0.024418</td>\n",
       "      <td>1.000000</td>\n",
       "      <td>-0.004163</td>\n",
       "      <td>0.007280</td>\n",
       "      <td>-0.010580</td>\n",
       "      <td>0.018982</td>\n",
       "    </tr>\n",
       "    <tr>\n",
       "      <th>SleepTime</th>\n",
       "      <td>0.008327</td>\n",
       "      <td>-0.051822</td>\n",
       "      <td>-0.030336</td>\n",
       "      <td>-0.005065</td>\n",
       "      <td>0.011900</td>\n",
       "      <td>-0.061387</td>\n",
       "      <td>-0.119717</td>\n",
       "      <td>-0.022216</td>\n",
       "      <td>-0.015704</td>\n",
       "      <td>0.104953</td>\n",
       "      <td>0.035889</td>\n",
       "      <td>0.000449</td>\n",
       "      <td>0.003849</td>\n",
       "      <td>-0.004163</td>\n",
       "      <td>1.000000</td>\n",
       "      <td>-0.048245</td>\n",
       "      <td>0.006238</td>\n",
       "      <td>0.041266</td>\n",
       "    </tr>\n",
       "    <tr>\n",
       "      <th>Asthma</th>\n",
       "      <td>0.041444</td>\n",
       "      <td>0.092345</td>\n",
       "      <td>0.024149</td>\n",
       "      <td>-0.002202</td>\n",
       "      <td>0.038866</td>\n",
       "      <td>0.117907</td>\n",
       "      <td>0.114008</td>\n",
       "      <td>0.103222</td>\n",
       "      <td>-0.069191</td>\n",
       "      <td>-0.058108</td>\n",
       "      <td>-0.017975</td>\n",
       "      <td>0.049827</td>\n",
       "      <td>-0.041526</td>\n",
       "      <td>0.007280</td>\n",
       "      <td>-0.048245</td>\n",
       "      <td>1.000000</td>\n",
       "      <td>0.039707</td>\n",
       "      <td>-0.000396</td>\n",
       "    </tr>\n",
       "    <tr>\n",
       "      <th>KidneyDisease</th>\n",
       "      <td>0.145197</td>\n",
       "      <td>0.050768</td>\n",
       "      <td>0.034920</td>\n",
       "      <td>-0.028280</td>\n",
       "      <td>0.091167</td>\n",
       "      <td>0.142197</td>\n",
       "      <td>0.037281</td>\n",
       "      <td>0.153064</td>\n",
       "      <td>-0.009084</td>\n",
       "      <td>0.123190</td>\n",
       "      <td>0.003709</td>\n",
       "      <td>0.142917</td>\n",
       "      <td>-0.081827</td>\n",
       "      <td>-0.010580</td>\n",
       "      <td>0.006238</td>\n",
       "      <td>0.039707</td>\n",
       "      <td>1.000000</td>\n",
       "      <td>0.061816</td>\n",
       "    </tr>\n",
       "    <tr>\n",
       "      <th>SkinCancer</th>\n",
       "      <td>0.093317</td>\n",
       "      <td>-0.033644</td>\n",
       "      <td>0.033977</td>\n",
       "      <td>-0.005702</td>\n",
       "      <td>0.048116</td>\n",
       "      <td>0.041700</td>\n",
       "      <td>-0.033412</td>\n",
       "      <td>0.064840</td>\n",
       "      <td>0.013434</td>\n",
       "      <td>0.263537</td>\n",
       "      <td>0.134780</td>\n",
       "      <td>0.032523</td>\n",
       "      <td>-0.001328</td>\n",
       "      <td>0.018982</td>\n",
       "      <td>0.041266</td>\n",
       "      <td>-0.000396</td>\n",
       "      <td>0.061816</td>\n",
       "      <td>1.000000</td>\n",
       "    </tr>\n",
       "  </tbody>\n",
       "</table>\n",
       "</div>"
      ],
      "text/plain": [
       "                  HeartDisease       BMI   Smoking  AlcoholDrinking    Stroke  \\\n",
       "HeartDisease          1.000000  0.051803  0.107764        -0.032080  0.196835   \n",
       "BMI                   0.051803  1.000000  0.023118        -0.038816  0.019733   \n",
       "Smoking               0.107764  0.023118  1.000000         0.111768  0.061226   \n",
       "AlcoholDrinking      -0.032080 -0.038816  0.111768         1.000000 -0.019858   \n",
       "Stroke                0.196835  0.019733  0.061226        -0.019858  1.000000   \n",
       "PhysicalHealth        0.170721  0.109788  0.115352        -0.017254  0.137014   \n",
       "MentalHealth          0.028591  0.064131  0.085157         0.051282  0.046467   \n",
       "DiffWalking           0.201258  0.181678  0.120074        -0.035328  0.174143   \n",
       "Sex                   0.070040  0.026940  0.085052         0.004200 -0.003091   \n",
       "AgeCategory           0.233432 -0.004744  0.128331        -0.059528  0.137822   \n",
       "Race                  0.034854 -0.037424  0.065499         0.036702 -0.003956   \n",
       "Diabetic              0.168553  0.202472  0.053847        -0.057372  0.101518   \n",
       "PhysicalActivity     -0.100030 -0.150616 -0.097174         0.017487 -0.079455   \n",
       "GenHealth            -0.011062  0.035932  0.020625         0.001629 -0.009335   \n",
       "SleepTime             0.008327 -0.051822 -0.030336        -0.005065  0.011900   \n",
       "Asthma                0.041444  0.092345  0.024149        -0.002202  0.038866   \n",
       "KidneyDisease         0.145197  0.050768  0.034920        -0.028280  0.091167   \n",
       "SkinCancer            0.093317 -0.033644  0.033977        -0.005702  0.048116   \n",
       "\n",
       "                  PhysicalHealth  MentalHealth  DiffWalking       Sex  \\\n",
       "HeartDisease            0.170721      0.028591     0.201258  0.070040   \n",
       "BMI                     0.109788      0.064131     0.181678  0.026940   \n",
       "Smoking                 0.115352      0.085157     0.120074  0.085052   \n",
       "AlcoholDrinking        -0.017254      0.051282    -0.035328  0.004200   \n",
       "Stroke                  0.137014      0.046467     0.174143 -0.003091   \n",
       "PhysicalHealth          1.000000      0.287987     0.428373 -0.040904   \n",
       "MentalHealth            0.287987      1.000000     0.152235 -0.100058   \n",
       "DiffWalking             0.428373      0.152235     1.000000 -0.068860   \n",
       "Sex                    -0.040904     -0.100058    -0.068860  1.000000   \n",
       "AgeCategory             0.110763     -0.155506     0.243263 -0.067478   \n",
       "Race                   -0.000847     -0.014491    -0.015831  0.018855   \n",
       "Diabetic                0.151361      0.032945     0.205502 -0.013456   \n",
       "PhysicalActivity       -0.232283     -0.095808    -0.278524  0.048247   \n",
       "GenHealth              -0.035703     -0.004412    -0.043552 -0.010283   \n",
       "SleepTime              -0.061387     -0.119717    -0.022216 -0.015704   \n",
       "Asthma                  0.117907      0.114008     0.103222 -0.069191   \n",
       "KidneyDisease           0.142197      0.037281     0.153064 -0.009084   \n",
       "SkinCancer              0.041700     -0.033412     0.064840  0.013434   \n",
       "\n",
       "                  AgeCategory      Race  Diabetic  PhysicalActivity  \\\n",
       "HeartDisease         0.233432  0.034854  0.168553         -0.100030   \n",
       "BMI                 -0.004744 -0.037424  0.202472         -0.150616   \n",
       "Smoking              0.128331  0.065499  0.053847         -0.097174   \n",
       "AlcoholDrinking     -0.059528  0.036702 -0.057372          0.017487   \n",
       "Stroke               0.137822 -0.003956  0.101518         -0.079455   \n",
       "PhysicalHealth       0.110763 -0.000847  0.151361         -0.232283   \n",
       "MentalHealth        -0.155506 -0.014491  0.032945         -0.095808   \n",
       "DiffWalking          0.243263 -0.015831  0.205502         -0.278524   \n",
       "Sex                 -0.067478  0.018855 -0.013456          0.048247   \n",
       "AgeCategory          1.000000  0.163090  0.193745         -0.121687   \n",
       "Race                 0.163090  1.000000 -0.052216          0.056767   \n",
       "Diabetic             0.193745 -0.052216  1.000000         -0.133824   \n",
       "PhysicalActivity    -0.121687  0.056767 -0.133824          1.000000   \n",
       "GenHealth            0.044427  0.050344 -0.010854          0.024418   \n",
       "SleepTime            0.104953  0.035889  0.000449          0.003849   \n",
       "Asthma              -0.058108 -0.017975  0.049827         -0.041526   \n",
       "KidneyDisease        0.123190  0.003709  0.142917         -0.081827   \n",
       "SkinCancer           0.263537  0.134780  0.032523         -0.001328   \n",
       "\n",
       "                  GenHealth  SleepTime    Asthma  KidneyDisease  SkinCancer  \n",
       "HeartDisease      -0.011062   0.008327  0.041444       0.145197    0.093317  \n",
       "BMI                0.035932  -0.051822  0.092345       0.050768   -0.033644  \n",
       "Smoking            0.020625  -0.030336  0.024149       0.034920    0.033977  \n",
       "AlcoholDrinking    0.001629  -0.005065 -0.002202      -0.028280   -0.005702  \n",
       "Stroke            -0.009335   0.011900  0.038866       0.091167    0.048116  \n",
       "PhysicalHealth    -0.035703  -0.061387  0.117907       0.142197    0.041700  \n",
       "MentalHealth      -0.004412  -0.119717  0.114008       0.037281   -0.033412  \n",
       "DiffWalking       -0.043552  -0.022216  0.103222       0.153064    0.064840  \n",
       "Sex               -0.010283  -0.015704 -0.069191      -0.009084    0.013434  \n",
       "AgeCategory        0.044427   0.104953 -0.058108       0.123190    0.263537  \n",
       "Race               0.050344   0.035889 -0.017975       0.003709    0.134780  \n",
       "Diabetic          -0.010854   0.000449  0.049827       0.142917    0.032523  \n",
       "PhysicalActivity   0.024418   0.003849 -0.041526      -0.081827   -0.001328  \n",
       "GenHealth          1.000000  -0.004163  0.007280      -0.010580    0.018982  \n",
       "SleepTime         -0.004163   1.000000 -0.048245       0.006238    0.041266  \n",
       "Asthma             0.007280  -0.048245  1.000000       0.039707   -0.000396  \n",
       "KidneyDisease     -0.010580   0.006238  0.039707       1.000000    0.061816  \n",
       "SkinCancer         0.018982   0.041266 -0.000396       0.061816    1.000000  "
      ]
     },
     "execution_count": 18,
     "metadata": {},
     "output_type": "execute_result"
    }
   ],
   "source": [
    "data.corr()"
   ]
  },
  {
   "cell_type": "code",
   "execution_count": 19,
   "id": "b3f4d942",
   "metadata": {
    "scrolled": true
   },
   "outputs": [
    {
     "data": {
      "text/plain": [
       "<AxesSubplot:>"
      ]
     },
     "execution_count": 19,
     "metadata": {},
     "output_type": "execute_result"
    },
    {
     "data": {
      "image/png": "[encoded data removed]",
      "text/plain": [
       "<Figure size 1080x720 with 2 Axes>"
      ]
     },
     "metadata": {
      "needs_background": "light"
     },
     "output_type": "display_data"
    }
   ],
   "source": [
    "plt.figure(figsize=(15,10))\n",
    "sns.heatmap(data.corr(),annot = True )"
   ]
  },
  {
   "cell_type": "code",
   "execution_count": null,
   "id": "4629f000",
   "metadata": {},
   "outputs": [],
   "source": []
  },
  {
   "cell_type": "code",
   "execution_count": 20,
   "id": "d064df12",
   "metadata": {
    "scrolled": true
   },
   "outputs": [
    {
     "data": {
      "text/plain": [
       "Text(0.5, 1.0, \"Percentage of Patients Haven Heart Disease: 8.559545959130068 %   and  Percentage of Patients Haven't Heart Disease: 91.44045404086994 % \")"
      ]
     },
     "execution_count": 20,
     "metadata": {},
     "output_type": "execute_result"
    },
    {
     "data": {
      "image/png": "[encoded data removed]",
      "text/plain": [
       "<Figure size 432x288 with 1 Axes>"
      ]
     },
     "metadata": {},
     "output_type": "display_data"
    }
   ],
   "source": [
    "label =  \"Have Disease\",\"Haven't Disease\"\n",
    "sizes = [(Have_HeartDisease_Count / (len(data.HeartDisease))*100) , (No_HeartDisease_Count / (len(data.HeartDisease))*100) ]\n",
    "colors = [\"m\",\"c\"]\n",
    "plt.pie(sizes,labels=label,colors = colors, shadow = True,autopct = \"%1.1f%%\",explode= ([0.2,0.1]))\n",
    "plt.title(f\"Percentage of Patients Haven Heart Disease: {(Have_HeartDisease_Count / (len(data.HeartDisease))*100)} %   and  Percentage of Patients Haven't Heart Disease: {No_HeartDisease_Count / (len(data.HeartDisease))*100} % \")\n",
    "\n",
    "\n"
   ]
  },
  {
   "cell_type": "code",
   "execution_count": 21,
   "id": "3875e7cd",
   "metadata": {},
   "outputs": [
    {
     "data": {
      "image/png": "[encoded data removed]",
      "text/plain": [
       "<Figure size 432x288 with 1 Axes>"
      ]
     },
     "metadata": {
      "needs_background": "light"
     },
     "output_type": "display_data"
    }
   ],
   "source": [
    "plt.scatter(x=data.AgeCategory[data.HeartDisease==1], y=data.BMI[(data.HeartDisease==1)], c=\"black\")\n",
    "plt.scatter(x=data.AgeCategory[data.HeartDisease==0], y=data.BMI[(data.HeartDisease==0)])\n",
    "plt.legend([\"Disease\", \"Not Disease\"])\n",
    "plt.xlabel(\"Age ( 0 =(18-24) , 2 = (25-29) , 4 = (35-39) , 6 = (45-49) , 8 = (50-54) , 10 = (65-69) , 12 = (70-74) ) \")\n",
    "plt.ylabel(\"BMI\")\n",
    "plt.show()"
   ]
  },
  {
   "cell_type": "code",
   "execution_count": 22,
   "id": "456eece1",
   "metadata": {},
   "outputs": [
    {
     "data": {
      "image/png": "[encoded data removed]",
      "text/plain": [
       "<Figure size 432x288 with 1 Axes>"
      ]
     },
     "metadata": {
      "needs_background": "light"
     },
     "output_type": "display_data"
    }
   ],
   "source": [
    "sns.countplot(x = \"Smoking\", hue = \"HeartDisease\", data = data)\n",
    "plt.title('Heart Disease Frequency for Smoking')\n",
    "plt.xlabel('Smoking ( 0 = NO And 1 = Yes)')\n",
    "plt.legend([\"Haven't Disease\", \"Have Disease\"])\n",
    "plt.ylabel('Frequency of Disease or Not')\n",
    "plt.show()"
   ]
  },
  {
   "cell_type": "code",
   "execution_count": 23,
   "id": "7c510426",
   "metadata": {},
   "outputs": [
    {
     "data": {
      "image/png": "[encoded data removed]",
      "text/plain": [
       "<Figure size 432x288 with 1 Axes>"
      ]
     },
     "metadata": {
      "needs_background": "light"
     },
     "output_type": "display_data"
    }
   ],
   "source": [
    "sns.countplot(x = \"AlcoholDrinking\", hue = \"HeartDisease\", data = data)\n",
    "plt.title('Heart Disease Frequency for AlcoholDrinking')\n",
    "plt.xlabel('AlcoholDrinking ( 0 = NO And 1 = Yes)')\n",
    "plt.legend([\"Haven't Disease\", \"Have Disease\"])\n",
    "plt.ylabel('Frequency of Disease or Not')\n",
    "plt.show()"
   ]
  },
  {
   "cell_type": "code",
   "execution_count": 24,
   "id": "d2715559",
   "metadata": {},
   "outputs": [
    {
     "data": {
      "image/png": "[encoded data removed]",
      "text/plain": [
       "<Figure size 432x288 with 1 Axes>"
      ]
     },
     "metadata": {
      "needs_background": "light"
     },
     "output_type": "display_data"
    }
   ],
   "source": [
    "sns.countplot(x = \"Stroke\", hue = \"HeartDisease\", data = data)\n",
    "plt.title('Heart Disease Frequency According To Stroke')\n",
    "plt.xlabel('AlcoholDrinking ( 0 = NO And 1 = Yes)')\n",
    "plt.legend([\"Haven't Disease\", \"Have Disease\"])\n",
    "plt.ylabel('Frequency of Disease or Not')\n",
    "plt.show()"
   ]
  },
  {
   "cell_type": "code",
   "execution_count": 25,
   "id": "6bd6430f",
   "metadata": {},
   "outputs": [
    {
     "data": {
      "image/png": "[encoded data removed]",
      "text/plain": [
       "<Figure size 1440x432 with 1 Axes>"
      ]
     },
     "metadata": {
      "needs_background": "light"
     },
     "output_type": "display_data"
    }
   ],
   "source": [
    "pd.crosstab(data.PhysicalHealth,data.HeartDisease).plot(kind=\"bar\",figsize=(20,6))\n",
    "plt.title('Heart Disease Frequency According To PhysicalHealth')\n",
    "plt.xlabel('PhysicalHealth')\n",
    "plt.legend([\"Haven't Disease\", \"Have Disease\"])\n",
    "plt.ylabel('Frequency of Disease or Not')\n",
    "plt.show()"
   ]
  },
  {
   "cell_type": "code",
   "execution_count": 26,
   "id": "bfc745e1",
   "metadata": {},
   "outputs": [
    {
     "data": {
      "image/png": "[encoded data removed]",
      "text/plain": [
       "<Figure size 432x288 with 1 Axes>"
      ]
     },
     "metadata": {
      "needs_background": "light"
     },
     "output_type": "display_data"
    }
   ],
   "source": [
    "sns.countplot(x = \"Sex\", hue = \"HeartDisease\", data = data )\n",
    "plt.title('Heart Disease Frequency According To Sex')\n",
    "plt.xlabel('Sex (1 = Male and 0 = Female)')\n",
    "plt.legend([\"Haven't Disease\", \"Have Disease\"])\n",
    "plt.ylabel('Frequency of Disease or Not')\n",
    "plt.show()"
   ]
  },
  {
   "cell_type": "code",
   "execution_count": 27,
   "id": "f5310af2",
   "metadata": {},
   "outputs": [
    {
     "data": {
      "image/png": "[encoded data removed]",
      "text/plain": [
       "<Figure size 432x288 with 1 Axes>"
      ]
     },
     "metadata": {
      "needs_background": "light"
     },
     "output_type": "display_data"
    }
   ],
   "source": [
    "sns.countplot(x = \"Asthma\", hue = \"HeartDisease\", data = data)\n",
    "plt.title('Heart Disease Frequency According To Asthma')\n",
    "plt.xlabel('Asthma ( 0 = No and 1 = Yes)')\n",
    "plt.legend([\"Haven't Disease\", \"Have Disease\"])\n",
    "plt.ylabel('Frequency of Disease or Not')\n",
    "plt.show()"
   ]
  },
  {
   "cell_type": "code",
   "execution_count": 28,
   "id": "52ff8771",
   "metadata": {},
   "outputs": [
    {
     "data": {
      "image/png": "[encoded data removed]",
      "text/plain": [
       "<Figure size 720x432 with 1 Axes>"
      ]
     },
     "metadata": {
      "needs_background": "light"
     },
     "output_type": "display_data"
    }
   ],
   "source": [
    "pd.crosstab(data.KidneyDisease,data.HeartDisease).plot(kind=\"bar\",figsize=(10,6) ,color=['black','white' ])\n",
    "\n",
    "plt.title('Heart Disease Frequency According To KidneyDisease')\n",
    "plt.xlabel('KidneyDisease ( 0 = No and 1 = Yes)')\n",
    "plt.legend([\"Haven't Disease\", \"Have Disease\"])\n",
    "plt.ylabel('Frequency of Disease or Not')\n",
    "plt.show()"
   ]
  },
  {
   "cell_type": "code",
   "execution_count": 29,
   "id": "feed46e2",
   "metadata": {},
   "outputs": [
    {
     "data": {
      "image/png": "[encoded data removed]",
      "text/plain": [
       "<Figure size 720x432 with 1 Axes>"
      ]
     },
     "metadata": {
      "needs_background": "light"
     },
     "output_type": "display_data"
    }
   ],
   "source": [
    "\n",
    "pd.crosstab(data.SkinCancer,data.HeartDisease).plot(kind=\"bar\",figsize=(10,6),color=['cyan','m' ])\n",
    "\n",
    "plt.title('Heart Disease Frequency According To SkinCancer')\n",
    "plt.xlabel('SkinCancer ( 0 = No and 1 = Yes)')\n",
    "plt.legend([\"Haven't Disease\", \"Have Disease\"])\n",
    "plt.ylabel('Frequency of Disease or Not')\n",
    "plt.show()"
   ]
  },
  {
   "cell_type": "code",
   "execution_count": null,
   "id": "c975e2c1",
   "metadata": {},
   "outputs": [],
   "source": []
  },
  {
   "cell_type": "markdown",
   "id": "5089d6ad",
   "metadata": {},
   "source": [
    "# Apply Feature Encoding Techniques "
   ]
  },
  {
   "cell_type": "markdown",
   "id": "266a3aa5",
   "metadata": {},
   "source": [
    "---Here the data type of 14 features is the object\n",
    "---So have to encode these 14 features\n",
    "\n",
    "1---I will apply label encoding technique on these 11 features =  [ HeartDisease, Smoking , AlcoholDrinking , Stroke , DiffWalking ,Sex  ,  Diabetic , PhysicalActivity , Asthma , KidneyDisease , SkinCancer]\n",
    "\n",
    "2---apply Ordinal encoding technique on this feature = [ AgeCategory ]\n",
    "\n",
    "3---apply One Hot encoding technique on these 2 features = [ GenHealth , Race]"
   ]
  },
  {
   "cell_type": "code",
   "execution_count": 30,
   "id": "c4ccacab",
   "metadata": {},
   "outputs": [],
   "source": [
    "# 1 apply label encoding technique\n",
    "\n",
    "columns = [ \"HeartDisease\", \"Smoking\" , \"AlcoholDrinking\" , \"Stroke\" , \"DiffWalking\" ,\"Sex\"  ,  \"Diabetic\" , \"PhysicalActivity\" , \"Asthma\" , \"KidneyDisease\" , \"SkinCancer\"]\n",
    "\n",
    "for column in columns:\n",
    "        data[column] = LabelEncoder().fit_transform(data[column])"
   ]
  },
  {
   "cell_type": "code",
   "execution_count": 31,
   "id": "82e8d40a",
   "metadata": {},
   "outputs": [
    {
     "data": {
      "text/plain": [
       "array([ 7, 12,  9, 11,  4, 10,  8,  6,  5,  0,  3,  2,  1])"
      ]
     },
     "execution_count": 31,
     "metadata": {},
     "output_type": "execute_result"
    }
   ],
   "source": [
    "# 2 apply Ordinal encoding technique\n",
    "data.AgeCategory.unique()"
   ]
  },
  {
   "cell_type": "code",
   "execution_count": 32,
   "id": "10f279c4",
   "metadata": {},
   "outputs": [],
   "source": [
    "# 3 apply One Hot encoding technique\n",
    "\n",
    "columns = [\"GenHealth\" , \"Race\"]\n",
    "\n",
    "for column in columns :\n",
    "    dummy_value = pd.get_dummies(data[column], drop_first = True)\n",
    "    \n",
    "    data = pd.concat([data,dummy_value],axis=1).drop(column,axis=1)"
   ]
  },
  {
   "cell_type": "code",
   "execution_count": 33,
   "id": "bae4c535",
   "metadata": {},
   "outputs": [
    {
     "name": "stdout",
     "output_type": "stream",
     "text": [
      "<class 'pandas.core.frame.DataFrame'>\n",
      "RangeIndex: 319795 entries, 0 to 319794\n",
      "Data columns (total 25 columns):\n",
      " #   Column            Non-Null Count   Dtype  \n",
      "---  ------            --------------   -----  \n",
      " 0   HeartDisease      319795 non-null  int64  \n",
      " 1   BMI               319795 non-null  float64\n",
      " 2   Smoking           319795 non-null  int64  \n",
      " 3   AlcoholDrinking   319795 non-null  int64  \n",
      " 4   Stroke            319795 non-null  int64  \n",
      " 5   PhysicalHealth    319795 non-null  int64  \n",
      " 6   MentalHealth      319795 non-null  int64  \n",
      " 7   DiffWalking       319795 non-null  int64  \n",
      " 8   Sex               319795 non-null  int64  \n",
      " 9   AgeCategory       319795 non-null  int32  \n",
      " 10  Diabetic          319795 non-null  int64  \n",
      " 11  PhysicalActivity  319795 non-null  int64  \n",
      " 12  SleepTime         319795 non-null  int64  \n",
      " 13  Asthma            319795 non-null  int64  \n",
      " 14  KidneyDisease     319795 non-null  int64  \n",
      " 15  SkinCancer        319795 non-null  int64  \n",
      " 16  1                 319795 non-null  uint8  \n",
      " 17  2                 319795 non-null  uint8  \n",
      " 18  3                 319795 non-null  uint8  \n",
      " 19  4                 319795 non-null  uint8  \n",
      " 20  1                 319795 non-null  uint8  \n",
      " 21  2                 319795 non-null  uint8  \n",
      " 22  3                 319795 non-null  uint8  \n",
      " 23  4                 319795 non-null  uint8  \n",
      " 24  5                 319795 non-null  uint8  \n",
      "dtypes: float64(1), int32(1), int64(14), uint8(9)\n",
      "memory usage: 40.6 MB\n"
     ]
    }
   ],
   "source": [
    "data.info()"
   ]
  },
  {
   "cell_type": "code",
   "execution_count": 34,
   "id": "ae87f088",
   "metadata": {},
   "outputs": [
    {
     "data": {
      "text/html": [
       "<div>\n",
       "<style scoped>\n",
       "    .dataframe tbody tr th:only-of-type {\n",
       "        vertical-align: middle;\n",
       "    }\n",
       "\n",
       "    .dataframe tbody tr th {\n",
       "        vertical-align: top;\n",
       "    }\n",
       "\n",
       "    .dataframe thead th {\n",
       "        text-align: right;\n",
       "    }\n",
       "</style>\n",
       "<table border=\"1\" class=\"dataframe\">\n",
       "  <thead>\n",
       "    <tr style=\"text-align: right;\">\n",
       "      <th></th>\n",
       "      <th>HeartDisease</th>\n",
       "      <th>BMI</th>\n",
       "      <th>Smoking</th>\n",
       "      <th>AlcoholDrinking</th>\n",
       "      <th>Stroke</th>\n",
       "      <th>PhysicalHealth</th>\n",
       "      <th>MentalHealth</th>\n",
       "      <th>DiffWalking</th>\n",
       "      <th>Sex</th>\n",
       "      <th>AgeCategory</th>\n",
       "      <th>...</th>\n",
       "      <th>SkinCancer</th>\n",
       "      <th>1</th>\n",
       "      <th>2</th>\n",
       "      <th>3</th>\n",
       "      <th>4</th>\n",
       "      <th>1</th>\n",
       "      <th>2</th>\n",
       "      <th>3</th>\n",
       "      <th>4</th>\n",
       "      <th>5</th>\n",
       "    </tr>\n",
       "  </thead>\n",
       "  <tbody>\n",
       "    <tr>\n",
       "      <th>99494</th>\n",
       "      <td>1</td>\n",
       "      <td>18.94</td>\n",
       "      <td>1</td>\n",
       "      <td>0</td>\n",
       "      <td>0</td>\n",
       "      <td>7</td>\n",
       "      <td>10</td>\n",
       "      <td>0</td>\n",
       "      <td>0</td>\n",
       "      <td>11</td>\n",
       "      <td>...</td>\n",
       "      <td>0</td>\n",
       "      <td>1</td>\n",
       "      <td>0</td>\n",
       "      <td>0</td>\n",
       "      <td>0</td>\n",
       "      <td>0</td>\n",
       "      <td>0</td>\n",
       "      <td>0</td>\n",
       "      <td>0</td>\n",
       "      <td>1</td>\n",
       "    </tr>\n",
       "    <tr>\n",
       "      <th>48110</th>\n",
       "      <td>0</td>\n",
       "      <td>32.45</td>\n",
       "      <td>0</td>\n",
       "      <td>0</td>\n",
       "      <td>1</td>\n",
       "      <td>5</td>\n",
       "      <td>0</td>\n",
       "      <td>1</td>\n",
       "      <td>0</td>\n",
       "      <td>11</td>\n",
       "      <td>...</td>\n",
       "      <td>1</td>\n",
       "      <td>0</td>\n",
       "      <td>0</td>\n",
       "      <td>1</td>\n",
       "      <td>0</td>\n",
       "      <td>0</td>\n",
       "      <td>0</td>\n",
       "      <td>0</td>\n",
       "      <td>0</td>\n",
       "      <td>1</td>\n",
       "    </tr>\n",
       "    <tr>\n",
       "      <th>269919</th>\n",
       "      <td>0</td>\n",
       "      <td>25.84</td>\n",
       "      <td>0</td>\n",
       "      <td>0</td>\n",
       "      <td>0</td>\n",
       "      <td>0</td>\n",
       "      <td>0</td>\n",
       "      <td>0</td>\n",
       "      <td>1</td>\n",
       "      <td>9</td>\n",
       "      <td>...</td>\n",
       "      <td>0</td>\n",
       "      <td>0</td>\n",
       "      <td>0</td>\n",
       "      <td>0</td>\n",
       "      <td>1</td>\n",
       "      <td>0</td>\n",
       "      <td>0</td>\n",
       "      <td>0</td>\n",
       "      <td>0</td>\n",
       "      <td>1</td>\n",
       "    </tr>\n",
       "    <tr>\n",
       "      <th>112271</th>\n",
       "      <td>0</td>\n",
       "      <td>29.99</td>\n",
       "      <td>0</td>\n",
       "      <td>0</td>\n",
       "      <td>0</td>\n",
       "      <td>0</td>\n",
       "      <td>0</td>\n",
       "      <td>0</td>\n",
       "      <td>1</td>\n",
       "      <td>7</td>\n",
       "      <td>...</td>\n",
       "      <td>0</td>\n",
       "      <td>0</td>\n",
       "      <td>0</td>\n",
       "      <td>0</td>\n",
       "      <td>1</td>\n",
       "      <td>0</td>\n",
       "      <td>0</td>\n",
       "      <td>0</td>\n",
       "      <td>0</td>\n",
       "      <td>1</td>\n",
       "    </tr>\n",
       "    <tr>\n",
       "      <th>138921</th>\n",
       "      <td>0</td>\n",
       "      <td>26.39</td>\n",
       "      <td>0</td>\n",
       "      <td>0</td>\n",
       "      <td>0</td>\n",
       "      <td>0</td>\n",
       "      <td>1</td>\n",
       "      <td>0</td>\n",
       "      <td>1</td>\n",
       "      <td>4</td>\n",
       "      <td>...</td>\n",
       "      <td>0</td>\n",
       "      <td>0</td>\n",
       "      <td>0</td>\n",
       "      <td>0</td>\n",
       "      <td>0</td>\n",
       "      <td>0</td>\n",
       "      <td>0</td>\n",
       "      <td>0</td>\n",
       "      <td>0</td>\n",
       "      <td>1</td>\n",
       "    </tr>\n",
       "    <tr>\n",
       "      <th>16538</th>\n",
       "      <td>0</td>\n",
       "      <td>32.78</td>\n",
       "      <td>1</td>\n",
       "      <td>0</td>\n",
       "      <td>0</td>\n",
       "      <td>30</td>\n",
       "      <td>0</td>\n",
       "      <td>0</td>\n",
       "      <td>1</td>\n",
       "      <td>10</td>\n",
       "      <td>...</td>\n",
       "      <td>1</td>\n",
       "      <td>0</td>\n",
       "      <td>0</td>\n",
       "      <td>1</td>\n",
       "      <td>0</td>\n",
       "      <td>0</td>\n",
       "      <td>0</td>\n",
       "      <td>0</td>\n",
       "      <td>0</td>\n",
       "      <td>1</td>\n",
       "    </tr>\n",
       "    <tr>\n",
       "      <th>245305</th>\n",
       "      <td>0</td>\n",
       "      <td>20.92</td>\n",
       "      <td>1</td>\n",
       "      <td>0</td>\n",
       "      <td>0</td>\n",
       "      <td>0</td>\n",
       "      <td>0</td>\n",
       "      <td>0</td>\n",
       "      <td>0</td>\n",
       "      <td>6</td>\n",
       "      <td>...</td>\n",
       "      <td>0</td>\n",
       "      <td>0</td>\n",
       "      <td>0</td>\n",
       "      <td>0</td>\n",
       "      <td>1</td>\n",
       "      <td>0</td>\n",
       "      <td>0</td>\n",
       "      <td>0</td>\n",
       "      <td>0</td>\n",
       "      <td>1</td>\n",
       "    </tr>\n",
       "    <tr>\n",
       "      <th>68896</th>\n",
       "      <td>0</td>\n",
       "      <td>27.91</td>\n",
       "      <td>0</td>\n",
       "      <td>0</td>\n",
       "      <td>0</td>\n",
       "      <td>0</td>\n",
       "      <td>0</td>\n",
       "      <td>0</td>\n",
       "      <td>1</td>\n",
       "      <td>11</td>\n",
       "      <td>...</td>\n",
       "      <td>1</td>\n",
       "      <td>0</td>\n",
       "      <td>0</td>\n",
       "      <td>0</td>\n",
       "      <td>1</td>\n",
       "      <td>0</td>\n",
       "      <td>0</td>\n",
       "      <td>0</td>\n",
       "      <td>0</td>\n",
       "      <td>1</td>\n",
       "    </tr>\n",
       "    <tr>\n",
       "      <th>25364</th>\n",
       "      <td>0</td>\n",
       "      <td>29.68</td>\n",
       "      <td>1</td>\n",
       "      <td>0</td>\n",
       "      <td>0</td>\n",
       "      <td>1</td>\n",
       "      <td>0</td>\n",
       "      <td>0</td>\n",
       "      <td>1</td>\n",
       "      <td>2</td>\n",
       "      <td>...</td>\n",
       "      <td>0</td>\n",
       "      <td>0</td>\n",
       "      <td>0</td>\n",
       "      <td>0</td>\n",
       "      <td>0</td>\n",
       "      <td>0</td>\n",
       "      <td>0</td>\n",
       "      <td>0</td>\n",
       "      <td>0</td>\n",
       "      <td>1</td>\n",
       "    </tr>\n",
       "    <tr>\n",
       "      <th>127698</th>\n",
       "      <td>0</td>\n",
       "      <td>33.28</td>\n",
       "      <td>0</td>\n",
       "      <td>0</td>\n",
       "      <td>0</td>\n",
       "      <td>0</td>\n",
       "      <td>27</td>\n",
       "      <td>0</td>\n",
       "      <td>0</td>\n",
       "      <td>1</td>\n",
       "      <td>...</td>\n",
       "      <td>0</td>\n",
       "      <td>0</td>\n",
       "      <td>0</td>\n",
       "      <td>0</td>\n",
       "      <td>0</td>\n",
       "      <td>0</td>\n",
       "      <td>1</td>\n",
       "      <td>0</td>\n",
       "      <td>0</td>\n",
       "      <td>0</td>\n",
       "    </tr>\n",
       "  </tbody>\n",
       "</table>\n",
       "<p>10 rows × 25 columns</p>\n",
       "</div>"
      ],
      "text/plain": [
       "        HeartDisease    BMI  Smoking  AlcoholDrinking  Stroke  PhysicalHealth  \\\n",
       "99494              1  18.94        1                0       0               7   \n",
       "48110              0  32.45        0                0       1               5   \n",
       "269919             0  25.84        0                0       0               0   \n",
       "112271             0  29.99        0                0       0               0   \n",
       "138921             0  26.39        0                0       0               0   \n",
       "16538              0  32.78        1                0       0              30   \n",
       "245305             0  20.92        1                0       0               0   \n",
       "68896              0  27.91        0                0       0               0   \n",
       "25364              0  29.68        1                0       0               1   \n",
       "127698             0  33.28        0                0       0               0   \n",
       "\n",
       "        MentalHealth  DiffWalking  Sex  AgeCategory  ...  SkinCancer  1  2  3  \\\n",
       "99494             10            0    0           11  ...           0  1  0  0   \n",
       "48110              0            1    0           11  ...           1  0  0  1   \n",
       "269919             0            0    1            9  ...           0  0  0  0   \n",
       "112271             0            0    1            7  ...           0  0  0  0   \n",
       "138921             1            0    1            4  ...           0  0  0  0   \n",
       "16538              0            0    1           10  ...           1  0  0  1   \n",
       "245305             0            0    0            6  ...           0  0  0  0   \n",
       "68896              0            0    1           11  ...           1  0  0  0   \n",
       "25364              0            0    1            2  ...           0  0  0  0   \n",
       "127698            27            0    0            1  ...           0  0  0  0   \n",
       "\n",
       "        4  1  2  3  4  5  \n",
       "99494   0  0  0  0  0  1  \n",
       "48110   0  0  0  0  0  1  \n",
       "269919  1  0  0  0  0  1  \n",
       "112271  1  0  0  0  0  1  \n",
       "138921  0  0  0  0  0  1  \n",
       "16538   0  0  0  0  0  1  \n",
       "245305  1  0  0  0  0  1  \n",
       "68896   1  0  0  0  0  1  \n",
       "25364   0  0  0  0  0  1  \n",
       "127698  0  0  1  0  0  0  \n",
       "\n",
       "[10 rows x 25 columns]"
      ]
     },
     "execution_count": 34,
     "metadata": {},
     "output_type": "execute_result"
    }
   ],
   "source": [
    "data.sample(10)"
   ]
  },
  {
   "cell_type": "code",
   "execution_count": null,
   "id": "865ac490",
   "metadata": {},
   "outputs": [],
   "source": []
  },
  {
   "cell_type": "markdown",
   "id": "efa117b6",
   "metadata": {},
   "source": [
    "# Separate Features , Label --- and Imbalanced Data Handling"
   ]
  },
  {
   "cell_type": "code",
   "execution_count": 35,
   "id": "e6075f2a",
   "metadata": {},
   "outputs": [],
   "source": [
    "Normal_Featurs = data.drop(\"HeartDisease\" ,axis = 1)\n",
    "Normal_Classes = data.HeartDisease"
   ]
  },
  {
   "cell_type": "code",
   "execution_count": 36,
   "id": "3c083779",
   "metadata": {},
   "outputs": [
    {
     "data": {
      "text/plain": [
       "(319795, 24)"
      ]
     },
     "execution_count": 36,
     "metadata": {},
     "output_type": "execute_result"
    }
   ],
   "source": [
    "Normal_Featurs.shape"
   ]
  },
  {
   "cell_type": "code",
   "execution_count": 37,
   "id": "8d40b00a",
   "metadata": {},
   "outputs": [
    {
     "data": {
      "text/plain": [
       "(319795,)"
      ]
     },
     "execution_count": 37,
     "metadata": {},
     "output_type": "execute_result"
    }
   ],
   "source": [
    "Normal_Classes.shape"
   ]
  },
  {
   "cell_type": "code",
   "execution_count": 38,
   "id": "aeeb5f7c",
   "metadata": {},
   "outputs": [
    {
     "data": {
      "text/plain": [
       "0    292422\n",
       "1     27373\n",
       "Name: HeartDisease, dtype: int64"
      ]
     },
     "execution_count": 38,
     "metadata": {},
     "output_type": "execute_result"
    }
   ],
   "source": [
    "Normal_Classes.value_counts()"
   ]
  },
  {
   "cell_type": "raw",
   "id": "94b9e8e4",
   "metadata": {},
   "source": [
    "---The data set is a lot of imbalance\n",
    "---So I will apply 3 imbalance data handling techniques ( RandomOverSampler , NearMiss = UnderSampler and SMOTETomek ) in the data set\n",
    "---And I will train the model with each\n",
    "\n",
    "1. Apply RandomOverSampler\n",
    "\n",
    "2. Apply NearMiss = UnderSampler\n",
    "\n",
    "3. Apply SMOTETomek"
   ]
  },
  {
   "cell_type": "code",
   "execution_count": 39,
   "id": "e4423598",
   "metadata": {},
   "outputs": [
    {
     "name": "stdout",
     "output_type": "stream",
     "text": [
      "Requirement already satisfied: imblearn in f:\\anaconda\\lib\\site-packages (0.0)\n",
      "Requirement already satisfied: imbalanced-learn in f:\\anaconda\\lib\\site-packages (from imblearn) (0.9.1)\n",
      "Requirement already satisfied: joblib>=1.0.0 in f:\\anaconda\\lib\\site-packages (from imbalanced-learn->imblearn) (1.1.0)\n",
      "Requirement already satisfied: numpy>=1.17.3 in f:\\anaconda\\lib\\site-packages (from imbalanced-learn->imblearn) (1.21.5)\n",
      "Requirement already satisfied: scipy>=1.3.2 in f:\\anaconda\\lib\\site-packages (from imbalanced-learn->imblearn) (1.7.3)\n",
      "Requirement already satisfied: threadpoolctl>=2.0.0 in f:\\anaconda\\lib\\site-packages (from imbalanced-learn->imblearn) (2.2.0)\n",
      "Requirement already satisfied: scikit-learn>=1.1.0 in f:\\anaconda\\lib\\site-packages (from imbalanced-learn->imblearn) (1.1.2)\n",
      "Note: you may need to restart the kernel to use updated packages.\n"
     ]
    }
   ],
   "source": [
    "%pip install imblearn"
   ]
  },
  {
   "cell_type": "code",
   "execution_count": 40,
   "id": "b8b0eb14",
   "metadata": {},
   "outputs": [],
   "source": [
    "#1. Apply RandomOverSampler\n",
    "\n",
    "from imblearn.over_sampling import RandomOverSampler\n",
    "ROS = RandomOverSampler(random_state = 42)\n",
    "\n",
    "OverSampling_Featurs , OverSampling_Classes = ROS.fit_resample(Normal_Featurs , Normal_Classes)"
   ]
  },
  {
   "cell_type": "code",
   "execution_count": 41,
   "id": "de8ab748",
   "metadata": {},
   "outputs": [
    {
     "data": {
      "text/plain": [
       "(584844, 24)"
      ]
     },
     "execution_count": 41,
     "metadata": {},
     "output_type": "execute_result"
    }
   ],
   "source": [
    "OverSampling_Featurs.shape"
   ]
  },
  {
   "cell_type": "code",
   "execution_count": 42,
   "id": "2c320db3",
   "metadata": {},
   "outputs": [
    {
     "data": {
      "text/plain": [
       "(584844,)"
      ]
     },
     "execution_count": 42,
     "metadata": {},
     "output_type": "execute_result"
    }
   ],
   "source": [
    "OverSampling_Classes.shape"
   ]
  },
  {
   "cell_type": "code",
   "execution_count": 43,
   "id": "411502d8",
   "metadata": {},
   "outputs": [
    {
     "data": {
      "text/plain": [
       "0    292422\n",
       "1    292422\n",
       "Name: HeartDisease, dtype: int64"
      ]
     },
     "execution_count": 43,
     "metadata": {},
     "output_type": "execute_result"
    }
   ],
   "source": [
    "OverSampling_Classes.value_counts()"
   ]
  },
  {
   "cell_type": "code",
   "execution_count": null,
   "id": "b41ebe13",
   "metadata": {},
   "outputs": [],
   "source": []
  },
  {
   "cell_type": "code",
   "execution_count": 44,
   "id": "bc06c48e",
   "metadata": {},
   "outputs": [],
   "source": [
    "#2. Apply NearMiss = UnderSampler\n",
    "\n",
    "from imblearn.under_sampling import NearMiss\n",
    "\n",
    "Near = NearMiss()\n",
    "\n",
    "UnderSampling_Featurs , UnderSampling_Classes = Near.fit_resample(Normal_Featurs , Normal_Classes)"
   ]
  },
  {
   "cell_type": "code",
   "execution_count": 45,
   "id": "c2122b67",
   "metadata": {},
   "outputs": [
    {
     "data": {
      "text/plain": [
       "(54746, 24)"
      ]
     },
     "execution_count": 45,
     "metadata": {},
     "output_type": "execute_result"
    }
   ],
   "source": [
    "UnderSampling_Featurs.shape"
   ]
  },
  {
   "cell_type": "code",
   "execution_count": 46,
   "id": "21b8e765",
   "metadata": {},
   "outputs": [
    {
     "data": {
      "text/plain": [
       "(54746,)"
      ]
     },
     "execution_count": 46,
     "metadata": {},
     "output_type": "execute_result"
    }
   ],
   "source": [
    "UnderSampling_Classes.shape\n"
   ]
  },
  {
   "cell_type": "code",
   "execution_count": 47,
   "id": "751d6f96",
   "metadata": {},
   "outputs": [
    {
     "data": {
      "text/plain": [
       "0    27373\n",
       "1    27373\n",
       "Name: HeartDisease, dtype: int64"
      ]
     },
     "execution_count": 47,
     "metadata": {},
     "output_type": "execute_result"
    }
   ],
   "source": [
    "UnderSampling_Classes.value_counts()"
   ]
  },
  {
   "cell_type": "code",
   "execution_count": null,
   "id": "d2aab596",
   "metadata": {},
   "outputs": [],
   "source": [
    "#3. Apply NearMiss = UnderSampler\n",
    "from imblearn.combine import SMOTETomek\n",
    "\n",
    "SM = SMOTETomek(random_state = 42)\n",
    "\n",
    "Combine_Featurs , Combine_Classes = SM.fit_resample(Normal_Featurs ,Normal_Classes)"
   ]
  },
  {
   "cell_type": "code",
   "execution_count": null,
   "id": "f0687c70",
   "metadata": {},
   "outputs": [],
   "source": [
    "## Combine_Featurs.shape"
   ]
  },
  {
   "cell_type": "code",
   "execution_count": null,
   "id": "9b78f3c4",
   "metadata": {},
   "outputs": [],
   "source": [
    "##Combine_Classes.shape"
   ]
  },
  {
   "cell_type": "code",
   "execution_count": null,
   "id": "b4ab8a78",
   "metadata": {},
   "outputs": [],
   "source": [
    "Combine_Classes.value_counts()"
   ]
  },
  {
   "cell_type": "code",
   "execution_count": null,
   "id": "97c8f9c5",
   "metadata": {},
   "outputs": [],
   "source": []
  },
  {
   "cell_type": "markdown",
   "id": "e0508d3a",
   "metadata": {},
   "source": [
    "# Apply KNN_Classifier and Cross Validation Techniques"
   ]
  },
  {
   "cell_type": "markdown",
   "id": "d793d879",
   "metadata": {},
   "source": [
    "---Here i will apply KNN_Classifier algorithm and three cross validation techniques on (Normal, Over_Sampling , Under_Sampling and Combine ) data sets .\n",
    "\n",
    "1st --- Apply KNN_Classifier with Hold Out Cross Validation technique on (Normal, Over_Sampling , Under_Sampling and Combine ) data sets .\n",
    "\n",
    "2nd --- Apply KNN_Classifier with K Fold Cross Validation technique on (Normal, Over_Sampling , Under_Sampling and Combine ) data sets .\n",
    "\n",
    "\n",
    "3rd --- Apply KNN_Classifier with Stratified k fold cross Validation technique on (Normal, Over_Sampling , Under_Sampling and Combine ) data sets ."
   ]
  },
  {
   "cell_type": "markdown",
   "id": "809e76cc",
   "metadata": {},
   "source": [
    "# 1st ---"
   ]
  },
  {
   "cell_type": "code",
   "execution_count": null,
   "id": "396d10ba",
   "metadata": {},
   "outputs": [],
   "source": [
    "# --- Apply KNN_Classifier with Hold Out Cross Validation technique on Normal data set.\n",
    "\n",
    "from sklearn.neighbors import KNeighborsClassifier\n",
    "from sklearn.model_selection import train_test_split as tts\n",
    "\n",
    "KNC = KNeighborsClassifier()\n",
    "\n",
    "Normal_Featurs_train ,Normal_Featurs_test ,Normal_Classes_train , Normal_Classes_test = tts(Normal_Featurs,Normal_Classes , test_size = 0.30, random_state = 42)"
   ]
  },
  {
   "cell_type": "code",
   "execution_count": null,
   "id": "c86cf5ec",
   "metadata": {},
   "outputs": [],
   "source": [
    "KNC_Normal_dataset_HoldOut = KNC.fit(Normal_Featurs_train,Normal_Classes_train)"
   ]
  },
  {
   "cell_type": "code",
   "execution_count": null,
   "id": "8e17c66e",
   "metadata": {},
   "outputs": [],
   "source": [
    "KNC_Normal_dataset_HoldOut_predict = KNC_Normal_dataset_HoldOut.predict(Normal_Featurs_test)"
   ]
  },
  {
   "cell_type": "code",
   "execution_count": null,
   "id": "473d0a77",
   "metadata": {},
   "outputs": [],
   "source": [
    "KNC_Normal_dataset_accuracy = KNC.score(Normal_Featurs_test,Normal_Classes_test)"
   ]
  },
  {
   "cell_type": "code",
   "execution_count": null,
   "id": "1c409763",
   "metadata": {},
   "outputs": [],
   "source": [
    "KNC_Normal_dataset_accuracy"
   ]
  },
  {
   "cell_type": "code",
   "execution_count": null,
   "id": "406513ac",
   "metadata": {},
   "outputs": [],
   "source": []
  },
  {
   "cell_type": "code",
   "execution_count": 57,
   "id": "9392c4b0",
   "metadata": {},
   "outputs": [],
   "source": [
    "#Apply KNN_Classifier with Hold Out Cross Validation technique on Over_Sampling data set.\n",
    "\n",
    "OverSampling_Featurs_train ,OverSampling_Featurs_test ,OverSampling_Classes_train , OverSampling_Classes_test = tts(OverSampling_Featurs,OverSampling_Classes , test_size = 0.30, random_state = 42)"
   ]
  },
  {
   "cell_type": "code",
   "execution_count": 58,
   "id": "6d22de90",
   "metadata": {},
   "outputs": [
    {
     "data": {
      "text/html": [
       "<style>#sk-container-id-1 {color: black;background-color: white;}#sk-container-id-1 pre{padding: 0;}#sk-container-id-1 div.sk-toggleable {background-color: white;}#sk-container-id-1 label.sk-toggleable__label {cursor: pointer;display: block;width: 100%;margin-bottom: 0;padding: 0.3em;box-sizing: border-box;text-align: center;}#sk-container-id-1 label.sk-toggleable__label-arrow:before {content: \"▸\";float: left;margin-right: 0.25em;color: #696969;}#sk-container-id-1 label.sk-toggleable__label-arrow:hover:before {color: black;}#sk-container-id-1 div.sk-estimator:hover label.sk-toggleable__label-arrow:before {color: black;}#sk-container-id-1 div.sk-toggleable__content {max-height: 0;max-width: 0;overflow: hidden;text-align: left;background-color: #f0f8ff;}#sk-container-id-1 div.sk-toggleable__content pre {margin: 0.2em;color: black;border-radius: 0.25em;background-color: #f0f8ff;}#sk-container-id-1 input.sk-toggleable__control:checked~div.sk-toggleable__content {max-height: 200px;max-width: 100%;overflow: auto;}#sk-container-id-1 input.sk-toggleable__control:checked~label.sk-toggleable__label-arrow:before {content: \"▾\";}#sk-container-id-1 div.sk-estimator input.sk-toggleable__control:checked~label.sk-toggleable__label {background-color: #d4ebff;}#sk-container-id-1 div.sk-label input.sk-toggleable__control:checked~label.sk-toggleable__label {background-color: #d4ebff;}#sk-container-id-1 input.sk-hidden--visually {border: 0;clip: rect(1px 1px 1px 1px);clip: rect(1px, 1px, 1px, 1px);height: 1px;margin: -1px;overflow: hidden;padding: 0;position: absolute;width: 1px;}#sk-container-id-1 div.sk-estimator {font-family: monospace;background-color: #f0f8ff;border: 1px dotted black;border-radius: 0.25em;box-sizing: border-box;margin-bottom: 0.5em;}#sk-container-id-1 div.sk-estimator:hover {background-color: #d4ebff;}#sk-container-id-1 div.sk-parallel-item::after {content: \"\";width: 100%;border-bottom: 1px solid gray;flex-grow: 1;}#sk-container-id-1 div.sk-label:hover label.sk-toggleable__label {background-color: #d4ebff;}#sk-container-id-1 div.sk-serial::before {content: \"\";position: absolute;border-left: 1px solid gray;box-sizing: border-box;top: 0;bottom: 0;left: 50%;z-index: 0;}#sk-container-id-1 div.sk-serial {display: flex;flex-direction: column;align-items: center;background-color: white;padding-right: 0.2em;padding-left: 0.2em;position: relative;}#sk-container-id-1 div.sk-item {position: relative;z-index: 1;}#sk-container-id-1 div.sk-parallel {display: flex;align-items: stretch;justify-content: center;background-color: white;position: relative;}#sk-container-id-1 div.sk-item::before, #sk-container-id-1 div.sk-parallel-item::before {content: \"\";position: absolute;border-left: 1px solid gray;box-sizing: border-box;top: 0;bottom: 0;left: 50%;z-index: -1;}#sk-container-id-1 div.sk-parallel-item {display: flex;flex-direction: column;z-index: 1;position: relative;background-color: white;}#sk-container-id-1 div.sk-parallel-item:first-child::after {align-self: flex-end;width: 50%;}#sk-container-id-1 div.sk-parallel-item:last-child::after {align-self: flex-start;width: 50%;}#sk-container-id-1 div.sk-parallel-item:only-child::after {width: 0;}#sk-container-id-1 div.sk-dashed-wrapped {border: 1px dashed gray;margin: 0 0.4em 0.5em 0.4em;box-sizing: border-box;padding-bottom: 0.4em;background-color: white;}#sk-container-id-1 div.sk-label label {font-family: monospace;font-weight: bold;display: inline-block;line-height: 1.2em;}#sk-container-id-1 div.sk-label-container {text-align: center;}#sk-container-id-1 div.sk-container {/* jupyter's `normalize.less` sets `[hidden] { display: none; }` but bootstrap.min.css set `[hidden] { display: none !important; }` so we also need the `!important` here to be able to override the default hidden behavior on the sphinx rendered scikit-learn.org. See: https://github.com/scikit-learn/scikit-learn/issues/21755 */display: inline-block !important;position: relative;}#sk-container-id-1 div.sk-text-repr-fallback {display: none;}</style><div id=\"sk-container-id-1\" class=\"sk-top-container\"><div class=\"sk-text-repr-fallback\"><pre>KNeighborsClassifier()</pre><b>In a Jupyter environment, please rerun this cell to show the HTML representation or trust the notebook. <br />On GitHub, the HTML representation is unable to render, please try loading this page with nbviewer.org.</b></div><div class=\"sk-container\" hidden><div class=\"sk-item\"><div class=\"sk-estimator sk-toggleable\"><input class=\"sk-toggleable__control sk-hidden--visually\" id=\"sk-estimator-id-1\" type=\"checkbox\" checked><label for=\"sk-estimator-id-1\" class=\"sk-toggleable__label sk-toggleable__label-arrow\">KNeighborsClassifier</label><div class=\"sk-toggleable__content\"><pre>KNeighborsClassifier()</pre></div></div></div></div></div>"
      ],
      "text/plain": [
       "KNeighborsClassifier()"
      ]
     },
     "execution_count": 58,
     "metadata": {},
     "output_type": "execute_result"
    }
   ],
   "source": [
    "KNC.fit(OverSampling_Featurs_train,OverSampling_Classes_train)"
   ]
  },
  {
   "cell_type": "code",
   "execution_count": 59,
   "id": "ab8b98c4",
   "metadata": {},
   "outputs": [],
   "source": [
    "KNC_OverSampling_dataset_accuracy = KNC.score(OverSampling_Featurs_test,OverSampling_Classes_test)"
   ]
  },
  {
   "cell_type": "code",
   "execution_count": 60,
   "id": "492f4176",
   "metadata": {},
   "outputs": [
    {
     "data": {
      "text/plain": [
       "0.8878566461864649"
      ]
     },
     "execution_count": 60,
     "metadata": {},
     "output_type": "execute_result"
    }
   ],
   "source": [
    "KNC_OverSampling_dataset_accuracy"
   ]
  },
  {
   "cell_type": "code",
   "execution_count": null,
   "id": "fbadf190",
   "metadata": {},
   "outputs": [],
   "source": []
  },
  {
   "cell_type": "code",
   "execution_count": 61,
   "id": "8a7e94ac",
   "metadata": {},
   "outputs": [],
   "source": [
    "#Apply KNN_Classifier with Hold Out Cross Validation technique on under_Sampling data set.\n",
    "\n",
    "UnderSampling_Featurs_train ,UnderSampling_Featurs_test , UnderSampling_Classes_train , UnderSampling_Classes_test = tts(UnderSampling_Featurs , UnderSampling_Classes , test_size = 0.30, random_state = 42)"
   ]
  },
  {
   "cell_type": "code",
   "execution_count": 62,
   "id": "b130e013",
   "metadata": {},
   "outputs": [
    {
     "data": {
      "text/html": [
       "<style>#sk-container-id-2 {color: black;background-color: white;}#sk-container-id-2 pre{padding: 0;}#sk-container-id-2 div.sk-toggleable {background-color: white;}#sk-container-id-2 label.sk-toggleable__label {cursor: pointer;display: block;width: 100%;margin-bottom: 0;padding: 0.3em;box-sizing: border-box;text-align: center;}#sk-container-id-2 label.sk-toggleable__label-arrow:before {content: \"▸\";float: left;margin-right: 0.25em;color: #696969;}#sk-container-id-2 label.sk-toggleable__label-arrow:hover:before {color: black;}#sk-container-id-2 div.sk-estimator:hover label.sk-toggleable__label-arrow:before {color: black;}#sk-container-id-2 div.sk-toggleable__content {max-height: 0;max-width: 0;overflow: hidden;text-align: left;background-color: #f0f8ff;}#sk-container-id-2 div.sk-toggleable__content pre {margin: 0.2em;color: black;border-radius: 0.25em;background-color: #f0f8ff;}#sk-container-id-2 input.sk-toggleable__control:checked~div.sk-toggleable__content {max-height: 200px;max-width: 100%;overflow: auto;}#sk-container-id-2 input.sk-toggleable__control:checked~label.sk-toggleable__label-arrow:before {content: \"▾\";}#sk-container-id-2 div.sk-estimator input.sk-toggleable__control:checked~label.sk-toggleable__label {background-color: #d4ebff;}#sk-container-id-2 div.sk-label input.sk-toggleable__control:checked~label.sk-toggleable__label {background-color: #d4ebff;}#sk-container-id-2 input.sk-hidden--visually {border: 0;clip: rect(1px 1px 1px 1px);clip: rect(1px, 1px, 1px, 1px);height: 1px;margin: -1px;overflow: hidden;padding: 0;position: absolute;width: 1px;}#sk-container-id-2 div.sk-estimator {font-family: monospace;background-color: #f0f8ff;border: 1px dotted black;border-radius: 0.25em;box-sizing: border-box;margin-bottom: 0.5em;}#sk-container-id-2 div.sk-estimator:hover {background-color: #d4ebff;}#sk-container-id-2 div.sk-parallel-item::after {content: \"\";width: 100%;border-bottom: 1px solid gray;flex-grow: 1;}#sk-container-id-2 div.sk-label:hover label.sk-toggleable__label {background-color: #d4ebff;}#sk-container-id-2 div.sk-serial::before {content: \"\";position: absolute;border-left: 1px solid gray;box-sizing: border-box;top: 0;bottom: 0;left: 50%;z-index: 0;}#sk-container-id-2 div.sk-serial {display: flex;flex-direction: column;align-items: center;background-color: white;padding-right: 0.2em;padding-left: 0.2em;position: relative;}#sk-container-id-2 div.sk-item {position: relative;z-index: 1;}#sk-container-id-2 div.sk-parallel {display: flex;align-items: stretch;justify-content: center;background-color: white;position: relative;}#sk-container-id-2 div.sk-item::before, #sk-container-id-2 div.sk-parallel-item::before {content: \"\";position: absolute;border-left: 1px solid gray;box-sizing: border-box;top: 0;bottom: 0;left: 50%;z-index: -1;}#sk-container-id-2 div.sk-parallel-item {display: flex;flex-direction: column;z-index: 1;position: relative;background-color: white;}#sk-container-id-2 div.sk-parallel-item:first-child::after {align-self: flex-end;width: 50%;}#sk-container-id-2 div.sk-parallel-item:last-child::after {align-self: flex-start;width: 50%;}#sk-container-id-2 div.sk-parallel-item:only-child::after {width: 0;}#sk-container-id-2 div.sk-dashed-wrapped {border: 1px dashed gray;margin: 0 0.4em 0.5em 0.4em;box-sizing: border-box;padding-bottom: 0.4em;background-color: white;}#sk-container-id-2 div.sk-label label {font-family: monospace;font-weight: bold;display: inline-block;line-height: 1.2em;}#sk-container-id-2 div.sk-label-container {text-align: center;}#sk-container-id-2 div.sk-container {/* jupyter's `normalize.less` sets `[hidden] { display: none; }` but bootstrap.min.css set `[hidden] { display: none !important; }` so we also need the `!important` here to be able to override the default hidden behavior on the sphinx rendered scikit-learn.org. See: https://github.com/scikit-learn/scikit-learn/issues/21755 */display: inline-block !important;position: relative;}#sk-container-id-2 div.sk-text-repr-fallback {display: none;}</style><div id=\"sk-container-id-2\" class=\"sk-top-container\"><div class=\"sk-text-repr-fallback\"><pre>KNeighborsClassifier()</pre><b>In a Jupyter environment, please rerun this cell to show the HTML representation or trust the notebook. <br />On GitHub, the HTML representation is unable to render, please try loading this page with nbviewer.org.</b></div><div class=\"sk-container\" hidden><div class=\"sk-item\"><div class=\"sk-estimator sk-toggleable\"><input class=\"sk-toggleable__control sk-hidden--visually\" id=\"sk-estimator-id-2\" type=\"checkbox\" checked><label for=\"sk-estimator-id-2\" class=\"sk-toggleable__label sk-toggleable__label-arrow\">KNeighborsClassifier</label><div class=\"sk-toggleable__content\"><pre>KNeighborsClassifier()</pre></div></div></div></div></div>"
      ],
      "text/plain": [
       "KNeighborsClassifier()"
      ]
     },
     "execution_count": 62,
     "metadata": {},
     "output_type": "execute_result"
    }
   ],
   "source": [
    "KNC.fit(UnderSampling_Featurs_train,UnderSampling_Classes_train)"
   ]
  },
  {
   "cell_type": "code",
   "execution_count": 63,
   "id": "d055affe",
   "metadata": {},
   "outputs": [],
   "source": [
    "KNC_UnderSampling_dataset_accuracy = KNC.score(UnderSampling_Featurs_test,UnderSampling_Classes_test)"
   ]
  },
  {
   "cell_type": "code",
   "execution_count": 64,
   "id": "cf55f02b",
   "metadata": {},
   "outputs": [
    {
     "data": {
      "text/plain": [
       "0.8464442279590842"
      ]
     },
     "execution_count": 64,
     "metadata": {},
     "output_type": "execute_result"
    }
   ],
   "source": [
    "KNC_UnderSampling_dataset_accuracy"
   ]
  },
  {
   "cell_type": "code",
   "execution_count": null,
   "id": "af427d91",
   "metadata": {},
   "outputs": [],
   "source": []
  },
  {
   "cell_type": "markdown",
   "id": "de80a700",
   "metadata": {},
   "source": [
    "# 2nd ---"
   ]
  },
  {
   "cell_type": "code",
   "execution_count": 65,
   "id": "51b095f6",
   "metadata": {},
   "outputs": [],
   "source": [
    "# Apply KNN_Classifier with K Fold Cross Validation technique on Normal data set\n",
    "\n",
    "from sklearn.model_selection import KFold, cross_val_score"
   ]
  },
  {
   "cell_type": "code",
   "execution_count": 66,
   "id": "5ee8bf2e",
   "metadata": {},
   "outputs": [],
   "source": [
    "\n",
    "\n",
    "kfold = KFold(n_splits = 4)\n",
    "\n",
    "KNC_NormalDataset_kfold_result = cross_val_score(KNC,Normal_Featurs,Normal_Classes,cv = kfold)\n",
    "KNC_NormalDataset_kfold_result = KNC_NormalDataset_kfold_result.mean()\n",
    "\n"
   ]
  },
  {
   "cell_type": "code",
   "execution_count": null,
   "id": "7d459f3a",
   "metadata": {},
   "outputs": [],
   "source": []
  },
  {
   "cell_type": "code",
   "execution_count": 67,
   "id": "86dd00c4",
   "metadata": {},
   "outputs": [
    {
     "data": {
      "text/plain": [
       "0.8626505529679709"
      ]
     },
     "execution_count": 67,
     "metadata": {},
     "output_type": "execute_result"
    }
   ],
   "source": [
    "# Apply KNN_Classifier with K Fold Cross Validation technique on Over Sampling data set\n",
    "\n",
    "kfold = KFold(n_splits = 4)\n",
    "\n",
    "KNC_OverSamplingDataset_kfold_result = cross_val_score(KNC,OverSampling_Featurs,OverSampling_Classes,cv = kfold)\n",
    "KNC_OverSamplingDataset_kfold_result.mean()"
   ]
  },
  {
   "cell_type": "code",
   "execution_count": null,
   "id": "63146ac4",
   "metadata": {},
   "outputs": [],
   "source": []
  },
  {
   "cell_type": "code",
   "execution_count": 68,
   "id": "bb1df282",
   "metadata": {},
   "outputs": [
    {
     "data": {
      "text/plain": [
       "0.6567791682056084"
      ]
     },
     "execution_count": 68,
     "metadata": {},
     "output_type": "execute_result"
    }
   ],
   "source": [
    "# Apply KNN_Classifier with K Fold Cross Validation technique on Under Sampling data set\n",
    "\n",
    "\n",
    "KNC_UnderSamplingDataset_kfold_result = cross_val_score(KNC,UnderSampling_Featurs,UnderSampling_Classes,cv = kfold)\n",
    "KNC_UnderSamplingDataset_kfold_result.mean()"
   ]
  },
  {
   "cell_type": "code",
   "execution_count": null,
   "id": "3e904659",
   "metadata": {},
   "outputs": [],
   "source": []
  },
  {
   "cell_type": "markdown",
   "id": "79f77e09",
   "metadata": {},
   "source": [
    "# Evaluate this Model = ( KNC_Normal_dataset_HoldOut ) After Tunning "
   ]
  },
  {
   "cell_type": "code",
   "execution_count": 69,
   "id": "17f2b9bc",
   "metadata": {},
   "outputs": [],
   "source": [
    "from sklearn.metrics import classification_report , accuracy_score , confusion_matrix , plot_roc_curve"
   ]
  },
  {
   "cell_type": "code",
   "execution_count": 70,
   "id": "85cc3d0e",
   "metadata": {},
   "outputs": [
    {
     "name": "stdout",
     "output_type": "stream",
     "text": [
      "              precision    recall  f1-score   support\n",
      "\n",
      "           0       0.92      0.98      0.95     87649\n",
      "           1       0.33      0.08      0.13      8290\n",
      "\n",
      "    accuracy                           0.91     95939\n",
      "   macro avg       0.62      0.53      0.54     95939\n",
      "weighted avg       0.87      0.91      0.88     95939\n",
      "\n"
     ]
    }
   ],
   "source": [
    "#classification_report \n",
    "\n",
    "KNC_Normal_dataset_HoldOut_CR = classification_report(Normal_Classes_test,KNC_Normal_dataset_HoldOut_predict)\n",
    "print(KNC_Normal_dataset_HoldOut_CR)"
   ]
  },
  {
   "cell_type": "code",
   "execution_count": 71,
   "id": "c550be5c",
   "metadata": {},
   "outputs": [
    {
     "data": {
      "text/plain": [
       "0.9059089629868979"
      ]
     },
     "execution_count": 71,
     "metadata": {},
     "output_type": "execute_result"
    }
   ],
   "source": [
    "#Accuracy Score\n",
    "\n",
    "KNC_Normal_dataset_HoldOut_AS = accuracy_score(Normal_Classes_test,KNC_Normal_dataset_HoldOut_predict)\n",
    "\n",
    "KNC_Normal_dataset_HoldOut_AS"
   ]
  },
  {
   "cell_type": "code",
   "execution_count": 72,
   "id": "f45269a9",
   "metadata": {},
   "outputs": [
    {
     "data": {
      "text/plain": [
       "array([[86227,  1422],\n",
       "       [ 7605,   685]], dtype=int64)"
      ]
     },
     "execution_count": 72,
     "metadata": {},
     "output_type": "execute_result"
    }
   ],
   "source": [
    "#Confusion Matrix\n",
    "\n",
    "KNC_Normal_dataset_HoldOut_CM = confusion_matrix(Normal_Classes_test,KNC_Normal_dataset_HoldOut_predict)\n",
    "\n",
    "KNC_Normal_dataset_HoldOut_CM"
   ]
  },
  {
   "cell_type": "code",
   "execution_count": 73,
   "id": "90cfdb5d",
   "metadata": {},
   "outputs": [
    {
     "data": {
      "text/plain": [
       "Text(33.0, 0.5, 'Predicted Values')"
      ]
     },
     "execution_count": 73,
     "metadata": {},
     "output_type": "execute_result"
    },
    {
     "data": {
      "image/png": "[encoded data removed]",
      "text/plain": [
       "<Figure size 432x288 with 2 Axes>"
      ]
     },
     "metadata": {
      "needs_background": "light"
     },
     "output_type": "display_data"
    }
   ],
   "source": [
    "sns.heatmap(KNC_Normal_dataset_HoldOut_CM,annot = True)\n",
    "plt.xlabel(\"Acutal Values\")\n",
    "plt.ylabel(\"Predicted Values\")"
   ]
  },
  {
   "cell_type": "code",
   "execution_count": null,
   "id": "caec950c",
   "metadata": {},
   "outputs": [],
   "source": []
  },
  {
   "cell_type": "code",
   "execution_count": 74,
   "id": "53a9a5f8",
   "metadata": {},
   "outputs": [],
   "source": [
    "tp , fn, fp ,tn = confusion_matrix(Normal_Classes_test , KNC_Normal_dataset_HoldOut_predict).reshape(-1)"
   ]
  },
  {
   "cell_type": "code",
   "execution_count": 75,
   "id": "e756e093",
   "metadata": {},
   "outputs": [
    {
     "data": {
      "text/plain": [
       "0.9189508909540455"
      ]
     },
     "execution_count": 75,
     "metadata": {},
     "output_type": "execute_result"
    }
   ],
   "source": [
    "# Precision Of Positive Predictive Value as PPPV \n",
    "\n",
    "KNC_Normal_dataset_HoldOut_PPV = tp/(tp+fp)\n",
    "\n",
    "KNC_Normal_dataset_HoldOut_PPV"
   ]
  },
  {
   "cell_type": "code",
   "execution_count": 76,
   "id": "ff68a8c9",
   "metadata": {},
   "outputs": [
    {
     "data": {
      "text/plain": [
       "0.9837761982452737"
      ]
     },
     "execution_count": 76,
     "metadata": {},
     "output_type": "execute_result"
    }
   ],
   "source": [
    "# Sensitivity, Recall Hit Rate\n",
    "\n",
    "KNC_Normal_dataset_HoldOut_Sensitivity = tp/(tp+fn)\n",
    "\n",
    "KNC_Normal_dataset_HoldOut_Sensitivity"
   ]
  },
  {
   "cell_type": "code",
   "execution_count": 77,
   "id": "8781ba6a",
   "metadata": {},
   "outputs": [
    {
     "data": {
      "text/plain": [
       "0.9173703256936068"
      ]
     },
     "execution_count": 77,
     "metadata": {},
     "output_type": "execute_result"
    }
   ],
   "source": [
    "# Flase Positive Rate or 1-Specificity \n",
    "\n",
    "KNC_Normal_dataset_HoldOut_FPR = fp/(fp+tn)\n",
    "\n",
    "KNC_Normal_dataset_HoldOut_FPR"
   ]
  },
  {
   "cell_type": "code",
   "execution_count": 78,
   "id": "87b9ad34",
   "metadata": {},
   "outputs": [
    {
     "data": {
      "text/plain": [
       "0.4751296278949312"
      ]
     },
     "execution_count": 78,
     "metadata": {},
     "output_type": "execute_result"
    }
   ],
   "source": [
    "# F1 Score\n",
    "\n",
    "KNC_Normal_dataset_HoldOut_F1Score = (KNC_Normal_dataset_HoldOut_PPV*KNC_Normal_dataset_HoldOut_Sensitivity)/(KNC_Normal_dataset_HoldOut_PPV+KNC_Normal_dataset_HoldOut_Sensitivity)\n",
    "\n",
    "KNC_Normal_dataset_HoldOut_F1Score"
   ]
  },
  {
   "cell_type": "code",
   "execution_count": 79,
   "id": "0a6b9ea5",
   "metadata": {},
   "outputs": [
    {
     "data": {
      "text/plain": [
       "0.9052323262015244"
      ]
     },
     "execution_count": 79,
     "metadata": {},
     "output_type": "execute_result"
    }
   ],
   "source": [
    "#Treat Score , Critical Success or Index\n",
    "\n",
    "KNC_Normal_dataset_HoldOut_TreatScore = tp/(tp+fn+fp)\n",
    "\n",
    "KNC_Normal_dataset_HoldOut_TreatScore"
   ]
  },
  {
   "cell_type": "code",
   "execution_count": 80,
   "id": "e1a4d9a8",
   "metadata": {},
   "outputs": [
    {
     "data": {
      "text/plain": [
       "0.08104910904595447"
      ]
     },
     "execution_count": 80,
     "metadata": {},
     "output_type": "execute_result"
    }
   ],
   "source": [
    "# False Discovery Rate \n",
    "\n",
    "KNC_Normal_dataset_HoldOut_FDR = fp/(tp+fp)\n",
    "KNC_Normal_dataset_HoldOut_FDR"
   ]
  },
  {
   "cell_type": "code",
   "execution_count": 81,
   "id": "caa0ee76",
   "metadata": {},
   "outputs": [
    {
     "data": {
      "text/plain": [
       "[<matplotlib.lines.Line2D at 0x168d849bb20>]"
      ]
     },
     "execution_count": 81,
     "metadata": {},
     "output_type": "execute_result"
    },
    {
     "data": {
      "image/png": "[encoded data removed]",
      "text/plain": [
       "<Figure size 432x288 with 1 Axes>"
      ]
     },
     "metadata": {
      "needs_background": "light"
     },
     "output_type": "display_data"
    }
   ],
   "source": [
    "# ROC and AUC Curve\n",
    "plot_roc_curve(KNC,Normal_Featurs_test,Normal_Classes_test)\n",
    "plt.plot([0,1],[0,1])"
   ]
  },
  {
   "cell_type": "code",
   "execution_count": null,
   "id": "e86f13f6",
   "metadata": {},
   "outputs": [],
   "source": []
  },
  {
   "cell_type": "markdown",
   "id": "e6815cb5",
   "metadata": {},
   "source": [
    "# Tuning = ( KNC_Normal_dataset_HoldOut ) using Randomized Search CV"
   ]
  },
  {
   "cell_type": "code",
   "execution_count": 82,
   "id": "317fc332",
   "metadata": {},
   "outputs": [],
   "source": [
    "\n",
    "from sklearn.model_selection import RandomizedSearchCV"
   ]
  },
  {
   "cell_type": "code",
   "execution_count": 83,
   "id": "bbfd1bc8",
   "metadata": {},
   "outputs": [],
   "source": [
    "n_neighbors = [int(item) for item in np.linspace(1,500,30)]\n",
    "weight = ['uniform', 'distance']\n",
    "algorithm = ['auto', 'ball_tree', 'kd_tree', 'brute']\n",
    "\n",
    "parameters = {\n",
    "    \"n_neighbors\":n_neighbors,\n",
    "    \"weights\" : weight ,\n",
    "    \"algorithm\": algorithm\n",
    "    }"
   ]
  },
  {
   "cell_type": "code",
   "execution_count": 84,
   "id": "1e382796",
   "metadata": {},
   "outputs": [],
   "source": [
    "RSCV = RandomizedSearchCV(KNC,parameters,n_iter=50)"
   ]
  },
  {
   "cell_type": "code",
   "execution_count": null,
   "id": "743785b1",
   "metadata": {},
   "outputs": [],
   "source": [
    "RSCV.fit(Normal_Featurs_train,Normal_Classes_train)"
   ]
  },
  {
   "cell_type": "code",
   "execution_count": null,
   "id": "bf022ce2",
   "metadata": {},
   "outputs": [],
   "source": []
  },
  {
   "cell_type": "markdown",
   "id": "9abd10a3",
   "metadata": {},
   "source": [
    "# Apply Random Forest Classifier and Cross Validation Techniques"
   ]
  },
  {
   "cell_type": "raw",
   "id": "742fc034",
   "metadata": {},
   "source": [
    "---Here i will apply Random Forest Classifier algorithm and Two cross validation techniques on (Normal, Over_Sampling , Under_Sampling  ) data sets .\n",
    "\n",
    "1st --- Apply Random Forest Classifier with Hold Out Cross Validation technique on (Normal, Over_Sampling , Under_Sampling ) data sets .\n",
    "\n",
    "2nd --- Apply Random Forest Classifier with K Fold Cross Validation technique on (Normal, Over_Sampling , Under_Sampling ) data sets .\n",
    "\n",
    "3rd --- Apply Random Forest Classifier with Stratified k fold cross Validation technique on (Normal, Over_Sampling , Under_Sampling and Combine ) data sets ."
   ]
  },
  {
   "cell_type": "markdown",
   "id": "36ad13e9",
   "metadata": {},
   "source": [
    "# 1st---"
   ]
  },
  {
   "cell_type": "code",
   "execution_count": null,
   "id": "4cbcfd7d",
   "metadata": {},
   "outputs": [],
   "source": [
    "#Apply Random Forest Classifier with Hold Out Cross Validation technique on Normal data sets\n",
    "\n",
    "from sklearn.ensemble import RandomForestClassifier"
   ]
  },
  {
   "cell_type": "code",
   "execution_count": null,
   "id": "6ea02017",
   "metadata": {},
   "outputs": [],
   "source": [
    "RFC = RandomForestClassifier()\n",
    "RFC_NormalDataset_HoldOut = RFC.fit(Normal_Featurs_train , Normal_Classes_train)\n"
   ]
  },
  {
   "cell_type": "code",
   "execution_count": null,
   "id": "39250502",
   "metadata": {},
   "outputs": [],
   "source": [
    "RFC_NormalDataset_HoldOut_Predict = RFC_NormalDataset_HoldOut.predict(Normal_Featurs_test)"
   ]
  },
  {
   "cell_type": "code",
   "execution_count": null,
   "id": "cbf132df",
   "metadata": {},
   "outputs": [],
   "source": [
    "RFC_NormalDataset_HoldOut.score(Normal_Featurs_test,Normal_Classes_test)"
   ]
  },
  {
   "cell_type": "code",
   "execution_count": null,
   "id": "cb012bf2",
   "metadata": {},
   "outputs": [],
   "source": [
    "#Apply Random Forest Classifier with Hold Out Cross Validation technique on Over Sampling data sets\n",
    "\n",
    "RFC_OverSampling_Dataset_HoldOut = RFC.fit(OverSampling_Featurs_train,OverSampling_Classes_train)\n",
    "\n",
    "RFC_OverSampling_Dataset_HoldOut_Predict = RFC_OverSampling_Dataset_HoldOut.predict(OverSampling_Featurs_test)"
   ]
  },
  {
   "cell_type": "code",
   "execution_count": null,
   "id": "d03307ea",
   "metadata": {},
   "outputs": [],
   "source": [
    "RFC_OverSampling_Dataset_HoldOut.score(OverSampling_Featurs_test,OverSampling_Classes_test)"
   ]
  },
  {
   "cell_type": "code",
   "execution_count": null,
   "id": "11491bbe",
   "metadata": {},
   "outputs": [],
   "source": [
    "#Apply Random Forest Classifier with Hold Out Cross Validation technique on Under Sampling data sets\n",
    "\n",
    "RFC_UnderSampling_Dataset_HoldOut = RFC.fit(UnderSampling_Featurs_train,UnderSampling_Classes_train)\n",
    "\n",
    "RFC_UnderSampling_Dataset_HoldOut_Predict = RFC_OverSampling_Dataset_HoldOut.predict(UnderSampling_Featurs_test)"
   ]
  },
  {
   "cell_type": "code",
   "execution_count": null,
   "id": "46e9b965",
   "metadata": {},
   "outputs": [],
   "source": [
    "RFC_UnderSampling_Dataset_HoldOut.score(UnderSampling_Featurs_test,UnderSampling_Classes_test)"
   ]
  },
  {
   "cell_type": "code",
   "execution_count": null,
   "id": "2570c664",
   "metadata": {},
   "outputs": [],
   "source": []
  },
  {
   "cell_type": "markdown",
   "id": "5280de71",
   "metadata": {},
   "source": [
    "# 2nd---"
   ]
  },
  {
   "cell_type": "code",
   "execution_count": null,
   "id": "8f4bbe0b",
   "metadata": {},
   "outputs": [],
   "source": [
    "#Apply Random Forest Classifier with KFold Cross Validation technique on Normal data sets\n",
    "\n",
    "kfold = KFold(n_splits = 4)\n",
    "\n",
    "RFC_NormalDataset_kfold_result = cross_val_score(RFC,Normal_Featurs,Normal_Classes,cv = kfold)\n",
    "RFC_NormalDataset_kfold_Accuracy = RFC_NormalDataset_kfold_result.mean()"
   ]
  },
  {
   "cell_type": "code",
   "execution_count": null,
   "id": "946bc2d2",
   "metadata": {},
   "outputs": [],
   "source": [
    "RFC_NormalDataset_kfold_Accuracy"
   ]
  },
  {
   "cell_type": "code",
   "execution_count": null,
   "id": "8a2fe741",
   "metadata": {},
   "outputs": [],
   "source": [
    "#Apply Random Forest Classifier with KFold Cross Validation technique on Over Sampling data sets\n",
    "\n",
    "RFC_OverSamplingDataset_kfold_result = cross_val_score(RFC,OverSampling_Featurs,OverSampling_Classes,cv = kfold)\n",
    "RFC_OverSamplingDataset_kfold_Accuracy = RFC_OverSamplingDataset_kfold_result.mean()"
   ]
  },
  {
   "cell_type": "code",
   "execution_count": null,
   "id": "355a9a13",
   "metadata": {},
   "outputs": [],
   "source": [
    "RFC_OverSamplingDataset_kfold_Accuracy"
   ]
  },
  {
   "cell_type": "code",
   "execution_count": null,
   "id": "4c9bff61",
   "metadata": {},
   "outputs": [],
   "source": [
    "#Apply Random Forest Classifier with KFold Cross Validation technique on Under Sampling data sets\n",
    "\n",
    "RFC_UnderSamplingDataset_kfold_result = cross_val_score(RFC,UnderSampling_Featurs,UnderSampling_Classes,cv = kfold)\n",
    "RFC_UnderSamplingDataset_kfold_Accuracy = RFC_UnderSamplingDataset_kfold_result.mean()"
   ]
  },
  {
   "cell_type": "code",
   "execution_count": null,
   "id": "405e8ad2",
   "metadata": {},
   "outputs": [],
   "source": [
    "RFC_UnderSamplingDataset_kfold_Accuracy"
   ]
  },
  {
   "cell_type": "code",
   "execution_count": null,
   "id": "3c1b1e4b",
   "metadata": {},
   "outputs": [],
   "source": []
  },
  {
   "cell_type": "markdown",
   "id": "4b3045c4",
   "metadata": {},
   "source": [
    "# 3rd--"
   ]
  },
  {
   "cell_type": "code",
   "execution_count": null,
   "id": "687316b9",
   "metadata": {},
   "outputs": [],
   "source": [
    "from sklearn.model_selection import StratifiedKFold\n",
    "Sf_Kfold = StratifiedKFold(n_splits = 4)"
   ]
  },
  {
   "cell_type": "code",
   "execution_count": null,
   "id": "e3b63945",
   "metadata": {},
   "outputs": [],
   "source": [
    "#Apply Random Forest Classifier with Stratified KFold Cross Validation technique on Normal data sets\n",
    "\n",
    "RFC_NormalDataset_Sf_Kfold_result = cross_val_score(RFC,Normal_Featurs,Normal_Classes,cv = Sf_Kfold)\n",
    "RFC_NormalDataset_Sf_Kfold_Accuracy = RFC_NormalDataset_Sf_Kfold_result.mean()"
   ]
  },
  {
   "cell_type": "code",
   "execution_count": null,
   "id": "80aff77d",
   "metadata": {},
   "outputs": [],
   "source": [
    "RFC_NormalDataset_Sf_Kfold_Accuracy"
   ]
  },
  {
   "cell_type": "code",
   "execution_count": null,
   "id": "83682312",
   "metadata": {},
   "outputs": [],
   "source": [
    "#Apply Random Forest Classifier with Stratified KFold Cross Validation technique on Over Sampling data sets\n",
    "\n",
    "RFC_OverSampling_Dataset_Sf_Kfold_result = cross_val_score(RFC,OverSampling_Featurs,OverSampling_Classes,cv = Sf_Kfold)\n",
    "RFC_OverSampling_Dataset_Sf_Kfold_Accuracy = RFC_OverSampling_Dataset_Sf_Kfold_result.mean()"
   ]
  },
  {
   "cell_type": "code",
   "execution_count": null,
   "id": "4b48c4d8",
   "metadata": {},
   "outputs": [],
   "source": [
    "RFC_OverSampling_Dataset_Sf_Kfold_Accuracy"
   ]
  },
  {
   "cell_type": "code",
   "execution_count": null,
   "id": "42ac3704",
   "metadata": {},
   "outputs": [],
   "source": [
    "#Apply Random Forest Classifier with Stratified KFold Cross Validation technique on Under Sampling data sets\n",
    "\n",
    "RFC_UnderSampling_Dataset_Sf_Kfold_result = cross_val_score(RFC,UnderSampling_Featurs,UnderSampling_Classes,cv = Sf_Kfold)\n",
    "RFC_UnderSampling_Dataset_Sf_Kfold_Accuracy = RFC_UnderSampling_Dataset_Sf_Kfold_result.mean()"
   ]
  },
  {
   "cell_type": "code",
   "execution_count": null,
   "id": "58b760ff",
   "metadata": {},
   "outputs": [],
   "source": [
    "RFC_UnderSampling_Dataset_Sf_Kfold_Accuracy"
   ]
  },
  {
   "cell_type": "code",
   "execution_count": null,
   "id": "cbef7efd",
   "metadata": {},
   "outputs": [],
   "source": []
  },
  {
   "cell_type": "markdown",
   "id": "11ede986",
   "metadata": {},
   "source": [
    "# Evaluate this Model = ( RFC_OverSampling_Dataset_HoldOut ) After Tunning "
   ]
  },
  {
   "cell_type": "code",
   "execution_count": null,
   "id": "2f7c19cd",
   "metadata": {},
   "outputs": [],
   "source": [
    "from sklearn.metrics import classification_report , accuracy_score , confusion_matrix , plot_roc_curve"
   ]
  },
  {
   "cell_type": "code",
   "execution_count": null,
   "id": "77d316b3",
   "metadata": {},
   "outputs": [],
   "source": [
    "#classification_report \n",
    "\n",
    "RFC_OverSampling_Dataset_HoldOut_CR = classification_report(OverSampling_Classes_test,RFC_OverSampling_Dataset_HoldOut_Predict)\n",
    "print(RFC_OverSampling_Dataset_HoldOut_CR)"
   ]
  },
  {
   "cell_type": "code",
   "execution_count": null,
   "id": "52f5de84",
   "metadata": {},
   "outputs": [],
   "source": [
    "#Accuracy Score\n",
    "\n",
    "RFC_OverSampling_Dataset_HoldOut_AS = accuracy_score(OverSampling_Classes_test,RFC_OverSampling_Dataset_HoldOut_Predict)\n",
    "\n",
    "RFC_OverSampling_Dataset_HoldOut_AS"
   ]
  },
  {
   "cell_type": "code",
   "execution_count": null,
   "id": "21ca7be1",
   "metadata": {},
   "outputs": [],
   "source": [
    "#Confusion Matrix\n",
    "\n",
    "RFC_OverSampling_Dataset_HoldOut_CM = confusion_matrix(OverSampling_Classes_test,RFC_OverSampling_Dataset_HoldOut_Predict)\n",
    "\n",
    "RFC_OverSampling_Dataset_HoldOut_CM"
   ]
  },
  {
   "cell_type": "code",
   "execution_count": null,
   "id": "e9b7d1b9",
   "metadata": {},
   "outputs": [],
   "source": [
    "sns.heatmap(RFC_OverSampling_Dataset_HoldOut_CM,annot = True)\n",
    "plt.xlabel(\"Acutal Values\")\n",
    "plt.ylabel(\"Predicted Values\")"
   ]
  },
  {
   "cell_type": "code",
   "execution_count": null,
   "id": "ed74866d",
   "metadata": {},
   "outputs": [],
   "source": []
  },
  {
   "cell_type": "code",
   "execution_count": null,
   "id": "769e0a27",
   "metadata": {},
   "outputs": [],
   "source": [
    "tp , fn, fp ,tn = confusion_matrix(OverSampling_Classes_test,RFC_OverSampling_Dataset_HoldOut_Predict).reshape(-1)"
   ]
  },
  {
   "cell_type": "code",
   "execution_count": null,
   "id": "b1b5c369",
   "metadata": {},
   "outputs": [],
   "source": [
    "# Precision Of Positive Predictive Value as PPPV \n",
    "\n",
    "RFC_OverSampling_Dataset_HoldOut_PPV = tp/(tp+fp)\n",
    "\n",
    "RFC_OverSampling_Dataset_HoldOut_PPV"
   ]
  },
  {
   "cell_type": "code",
   "execution_count": null,
   "id": "b2965dd3",
   "metadata": {},
   "outputs": [],
   "source": [
    "# Sensitivity, Recall Hit Rate\n",
    "\n",
    "RFC_OverSampling_Dataset_HoldOut_Sensitivity = tp/(tp+fn)\n",
    "\n",
    "RFC_OverSampling_Dataset_HoldOut_Sensitivity"
   ]
  },
  {
   "cell_type": "code",
   "execution_count": null,
   "id": "20b196d7",
   "metadata": {},
   "outputs": [],
   "source": [
    "# Flase Positive Rate or 1-Specificity \n",
    "\n",
    "RFC_OverSampling_Dataset_HoldOut_FPR = fp/(fp+tn)\n",
    "\n",
    "RFC_OverSampling_Dataset_HoldOut_FPR"
   ]
  },
  {
   "cell_type": "code",
   "execution_count": null,
   "id": "3efa5ea2",
   "metadata": {},
   "outputs": [],
   "source": [
    "# F1 Score\n",
    "\n",
    "RFC_OverSampling_Dataset_HoldOut_F1Score = (RFC_OverSampling_Dataset_HoldOut_PPV*RFC_OverSampling_Dataset_HoldOut_Sensitivity)/(RFC_OverSampling_Dataset_HoldOut_PPV+RFC_OverSampling_Dataset_HoldOut_Sensitivity)\n",
    "\n",
    "RFC_OverSampling_Dataset_HoldOut_F1Score"
   ]
  },
  {
   "cell_type": "code",
   "execution_count": null,
   "id": "d5448472",
   "metadata": {},
   "outputs": [],
   "source": [
    "#Treat Score , Critical Success or Index\n",
    "\n",
    "RFC_OverSampling_Dataset_HoldOut_TreatScore = tp/(tp+fn+fp)\n",
    "\n",
    "RFC_OverSampling_Dataset_HoldOut_TreatScore"
   ]
  },
  {
   "cell_type": "code",
   "execution_count": null,
   "id": "4d7e292f",
   "metadata": {},
   "outputs": [],
   "source": [
    "# False Discovery Rate \n",
    "\n",
    "RFC_OverSampling_Dataset_HoldOut_FDR = fp/(tp+fp)\n",
    "RFC_OverSampling_Dataset_HoldOut_FDR"
   ]
  },
  {
   "cell_type": "code",
   "execution_count": null,
   "id": "06f3d822",
   "metadata": {},
   "outputs": [],
   "source": [
    "# ROC and AUC Curve\n",
    "warnings.filterwarnings(\"ignore\")\n",
    "\n",
    "plot_roc_curve(RFC,OverSampling_Featurs_test,OverSampling_Classes_test)\n",
    "plt.plot([0,1],[0,1])"
   ]
  },
  {
   "cell_type": "code",
   "execution_count": null,
   "id": "6d2e0703",
   "metadata": {},
   "outputs": [],
   "source": []
  },
  {
   "cell_type": "markdown",
   "id": "05683f18",
   "metadata": {},
   "source": [
    "# Tuning = ( RFC_OverSampling_Dataset_HoldOut ) using Randomized Search CV"
   ]
  },
  {
   "cell_type": "code",
   "execution_count": null,
   "id": "2b31c52c",
   "metadata": {},
   "outputs": [],
   "source": [
    "from sklearn.model_selection import RandomizedSearchCV"
   ]
  },
  {
   "cell_type": "code",
   "execution_count": null,
   "id": "cd75152a",
   "metadata": {},
   "outputs": [],
   "source": [
    "n_estimators = [int(item) for item in np.linspace(20,200,15)]\n",
    "criterion = [\"gini\", \"entropy\"]\n",
    "max_depth = np.random.randint(1,20,25)\n",
    "max_features = [\"auto\", \"sqrt\", \"log2\"]\n",
    "min_samples_split = np.random.randint(1,15,20)\n",
    "\n",
    "\n",
    "parameters = {\n",
    "    \"n_estimators\":n_estimators,\n",
    "    \"criterion\" : criterion ,\n",
    "    \"max_depth\": max_depth,\n",
    "    \"max_features\": max_features,\n",
    "    \"min_samples_split\": min_samples_split,\n",
    "    \n",
    "    }"
   ]
  },
  {
   "cell_type": "code",
   "execution_count": null,
   "id": "85984164",
   "metadata": {},
   "outputs": [],
   "source": [
    "RSCV2 = RandomizedSearchCV(RFC,parameters,n_iter=50)"
   ]
  },
  {
   "cell_type": "code",
   "execution_count": null,
   "id": "c7a4572f",
   "metadata": {},
   "outputs": [],
   "source": [
    "RSCV2.fit(OverSampling_Featurs_train,OverSampling_Classes_train)"
   ]
  },
  {
   "cell_type": "code",
   "execution_count": null,
   "id": "409b4988",
   "metadata": {},
   "outputs": [],
   "source": [
    "RSCV2_Result = pd.DataFrame(RSCV2.cv_results_)\n",
    "RSCV2_Result"
   ]
  },
  {
   "cell_type": "code",
   "execution_count": null,
   "id": "49c7092f",
   "metadata": {},
   "outputs": [],
   "source": [
    "RSCV2.best_score_"
   ]
  },
  {
   "cell_type": "code",
   "execution_count": null,
   "id": "b9c05e7b",
   "metadata": {},
   "outputs": [],
   "source": [
    "RSCV2.best_estimator_"
   ]
  },
  {
   "cell_type": "code",
   "execution_count": null,
   "id": "011fc3a6",
   "metadata": {},
   "outputs": [],
   "source": [
    "RFC_OverSampling_Dataset_HoldOut_RSCV2Tunning = RandomForestClassifier(max_depth=19, max_features='sqrt', min_samples_split=7,\n",
    "                       n_estimators=187)"
   ]
  },
  {
   "cell_type": "code",
   "execution_count": null,
   "id": "d03822d4",
   "metadata": {},
   "outputs": [],
   "source": [
    "RFC_OverSampling_Dataset_HoldOut_RSCV2Tunning = RFC_OverSampling_Dataset_HoldOut_RSCV2Tunning.fit(OverSampling_Featurs_train,OverSampling_Classes_train)"
   ]
  },
  {
   "cell_type": "code",
   "execution_count": null,
   "id": "d20a05f4",
   "metadata": {},
   "outputs": [],
   "source": [
    "RFC_OverSampling_Dataset_HoldOut_RSCV2Tunning.score(OverSampling_Featurs_test,OverSampling_Classes_test)"
   ]
  },
  {
   "cell_type": "code",
   "execution_count": null,
   "id": "cfd0e3db",
   "metadata": {},
   "outputs": [],
   "source": []
  },
  {
   "cell_type": "markdown",
   "id": "b30a6a0a",
   "metadata": {},
   "source": [
    "# Apply AdaBoostClassifier and Cross Validation Techniques"
   ]
  },
  {
   "cell_type": "code",
   "execution_count": null,
   "id": "8b8b549b",
   "metadata": {},
   "outputs": [],
   "source": [
    "!pip install xgboost"
   ]
  },
  {
   "cell_type": "raw",
   "id": "85c3ad82",
   "metadata": {},
   "source": [
    "---Here i will apply AdaBoostClassifier algorithm and Two cross validation techniques on (Normal, Over_Sampling , Under_Sampling  ) data sets .\n",
    "\n",
    "1st --- Apply AdaBoostClassifier with Hold Out Cross Validation technique on (Normal, Over_Sampling , Under_Sampling ) data sets .\n",
    "\n",
    "2nd --- Apply AdaBoostClassifier with K Fold Cross Validation technique on (Normal, Over_Sampling , Under_Sampling ) data sets .\n",
    "\n",
    "3rd --- Apply AdaBoostClassifier with Stratified k fold cross Validation technique on (Normal, Over_Sampling , Under_Sampling ) data sets ."
   ]
  },
  {
   "cell_type": "markdown",
   "id": "b37bf76d",
   "metadata": {},
   "source": [
    "# 1st--"
   ]
  },
  {
   "cell_type": "code",
   "execution_count": null,
   "id": "16bd0fb2",
   "metadata": {},
   "outputs": [],
   "source": [
    "from sklearn.ensemble import AdaBoostClassifier\n",
    "\n",
    "ADAB = AdaBoostClassifier()"
   ]
  },
  {
   "cell_type": "code",
   "execution_count": null,
   "id": "a6774e24",
   "metadata": {},
   "outputs": [],
   "source": [
    "#Apply AdaBoostClassifier with Hold Out Cross Validation technique on Normal data set\n",
    "\n",
    "ADAB_Normal_dataset_HoldOut = ADAB.fit(Normal_Featurs_train,Normal_Classes_train)\n",
    "ADAB_Normal_dataset_HoldOut_Predict = ADAB_Normal_dataset_HoldOut.predict(Normal_Featurs_test)"
   ]
  },
  {
   "cell_type": "code",
   "execution_count": null,
   "id": "b2decbb9",
   "metadata": {},
   "outputs": [],
   "source": [
    "ADAB_Normal_dataset_HoldOut.score(Normal_Featurs_test,Normal_Classes_test)"
   ]
  },
  {
   "cell_type": "code",
   "execution_count": null,
   "id": "3f121859",
   "metadata": {},
   "outputs": [],
   "source": [
    "#Apply AdaBoostClassifier with Hold Out Cross Validation technique on Over Sampling data set\n",
    "\n",
    "ADAB_OverSampling_dataset_HoldOut = ADAB.fit(OverSampling_Featurs_train , OverSampling_Classes_train)\n",
    "ADAB_OverSampling_dataset_HoldOut_Pradict = ADAB_OverSampling_dataset_HoldOut.predict(OverSampling_Featurs_test)"
   ]
  },
  {
   "cell_type": "code",
   "execution_count": null,
   "id": "64ae0b5c",
   "metadata": {},
   "outputs": [],
   "source": [
    "ADAB_OverSampling_dataset_HoldOut.score(OverSampling_Featurs_test , OverSampling_Classes_test)"
   ]
  },
  {
   "cell_type": "code",
   "execution_count": null,
   "id": "a918c6ca",
   "metadata": {},
   "outputs": [],
   "source": [
    "#Apply AdaBoostClassifier with Hold Out Cross Validation technique on Under Sampling data set\n",
    "\n",
    "ADAB_UnderSampling_dataset_HoldOut = ADAB.fit(UnderSampling_Featurs_train , UnderSampling_Classes_train)\n",
    "ADAB_UnderSampling_dataset_HoldOut_Pradict = ADAB_UnderSampling_dataset_HoldOut.predict(UnderSampling_Featurs_test)"
   ]
  },
  {
   "cell_type": "code",
   "execution_count": null,
   "id": "8fc2107a",
   "metadata": {},
   "outputs": [],
   "source": [
    "ADAB_UnderSampling_dataset_HoldOut.score(UnderSampling_Featurs_test,UnderSampling_Classes_test)"
   ]
  },
  {
   "cell_type": "code",
   "execution_count": null,
   "id": "af359d99",
   "metadata": {},
   "outputs": [],
   "source": []
  },
  {
   "cell_type": "markdown",
   "id": "2c13d8b1",
   "metadata": {},
   "source": [
    "# 2nd---"
   ]
  },
  {
   "cell_type": "code",
   "execution_count": null,
   "id": "d5e07232",
   "metadata": {},
   "outputs": [],
   "source": [
    "#Apply AdaBoostClassifier with K Fold Cross Validation technique on Normal data set\n",
    "\n",
    "kfold = KFold(n_splits = 3)\n",
    "\n",
    "ADAB_NormalDataset_kfold_result = cross_val_score(ADAB,Normal_Featurs,Normal_Classes,cv = kfold)\n",
    "ADAB_NormalDataset_kfold_Accuracy = ADAB_NormalDataset_kfold_result.mean()"
   ]
  },
  {
   "cell_type": "code",
   "execution_count": null,
   "id": "3689efab",
   "metadata": {},
   "outputs": [],
   "source": [
    "ADAB_NormalDataset_kfold_Accuracy"
   ]
  },
  {
   "cell_type": "code",
   "execution_count": null,
   "id": "8641c69c",
   "metadata": {},
   "outputs": [],
   "source": [
    "#Apply AdaBoostClassifier with K Fold Cross Validation technique on Over sampling data set\n",
    "\n",
    "ADAB_OverSampling_Dataset_kfold_result = cross_val_score(ADAB,OverSampling_Featurs,OverSampling_Classes,cv = kfold)\n",
    "ADAB_OverSampling_Dataset_kfold_Accuracy = ADAB_OverSampling_Dataset_kfold_result.mean()"
   ]
  },
  {
   "cell_type": "code",
   "execution_count": null,
   "id": "f7419ad9",
   "metadata": {},
   "outputs": [],
   "source": [
    "ADAB_OverSampling_Dataset_kfold_Accuracy"
   ]
  },
  {
   "cell_type": "code",
   "execution_count": null,
   "id": "e84e1222",
   "metadata": {},
   "outputs": [],
   "source": [
    "#Apply AdaBoostClassifier with K Fold Cross Validation technique on Under sampling data set\n",
    "\n",
    "ADAB_UnderSampling_Dataset_kfold_result = cross_val_score(ADAB,UnderSampling_Featurs,UnderSampling_Classes,cv = kfold)\n",
    "ADAB_UnderSampling_Dataset_kfold_Accuracy = ADAB_UnderSampling_Dataset_kfold_result.mean()"
   ]
  },
  {
   "cell_type": "code",
   "execution_count": null,
   "id": "48eb36f9",
   "metadata": {},
   "outputs": [],
   "source": [
    "ADAB_UnderSampling_Dataset_kfold_Accuracy"
   ]
  },
  {
   "cell_type": "code",
   "execution_count": null,
   "id": "f01d6a7d",
   "metadata": {},
   "outputs": [],
   "source": []
  },
  {
   "cell_type": "markdown",
   "id": "f2975117",
   "metadata": {},
   "source": [
    "# 3rd---"
   ]
  },
  {
   "cell_type": "code",
   "execution_count": null,
   "id": "d4d3439a",
   "metadata": {},
   "outputs": [],
   "source": [
    "from sklearn.model_selection import StratifiedKFold ,cross_val_predict"
   ]
  },
  {
   "cell_type": "code",
   "execution_count": null,
   "id": "a1570b52",
   "metadata": {},
   "outputs": [],
   "source": [
    "#Apply AdaBoostClassifier with Stratified k fold cross Validation technique on Normal data set\n",
    "\n",
    "Sf_Kfold = StratifiedKFold(n_splits = 4)\n",
    "\n",
    "ADAB_NormalDataset_Sf_Kfold_result = cross_val_score(ADAB,Normal_Featurs,Normal_Classes,cv = Sf_Kfold)\n",
    "ADAB_NormalDataset_Sf_Kfold_result_Accuracy = ADAB_NormalDataset_Sf_Kfold_result.mean()"
   ]
  },
  {
   "cell_type": "code",
   "execution_count": null,
   "id": "f1660e5a",
   "metadata": {},
   "outputs": [],
   "source": [
    "ADAB_NormalDataset_Sf_Kfold_result_Accuracy"
   ]
  },
  {
   "cell_type": "code",
   "execution_count": null,
   "id": "bdc6dae3",
   "metadata": {},
   "outputs": [],
   "source": [
    "ADAB_NormalDataset_Sf_Kfold_predict = cross_val_predict(ADAB,Normal_Featurs,Normal_Classes,cv = Sf_Kfold)"
   ]
  },
  {
   "cell_type": "code",
   "execution_count": null,
   "id": "e6ed44f0",
   "metadata": {},
   "outputs": [],
   "source": []
  },
  {
   "cell_type": "code",
   "execution_count": null,
   "id": "d09ba3e5",
   "metadata": {},
   "outputs": [],
   "source": [
    "#Apply AdaBoostClassifier with Stratified k fold cross Validation technique on Over Sampling data set\n",
    "\n",
    "ADAB_OverSampling_Dataset_Sf_Kfold_result = cross_val_score(ADAB,OverSampling_Featurs,OverSampling_Classes,cv = Sf_Kfold)\n",
    "ADAB_OverSampling_Dataset_Sf_Kfold_Accuracy = ADAB_OverSampling_Dataset_Sf_Kfold_result.mean()"
   ]
  },
  {
   "cell_type": "code",
   "execution_count": null,
   "id": "948eef59",
   "metadata": {},
   "outputs": [],
   "source": [
    "ADAB_OverSampling_Dataset_Sf_Kfold_Accuracy"
   ]
  },
  {
   "cell_type": "code",
   "execution_count": null,
   "id": "5267b9dc",
   "metadata": {},
   "outputs": [],
   "source": [
    "#Apply AdaBoostClassifier with Stratified k fold cross Validation technique on Under Sampling data set\n",
    "\n",
    "ADAB_UnderSampling_Dataset_Sf_Kfold_result = cross_val_score(ADAB,UnderSampling_Featurs,UnderSampling_Classes,cv = Sf_Kfold)\n",
    "ADAB_UnderSampling_Dataset_Sf_Kfold_Accuracy = ADAB_UnderSampling_Dataset_Sf_Kfold_result.mean()"
   ]
  },
  {
   "cell_type": "code",
   "execution_count": null,
   "id": "a3811791",
   "metadata": {},
   "outputs": [],
   "source": [
    "ADAB_UnderSampling_Dataset_Sf_Kfold_Accuracy"
   ]
  },
  {
   "cell_type": "code",
   "execution_count": null,
   "id": "0429b351",
   "metadata": {},
   "outputs": [],
   "source": []
  },
  {
   "cell_type": "markdown",
   "id": "8cda42f5",
   "metadata": {},
   "source": [
    "# Evaluate this Model = ( ADAB_Normal_dataset_HoldOut ) "
   ]
  },
  {
   "cell_type": "code",
   "execution_count": null,
   "id": "62629864",
   "metadata": {},
   "outputs": [],
   "source": [
    "#classification_report \n",
    "\n",
    "ADAB_Normal_dataset_HoldOut_CR = classification_report(Normal_Classes_test,ADAB_Normal_dataset_HoldOut_Predict)\n",
    "print(ADAB_Normal_dataset_HoldOut_CR)"
   ]
  },
  {
   "cell_type": "code",
   "execution_count": null,
   "id": "3736bc96",
   "metadata": {},
   "outputs": [],
   "source": [
    "#Accuracy Score\n",
    "\n",
    "ADAB_Normal_dataset_HoldOut_AS = accuracy_score(Normal_Classes_test,ADAB_Normal_dataset_HoldOut_Predict)\n",
    "\n",
    "ADAB_Normal_dataset_HoldOut_AS"
   ]
  },
  {
   "cell_type": "code",
   "execution_count": null,
   "id": "d378dc67",
   "metadata": {},
   "outputs": [],
   "source": [
    "#Confusion Matrix\n",
    "\n",
    "ADAB_Normal_dataset_HoldOut_CM = confusion_matrix(Normal_Classes_test,ADAB_Normal_dataset_HoldOut_Predict)\n",
    "\n",
    "ADAB_Normal_dataset_HoldOut_CM"
   ]
  },
  {
   "cell_type": "code",
   "execution_count": null,
   "id": "a40523e3",
   "metadata": {},
   "outputs": [],
   "source": [
    "sns.heatmap(ADAB_Normal_dataset_HoldOut_CM,annot = True)\n",
    "plt.xlabel(\"Acutal Values\")\n",
    "plt.ylabel(\"Predicted Values\")"
   ]
  },
  {
   "cell_type": "code",
   "execution_count": null,
   "id": "b3333d4c",
   "metadata": {},
   "outputs": [],
   "source": [
    "tp , fn, fp ,tn = confusion_matrix(Normal_Classes_test,ADAB_Normal_dataset_HoldOut_Predict).reshape(-1)"
   ]
  },
  {
   "cell_type": "code",
   "execution_count": null,
   "id": "3b565873",
   "metadata": {},
   "outputs": [],
   "source": [
    "# Precision Of Positive Predictive Value as PPPV \n",
    "\n",
    "ADAB_Normal_dataset_HoldOut_PPV = tp/(tp+fp)\n",
    "\n",
    "ADAB_Normal_dataset_HoldOut_PPV"
   ]
  },
  {
   "cell_type": "code",
   "execution_count": null,
   "id": "9b1b463c",
   "metadata": {},
   "outputs": [],
   "source": [
    "# Sensitivity, Recall Hit Rate\n",
    "\n",
    "ADAB_Normal_dataset_HoldOut_Sensitivity = tp/(tp+fn)\n",
    "\n",
    "ADAB_Normal_dataset_HoldOut_Sensitivity"
   ]
  },
  {
   "cell_type": "code",
   "execution_count": null,
   "id": "b94fa06a",
   "metadata": {},
   "outputs": [],
   "source": [
    "# Flase Positive Rate or 1-Specificity \n",
    "\n",
    "ADAB_Normal_dataset_HoldOut_FPR = fp/(fp+tn)\n",
    "\n",
    "ADAB_Normal_dataset_HoldOut_FPR"
   ]
  },
  {
   "cell_type": "code",
   "execution_count": null,
   "id": "3777d600",
   "metadata": {},
   "outputs": [],
   "source": [
    "# F1 Score\n",
    "\n",
    "ADAB_Normal_dataset_HoldOut_F1Score = (ADAB_Normal_dataset_HoldOut_PPV*ADAB_Normal_dataset_HoldOut_Sensitivity)/(ADAB_Normal_dataset_HoldOut_PPV+ADAB_Normal_dataset_HoldOut_Sensitivity)\n",
    "\n",
    "ADAB_Normal_dataset_HoldOut_F1Score"
   ]
  },
  {
   "cell_type": "code",
   "execution_count": null,
   "id": "d698b933",
   "metadata": {},
   "outputs": [],
   "source": [
    "#Treat Score , Critical Success or Index\n",
    "\n",
    "ADAB_Normal_dataset_HoldOut_TreatScore = tp/(tp+fn+fp)\n",
    "\n",
    "ADAB_Normal_dataset_HoldOut_TreatScore"
   ]
  },
  {
   "cell_type": "code",
   "execution_count": null,
   "id": "dbb8d960",
   "metadata": {},
   "outputs": [],
   "source": [
    "# False Discovery Rate \n",
    "\n",
    "ADAB_Normal_dataset_HoldOut_FDR = fp/(tp+fp)\n",
    "ADAB_Normal_dataset_HoldOut_FDR"
   ]
  },
  {
   "cell_type": "code",
   "execution_count": null,
   "id": "ee2ae9f5",
   "metadata": {},
   "outputs": [],
   "source": [
    "# ROC and AUC Curve\n",
    "warnings.filterwarnings(\"ignore\")\n",
    "plot_roc_curve(ADAB,Normal_Featurs_test,Normal_Classes_test)\n",
    "plt.plot([0,1],[0,1])"
   ]
  },
  {
   "cell_type": "code",
   "execution_count": null,
   "id": "24d157eb",
   "metadata": {},
   "outputs": [],
   "source": []
  },
  {
   "cell_type": "markdown",
   "id": "d267511b",
   "metadata": {},
   "source": [
    "# Apply Mutinomial Naive Bayes and Cross Validation Techniques"
   ]
  },
  {
   "cell_type": "raw",
   "id": "8a664bb5",
   "metadata": {},
   "source": [
    "---Here i will apply Mutinomial Naive Bayes algorithm and Two cross validation techniques on (Normal, Over_Sampling , Under_Sampling  ) data sets .\n",
    "\n",
    "1st --- Apply Mutinomial Naive Bayes with Hold Out Cross Validation technique on (Normal, Over_Sampling , Under_Sampling ) data sets .\n",
    "\n",
    "2nd --- Apply Mutinomial Naive Bayes with K Fold Cross Validation technique on (Normal, Over_Sampling , Under_Sampling ) data sets .\n",
    "\n",
    "3rd --- Apply Mutinomial Naive Bayes with Stratified k fold cross Validation technique on (Normal, Over_Sampling , Under_Sampling) data sets ."
   ]
  },
  {
   "cell_type": "markdown",
   "id": "7d07c566",
   "metadata": {},
   "source": [
    "# 1st--"
   ]
  },
  {
   "cell_type": "code",
   "execution_count": null,
   "id": "03b98187",
   "metadata": {},
   "outputs": [],
   "source": [
    "from sklearn.naive_bayes import MultinomialNB\n",
    "MNB = MultinomialNB()\n",
    "       "
   ]
  },
  {
   "cell_type": "code",
   "execution_count": null,
   "id": "d8495301",
   "metadata": {},
   "outputs": [],
   "source": [
    "#Apply Mutinomial Naive Bayes with Hold Out Cross Validation technique on Normal data set\n",
    "\n",
    "MNB_NormalDataset_HoldOut = MNB.fit(Normal_Featurs_train , Normal_Classes_train)\n",
    "MNB_NormalDataset_HoldOut_Predict = MNB_NormalDataset_HoldOut.predict(Normal_Featurs_test)\n",
    "\n",
    "MNB_NormalDataset_HoldOut_Predict_TraingData = MNB_NormalDataset_HoldOut.predict(Normal_Featurs_train)"
   ]
  },
  {
   "cell_type": "code",
   "execution_count": null,
   "id": "14b3cfa2",
   "metadata": {},
   "outputs": [],
   "source": [
    "MNB_NormalDataset_HoldOut.score(Normal_Featurs_test,Normal_Classes_test)"
   ]
  },
  {
   "cell_type": "code",
   "execution_count": null,
   "id": "249c0931",
   "metadata": {},
   "outputs": [],
   "source": [
    "#Apply Mutinomial Naive Bayes with Hold Out Cross Validation technique on Over Sampling data set\n",
    "\n",
    "MNB_OverSampling_Dataset_HoldOut = MNB.fit(OverSampling_Featurs_train , OverSampling_Classes_train)\n",
    "MNB_OverSampling_Dataset_HoldOut_Predict = MNB_NormalDataset_HoldOut.predict(OverSampling_Featurs_test)"
   ]
  },
  {
   "cell_type": "code",
   "execution_count": null,
   "id": "ec53feec",
   "metadata": {},
   "outputs": [],
   "source": [
    "MNB_OverSampling_Dataset_HoldOut.score(OverSampling_Featurs_test,OverSampling_Classes_test)"
   ]
  },
  {
   "cell_type": "code",
   "execution_count": null,
   "id": "2d927f51",
   "metadata": {},
   "outputs": [],
   "source": [
    "#Apply Mutinomial Naive Bayes with Hold Out Cross Validation technique on Under Sampling data set\n",
    "\n",
    "MNB_UnderSampling_Dataset_HoldOut = MNB.fit(UnderSampling_Featurs_train , UnderSampling_Classes_train)\n",
    "MNB_UnderSampling_Dataset_HoldOut_Predict = MNB_UnderSampling_Dataset_HoldOut.predict(UnderSampling_Featurs_test)"
   ]
  },
  {
   "cell_type": "code",
   "execution_count": null,
   "id": "f964cec4",
   "metadata": {},
   "outputs": [],
   "source": [
    "MNB_UnderSampling_Dataset_HoldOut.score(OverSampling_Featurs_test,OverSampling_Classes_test)"
   ]
  },
  {
   "cell_type": "code",
   "execution_count": null,
   "id": "cb130f86",
   "metadata": {},
   "outputs": [],
   "source": []
  },
  {
   "cell_type": "markdown",
   "id": "2ee7e328",
   "metadata": {},
   "source": [
    "# 2nd---"
   ]
  },
  {
   "cell_type": "code",
   "execution_count": null,
   "id": "08d78644",
   "metadata": {},
   "outputs": [],
   "source": [
    "#Apply Mutinomial Naive Bayes with K Fold Cross Validation technique on Normal data sets\n",
    "\n",
    "kfold = KFold(n_splits = 2)\n",
    "\n",
    "MNB_NormalDataset_kfold_result = cross_val_score(MNB,Normal_Featurs,Normal_Classes,cv = kfold)\n",
    "MNB_NormalDataset_kfold_Accuracy = MNB_NormalDataset_kfold_result.mean()"
   ]
  },
  {
   "cell_type": "code",
   "execution_count": null,
   "id": "6d557e77",
   "metadata": {},
   "outputs": [],
   "source": [
    "MNB_NormalDataset_kfold_Accuracy"
   ]
  },
  {
   "cell_type": "code",
   "execution_count": null,
   "id": "4b542407",
   "metadata": {},
   "outputs": [],
   "source": [
    "#Apply Mutinomial Naive Bayes with K Fold Cross Validation technique on Over sampling data sets\n",
    "\n",
    "kfold = KFold(n_splits = 5)\n",
    "\n",
    "MNB_OverSampling_Dataset_kfold_result = cross_val_score(MNB,OverSampling_Featurs,OverSampling_Classes,cv = kfold)\n",
    "MNB_OverSampling_kfold_result_Accuracy = MNB_OverSampling_Dataset_kfold_result.mean()"
   ]
  },
  {
   "cell_type": "code",
   "execution_count": null,
   "id": "a49621d4",
   "metadata": {},
   "outputs": [],
   "source": [
    "MNB_OverSampling_kfold_result_Accuracy"
   ]
  },
  {
   "cell_type": "code",
   "execution_count": null,
   "id": "810ef9b2",
   "metadata": {},
   "outputs": [],
   "source": [
    "#Apply Mutinomial Naive Bayes with K Fold Cross Validation technique on Under sampling data sets\n",
    "\n",
    "kfold = KFold(n_splits = 4)\n",
    "\n",
    "MNB_UnderSamplingDataset_kfold_result = cross_val_score(MNB,UnderSampling_Featurs,UnderSampling_Classes,cv = kfold)\n",
    "MNB_UnderSamplingDataset_kfold_Accuracy = MNB_UnderSamplingDataset_kfold_result.mean()"
   ]
  },
  {
   "cell_type": "code",
   "execution_count": null,
   "id": "bfd88c0f",
   "metadata": {},
   "outputs": [],
   "source": [
    "MNB_UnderSamplingDataset_kfold_Accuracy"
   ]
  },
  {
   "cell_type": "code",
   "execution_count": null,
   "id": "210b8864",
   "metadata": {},
   "outputs": [],
   "source": []
  },
  {
   "cell_type": "markdown",
   "id": "086eb8b4",
   "metadata": {},
   "source": [
    "# 3rd--"
   ]
  },
  {
   "cell_type": "code",
   "execution_count": null,
   "id": "ff57abe9",
   "metadata": {},
   "outputs": [],
   "source": [
    "#Apply Mutinomial Naive Bayes with Stratified k fold cross Validation technique on Normal data sets\n",
    "\n",
    "Sf_Kfold = StratifiedKFold(n_splits = 4)\n",
    "\n",
    "MNB_NormalDataset_Sf_Kfold_result = cross_val_score(ADAB,Normal_Featurs,Normal_Classes,cv = Sf_Kfold)\n",
    "MNB_NormalDataset_Sf_Kfold_result_Accuracy = MNB_NormalDataset_Sf_Kfold_result.mean()"
   ]
  },
  {
   "cell_type": "code",
   "execution_count": null,
   "id": "153f6164",
   "metadata": {},
   "outputs": [],
   "source": [
    "MNB_NormalDataset_Sf_Kfold_result_Accuracy"
   ]
  },
  {
   "cell_type": "code",
   "execution_count": null,
   "id": "1066a0ce",
   "metadata": {},
   "outputs": [],
   "source": [
    "#Apply Mutinomial Naive Bayes with Stratified k fold cross Validation technique on OverSampling data sets\n",
    "\n",
    "MNB_OverSampling_Dataset_Sf_Kfold_result = cross_val_score(ADAB,OverSampling_Featurs,OverSampling_Classes,cv = Sf_Kfold)\n",
    "MNB_OverSampling_Dataset_Sf_Kfold_Accuracy = MNB_OverSampling_Dataset_Sf_Kfold_result.mean()"
   ]
  },
  {
   "cell_type": "code",
   "execution_count": null,
   "id": "2113c51b",
   "metadata": {},
   "outputs": [],
   "source": [
    "MNB_OverSampling_Dataset_Sf_Kfold_Accuracy"
   ]
  },
  {
   "cell_type": "code",
   "execution_count": null,
   "id": "6cef3e59",
   "metadata": {},
   "outputs": [],
   "source": [
    "#Apply Mutinomial Naive Bayes with Stratified k fold cross Validation technique on UnderSampling data sets\n",
    "\n",
    "MNB_UnderSampling_Dataset_Sf_Kfold_result = cross_val_score(ADAB,UnderSampling_Featurs,UnderSampling_Classes,cv = Sf_Kfold)\n",
    "MNB_UnderSampling_Dataset_Sf_Kfold_Accuracy = MNB_UnderSampling_Dataset_Sf_Kfold_result.mean()"
   ]
  },
  {
   "cell_type": "code",
   "execution_count": null,
   "id": "3d2b27c1",
   "metadata": {},
   "outputs": [],
   "source": [
    "MNB_UnderSampling_Dataset_Sf_Kfold_Accuracy"
   ]
  },
  {
   "cell_type": "code",
   "execution_count": null,
   "id": "864065dd",
   "metadata": {},
   "outputs": [],
   "source": []
  },
  {
   "cell_type": "markdown",
   "id": "1e057251",
   "metadata": {},
   "source": [
    "# Evaluate this Model = ( MNB_NormalDataset_HoldOut )  "
   ]
  },
  {
   "cell_type": "code",
   "execution_count": null,
   "id": "b7f044d0",
   "metadata": {},
   "outputs": [],
   "source": [
    "#classification_report \n",
    "\n",
    "MNB_NormalDataset_HoldOut_CR = classification_report(Normal_Classes_test, MNB_NormalDataset_HoldOut_Predict)\n",
    "print(MNB_NormalDataset_HoldOut_CR)"
   ]
  },
  {
   "cell_type": "code",
   "execution_count": null,
   "id": "960e7018",
   "metadata": {},
   "outputs": [],
   "source": [
    "#Accuracy Score\n",
    "\n",
    "MNB_NormalDataset_HoldOut_AS = accuracy_score(Normal_Classes_test, MNB_NormalDataset_HoldOut_Predict)\n",
    "\n",
    "MNB_NormalDataset_HoldOut_AS"
   ]
  },
  {
   "cell_type": "code",
   "execution_count": null,
   "id": "61677626",
   "metadata": {},
   "outputs": [],
   "source": [
    "#Confusion Matrix\n",
    "\n",
    "MNB_NormalDataset_HoldOut_CM = confusion_matrix(Normal_Classes_test, MNB_NormalDataset_HoldOut_Predict)\n",
    "\n",
    "MNB_NormalDataset_HoldOut_CM"
   ]
  },
  {
   "cell_type": "code",
   "execution_count": null,
   "id": "e1c1771e",
   "metadata": {},
   "outputs": [],
   "source": [
    "from sklearn import metrics\n",
    "\n",
    "f,a =  plt.subplots(1,2,sharex=True,sharey=True,squeeze=False)\n",
    "\n",
    "#Plotting confusion matrix for the different models for the Training Data\n",
    "\n",
    "plot_0 = sns.heatmap((metrics.confusion_matrix(Normal_Classes_train,MNB_NormalDataset_HoldOut_Predict_TraingData)),annot=True,fmt='.5g',cmap=\"YlGn\",ax=a[0][0]);\n",
    "a[0][0].set_title('Training Data')\n",
    "\n",
    "plot_1 = sns.heatmap((metrics.confusion_matrix(Normal_Classes_test, MNB_NormalDataset_HoldOut_Predict)),annot=True,fmt='.5g',cmap=\"YlGn\",ax=a[0][1]);\n",
    "a[0][1].set_title('Test Data');"
   ]
  },
  {
   "cell_type": "code",
   "execution_count": null,
   "id": "ad05dc43",
   "metadata": {},
   "outputs": [],
   "source": [
    "tp , fn, fp ,tn = confusion_matrix(Normal_Classes_test, MNB_NormalDataset_HoldOut_Predict).reshape(-1)"
   ]
  },
  {
   "cell_type": "code",
   "execution_count": null,
   "id": "b8b91ceb",
   "metadata": {},
   "outputs": [],
   "source": [
    "# Precision Of Positive Predictive Value as PPPV \n",
    "\n",
    "MNB_NormalDataset_HoldOut_PPV = tp/(tp+fp)\n",
    "\n",
    "MNB_NormalDataset_HoldOut_PPV"
   ]
  },
  {
   "cell_type": "code",
   "execution_count": null,
   "id": "9901592e",
   "metadata": {},
   "outputs": [],
   "source": [
    "# Sensitivity, Recall Hit Rate\n",
    "\n",
    "MNB_NormalDataset_HoldOut_Sensitivity = tp/(tp+fn)\n",
    "\n",
    "MNB_NormalDataset_HoldOut_Sensitivity"
   ]
  },
  {
   "cell_type": "code",
   "execution_count": null,
   "id": "8160e47b",
   "metadata": {},
   "outputs": [],
   "source": [
    "# Flase Positive Rate or 1-Specificity \n",
    "\n",
    "MNB_NormalDataset_HoldOut_FPR = fp/(fp+tn)\n",
    "\n",
    "MNB_NormalDataset_HoldOut_FPR"
   ]
  },
  {
   "cell_type": "code",
   "execution_count": null,
   "id": "31711292",
   "metadata": {},
   "outputs": [],
   "source": [
    "# F1 Score\n",
    "\n",
    "MNB_NormalDataset_HoldOut_F1Score = (MNB_NormalDataset_HoldOut_PPV*MNB_NormalDataset_HoldOut_Sensitivity)/(MNB_NormalDataset_HoldOut_PPV+MNB_NormalDataset_HoldOut_Sensitivity)\n",
    "\n",
    "MNB_NormalDataset_HoldOut_F1Score"
   ]
  },
  {
   "cell_type": "code",
   "execution_count": null,
   "id": "6ca6ae36",
   "metadata": {},
   "outputs": [],
   "source": [
    "#Treat Score , Critical Success or Index\n",
    "\n",
    "MNB_NormalDataset_HoldOut_TreatScore = tp/(tp+fn+fp)\n",
    "\n",
    "MNB_NormalDataset_HoldOut_TreatScore"
   ]
  },
  {
   "cell_type": "code",
   "execution_count": null,
   "id": "38ae9df0",
   "metadata": {},
   "outputs": [],
   "source": [
    "# False Discovery Rate \n",
    "\n",
    "MNB_NormalDataset_HoldOut_FDR = fp/(tp+fp)\n",
    "MNB_NormalDataset_HoldOut_FDR"
   ]
  },
  {
   "cell_type": "code",
   "execution_count": null,
   "id": "0a1cdfdb",
   "metadata": {},
   "outputs": [],
   "source": [
    "# ROC and AUC Curve\n",
    "\n",
    "warnings.filterwarnings(\"ignore\")\n",
    "\n",
    "plot_roc_curve(MNB,Normal_Featurs_test,Normal_Classes_test)\n",
    "plt.plot([0,1],[0,1])"
   ]
  },
  {
   "cell_type": "code",
   "execution_count": null,
   "id": "20b5d588",
   "metadata": {},
   "outputs": [],
   "source": []
  },
  {
   "cell_type": "markdown",
   "id": "94e8eb3c",
   "metadata": {},
   "source": [
    "# Check Over Fitting and Under Fitting"
   ]
  },
  {
   "cell_type": "code",
   "execution_count": null,
   "id": "1334471b",
   "metadata": {},
   "outputs": [],
   "source": [
    "# Check Over Fitting and Under Fitting for nomar data set using RandomForestClassifier\n",
    "\n",
    "from sklearn.ensemble import RandomForestClassifier\n",
    "\n",
    "RFC = RandomForestClassifier()\n",
    "\n",
    "estimators = np.random.randint(20,200,15)\n",
    "\n",
    "Normal_Dataset_TraingScore = []\n",
    "Normal_Dataset_TestingScore = []\n",
    "\n",
    "\n",
    "for n in estimators:\n",
    "    RFC = RandomForestClassifier(n_estimators = n)\n",
    "    RFC.fit(Normal_Featurs_train , Normal_Classes_train)\n",
    "    \n",
    "    #Chack Training Accuracy\n",
    "    \n",
    "    Normal_Dataset_train_prediction = RFC.predict(Normal_Featurs_train)\n",
    "    Normal_Dataset_train_accuracy = RFC.score(Normal_Featurs_train,Normal_Classes_train)\n",
    "    Normal_Dataset_TraingScore.append(Normal_Dataset_train_accuracy)\n",
    "    \n",
    "    #Chack Testing Accuracy\n",
    "    \n",
    "    Normal_Dataset_testing_prediction = RFC.predict(Normal_Featurs_test)\n",
    "    Normal_Dataset_testing_accuracy = RFC.score(Normal_Featurs_test,Normal_Classes_test)\n",
    "    Normal_Dataset_TestingScore.append(Normal_Dataset_testing_accuracy)\n",
    "\n",
    "\n",
    "    print(f\"Estimators = {n} , Normal Dataset Train Accuracy = {Normal_Dataset_train_accuracy} , Normal Dataset Testing Accuracy = {Normal_Dataset_testing_accuracy}\")"
   ]
  },
  {
   "cell_type": "code",
   "execution_count": null,
   "id": "aaa83509",
   "metadata": {},
   "outputs": [],
   "source": [
    "plt.plot(estimators , Normal_Dataset_TraingScore , marker = \"+\" , label = \"train\")\n",
    "plt.plot(estimators , Normal_Dataset_TestingScore , marker = \"*\" , label = \"test\")\n",
    "\n",
    "plt.legend()"
   ]
  },
  {
   "cell_type": "code",
   "execution_count": null,
   "id": "384f8a8a",
   "metadata": {},
   "outputs": [],
   "source": [
    "# Check Over Fitting and Under Fitting for OverSampling dataset using RandomForestClassifier\n",
    "\n",
    "estimators = np.random.randint(20,200,10)\n",
    "\n",
    "OverSampling_Dataset_TraingScore = []\n",
    "OverSampling_Dataset_TestingScore = []\n",
    "\n",
    "\n",
    "for n in estimators:\n",
    "    RFC = RandomForestClassifier(n_estimators = n)\n",
    "    RFC.fit(OverSampling_Featurs_train , OverSampling_Classes_train)\n",
    "    \n",
    "    #Chack OverSampling Dataset Training Accuracy\n",
    "    \n",
    "    OverSampling_Dataset_train_prediction = RFC.predict(OverSampling_Featurs_train)\n",
    "    OverSampling_Dataset_train_accuracy = RFC.score(OverSampling_Featurs_train , OverSampling_Classes_train)\n",
    "    OverSampling_Dataset_TraingScore.append(OverSampling_Dataset_train_accuracy)\n",
    "    \n",
    "    #Chack OverSampling Dataset Testing Accuracy\n",
    "    \n",
    "    OverSampling_Dataset_testing_prediction = RFC.predict(OverSampling_Featurs_test)\n",
    "    OverSampling_Dataset_testing_accuracy = RFC.score(OverSampling_Featurs_test , OverSampling_Classes_test)\n",
    "    OverSampling_Dataset_TestingScore.append(OverSampling_Dataset_testing_accuracy)\n",
    "\n",
    "\n",
    "    print(f\"Estimators = {n} , OverSampling Dataset Train Accuracy = {OverSampling_Dataset_train_accuracy} , OverSampling Dataset Testing Accuracy = {OverSampling_Dataset_testing_accuracy}\")"
   ]
  },
  {
   "cell_type": "code",
   "execution_count": null,
   "id": "70951c29",
   "metadata": {},
   "outputs": [],
   "source": []
  },
  {
   "cell_type": "code",
   "execution_count": null,
   "id": "a34d3101",
   "metadata": {},
   "outputs": [],
   "source": [
    "# Check Over Fitting and Under Fitting for UnderSampling dataset using RandomForestClassifier\n",
    "\n",
    "estimators = np.random.randint(10,250,10)\n",
    "\n",
    "UnderSampling_Dataset_TraingScore = []\n",
    "UnderSampling_Dataset_TestingScore = []\n",
    "\n",
    "\n",
    "for n in estimators:\n",
    "    RFC = RandomForestClassifier(n_estimators = n)\n",
    "    RFC.fit(UnderSampling_Featurs_train , UnderSampling_Classes_train)\n",
    "    \n",
    "    #Chack UnderSampling Dataset Training Accuracy\n",
    "    \n",
    "    UnderSampling_Dataset_train_prediction = RFC.predict(UnderSampling_Featurs_train)\n",
    "    UnderSampling_Dataset_train_accuracy = RFC.score(UnderSampling_Featurs_train , UnderSampling_Classes_train)\n",
    "    UnderSampling_Dataset_TraingScore.append(UnderSampling_Dataset_train_accuracy)\n",
    "    \n",
    "    #Chack UnderSampling Dataset Testing Accuracy\n",
    "    \n",
    "    UnderSampling_Dataset_testing_prediction = RFC.predict(UnderSampling_Featurs_test)\n",
    "    UnderSampling_Dataset_testing_accuracy = RFC.score(UnderSampling_Featurs_test , UnderSampling_Classes_test)\n",
    "    UnderSampling_Dataset_TestingScore.append(UnderSampling_Dataset_testing_accuracy)\n",
    "\n",
    "\n",
    "    print(f\"Estimators = {n} , UnderSampling Dataset Train Accuracy = {UnderSampling_Dataset_train_accuracy} , UnderSampling Dataset Testing Accuracy = {UnderSampling_Dataset_testing_accuracy}\")"
   ]
  },
  {
   "cell_type": "code",
   "execution_count": null,
   "id": "4df6fb35",
   "metadata": {},
   "outputs": [],
   "source": []
  }
 ],
 "metadata": {
  "kernelspec": {
   "display_name": "Python 3 (ipykernel)",
   "language": "python",
   "name": "python3"
  },
  "language_info": {
   "codemirror_mode": {
    "name": "ipython",
    "version": 3
   },
   "file_extension": ".py",
   "mimetype": "text/x-python",
   "name": "python",
   "nbconvert_exporter": "python",
   "pygments_lexer": "ipython3",
   "version": "3.9.12"
  }
 },
 "nbformat": 4,
 "nbformat_minor": 5
}
